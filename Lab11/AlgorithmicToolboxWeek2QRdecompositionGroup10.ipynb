{
  "nbformat": 4,
  "nbformat_minor": 0,
  "metadata": {
    "kernelspec": {
      "display_name": "Python 3",
      "language": "python",
      "name": "python3"
    },
    "language_info": {
      "codemirror_mode": {
        "name": "ipython",
        "version": 3
      },
      "file_extension": ".py",
      "mimetype": "text/x-python",
      "name": "python",
      "nbconvert_exporter": "python",
      "pygments_lexer": "ipython3",
      "version": "3.5.2"
    },
    "colab": {
      "name": "AlgorithmicToolboxWeek2QRdecompositionGroup10.ipynb",
      "provenance": [],
      "collapsed_sections": []
    }
  },
  "cells": [
    {
      "cell_type": "markdown",
      "metadata": {
        "id": "cLUYfTYAHVrE"
      },
      "source": [
        "#Laboratorio 11 - QR decomposition of a matrix\n",
        "##Métodos Numéricos\n",
        " * Julián David Puentes Gil\n",
        " * Gustavo Alberto Puentes Romero\n",
        " "
      ]
    },
    {
      "cell_type": "code",
      "metadata": {
        "collapsed": true,
        "id": "6aZiQz7LcQSl"
      },
      "source": [
        "import numpy as np\n",
        "\n",
        "from numpy.testing import assert_allclose"
      ],
      "execution_count": 1,
      "outputs": []
    },
    {
      "cell_type": "markdown",
      "metadata": {
        "id": "0OWJ1SkCcQSw"
      },
      "source": [
        "# Part I. Construct a Householder reflection of a vector."
      ]
    },
    {
      "cell_type": "markdown",
      "metadata": {
        "id": "DcCBL49BcQSy"
      },
      "source": [
        "Given a vector $\\mathbf{x}$, and a plane with a normal vector $\\mathbf{u}$, the Householder transformation reflects $\\mathbf{x}$ about the plane.\n",
        "\n",
        "The matrix of the Householder transformation is\n",
        "\n",
        "$$\n",
        "\\mathbf{H} = \\mathbf{1} - 2 \\mathbf{u} \\mathbf{u}^T\n",
        "$$\n",
        "\n",
        "Given two equal-length vectors $\\mathbf{x}$ and $\\mathbf{y}$, a rotation which brings $\\mathbf{x}$ to $\\mathbf{y}$ is a Householder transform with\n",
        "\n",
        "$$\n",
        "\\mathbf{u} = \\frac{\\mathbf{x} - \\mathbf{y}}{\\left|\\mathbf{x} - \\mathbf{y}\\right|}\n",
        "$$"
      ]
    },
    {
      "cell_type": "markdown",
      "metadata": {
        "id": "2fKl1u9rcQS0"
      },
      "source": [
        "Write a function which rotates a given vector, $\\mathbf{x} = (x_1, \\dots, x_n)$ into $\\mathbf{y} = (\\left|\\mathbf{x}\\right|, 0, \\dots, 0)^T$ using a Householder transformation."
      ]
    },
    {
      "cell_type": "code",
      "metadata": {
        "collapsed": true,
        "id": "3T6VfJsncQS1"
      },
      "source": [
        "def householder(vec):\n",
        "    vec = np.asarray(vec, dtype=float)\n",
        "    if vec.ndim != 1:\n",
        "        raise ValueError(\"vec.ndim = %s, expected 1\" % vec.ndim)\n",
        "\n",
        "    u= vec.copy()\n",
        "    u[0] = (-vec[1:]**2).sum()/(vec[0] + np.linalg.norm(vec, ord = 2))\n",
        "    u /=np.linalg.norm(u, ord = 2)\n",
        "    \n",
        "    H = np.eye(vec.shape[0])\n",
        "    H-=2*u.reshape(-1,1)@u.reshape(1,-1)\n",
        "    \n",
        "    return np.dot(H, vec), H"
      ],
      "execution_count": 2,
      "outputs": []
    },
    {
      "cell_type": "markdown",
      "metadata": {
        "id": "99a4J7LtcQS4"
      },
      "source": [
        "Test your function using tests below:"
      ]
    },
    {
      "cell_type": "code",
      "metadata": {
        "id": "F4v4OpKncQS5"
      },
      "source": [
        "# Test I.1 (10% of the total grade).\n",
        "\n",
        "v = np.array([1, 2, 3])\n",
        "v1, h = householder(v)\n",
        "\n",
        "assert_allclose(np.dot(h, v1), v)\n",
        "assert_allclose(np.dot(h, v), v1)"
      ],
      "execution_count": 3,
      "outputs": []
    },
    {
      "cell_type": "code",
      "metadata": {
        "id": "MKphJZ9KcQS6"
      },
      "source": [
        "# Test I.2 (10% of the total grade).\n",
        "\n",
        "rndm = np.random.RandomState(1234)\n",
        "\n",
        "vec = rndm.uniform(size=7)\n",
        "v1, h = householder(vec)\n",
        "\n",
        "assert_allclose(np.dot(h, v1), vec)"
      ],
      "execution_count": 4,
      "outputs": []
    },
    {
      "cell_type": "markdown",
      "metadata": {
        "id": "72XyLqhAcQS8"
      },
      "source": [
        "# Part II. Compute the $\\mathrm{QR}$ decomposition of a matrix.\n",
        "\n",
        "Given a rectangular $m\\times n$ matrix $\\mathbf{A}$, construct a Householder reflector matrix $\\mathbf{H}_1$ which transforms the first column of $\\mathbf{A}$ (and call the result $\\mathbf{A}^{(1)}$)\n",
        "\n",
        "$$\n",
        "\\mathbf{H}_1 \\mathbf{A} =%\n",
        "\\begin{pmatrix}\n",
        "\\times & \\times & \\times & \\dots & \\times \\\\\n",
        "0      & \\times & \\times & \\dots & \\times \\\\\n",
        "0      & \\times & \\times & \\dots & \\times \\\\\n",
        "&& \\dots&& \\\\\n",
        "0      & \\times & \\times & \\dots & \\times \\\\\n",
        "\\end{pmatrix}%\n",
        "\\equiv \\mathbf{A}^{(1)}\\;.\n",
        "$$\n",
        "\n",
        "Now consider the lower-right submatrix of $\\mathbf{A}^{(1)}$, and construct a Householder reflector which annihilates the second column of $\\mathbf{A}$:\n",
        "\n",
        "$$\n",
        "\\mathbf{H}_2 \\mathbf{A}^{(1)} =%\n",
        "\\begin{pmatrix}\n",
        "\\times & \\times & \\times & \\dots & \\times \\\\\n",
        "0      & \\times & \\times & \\dots & \\times \\\\\n",
        "0      & 0      & \\times & \\dots & \\times \\\\\n",
        "&& \\dots&& \\\\\n",
        "0      & 0      & \\times & \\dots & \\times \\\\\n",
        "\\end{pmatrix}%\n",
        "\\equiv \\mathbf{A}^{(2)} \\;.\n",
        "$$\n",
        "\n",
        "Repeating the process $n-1$ times, we obtain\n",
        "\n",
        "$$\n",
        "\\mathbf{H}_{n-1} \\cdots \\mathbf{H}_2 \\mathbf{H}_1 \\mathbf{A} = \\mathbf{R} \\;,\n",
        "$$\n",
        "\n",
        "with $\\mathbf{R}$ an upper triangular matrix. Since each $\\mathbf{H}_k$ is orthogonal, so is their product. The inverse of an orthogonal matrix is orthogonal. Hence the process generates the $\\mathrm{QR}$ decomposition of $\\mathbf{A}$. "
      ]
    },
    {
      "cell_type": "markdown",
      "metadata": {
        "id": "HpqwR07rcQS_"
      },
      "source": [
        "Write a function, which receives a recangular matrix, $A$, and returns the Q and R factors of the $QR$ factorization of $A$."
      ]
    },
    {
      "cell_type": "code",
      "metadata": {
        "collapsed": true,
        "id": "O88N_THLcQTB"
      },
      "source": [
        "def qr_decomp(a):\n",
        "    a1 = np.array(a, copy=True, dtype=float)\n",
        "    m, n = a1.shape\n",
        "    Q = np.eye(m)\n",
        "\n",
        "    \n",
        "    for i in range(n):\n",
        "        _, H = householder(a1[i:,i])\n",
        "        h = np.eye(m)\n",
        "        h[i:,i:] = H\n",
        "        \n",
        "        a1 = h @ a1\n",
        "        Q = Q @ h\n",
        "        \n",
        "    return Q, a1\n"
      ],
      "execution_count": 5,
      "outputs": []
    },
    {
      "cell_type": "code",
      "metadata": {
        "collapsed": true,
        "id": "Ao73YCascQTD"
      },
      "source": [
        "np.set_printoptions(suppress=True)"
      ],
      "execution_count": 6,
      "outputs": []
    },
    {
      "cell_type": "code",
      "metadata": {
        "collapsed": true,
        "id": "aIT4wekHcQTD"
      },
      "source": [
        "# Test II.1 (20% of the total grade)\n",
        "\n",
        "rndm = np.random.RandomState(1234)\n",
        "a = rndm.uniform(size=(5, 3))\n",
        "q, r = qr_decomp(a)\n",
        "\n",
        "# Test that Q is indeed orthogonal\n",
        "assert_allclose(np.dot(q, q.T), np.eye(5), atol=1e1)\n",
        "\n",
        "# Test the decomposition itself\n",
        "assert_allclose(np.dot(q, r), a)"
      ],
      "execution_count": 7,
      "outputs": []
    },
    {
      "cell_type": "markdown",
      "metadata": {
        "id": "FPvOKawucQTE"
      },
      "source": [
        "Now compare your decompositions to the library function (which actually wraps the corresponding LAPACK functions)"
      ]
    },
    {
      "cell_type": "code",
      "metadata": {
        "collapsed": true,
        "id": "GVEVfBhgcQTF"
      },
      "source": [
        "from scipy.linalg import qr\n",
        "qq, rr = qr(a)\n",
        "\n",
        "assert_allclose(np.dot(qq, rr), a)"
      ],
      "execution_count": 8,
      "outputs": []
    },
    {
      "cell_type": "markdown",
      "metadata": {
        "id": "RZ5RSrtMcQTG"
      },
      "source": [
        "Check if your `q` and `r` agree with `qq` and `rr`. Explain."
      ]
    },
    {
      "cell_type": "code",
      "metadata": {
        "colab": {
          "base_uri": "https://localhost:8080/"
        },
        "id": "rNVWciJbBhb-",
        "outputId": "74959fb5-8023-488c-edf9-61acae7b2832"
      },
      "source": [
        "print(\"q: \\n\",q,\"\\n \\n r: \\n\",r)"
      ],
      "execution_count": 9,
      "outputs": [
        {
          "output_type": "stream",
          "text": [
            "q: \n",
            " [[ 0.13665049  0.53601299 -0.09369752  0.7697136   0.30459557]\n",
            " [ 0.56035895  0.0935397  -0.53326881  0.01839528 -0.62652547]\n",
            " [ 0.19725922  0.65948912  0.60068463 -0.32384673 -0.24589462]\n",
            " [ 0.62498418 -0.50418303  0.52144688  0.28453698  0.04822969]\n",
            " [ 0.48765568  0.12171264 -0.27224305 -0.47049398  0.67223293]] \n",
            " \n",
            " r: \n",
            " [[ 1.40152769  1.2514379   0.89523615]\n",
            " [-0.          0.84158252  0.68447942]\n",
            " [ 0.         -0.          0.5496046 ]\n",
            " [-0.          0.         -0.        ]\n",
            " [-0.         -0.          0.        ]]\n"
          ],
          "name": "stdout"
        }
      ]
    },
    {
      "cell_type": "code",
      "metadata": {
        "colab": {
          "base_uri": "https://localhost:8080/"
        },
        "id": "_10gXnGXBsB0",
        "outputId": "03436aee-b66e-43e6-cfef-38d999cebc35"
      },
      "source": [
        "print(\"qq: \\n\",qq,\"\\n \\n r: \\n\",rr)"
      ],
      "execution_count": 10,
      "outputs": [
        {
          "output_type": "stream",
          "text": [
            "qq: \n",
            " [[-0.13665049  0.53601299  0.09369752  0.661619   -0.49749149]\n",
            " [-0.56035895  0.0935397   0.53326881 -0.52477245 -0.34276292]\n",
            " [-0.19725922  0.65948912 -0.60068463 -0.37879015  0.14784752]\n",
            " [-0.62498418 -0.50418303 -0.52144688  0.18967657 -0.21750907]\n",
            " [-0.48765568  0.12171264  0.27224305  0.32774225  0.75222783]] \n",
            " \n",
            " r: \n",
            " [[-1.40152769 -1.2514379  -0.89523615]\n",
            " [ 0.          0.84158252  0.68447942]\n",
            " [ 0.          0.         -0.5496046 ]\n",
            " [ 0.          0.          0.        ]\n",
            " [ 0.          0.          0.        ]]\n"
          ],
          "name": "stdout"
        }
      ]
    },
    {
      "cell_type": "markdown",
      "metadata": {
        "id": "WvrCulXOcQTG"
      },
      "source": [
        "*Enter your explanation here* (10% of the total grade, peer-graded)\n",
        "\n",
        "**Matricies contain the same values in most of the times, excepts for the two lasts columns in $q$ and $qq$ that have differents values because the last two rows in $r$ has only zeros. In some cases we have diferents signs, thats because the matrix rotation.**"
      ]
    },
    {
      "cell_type": "markdown",
      "metadata": {
        "id": "TiC0kTbAcQTH"
      },
      "source": [
        "# Part III. Avoid forming Householder matrices explicitly."
      ]
    },
    {
      "cell_type": "markdown",
      "metadata": {
        "id": "nPvyYyiScQTH"
      },
      "source": [
        "Note the special structure of the Householder matrices: A reflector $\\mathbf{H}$ is completely specified by a reflection vector $\\mathbf{u}$. Also note that the computational cost of applying a reflector to a matrix strongly depends on the order of operations:\n",
        "\n",
        "$$\n",
        "\\left( \\mathbf{u} \\mathbf{u}^T \\right) \\mathbf{A}  \\qquad \\textrm{is } O(m^2 n)\\;,\n",
        "$$\n",
        "while\n",
        "$$\n",
        "\\mathbf{u} \\left( \\mathbf{u}^T \\mathbf{A} \\right) \\qquad \\textrm{is } O(mn)\n",
        "$$\n",
        "\n",
        "Thus, it seems to make sense to *avoid* forming the $\\mathbf{H}$ matrices. Instead, one stores the reflection vectors, $\\mathbf{u}$, themselves, and provides a way of multiplying an arbitrary matrix by $\\mathbf{Q}^T$, e.g., as a standalone function (or a class)."
      ]
    },
    {
      "cell_type": "markdown",
      "metadata": {
        "id": "qNjr6WU_cQTI"
      },
      "source": [
        "Write a function which constructs the `QR` decomposition of a matrix *without ever forming the* $\\mathbf{H}$ matrices, and returns the $\\mathbf{R}$ matrix and reflection vectors. \n",
        "\n",
        "Write a second function, which uses reflection vectors to multiply a matrix with $\\mathbf{Q}^T$. Make sure to include enough comments for a marker to follow your implementation, and add tests. \n",
        "\n",
        "(Peer-graded, 40% of the total grade)"
      ]
    },
    {
      "cell_type": "code",
      "metadata": {
        "id": "G_Uo6qAcLpjx"
      },
      "source": [
        "# Compute the QR decomposition of an m-by-n matrix A using\n",
        "def qr_decomp_v2(a):\n",
        "    a1 = np.array(a, copy=True, dtype=float)\n",
        "    m, n = a1.shape\n",
        "    \n",
        "    R = a1.copy()\n",
        "    Q = np.identity(m)\n",
        "    \n",
        "    for j in range(0, n):\n",
        "        normx = np.linalg.norm(R[j:, j])\n",
        "        if R[j, j] > 0:\n",
        "            u1 = R[j, j] + normx\n",
        "            tau = u1 / normx\n",
        "        else:\n",
        "            u1 = R[j, j] - normx\n",
        "            tau = -u1 / normx \n",
        "        w = R[j:, j] / u1\n",
        "        w[0] = 1\n",
        "        w = np.array([w])\n",
        "\n",
        "        R[j:, :] = R[j:, :] - (tau*w.T)@(w@R[j:, :])\n",
        "        Q[:, j:] = Q[:, j:] - ((Q[:, j:]@w.T)@np.transpose(tau*w.T))\n",
        "    \n",
        "    return Q, R\n",
        "\n"
      ],
      "execution_count": 11,
      "outputs": []
    },
    {
      "cell_type": "code",
      "metadata": {
        "id": "1OvzGgyjL1Zb"
      },
      "source": [
        "#test Q@R = qq@rr\n",
        "rndm = np.random.RandomState(1234)\n",
        "a = rndm.uniform(size=(5, 3))\n",
        "Q, R = qr_decomp_v2(a)\n",
        "qq, rr = qr(a)\n",
        "\n",
        "assert_allclose(np.dot(Q, R), np.dot(qq, rr))"
      ],
      "execution_count": 12,
      "outputs": []
    },
    {
      "cell_type": "code",
      "metadata": {
        "id": "SkwUtNLSL5AA"
      },
      "source": [
        "def QTX(QR, tau, X):\n",
        "    m, n = QR.shape\n",
        "    QTX = X\n",
        "    for j in range(0, n):\n",
        "        w = [0, QR[j+1:,j]]\n",
        "        w = np.array([w])\n",
        "        QTX[j:,:] = QTX[j:,:]-[tau(j)@w.T]@[w@QTX[j:,:]]\n",
        "    return QTX"
      ],
      "execution_count": 13,
      "outputs": []
    }
  ]
}

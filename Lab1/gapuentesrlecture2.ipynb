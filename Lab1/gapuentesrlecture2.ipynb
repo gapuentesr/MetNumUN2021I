{
  "nbformat": 4,
  "nbformat_minor": 0,
  "metadata": {
    "kernelspec": {
      "name": "python3",
      "display_name": "Python 3"
    },
    "colab": {
      "name": "gapuentesrlecture2.ipynb",
      "provenance": [],
      "collapsed_sections": []
    },
    "language_info": {
      "name": "python"
    }
  },
  "cells": [
    {
      "cell_type": "markdown",
      "metadata": {
        "id": "cLUYfTYAHVrE"
      },
      "source": [
        "+- + #Quantopian - Lectura \\# 2\n",
        "\n",
        "##Métodos Numéricos\n",
        "###Gustavo Alberto Puentes Romero"
      ]
    },
    {
      "cell_type": "markdown",
      "metadata": {
        "id": "XOEjyp_w8H51"
      },
      "source": [
        "# Introduction to Python\n",
        "by Maxwell Margenot\n",
        "\n",
        "Part of the Quantopian Lecture Series:\n",
        "\n",
        "* [www.quantopian.com/lectures](https://www.quantopian.com/lectures)\n",
        "* [github.com/quantopian/research_public](https://github.com/quantopian/research_public)\n",
        "\n",
        "\n",
        "---\n",
        "\n",
        "All of the coding that you will do on the Quantopian platform will be in Python. It is also just a good, jack-of-all-trades language to know! Here we will provide you with the basics so that you can feel confident going through our other lectures and understanding what is happening."
      ]
    },
    {
      "cell_type": "markdown",
      "metadata": {
        "id": "jW7JEPoK8H5-"
      },
      "source": [
        "## Code Comments\n",
        "\n",
        "A comment is a note made by a programmer in the source code of a program. Its purpose is to clarify the source code and make it easier for people to follow along with what is happening. Anything in a comment is generally ignored when the code is actually run, making comments useful for including explanations and reasoning as well as removing specific lines of code that you may be unsure about. Comments in Python are created by using the pound symbol (`# Insert Text Here`). Including a `#` in a line of code will comment out anything that follows it."
      ]
    },
    {
      "cell_type": "code",
      "metadata": {
        "id": "UasLtWqJ8H5_"
      },
      "source": [
        "# This is a comment\n",
        "# These lines of code will not change any values\n",
        "# Anything following the first # is not run as code"
      ],
      "execution_count": 1,
      "outputs": []
    },
    {
      "cell_type": "code",
      "metadata": {
        "id": "_GbBaS97AeHT"
      },
      "source": [
        "# Ejemplo de comentario en Python\n",
        "# Comentario 1"
      ],
      "execution_count": 2,
      "outputs": []
    },
    {
      "cell_type": "markdown",
      "metadata": {
        "id": "TbpBDn_18H6A"
      },
      "source": [
        "You may hear text enclosed in triple quotes (`\"\"\" Insert Text Here \"\"\"`) referred to as multi-line comments, but this is not entirely accurate. This is a special type of `string` (a data type we will cover), called a `docstring`, used to explain the purpose of a function."
      ]
    },
    {
      "cell_type": "code",
      "metadata": {
        "id": "oOsv6LsX8H6B",
        "colab": {
          "base_uri": "https://localhost:8080/",
          "height": 35
        },
        "outputId": "15b1ed05-d1b6-438e-bb1b-bf650f89f294"
      },
      "source": [
        "\"\"\" This is a special string \"\"\""
      ],
      "execution_count": 3,
      "outputs": [
        {
          "output_type": "execute_result",
          "data": {
            "application/vnd.google.colaboratory.intrinsic+json": {
              "type": "string"
            },
            "text/plain": [
              "' This is a special string '"
            ]
          },
          "metadata": {
            "tags": []
          },
          "execution_count": 3
        }
      ]
    },
    {
      "cell_type": "markdown",
      "metadata": {
        "id": "VyagglqRAwbJ"
      },
      "source": [
        "Tipo especial de String: \"docstring\"\n",
        "\n"
      ]
    },
    {
      "cell_type": "code",
      "metadata": {
        "id": "_73hvJ0rA596",
        "colab": {
          "base_uri": "https://localhost:8080/",
          "height": 35
        },
        "outputId": "905d220f-014f-486f-ca23-f9c10a466575"
      },
      "source": [
        "\"\"\" Ejemplo de docstring \"\"\""
      ],
      "execution_count": 4,
      "outputs": [
        {
          "output_type": "execute_result",
          "data": {
            "application/vnd.google.colaboratory.intrinsic+json": {
              "type": "string"
            },
            "text/plain": [
              "' Ejemplo de docstring '"
            ]
          },
          "metadata": {
            "tags": []
          },
          "execution_count": 4
        }
      ]
    },
    {
      "cell_type": "markdown",
      "metadata": {
        "id": "3zzEp4WO8H6B"
      },
      "source": [
        "Make sure you read the comments within each code cell (if they are there). They will provide more real-time explanations of what is going on as you look at each line of code."
      ]
    },
    {
      "cell_type": "markdown",
      "metadata": {
        "id": "Wpz-Z1258H6B"
      },
      "source": [
        "## Variables\n",
        "\n",
        "Variables provide names for values in programming. If you want to save a value for later or repeated use, you give the value a name, storing the contents in a variable. Variables in programming work in a fundamentally similar way to variables in algebra, but in Python they can take on various different data types.\n",
        "\n",
        "The basic variable types that we will cover in this section are `integers`, `floating point numbers`, `booleans`, and `strings`. \n",
        "\n",
        "An `integer` in programming is the same as in mathematics, a round number with no values after the decimal point. We use the built-in `print` function here to display the values of our variables as well as their types!"
      ]
    },
    {
      "cell_type": "code",
      "metadata": {
        "id": "QzJ2cLQ08H6C",
        "colab": {
          "base_uri": "https://localhost:8080/"
        },
        "outputId": "220d9d9d-6f4b-47ad-b99b-687b8a6bb2fa"
      },
      "source": [
        "my_integer = 50\n",
        "print (my_integer), type(my_integer)"
      ],
      "execution_count": 5,
      "outputs": [
        {
          "output_type": "stream",
          "text": [
            "50\n"
          ],
          "name": "stdout"
        },
        {
          "output_type": "execute_result",
          "data": {
            "text/plain": [
              "(None, int)"
            ]
          },
          "metadata": {
            "tags": []
          },
          "execution_count": 5
        }
      ]
    },
    {
      "cell_type": "code",
      "metadata": {
        "colab": {
          "base_uri": "https://localhost:8080/"
        },
        "id": "V2VBDZoeEE68",
        "outputId": "859b527f-ee52-4275-feb9-1397be408d20"
      },
      "source": [
        "entero = 230\n",
        "print (entero), type(entero)"
      ],
      "execution_count": 6,
      "outputs": [
        {
          "output_type": "stream",
          "text": [
            "230\n"
          ],
          "name": "stdout"
        },
        {
          "output_type": "execute_result",
          "data": {
            "text/plain": [
              "(None, int)"
            ]
          },
          "metadata": {
            "tags": []
          },
          "execution_count": 6
        }
      ]
    },
    {
      "cell_type": "markdown",
      "metadata": {
        "id": "drrgZBsp8H6C"
      },
      "source": [
        "Variables, regardless of type, are assigned by using a single equals sign (`=`). Variables are case-sensitive so any changes in variation in the capitals of a variable name will reference a different variable entirely."
      ]
    },
    {
      "cell_type": "code",
      "metadata": {
        "id": "49LyZBmN8H6C",
        "colab": {
          "base_uri": "https://localhost:8080/"
        },
        "outputId": "b5e0600f-b145-4f10-b334-3b834a035f8d"
      },
      "source": [
        "one = 1\n",
        "# print (One)  -->  Variable no declarada\n",
        "print (one)"
      ],
      "execution_count": 7,
      "outputs": [
        {
          "output_type": "stream",
          "text": [
            "1\n"
          ],
          "name": "stdout"
        }
      ]
    },
    {
      "cell_type": "code",
      "metadata": {
        "colab": {
          "base_uri": "https://localhost:8080/"
        },
        "id": "QQPynH72Et1c",
        "outputId": "80d22935-d003-4551-9684-f1a44a6d1d77"
      },
      "source": [
        "variable = 50\n",
        "# print (VARiable)  --> Variable no declarada\n",
        "print (variable)"
      ],
      "execution_count": 8,
      "outputs": [
        {
          "output_type": "stream",
          "text": [
            "50\n"
          ],
          "name": "stdout"
        }
      ]
    },
    {
      "cell_type": "markdown",
      "metadata": {
        "id": "0ibqwG1a8H6D"
      },
      "source": [
        "A `floating point` number, or a `float` is a fancy name for a real number (again as in mathematics). To define a `float`, we need to either include a decimal point or specify that the value is a float."
      ]
    },
    {
      "cell_type": "code",
      "metadata": {
        "scrolled": true,
        "id": "5yWLL2qB8H6D",
        "colab": {
          "base_uri": "https://localhost:8080/"
        },
        "outputId": "cde5fe64-1108-41ba-c4bb-aaaddcfa79c4"
      },
      "source": [
        "my_float = 1.0\n",
        "print (my_float), type(my_float)\n",
        "my_float = float(1)\n",
        "print (my_float), type(my_float)"
      ],
      "execution_count": 9,
      "outputs": [
        {
          "output_type": "stream",
          "text": [
            "1.0\n",
            "1.0\n"
          ],
          "name": "stdout"
        },
        {
          "output_type": "execute_result",
          "data": {
            "text/plain": [
              "(None, float)"
            ]
          },
          "metadata": {
            "tags": []
          },
          "execution_count": 9
        }
      ]
    },
    {
      "cell_type": "code",
      "metadata": {
        "colab": {
          "base_uri": "https://localhost:8080/"
        },
        "id": "0nRFlroWFM4b",
        "outputId": "80257ce5-bd1b-4665-a4b8-2ea811aae4d7"
      },
      "source": [
        "flotante = 15.436\n",
        "print (flotante), type(flotante)\n",
        "flotante2 = float(25)\n",
        "print(flotante2), type(flotante2)"
      ],
      "execution_count": 10,
      "outputs": [
        {
          "output_type": "stream",
          "text": [
            "15.436\n",
            "25.0\n"
          ],
          "name": "stdout"
        },
        {
          "output_type": "execute_result",
          "data": {
            "text/plain": [
              "(None, float)"
            ]
          },
          "metadata": {
            "tags": []
          },
          "execution_count": 10
        }
      ]
    },
    {
      "cell_type": "markdown",
      "metadata": {
        "id": "dDmAZ3n_8H6D"
      },
      "source": [
        "A variable of type `float` will not round the number that you store in it, while a variable of type `integer` will. This makes `floats` more suitable for mathematical calculations where you want more than just integers.\n",
        "\n",
        "Note that as we used the `float()` function to force an number to be considered a `float`, we can use the `int()` function to force a number to be considered an `int`."
      ]
    },
    {
      "cell_type": "code",
      "metadata": {
        "id": "Dm8D0Y248H6E",
        "colab": {
          "base_uri": "https://localhost:8080/"
        },
        "outputId": "e216ee6d-dfab-47f1-863e-acfbb00abf4b"
      },
      "source": [
        "my_int = int(3.14159)\n",
        "print (my_int), type(my_int)"
      ],
      "execution_count": 11,
      "outputs": [
        {
          "output_type": "stream",
          "text": [
            "3\n"
          ],
          "name": "stdout"
        },
        {
          "output_type": "execute_result",
          "data": {
            "text/plain": [
              "(None, int)"
            ]
          },
          "metadata": {
            "tags": []
          },
          "execution_count": 11
        }
      ]
    },
    {
      "cell_type": "code",
      "metadata": {
        "colab": {
          "base_uri": "https://localhost:8080/"
        },
        "id": "nu_SAD_RGhSc",
        "outputId": "c8c14f58-ae6a-4124-e3ca-db4437620921"
      },
      "source": [
        "entero = int(15.436)\n",
        "print(entero), type(entero)"
      ],
      "execution_count": 12,
      "outputs": [
        {
          "output_type": "stream",
          "text": [
            "15\n"
          ],
          "name": "stdout"
        },
        {
          "output_type": "execute_result",
          "data": {
            "text/plain": [
              "(None, int)"
            ]
          },
          "metadata": {
            "tags": []
          },
          "execution_count": 12
        }
      ]
    },
    {
      "cell_type": "markdown",
      "metadata": {
        "id": "7249-nzk8H6F"
      },
      "source": [
        "The `int()` function will also truncate any digits that a number may have after the decimal point!\n",
        "\n",
        "Strings allow you to include text as a variable to operate on. They are defined using either single quotes ('') or double quotes (\"\")."
      ]
    },
    {
      "cell_type": "code",
      "metadata": {
        "id": "p_YPJFRT8H6G",
        "colab": {
          "base_uri": "https://localhost:8080/"
        },
        "outputId": "f0e03d0c-3fe3-44d5-f647-acd7c4debd85"
      },
      "source": [
        "my_string = 'This is a string with single quotes'\n",
        "print (my_string)\n",
        "my_string = \"This is a string with double quotes\"\n",
        "print (my_string)"
      ],
      "execution_count": 13,
      "outputs": [
        {
          "output_type": "stream",
          "text": [
            "This is a string with single quotes\n",
            "This is a string with double quotes\n"
          ],
          "name": "stdout"
        }
      ]
    },
    {
      "cell_type": "code",
      "metadata": {
        "colab": {
          "base_uri": "https://localhost:8080/"
        },
        "id": "_oiXoFYvG1vd",
        "outputId": "b62656a6-0d7e-4368-9cb6-61e775dd62b0"
      },
      "source": [
        "texto = 'Ejemplo de String usando comillas simples'\n",
        "print (texto)"
      ],
      "execution_count": 14,
      "outputs": [
        {
          "output_type": "stream",
          "text": [
            "Ejemplo de String usando comillas simples\n"
          ],
          "name": "stdout"
        }
      ]
    },
    {
      "cell_type": "code",
      "metadata": {
        "colab": {
          "base_uri": "https://localhost:8080/"
        },
        "id": "mkhQ4_eWHCJE",
        "outputId": "c8d4be66-14f8-4ae5-c8c7-b327e76900fa"
      },
      "source": [
        "texto2 = \"Ejemplo de String usando comillas dobles\"\n",
        "print (texto2)"
      ],
      "execution_count": 15,
      "outputs": [
        {
          "output_type": "stream",
          "text": [
            "Ejemplo de String usando comillas dobles\n"
          ],
          "name": "stdout"
        }
      ]
    },
    {
      "cell_type": "markdown",
      "metadata": {
        "id": "qFk-FeMa8H6G"
      },
      "source": [
        "Both are allowed so that we can include apostrophes or quotation marks in a string if we so choose."
      ]
    },
    {
      "cell_type": "code",
      "metadata": {
        "id": "CAUSfYwg8H6H",
        "colab": {
          "base_uri": "https://localhost:8080/"
        },
        "outputId": "44579731-e0d2-4103-eabb-5681904b631a"
      },
      "source": [
        "my_string = '\"Jabberwocky\", by Lewis Carroll'\n",
        "print (my_string)\n",
        "my_string = \"'Twas brillig, and the slithy toves / Did gyre and gimble in the wabe;\"\n",
        "print (my_string)"
      ],
      "execution_count": 16,
      "outputs": [
        {
          "output_type": "stream",
          "text": [
            "\"Jabberwocky\", by Lewis Carroll\n",
            "'Twas brillig, and the slithy toves / Did gyre and gimble in the wabe;\n"
          ],
          "name": "stdout"
        }
      ]
    },
    {
      "cell_type": "code",
      "metadata": {
        "colab": {
          "base_uri": "https://localhost:8080/"
        },
        "id": "ZmgWVdZmHt70",
        "outputId": "7db55887-ec4c-4dc1-ab3b-8648e3edac96"
      },
      "source": [
        "texto = '\"Ejemplo de comillas dobles en un String\"'\n",
        "print(texto)"
      ],
      "execution_count": 17,
      "outputs": [
        {
          "output_type": "stream",
          "text": [
            "\"Ejemplo de comillas dobles en un String\"\n"
          ],
          "name": "stdout"
        }
      ]
    },
    {
      "cell_type": "code",
      "metadata": {
        "colab": {
          "base_uri": "https://localhost:8080/"
        },
        "id": "vyqLjbwrIPsE",
        "outputId": "a43de73d-eec8-4554-d379-108caec6493d"
      },
      "source": [
        "texto = \"'Ejemplo de comillas simples en un String'\"\n",
        "print(texto)"
      ],
      "execution_count": 18,
      "outputs": [
        {
          "output_type": "stream",
          "text": [
            "'Ejemplo de comillas simples en un String'\n"
          ],
          "name": "stdout"
        }
      ]
    },
    {
      "cell_type": "markdown",
      "metadata": {
        "id": "L18VRi5Q8H6H"
      },
      "source": [
        "Booleans, or `bools` are binary variable types. A `bool` can only take on one of two values, these being `True` or `False`. There is much more to this idea of truth values when it comes to programming, which we cover later in the [Logical Operators](#id-section5) of this notebook."
      ]
    },
    {
      "cell_type": "code",
      "metadata": {
        "id": "cZEzL4D68H6H",
        "colab": {
          "base_uri": "https://localhost:8080/"
        },
        "outputId": "a7fc21c6-dfa7-4b9c-9eab-710a37e9a303"
      },
      "source": [
        "my_bool = True\n",
        "print (my_bool), type(my_bool)"
      ],
      "execution_count": 19,
      "outputs": [
        {
          "output_type": "stream",
          "text": [
            "True\n"
          ],
          "name": "stdout"
        },
        {
          "output_type": "execute_result",
          "data": {
            "text/plain": [
              "(None, bool)"
            ]
          },
          "metadata": {
            "tags": []
          },
          "execution_count": 19
        }
      ]
    },
    {
      "cell_type": "code",
      "metadata": {
        "colab": {
          "base_uri": "https://localhost:8080/"
        },
        "id": "Dr733IDCIkAc",
        "outputId": "b1083644-6729-42e5-89e3-b5763eb8f729"
      },
      "source": [
        "booleano = False\n",
        "print (booleano), type(booleano)"
      ],
      "execution_count": 20,
      "outputs": [
        {
          "output_type": "stream",
          "text": [
            "False\n"
          ],
          "name": "stdout"
        },
        {
          "output_type": "execute_result",
          "data": {
            "text/plain": [
              "(None, bool)"
            ]
          },
          "metadata": {
            "tags": []
          },
          "execution_count": 20
        }
      ]
    },
    {
      "cell_type": "markdown",
      "metadata": {
        "id": "YEUaTgbN8H6J"
      },
      "source": [
        "There are many more data types that you can assign as variables in Python, but these are the basic ones! We will cover a few more later as we move through this tutorial."
      ]
    },
    {
      "cell_type": "markdown",
      "metadata": {
        "id": "QvagOHGS8H6J"
      },
      "source": [
        "## Basic Math\n",
        "\n",
        "Python has a number of built-in math functions. These can be extended even further by importing the **math** package or by including any number of other calculation-based packages.\n",
        "\n",
        "All of the basic arithmetic operations are supported: `+`, `-`, `/`, and `*`. You can create exponents by using `**` and modular arithmetic is introduced with the mod operator, `%`."
      ]
    },
    {
      "cell_type": "code",
      "metadata": {
        "id": "7R31vO1y8H6K",
        "colab": {
          "base_uri": "https://localhost:8080/"
        },
        "outputId": "6931a4dc-60f5-4a79-ffe0-5fdc770b0fb0"
      },
      "source": [
        "print ('Addition: ', 2 + 2)\n",
        "print ('Subtraction: ', 7 - 4)\n",
        "print ('Multiplication: ', 2 * 5)\n",
        "print ('Division: ', 10 / 2)\n",
        "print ('Exponentiation: ', 3**2)"
      ],
      "execution_count": 21,
      "outputs": [
        {
          "output_type": "stream",
          "text": [
            "Addition:  4\n",
            "Subtraction:  3\n",
            "Multiplication:  10\n",
            "Division:  5.0\n",
            "Exponentiation:  9\n"
          ],
          "name": "stdout"
        }
      ]
    },
    {
      "cell_type": "code",
      "metadata": {
        "colab": {
          "base_uri": "https://localhost:8080/"
        },
        "id": "Utti1yEOEYPa",
        "outputId": "1a63eb88-7351-4d11-cab6-e04d778eab74"
      },
      "source": [
        "print ('Suma: ', 8 + 5)\n",
        "print ('Resta: ', 8 - 8)\n",
        "print ('Multipliación: ', 5 * 9)\n",
        "print ('División: ', 15 / 3)\n",
        "print ('Potenciación: ', 5**2)"
      ],
      "execution_count": 22,
      "outputs": [
        {
          "output_type": "stream",
          "text": [
            "Suma:  13\n",
            "Resta:  0\n",
            "Multipliación:  45\n",
            "División:  5.0\n",
            "Potenciación:  25\n"
          ],
          "name": "stdout"
        }
      ]
    },
    {
      "cell_type": "markdown",
      "metadata": {
        "id": "8oVdKFKM8H6L"
      },
      "source": [
        "If you are not familiar with the the mod operator, it operates like a remainder function. If we type $15 \\ \\% \\ 4$, it will return the remainder after dividing $15$ by $4$."
      ]
    },
    {
      "cell_type": "code",
      "metadata": {
        "id": "VTcx6ai_8H6L",
        "colab": {
          "base_uri": "https://localhost:8080/"
        },
        "outputId": "362ce0d5-9f51-4a21-b427-03e0e0fbac83"
      },
      "source": [
        "print ('Modulo: ', 15 % 4)"
      ],
      "execution_count": 23,
      "outputs": [
        {
          "output_type": "stream",
          "text": [
            "Modulo:  3\n"
          ],
          "name": "stdout"
        }
      ]
    },
    {
      "cell_type": "code",
      "metadata": {
        "colab": {
          "base_uri": "https://localhost:8080/"
        },
        "id": "FeWlYfyVFFhN",
        "outputId": "6b4c7f88-9540-4eac-ffa4-91f9e714a6a8"
      },
      "source": [
        "print ('Módulo: ', 80 % 7)"
      ],
      "execution_count": 24,
      "outputs": [
        {
          "output_type": "stream",
          "text": [
            "Módulo:  3\n"
          ],
          "name": "stdout"
        }
      ]
    },
    {
      "cell_type": "markdown",
      "metadata": {
        "id": "xUnkYLv28H6M"
      },
      "source": [
        "Mathematical functions also work on variables!"
      ]
    },
    {
      "cell_type": "code",
      "metadata": {
        "scrolled": true,
        "id": "SstA_e1D8H6N",
        "colab": {
          "base_uri": "https://localhost:8080/"
        },
        "outputId": "ebeb33c6-c229-460c-8fd6-28932ba83fed"
      },
      "source": [
        "first_integer = 4\n",
        "second_integer = 5\n",
        "print (first_integer * second_integer)"
      ],
      "execution_count": 25,
      "outputs": [
        {
          "output_type": "stream",
          "text": [
            "20\n"
          ],
          "name": "stdout"
        }
      ]
    },
    {
      "cell_type": "markdown",
      "metadata": {
        "id": "CF-Pk0YBFc-E"
      },
      "source": [
        "Operaciones con variables"
      ]
    },
    {
      "cell_type": "code",
      "metadata": {
        "colab": {
          "base_uri": "https://localhost:8080/"
        },
        "id": "KbW0bEpkFcaS",
        "outputId": "1c7ee6d9-70e0-40f2-e0d3-357d3b9cbe51"
      },
      "source": [
        "primer_entero = 8\n",
        "segundo_entero = 2\n",
        "print (primer_entero**segundo_entero)"
      ],
      "execution_count": 26,
      "outputs": [
        {
          "output_type": "stream",
          "text": [
            "64\n"
          ],
          "name": "stdout"
        }
      ]
    },
    {
      "cell_type": "markdown",
      "metadata": {
        "id": "6utfgEgV8H6N"
      },
      "source": [
        "Make sure that your variables are floats if you want to have decimal points in your answer. If you perform math exclusively with integers, you get an integer. Including any float in the calculation will make the result a float."
      ]
    },
    {
      "cell_type": "code",
      "metadata": {
        "id": "SLbTfKNh8H6O",
        "colab": {
          "base_uri": "https://localhost:8080/"
        },
        "outputId": "039f4154-dbe3-49de-b226-23fb57aba867"
      },
      "source": [
        "first_integer = 11\n",
        "second_integer = 3\n",
        "print (first_integer / second_integer)"
      ],
      "execution_count": 27,
      "outputs": [
        {
          "output_type": "stream",
          "text": [
            "3.6666666666666665\n"
          ],
          "name": "stdout"
        }
      ]
    },
    {
      "cell_type": "code",
      "metadata": {
        "colab": {
          "base_uri": "https://localhost:8080/"
        },
        "id": "7Zcgwgo3Gcdh",
        "outputId": "7b5d2ba1-666b-4569-b44f-f7fc2ca91f14"
      },
      "source": [
        "primer_entero = 5\n",
        "segundo_entero = 3\n",
        "print (primer_entero / segundo_entero)"
      ],
      "execution_count": 28,
      "outputs": [
        {
          "output_type": "stream",
          "text": [
            "1.6666666666666667\n"
          ],
          "name": "stdout"
        }
      ]
    },
    {
      "cell_type": "code",
      "metadata": {
        "id": "qhvKjv_M8H6O",
        "colab": {
          "base_uri": "https://localhost:8080/"
        },
        "outputId": "c52e7e91-e304-44ff-8fb6-c39067e36ca9"
      },
      "source": [
        "first_number = 11.0\n",
        "second_number = 3.0\n",
        "print (first_number / second_number)"
      ],
      "execution_count": 29,
      "outputs": [
        {
          "output_type": "stream",
          "text": [
            "3.6666666666666665\n"
          ],
          "name": "stdout"
        }
      ]
    },
    {
      "cell_type": "code",
      "metadata": {
        "colab": {
          "base_uri": "https://localhost:8080/"
        },
        "id": "SwvS3P_WG3ue",
        "outputId": "ceb38be4-2dd8-47f2-972c-4ae25dbab6d6"
      },
      "source": [
        "primer_entero = 5.0\n",
        "segundo_entero = 3.0\n",
        "print (primer_entero / segundo_entero)"
      ],
      "execution_count": 30,
      "outputs": [
        {
          "output_type": "stream",
          "text": [
            "1.6666666666666667\n"
          ],
          "name": "stdout"
        }
      ]
    },
    {
      "cell_type": "markdown",
      "metadata": {
        "id": "S0HSwDwc8H6O"
      },
      "source": [
        "Python has a few built-in math functions. The most notable of these are:\n",
        "\n",
        "* `abs()`\n",
        "* `round()`\n",
        "* `max()`\n",
        "* `min()`\n",
        "* `sum()`\n",
        "\n",
        "These functions all act as you would expect, given their names. Calling `abs()` on a number will return its absolute value. The `round()` function will round a number to a specified number of the decimal points (the default is $0$). Calling `max()` or `min()` on a collection of numbers will return, respectively, the maximum or minimum value in the collection. Calling `sum()` on a collection of numbers will add them all up. If you're not familiar with how collections of values in Python work, don't worry! We will cover collections in-depth in the next section. \n",
        "\n",
        "Additional math functionality can be added in with the `math` package."
      ]
    },
    {
      "cell_type": "code",
      "metadata": {
        "id": "MXEjghx78H6P"
      },
      "source": [
        "import math"
      ],
      "execution_count": 31,
      "outputs": []
    },
    {
      "cell_type": "markdown",
      "metadata": {
        "id": "KTHjIrO18H6P"
      },
      "source": [
        "The math library adds a long list of new mathematical functions to Python. Feel free to check out the [documentation](https://docs.python.org/2/library/math.html) for the full list and details. It concludes some mathematical constants"
      ]
    },
    {
      "cell_type": "code",
      "metadata": {
        "id": "f9d2H1hc8H6Q",
        "colab": {
          "base_uri": "https://localhost:8080/"
        },
        "outputId": "8dd4bbdb-2a31-459b-de97-990e46c75471"
      },
      "source": [
        "print ('Pi: ', math.pi)\n",
        "print (\"Euler's Constant: \", math.e)"
      ],
      "execution_count": 32,
      "outputs": [
        {
          "output_type": "stream",
          "text": [
            "Pi:  3.141592653589793\n",
            "Euler's Constant:  2.718281828459045\n"
          ],
          "name": "stdout"
        }
      ]
    },
    {
      "cell_type": "code",
      "metadata": {
        "colab": {
          "base_uri": "https://localhost:8080/"
        },
        "id": "_hCpRkGmHgLz",
        "outputId": "c59f74e4-0f56-4438-be7b-4edd57fe6618"
      },
      "source": [
        "print ('Tau: ', math.tau)"
      ],
      "execution_count": 33,
      "outputs": [
        {
          "output_type": "stream",
          "text": [
            "Tau:  6.283185307179586\n"
          ],
          "name": "stdout"
        }
      ]
    },
    {
      "cell_type": "markdown",
      "metadata": {
        "id": "vIzkkmcD8H6Q"
      },
      "source": [
        "As well as some commonly used math functions"
      ]
    },
    {
      "cell_type": "markdown",
      "metadata": {
        "id": "0016h6dXN8N4"
      },
      "source": [
        "$$\n",
        "\\cos \\pi\n",
        "$$"
      ]
    },
    {
      "cell_type": "code",
      "metadata": {
        "id": "BivuPOod8H6R",
        "colab": {
          "base_uri": "https://localhost:8080/"
        },
        "outputId": "a8bd3ba9-2eff-4d09-c3a8-7db04b896f49"
      },
      "source": [
        "print ('Cosine of pi: ', math.cos(math.pi))"
      ],
      "execution_count": 34,
      "outputs": [
        {
          "output_type": "stream",
          "text": [
            "Cosine of pi:  -1.0\n"
          ],
          "name": "stdout"
        }
      ]
    },
    {
      "cell_type": "markdown",
      "metadata": {
        "id": "gAylYp6nNPBh"
      },
      "source": [
        "$$\n",
        "\\sin \\frac{\\pi} {2}\n",
        "$$\n",
        "\n"
      ]
    },
    {
      "cell_type": "code",
      "metadata": {
        "colab": {
          "base_uri": "https://localhost:8080/"
        },
        "id": "HBXMZuaTIP17",
        "outputId": "d4fc6f43-8fdf-48f7-eab9-a125c36874da"
      },
      "source": [
        "print ('Seno de Pi/2: ', math.sin(math.pi))"
      ],
      "execution_count": 35,
      "outputs": [
        {
          "output_type": "stream",
          "text": [
            "Seno de Pi/2:  1.2246467991473532e-16\n"
          ],
          "name": "stdout"
        }
      ]
    },
    {
      "cell_type": "markdown",
      "metadata": {
        "id": "AXwyCsO48H6R"
      },
      "source": [
        "## Collections\n",
        "### Lists\n",
        "\n",
        "A `list` in Python is an ordered collection of objects that can contain any data type. We define a `list` using brackets (`[]`)."
      ]
    },
    {
      "cell_type": "code",
      "metadata": {
        "id": "VqGl6DcP8H6S",
        "colab": {
          "base_uri": "https://localhost:8080/"
        },
        "outputId": "7bc7543a-8bc6-4369-aec7-430024659234"
      },
      "source": [
        "my_list = [1, 2, 3]\n",
        "print (my_list)"
      ],
      "execution_count": 36,
      "outputs": [
        {
          "output_type": "stream",
          "text": [
            "[1, 2, 3]\n"
          ],
          "name": "stdout"
        }
      ]
    },
    {
      "cell_type": "code",
      "metadata": {
        "colab": {
          "base_uri": "https://localhost:8080/"
        },
        "id": "z6GrKAwGJeh3",
        "outputId": "c2e15137-f234-4e4f-ecc4-dbf97a842090"
      },
      "source": [
        "lista = [5, 10, 15, 20]\n",
        "print (lista)"
      ],
      "execution_count": 37,
      "outputs": [
        {
          "output_type": "stream",
          "text": [
            "[5, 10, 15, 20]\n"
          ],
          "name": "stdout"
        }
      ]
    },
    {
      "cell_type": "markdown",
      "metadata": {
        "id": "sPypmzvj8H6T"
      },
      "source": [
        "We can access and index the list by using brackets as well. In order to select an individual element, simply type the list name followed by the index of the item you are looking for in braces."
      ]
    },
    {
      "cell_type": "code",
      "metadata": {
        "id": "XgtgXcOT8H6T",
        "colab": {
          "base_uri": "https://localhost:8080/"
        },
        "outputId": "c5945119-e77a-470f-9fd1-f831b27171a5"
      },
      "source": [
        "print (my_list[0])\n",
        "print (my_list[2])"
      ],
      "execution_count": 38,
      "outputs": [
        {
          "output_type": "stream",
          "text": [
            "1\n",
            "3\n"
          ],
          "name": "stdout"
        }
      ]
    },
    {
      "cell_type": "code",
      "metadata": {
        "colab": {
          "base_uri": "https://localhost:8080/"
        },
        "id": "W3OaIYykJ8Us",
        "outputId": "820fe1da-2bc5-4353-aaab-ac27624a6a8d"
      },
      "source": [
        "print (lista[2])\n",
        "print (lista[3])"
      ],
      "execution_count": 39,
      "outputs": [
        {
          "output_type": "stream",
          "text": [
            "15\n",
            "20\n"
          ],
          "name": "stdout"
        }
      ]
    },
    {
      "cell_type": "markdown",
      "metadata": {
        "id": "aRDGYR_48H6T"
      },
      "source": [
        "Indexing in Python starts from $0$. If you have a list of length $n$, the first element of the list is at index $0$, the second element is at index $1$, and so on and so forth. The final element of the list will be at index $n-1$. Be careful! Trying to access a non-existent index will cause an error."
      ]
    },
    {
      "cell_type": "code",
      "metadata": {
        "id": "8ZkgGMbh8H6U",
        "colab": {
          "base_uri": "https://localhost:8080/"
        },
        "outputId": "77dbcdb4-bac1-4625-f2fa-e17a5aee629b"
      },
      "source": [
        "print ('The first, second, and third list elements: ', my_list[0], my_list[1], my_list[2])\n",
        "# print ('Accessing outside the list bounds causes an error: ', my_list[3])"
      ],
      "execution_count": 40,
      "outputs": [
        {
          "output_type": "stream",
          "text": [
            "The first, second, and third list elements:  1 2 3\n"
          ],
          "name": "stdout"
        }
      ]
    },
    {
      "cell_type": "code",
      "metadata": {
        "colab": {
          "base_uri": "https://localhost:8080/"
        },
        "id": "kFbvQGyYKTQ2",
        "outputId": "a7a55629-6159-47ea-89c6-0cb8439a43f3"
      },
      "source": [
        "print ('Primer y segundo elemento de la lista:', lista[0], ' | ', lista[1], ' | ', lista[2])\n",
        "# print ('Error al acceder a un índice inexistente: '), lista[4]"
      ],
      "execution_count": 41,
      "outputs": [
        {
          "output_type": "stream",
          "text": [
            "Primer y segundo elemento de la lista: 5  |  10  |  15\n"
          ],
          "name": "stdout"
        }
      ]
    },
    {
      "cell_type": "markdown",
      "metadata": {
        "id": "P_AKAiFM8H6Y"
      },
      "source": [
        "We can see the number of elements in a list by calling the `len()` function."
      ]
    },
    {
      "cell_type": "code",
      "metadata": {
        "id": "XQLvp4Zt8H6Z",
        "colab": {
          "base_uri": "https://localhost:8080/"
        },
        "outputId": "ea98ac8f-81c6-4929-94c2-9bfe215bd0cf"
      },
      "source": [
        "print (len(my_list))"
      ],
      "execution_count": 42,
      "outputs": [
        {
          "output_type": "stream",
          "text": [
            "3\n"
          ],
          "name": "stdout"
        }
      ]
    },
    {
      "cell_type": "code",
      "metadata": {
        "colab": {
          "base_uri": "https://localhost:8080/"
        },
        "id": "D72lnjDALSjO",
        "outputId": "a1d25035-1bb1-4c6a-bf3f-da2b13c73b86"
      },
      "source": [
        "print (len(lista))"
      ],
      "execution_count": 43,
      "outputs": [
        {
          "output_type": "stream",
          "text": [
            "4\n"
          ],
          "name": "stdout"
        }
      ]
    },
    {
      "cell_type": "markdown",
      "metadata": {
        "id": "dYts-y2M8H6Z"
      },
      "source": [
        "We can update and change a list by accessing an index and assigning new value."
      ]
    },
    {
      "cell_type": "code",
      "metadata": {
        "id": "_vKAMiqt8H6b",
        "colab": {
          "base_uri": "https://localhost:8080/"
        },
        "outputId": "d4126786-f51d-40eb-8dd4-7d6d664b61fd"
      },
      "source": [
        "print (my_list)\n",
        "my_list[0] = 42\n",
        "print (my_list)"
      ],
      "execution_count": 44,
      "outputs": [
        {
          "output_type": "stream",
          "text": [
            "[1, 2, 3]\n",
            "[42, 2, 3]\n"
          ],
          "name": "stdout"
        }
      ]
    },
    {
      "cell_type": "code",
      "metadata": {
        "colab": {
          "base_uri": "https://localhost:8080/"
        },
        "id": "mBopBKxYLhL2",
        "outputId": "a13444f5-1ac4-42e7-d75a-8efea0612e49"
      },
      "source": [
        "print (lista)\n",
        "lista[0] = 88\n",
        "print (lista)"
      ],
      "execution_count": 45,
      "outputs": [
        {
          "output_type": "stream",
          "text": [
            "[5, 10, 15, 20]\n",
            "[88, 10, 15, 20]\n"
          ],
          "name": "stdout"
        }
      ]
    },
    {
      "cell_type": "markdown",
      "metadata": {
        "id": "_lBuqoIh8H6b"
      },
      "source": [
        "This is fundamentally different from how strings are handled. A `list` is mutable, meaning that you can change a `list`'s elements without changing the list itself. Some data types, like `strings`, are immutable, meaning you cannot change them at all. Once a `string` or other immutable data type has been created, it cannot be directly modified without creating an entirely new object."
      ]
    },
    {
      "cell_type": "code",
      "metadata": {
        "id": "d-MorCWj8H6d"
      },
      "source": [
        "my_string = \"Strings never change\"\n",
        "# my_string[0] = 'Z'"
      ],
      "execution_count": 46,
      "outputs": []
    },
    {
      "cell_type": "code",
      "metadata": {
        "id": "3y427hIhPEOg"
      },
      "source": [
        "texto = \"Strings no cambian\"\n",
        "# texto[0] = 'L'"
      ],
      "execution_count": 47,
      "outputs": []
    },
    {
      "cell_type": "markdown",
      "metadata": {
        "id": "_G43ElV28H6d"
      },
      "source": [
        "As we stated before, a list can contain any data type. Thus, lists can also contain strings."
      ]
    },
    {
      "cell_type": "code",
      "metadata": {
        "id": "oLFN6b4T8H6e",
        "colab": {
          "base_uri": "https://localhost:8080/"
        },
        "outputId": "f16471a0-f75d-436c-ab24-1dece812293a"
      },
      "source": [
        "my_list_2 = ['one', 'two', 'three']\n",
        "print (my_list_2)"
      ],
      "execution_count": 48,
      "outputs": [
        {
          "output_type": "stream",
          "text": [
            "['one', 'two', 'three']\n"
          ],
          "name": "stdout"
        }
      ]
    },
    {
      "cell_type": "code",
      "metadata": {
        "colab": {
          "base_uri": "https://localhost:8080/"
        },
        "id": "buE8XjOQPV82",
        "outputId": "7aaf8409-f334-4f8c-c4da-cfe69bf0fdde"
      },
      "source": [
        "lista_2 = ['Manzana', 'Naranja', 'Pera', 'Maracuya']\n",
        "print (lista_2)"
      ],
      "execution_count": 49,
      "outputs": [
        {
          "output_type": "stream",
          "text": [
            "['Manzana', 'Naranja', 'Pera', 'Maracuya']\n"
          ],
          "name": "stdout"
        }
      ]
    },
    {
      "cell_type": "markdown",
      "metadata": {
        "id": "TI_-sZUs8H6e"
      },
      "source": [
        "Lists can also contain multiple different data types at once!"
      ]
    },
    {
      "cell_type": "code",
      "metadata": {
        "id": "FpIWZWw38H6f"
      },
      "source": [
        "my_list_3 = [True, 'False', 42]"
      ],
      "execution_count": 50,
      "outputs": []
    },
    {
      "cell_type": "code",
      "metadata": {
        "id": "z8rlFYKRP_JA"
      },
      "source": [
        "lista_3 = [False, 'Hola', 50]"
      ],
      "execution_count": 51,
      "outputs": []
    },
    {
      "cell_type": "markdown",
      "metadata": {
        "id": "MliQOc2X8H6f"
      },
      "source": [
        "If you want to put two lists together, they can be combined with a `+` symbol."
      ]
    },
    {
      "cell_type": "code",
      "metadata": {
        "id": "qGxYwPUD8H6j",
        "colab": {
          "base_uri": "https://localhost:8080/"
        },
        "outputId": "a3077059-cebc-4701-e3aa-451e0e4b27e9"
      },
      "source": [
        "my_list_4 = my_list + my_list_2 + my_list_3\n",
        "print (my_list_4)"
      ],
      "execution_count": 52,
      "outputs": [
        {
          "output_type": "stream",
          "text": [
            "[42, 2, 3, 'one', 'two', 'three', True, 'False', 42]\n"
          ],
          "name": "stdout"
        }
      ]
    },
    {
      "cell_type": "code",
      "metadata": {
        "colab": {
          "base_uri": "https://localhost:8080/"
        },
        "id": "epLn0SqeQJdw",
        "outputId": "6202f4b7-e696-442f-e0eb-a59fd778b0e4"
      },
      "source": [
        "lista_4 = lista + lista_2 + lista_3\n",
        "print (lista_4)"
      ],
      "execution_count": 53,
      "outputs": [
        {
          "output_type": "stream",
          "text": [
            "[88, 10, 15, 20, 'Manzana', 'Naranja', 'Pera', 'Maracuya', False, 'Hola', 50]\n"
          ],
          "name": "stdout"
        }
      ]
    },
    {
      "cell_type": "markdown",
      "metadata": {
        "id": "mbN5Rf0R8H6k"
      },
      "source": [
        "In addition to accessing individual elements of a list, we can access groups of elements through slicing."
      ]
    },
    {
      "cell_type": "code",
      "metadata": {
        "id": "-UxCa5fA8H6m"
      },
      "source": [
        "my_list = ['friends', 'romans', 'countrymen', 'lend', 'me', 'your', 'ears']"
      ],
      "execution_count": 54,
      "outputs": []
    },
    {
      "cell_type": "code",
      "metadata": {
        "id": "PNQWt1nHR8Rh"
      },
      "source": [
        "mi_lista = ['Mensaje', 'de', 'prueba', 'número', 'uno']"
      ],
      "execution_count": 55,
      "outputs": []
    },
    {
      "cell_type": "markdown",
      "metadata": {
        "id": "4mMkCkQC8H6n"
      },
      "source": [
        "#### Slicing\n",
        "\n",
        "We use the colon (`:`) to slice lists. "
      ]
    },
    {
      "cell_type": "code",
      "metadata": {
        "scrolled": true,
        "id": "YgEKrCwC8H6o",
        "colab": {
          "base_uri": "https://localhost:8080/"
        },
        "outputId": "2e475d5c-2e88-43b7-8674-3c9af73f206b"
      },
      "source": [
        "print (my_list[2:4])"
      ],
      "execution_count": 56,
      "outputs": [
        {
          "output_type": "stream",
          "text": [
            "['countrymen', 'lend']\n"
          ],
          "name": "stdout"
        }
      ]
    },
    {
      "cell_type": "code",
      "metadata": {
        "colab": {
          "base_uri": "https://localhost:8080/"
        },
        "id": "BUuI9_CXTD3N",
        "outputId": "13c54b6f-794a-439f-cb3c-72bd50d0a8d1"
      },
      "source": [
        "print (mi_lista[0:3])"
      ],
      "execution_count": 57,
      "outputs": [
        {
          "output_type": "stream",
          "text": [
            "['Mensaje', 'de', 'prueba']\n"
          ],
          "name": "stdout"
        }
      ]
    },
    {
      "cell_type": "markdown",
      "metadata": {
        "id": "xMYZdEhE8H6o"
      },
      "source": [
        "Using `:` we can select a group of elements in the list starting from the first element indicated and going up to  (but not including) the last element indicated.\n",
        "\n",
        "We can also select everything after a certain point"
      ]
    },
    {
      "cell_type": "code",
      "metadata": {
        "scrolled": true,
        "id": "XdX9GRaN8H6o",
        "colab": {
          "base_uri": "https://localhost:8080/"
        },
        "outputId": "dbd57b8c-5a30-4758-8d47-f740e6169f8e"
      },
      "source": [
        "print (my_list[1:])"
      ],
      "execution_count": 58,
      "outputs": [
        {
          "output_type": "stream",
          "text": [
            "['romans', 'countrymen', 'lend', 'me', 'your', 'ears']\n"
          ],
          "name": "stdout"
        }
      ]
    },
    {
      "cell_type": "code",
      "metadata": {
        "colab": {
          "base_uri": "https://localhost:8080/"
        },
        "id": "p-u-ZGQhTRKa",
        "outputId": "425f94c5-d9c1-4865-9909-397154266de0"
      },
      "source": [
        "print (mi_lista[2:])"
      ],
      "execution_count": 59,
      "outputs": [
        {
          "output_type": "stream",
          "text": [
            "['prueba', 'número', 'uno']\n"
          ],
          "name": "stdout"
        }
      ]
    },
    {
      "cell_type": "markdown",
      "metadata": {
        "id": "K02_OnFF8H6o"
      },
      "source": [
        "And everything before a certain point"
      ]
    },
    {
      "cell_type": "code",
      "metadata": {
        "scrolled": true,
        "id": "1GbXBFYH8H6p",
        "colab": {
          "base_uri": "https://localhost:8080/"
        },
        "outputId": "f183e273-2293-48d5-be4a-d649c5eba451"
      },
      "source": [
        "print (my_list[:4])"
      ],
      "execution_count": 60,
      "outputs": [
        {
          "output_type": "stream",
          "text": [
            "['friends', 'romans', 'countrymen', 'lend']\n"
          ],
          "name": "stdout"
        }
      ]
    },
    {
      "cell_type": "code",
      "metadata": {
        "colab": {
          "base_uri": "https://localhost:8080/"
        },
        "id": "syCTv4U8Ta-r",
        "outputId": "f469d051-74ae-4f87-b276-111ccbe0e1af"
      },
      "source": [
        "print (mi_lista[:3])"
      ],
      "execution_count": 61,
      "outputs": [
        {
          "output_type": "stream",
          "text": [
            "['Mensaje', 'de', 'prueba']\n"
          ],
          "name": "stdout"
        }
      ]
    },
    {
      "cell_type": "markdown",
      "metadata": {
        "id": "zVxqONiv8H6p"
      },
      "source": [
        "Using negative numbers will count from the end of the indices instead of from the beginning. For example, an index of `-1` indicates the last element of the list."
      ]
    },
    {
      "cell_type": "code",
      "metadata": {
        "id": "xieeFJcc8H6q",
        "colab": {
          "base_uri": "https://localhost:8080/"
        },
        "outputId": "f00aced8-d9eb-4ead-f8f1-ca41dd61b344"
      },
      "source": [
        "print (my_list[-1])"
      ],
      "execution_count": 62,
      "outputs": [
        {
          "output_type": "stream",
          "text": [
            "ears\n"
          ],
          "name": "stdout"
        }
      ]
    },
    {
      "cell_type": "code",
      "metadata": {
        "colab": {
          "base_uri": "https://localhost:8080/"
        },
        "id": "o_v4mFFfTuCy",
        "outputId": "cf3b4cfc-5724-4a98-b855-38bd1b847ae5"
      },
      "source": [
        "print (mi_lista[-1])"
      ],
      "execution_count": 63,
      "outputs": [
        {
          "output_type": "stream",
          "text": [
            "uno\n"
          ],
          "name": "stdout"
        }
      ]
    },
    {
      "cell_type": "markdown",
      "metadata": {
        "id": "uYKCWuKk8H6q"
      },
      "source": [
        "You can also add a third component to slicing. Instead of simply indicating the first and final parts of your slice, you can specify the step size that you want to take. So instead of taking every single element, you can take every other element."
      ]
    },
    {
      "cell_type": "markdown",
      "metadata": {
        "id": "yzrsiuPOU9Ho"
      },
      "source": [
        "En el siguiente ejemplo se seleccionan todos los elementos de la lista 0:6 y un step size :2"
      ]
    },
    {
      "cell_type": "code",
      "metadata": {
        "colab": {
          "base_uri": "https://localhost:8080/"
        },
        "id": "QLR8Sm0lUk9K",
        "outputId": "a387204c-9c87-46f1-aca0-65c796030be5"
      },
      "source": [
        "print (mi_lista[0:6:2])"
      ],
      "execution_count": 64,
      "outputs": [
        {
          "output_type": "stream",
          "text": [
            "['Mensaje', 'prueba', 'uno']\n"
          ],
          "name": "stdout"
        }
      ]
    },
    {
      "cell_type": "code",
      "metadata": {
        "id": "9dH8ON-u8H6r",
        "colab": {
          "base_uri": "https://localhost:8080/"
        },
        "outputId": "43c5d906-0f85-41a6-dca8-65dbd204f9c5"
      },
      "source": [
        "print (my_list[0:7:2])"
      ],
      "execution_count": 65,
      "outputs": [
        {
          "output_type": "stream",
          "text": [
            "['friends', 'countrymen', 'me', 'ears']\n"
          ],
          "name": "stdout"
        }
      ]
    },
    {
      "cell_type": "markdown",
      "metadata": {
        "id": "HstZbWhs8H6r"
      },
      "source": [
        "Here we have selected the entire list (because `0:7` will yield elements `0` through `6`) and we have selected a step size of `2`. So this will spit out element `0` , element `2`, element `4`, and so on through the list element selected. We can skip indicated the beginning and end of our slice, only indicating the step, if we like."
      ]
    },
    {
      "cell_type": "code",
      "metadata": {
        "id": "HgHoMcdx8H6s",
        "colab": {
          "base_uri": "https://localhost:8080/"
        },
        "outputId": "52797510-d4dd-4c73-80e5-37f90cf1a88a"
      },
      "source": [
        "print (my_list[::2])"
      ],
      "execution_count": 66,
      "outputs": [
        {
          "output_type": "stream",
          "text": [
            "['friends', 'countrymen', 'me', 'ears']\n"
          ],
          "name": "stdout"
        }
      ]
    },
    {
      "cell_type": "code",
      "metadata": {
        "colab": {
          "base_uri": "https://localhost:8080/"
        },
        "id": "CryKSJ3ZV5c0",
        "outputId": "324cc2e9-7cb9-4317-9317-fc48e747800f"
      },
      "source": [
        "print (mi_lista[::2])"
      ],
      "execution_count": 67,
      "outputs": [
        {
          "output_type": "stream",
          "text": [
            "['Mensaje', 'prueba', 'uno']\n"
          ],
          "name": "stdout"
        }
      ]
    },
    {
      "cell_type": "markdown",
      "metadata": {
        "id": "xcOijQhj8H6s"
      },
      "source": [
        "Lists implictly select the beginning and end of the list when not otherwise specified."
      ]
    },
    {
      "cell_type": "code",
      "metadata": {
        "id": "mg5cboEQ8H6t",
        "colab": {
          "base_uri": "https://localhost:8080/"
        },
        "outputId": "ae5b7f2e-48f2-4217-bed6-a994056c6064"
      },
      "source": [
        "print (my_list[:])"
      ],
      "execution_count": 68,
      "outputs": [
        {
          "output_type": "stream",
          "text": [
            "['friends', 'romans', 'countrymen', 'lend', 'me', 'your', 'ears']\n"
          ],
          "name": "stdout"
        }
      ]
    },
    {
      "cell_type": "code",
      "metadata": {
        "colab": {
          "base_uri": "https://localhost:8080/"
        },
        "id": "tqxy-QESWK1z",
        "outputId": "44cb8975-52b1-4be7-d6ae-04bc1bada045"
      },
      "source": [
        "print (mi_lista[:])"
      ],
      "execution_count": 69,
      "outputs": [
        {
          "output_type": "stream",
          "text": [
            "['Mensaje', 'de', 'prueba', 'número', 'uno']\n"
          ],
          "name": "stdout"
        }
      ]
    },
    {
      "cell_type": "markdown",
      "metadata": {
        "id": "rVPYws2E8H6t"
      },
      "source": [
        "With a negative step size we can even reverse the list!"
      ]
    },
    {
      "cell_type": "code",
      "metadata": {
        "id": "caROfG3A8H6t",
        "colab": {
          "base_uri": "https://localhost:8080/"
        },
        "outputId": "fa77cad3-7b27-4b90-f879-e14dc57f4bc4"
      },
      "source": [
        "print (my_list[::-1])"
      ],
      "execution_count": 70,
      "outputs": [
        {
          "output_type": "stream",
          "text": [
            "['ears', 'your', 'me', 'lend', 'countrymen', 'romans', 'friends']\n"
          ],
          "name": "stdout"
        }
      ]
    },
    {
      "cell_type": "code",
      "metadata": {
        "colab": {
          "base_uri": "https://localhost:8080/"
        },
        "id": "wvSaOeDnWWgy",
        "outputId": "1aab1022-2db8-4942-f11d-39acdc8d75e0"
      },
      "source": [
        "print (mi_lista[::-1])"
      ],
      "execution_count": 71,
      "outputs": [
        {
          "output_type": "stream",
          "text": [
            "['uno', 'número', 'prueba', 'de', 'Mensaje']\n"
          ],
          "name": "stdout"
        }
      ]
    },
    {
      "cell_type": "markdown",
      "metadata": {
        "id": "0rfjOn6J8H6u"
      },
      "source": [
        "Python does not have native matrices, but with lists we can produce a working fascimile. Other packages, such as `numpy`, add matrices as a separate data type, but in base Python the best way to create a matrix is to use a list of lists."
      ]
    },
    {
      "cell_type": "markdown",
      "metadata": {
        "id": "jD98seAS8H6u"
      },
      "source": [
        "We can also use built-in functions to generate lists. In particular we will look at `range()` (because we will be using it later!). Range can take several different inputs and will return a list."
      ]
    },
    {
      "cell_type": "code",
      "metadata": {
        "id": "vDAVWQ7A8H6v",
        "colab": {
          "base_uri": "https://localhost:8080/"
        },
        "outputId": "7e50929d-369c-4070-9357-a12af0b2fd45"
      },
      "source": [
        "b = 10\n",
        "my_list = range(b)\n",
        "print (my_list)"
      ],
      "execution_count": 72,
      "outputs": [
        {
          "output_type": "stream",
          "text": [
            "range(0, 10)\n"
          ],
          "name": "stdout"
        }
      ]
    },
    {
      "cell_type": "code",
      "metadata": {
        "colab": {
          "base_uri": "https://localhost:8080/"
        },
        "id": "nueMaGZHW1LL",
        "outputId": "7eb30c59-c7cb-451f-e75a-8241a8027012"
      },
      "source": [
        "x = 20\n",
        "mi_lista = range(x)\n",
        "print (mi_lista)"
      ],
      "execution_count": 73,
      "outputs": [
        {
          "output_type": "stream",
          "text": [
            "range(0, 20)\n"
          ],
          "name": "stdout"
        }
      ]
    },
    {
      "cell_type": "markdown",
      "metadata": {
        "id": "KUhlEO1b8H6v"
      },
      "source": [
        "Similar to our list-slicing methods from before, we can define both a start and an end for our range. This will return a list that is includes the start and excludes the end, just like a slice."
      ]
    },
    {
      "cell_type": "code",
      "metadata": {
        "id": "G4jvZEOW8H6w",
        "colab": {
          "base_uri": "https://localhost:8080/"
        },
        "outputId": "23fd3afb-ae18-4fa6-d0da-1f75a3896131"
      },
      "source": [
        "a = 0\n",
        "b = 10\n",
        "my_list = range(a, b)\n",
        "print (my_list)"
      ],
      "execution_count": 74,
      "outputs": [
        {
          "output_type": "stream",
          "text": [
            "range(0, 10)\n"
          ],
          "name": "stdout"
        }
      ]
    },
    {
      "cell_type": "code",
      "metadata": {
        "colab": {
          "base_uri": "https://localhost:8080/"
        },
        "id": "PsRbQ3tLXGYv",
        "outputId": "4656b016-3229-4a97-9068-ded4e71b16e8"
      },
      "source": [
        "x = 5\n",
        "y = 30\n",
        "mi_lista = range(x, y)\n",
        "print (mi_lista)"
      ],
      "execution_count": 75,
      "outputs": [
        {
          "output_type": "stream",
          "text": [
            "range(5, 30)\n"
          ],
          "name": "stdout"
        }
      ]
    },
    {
      "cell_type": "markdown",
      "metadata": {
        "id": "6RXuoP5W8H6x"
      },
      "source": [
        "We can also specify a step size. This again has the same behavior as a slice."
      ]
    },
    {
      "cell_type": "code",
      "metadata": {
        "scrolled": true,
        "id": "o2zQJ6mE8H6x",
        "colab": {
          "base_uri": "https://localhost:8080/"
        },
        "outputId": "b0e3d00d-3831-4eb5-c77e-5f0ab609df4e"
      },
      "source": [
        "a = 0\n",
        "b = 10\n",
        "step = 2\n",
        "my_list = range(a, b, step)\n",
        "print (my_list)"
      ],
      "execution_count": 76,
      "outputs": [
        {
          "output_type": "stream",
          "text": [
            "range(0, 10, 2)\n"
          ],
          "name": "stdout"
        }
      ]
    },
    {
      "cell_type": "code",
      "metadata": {
        "colab": {
          "base_uri": "https://localhost:8080/"
        },
        "id": "1IYNEFpgX3Jl",
        "outputId": "bd6d07b4-86a4-45f4-d24b-f468ce63fb98"
      },
      "source": [
        "x = 5\n",
        "y = 30\n",
        "step_2 = 5\n",
        "mi_lista = range(x, y, step_2)\n",
        "print (mi_lista)\n",
        "print (mi_lista[2])"
      ],
      "execution_count": 77,
      "outputs": [
        {
          "output_type": "stream",
          "text": [
            "range(5, 30, 5)\n",
            "15\n"
          ],
          "name": "stdout"
        }
      ]
    },
    {
      "cell_type": "markdown",
      "metadata": {
        "id": "liVX-j758H6y"
      },
      "source": [
        "### Tuples\n",
        "\n",
        "A `tuple` is a data type similar to a list in that it can hold different kinds of data types. The key difference here is that a `tuple` is immutable. We define a `tuple` by separating the elements we want to include by commas. It is conventional to surround a `tuple` with parentheses."
      ]
    },
    {
      "cell_type": "code",
      "metadata": {
        "id": "wVo6h8ZX8H6y",
        "colab": {
          "base_uri": "https://localhost:8080/"
        },
        "outputId": "34afd59b-6c7d-4438-a0db-cf54c8d6d54d"
      },
      "source": [
        "my_tuple = 'I', 'have', 30, 'cats'\n",
        "print (my_tuple)"
      ],
      "execution_count": 78,
      "outputs": [
        {
          "output_type": "stream",
          "text": [
            "('I', 'have', 30, 'cats')\n"
          ],
          "name": "stdout"
        }
      ]
    },
    {
      "cell_type": "code",
      "metadata": {
        "colab": {
          "base_uri": "https://localhost:8080/"
        },
        "id": "sTxkT25VZHjG",
        "outputId": "0c3af2b5-88ed-4b0b-89be-c48579084ff4"
      },
      "source": [
        "mi_tupla = 'Hola', 'Fruta', 30, False\n",
        "print (mi_tupla)"
      ],
      "execution_count": 79,
      "outputs": [
        {
          "output_type": "stream",
          "text": [
            "('Hola', 'Fruta', 30, False)\n"
          ],
          "name": "stdout"
        }
      ]
    },
    {
      "cell_type": "code",
      "metadata": {
        "id": "go1p-d-t8H6z",
        "colab": {
          "base_uri": "https://localhost:8080/"
        },
        "outputId": "30d4c5ad-aaa8-4146-b58a-8317173139da"
      },
      "source": [
        "my_tuple = ('I', 'have', 30, 'cats')\n",
        "print (my_tuple)"
      ],
      "execution_count": 80,
      "outputs": [
        {
          "output_type": "stream",
          "text": [
            "('I', 'have', 30, 'cats')\n"
          ],
          "name": "stdout"
        }
      ]
    },
    {
      "cell_type": "code",
      "metadata": {
        "colab": {
          "base_uri": "https://localhost:8080/"
        },
        "id": "9Jve613YZX58",
        "outputId": "815acc50-fb84-42e4-bb5e-29074a574322"
      },
      "source": [
        "mi_tupla = ('Hola', 'Fruta', 30, False)\n",
        "print (mi_tupla)"
      ],
      "execution_count": 81,
      "outputs": [
        {
          "output_type": "stream",
          "text": [
            "('Hola', 'Fruta', 30, False)\n"
          ],
          "name": "stdout"
        }
      ]
    },
    {
      "cell_type": "markdown",
      "metadata": {
        "id": "nbBZYb-I8H60"
      },
      "source": [
        "As mentioned before, tuples are immutable. You can't change any part of them without defining a new tuple."
      ]
    },
    {
      "cell_type": "code",
      "metadata": {
        "id": "oYGvf3dz8H60"
      },
      "source": [
        "#my_tuple[3] = 'dogs' # Attempts to change the 'cats' value stored in the the tuple to 'dogs'"
      ],
      "execution_count": 82,
      "outputs": []
    },
    {
      "cell_type": "code",
      "metadata": {
        "id": "FpLl06jkaLuA"
      },
      "source": [
        "#mi_tupla[1] = 'Fresa' # Error al intentar cambiar 'Fruta' por 'Fresa'"
      ],
      "execution_count": 83,
      "outputs": []
    },
    {
      "cell_type": "markdown",
      "metadata": {
        "id": "Mtky6TRX8H61"
      },
      "source": [
        "You can slice tuples the same way that you slice lists!"
      ]
    },
    {
      "cell_type": "code",
      "metadata": {
        "id": "Ck62u64a8H61",
        "colab": {
          "base_uri": "https://localhost:8080/"
        },
        "outputId": "3b0bdc89-cd16-4578-b464-6c3d722072f5"
      },
      "source": [
        "print (my_tuple[1:3])"
      ],
      "execution_count": 84,
      "outputs": [
        {
          "output_type": "stream",
          "text": [
            "('have', 30)\n"
          ],
          "name": "stdout"
        }
      ]
    },
    {
      "cell_type": "code",
      "metadata": {
        "colab": {
          "base_uri": "https://localhost:8080/"
        },
        "id": "7Jl5DeOzaklm",
        "outputId": "10f99045-5d6d-4f7c-f102-b8823364549c"
      },
      "source": [
        "print (mi_tupla[0:3])"
      ],
      "execution_count": 85,
      "outputs": [
        {
          "output_type": "stream",
          "text": [
            "('Hola', 'Fruta', 30)\n"
          ],
          "name": "stdout"
        }
      ]
    },
    {
      "cell_type": "markdown",
      "metadata": {
        "id": "TQ-8ZZ9w8H62"
      },
      "source": [
        "And concatenate them the way that you would with strings!"
      ]
    },
    {
      "cell_type": "code",
      "metadata": {
        "id": "MbsTfATD8H62",
        "colab": {
          "base_uri": "https://localhost:8080/"
        },
        "outputId": "2f8b7ae5-1dde-4f85-8735-09b2855a20eb"
      },
      "source": [
        "my_other_tuple = ('make', 'that', 50)\n",
        "print (my_tuple + my_other_tuple)"
      ],
      "execution_count": 86,
      "outputs": [
        {
          "output_type": "stream",
          "text": [
            "('I', 'have', 30, 'cats', 'make', 'that', 50)\n"
          ],
          "name": "stdout"
        }
      ]
    },
    {
      "cell_type": "code",
      "metadata": {
        "colab": {
          "base_uri": "https://localhost:8080/"
        },
        "id": "Vn2KCMK-auvE",
        "outputId": "8b21703b-6cfd-4ab9-d563-ee30575ff890"
      },
      "source": [
        "mi_otra_tupla = ('Cinco', 5, True)\n",
        "print (mi_tupla + mi_otra_tupla)"
      ],
      "execution_count": 87,
      "outputs": [
        {
          "output_type": "stream",
          "text": [
            "('Hola', 'Fruta', 30, False, 'Cinco', 5, True)\n"
          ],
          "name": "stdout"
        }
      ]
    },
    {
      "cell_type": "markdown",
      "metadata": {
        "id": "bb1YNP4l8H63"
      },
      "source": [
        "We can 'pack' values together, creating a tuple (as above), or we can 'unpack' values from a tuple, taking them out."
      ]
    },
    {
      "cell_type": "code",
      "metadata": {
        "id": "JY7-6LHB8H63",
        "colab": {
          "base_uri": "https://localhost:8080/"
        },
        "outputId": "13660908-1969-498a-e096-38bd7fbb1318"
      },
      "source": [
        "str_1, str_2, int_1 = my_other_tuple\n",
        "print (str_1, str_2, int_1)"
      ],
      "execution_count": 88,
      "outputs": [
        {
          "output_type": "stream",
          "text": [
            "make that 50\n"
          ],
          "name": "stdout"
        }
      ]
    },
    {
      "cell_type": "code",
      "metadata": {
        "colab": {
          "base_uri": "https://localhost:8080/"
        },
        "id": "HSzRgPoAcnP_",
        "outputId": "21b47060-ceeb-4628-f984-71eab30f9e40"
      },
      "source": [
        "uno, dos, tres = mi_otra_tupla\n",
        "print (uno, dos, tres)"
      ],
      "execution_count": 89,
      "outputs": [
        {
          "output_type": "stream",
          "text": [
            "Cinco 5 True\n"
          ],
          "name": "stdout"
        }
      ]
    },
    {
      "cell_type": "markdown",
      "metadata": {
        "id": "X8RgUdyf8H64"
      },
      "source": [
        "Unpacking assigns each value of the tuple in order to each variable on the left hand side of the equals sign. Some functions, including user-defined functions, may return tuples, so we can use this to directly unpack them and access the values that we want."
      ]
    },
    {
      "cell_type": "markdown",
      "metadata": {
        "id": "v4023zuR8H64"
      },
      "source": [
        "### Sets\n",
        "\n",
        "A `set` is a collection of unordered, unique elements. It works almost exactly as you would expect a normal set of things in mathematics to work and is defined using braces (`{}`)."
      ]
    },
    {
      "cell_type": "code",
      "metadata": {
        "id": "zoUBSRHO8H65",
        "colab": {
          "base_uri": "https://localhost:8080/"
        },
        "outputId": "7ea1ade6-0292-40bd-c8ad-e41eb9510ff2"
      },
      "source": [
        "things_i_like = {'dogs', 7, 'the number 4', 4, 4, 4, 42, 'lizards', 'man I just LOVE the number 4'}\n",
        "print (things_i_like), type(things_i_like)"
      ],
      "execution_count": 90,
      "outputs": [
        {
          "output_type": "stream",
          "text": [
            "{'man I just LOVE the number 4', 4, 7, 'lizards', 42, 'the number 4', 'dogs'}\n"
          ],
          "name": "stdout"
        },
        {
          "output_type": "execute_result",
          "data": {
            "text/plain": [
              "(None, set)"
            ]
          },
          "metadata": {
            "tags": []
          },
          "execution_count": 90
        }
      ]
    },
    {
      "cell_type": "code",
      "metadata": {
        "colab": {
          "base_uri": "https://localhost:8080/"
        },
        "id": "4prcIjQdgrKa",
        "outputId": "bdfc106c-5d6b-47ed-fc13-ca57151268f5"
      },
      "source": [
        "conjunto = {'Hola', 98, 'Catorce', 50, 50, 50, 'Hello', 64}\n",
        "print (conjunto), type(conjunto)"
      ],
      "execution_count": 91,
      "outputs": [
        {
          "output_type": "stream",
          "text": [
            "{64, 98, 'Catorce', 'Hello', 50, 'Hola'}\n"
          ],
          "name": "stdout"
        },
        {
          "output_type": "execute_result",
          "data": {
            "text/plain": [
              "(None, set)"
            ]
          },
          "metadata": {
            "tags": []
          },
          "execution_count": 91
        }
      ]
    },
    {
      "cell_type": "markdown",
      "metadata": {
        "id": "QsRBnRVo8H65"
      },
      "source": [
        "Note how any extra instances of the same item are removed in the final set. We can also create a `set` from a list, using the `set()` function."
      ]
    },
    {
      "cell_type": "code",
      "metadata": {
        "id": "PThhdDaz8H67",
        "colab": {
          "base_uri": "https://localhost:8080/"
        },
        "outputId": "029c1977-afd2-4802-e097-58f988cdf31b"
      },
      "source": [
        "animal_list = ['cats', 'dogs', 'dogs', 'dogs', 'lizards', 'sponges', 'cows', 'bats', 'sponges']\n",
        "animal_set = set(animal_list)\n",
        "print (animal_set) # Removes all extra instances from the list"
      ],
      "execution_count": 92,
      "outputs": [
        {
          "output_type": "stream",
          "text": [
            "{'lizards', 'sponges', 'bats', 'dogs', 'cows', 'cats'}\n"
          ],
          "name": "stdout"
        }
      ]
    },
    {
      "cell_type": "code",
      "metadata": {
        "colab": {
          "base_uri": "https://localhost:8080/"
        },
        "id": "jGHrM7X8hMQH",
        "outputId": "940ab27d-bb14-44db-eb3f-ac0ee0a484bf"
      },
      "source": [
        "lista_numeros = ['Uno', 'Dos', 'Tres', 'Tres', 'Tres', 'Cuatro', 'Cuatro', 'Cinco']\n",
        "conjunto_numeros = set(lista_numeros)\n",
        "print (conjunto_numeros)"
      ],
      "execution_count": 93,
      "outputs": [
        {
          "output_type": "stream",
          "text": [
            "{'Cinco', 'Uno', 'Dos', 'Cuatro', 'Tres'}\n"
          ],
          "name": "stdout"
        }
      ]
    },
    {
      "cell_type": "markdown",
      "metadata": {
        "id": "HBVKuXgB8H67"
      },
      "source": [
        "Calling `len()` on a set will tell you how many elements are in it."
      ]
    },
    {
      "cell_type": "code",
      "metadata": {
        "id": "f91c7QaM8H68",
        "colab": {
          "base_uri": "https://localhost:8080/"
        },
        "outputId": "e1e411a0-9ca0-4c5d-c351-72e3ede99dbd"
      },
      "source": [
        "print (len(animal_set))"
      ],
      "execution_count": 94,
      "outputs": [
        {
          "output_type": "stream",
          "text": [
            "6\n"
          ],
          "name": "stdout"
        }
      ]
    },
    {
      "cell_type": "code",
      "metadata": {
        "colab": {
          "base_uri": "https://localhost:8080/"
        },
        "id": "aqz8PJBYiYDz",
        "outputId": "4b0bd86c-e588-4449-80d7-ba46d716028d"
      },
      "source": [
        "print (len(conjunto_numeros))"
      ],
      "execution_count": 95,
      "outputs": [
        {
          "output_type": "stream",
          "text": [
            "5\n"
          ],
          "name": "stdout"
        }
      ]
    },
    {
      "cell_type": "markdown",
      "metadata": {
        "id": "kKDdxt8r8H6-"
      },
      "source": [
        "Because a `set` is unordered, we can't access individual elements using an index. We can, however, easily check for membership (to see if something is contained in a set) and take the unions and intersections of sets by using the built-in set functions."
      ]
    },
    {
      "cell_type": "code",
      "metadata": {
        "id": "PZ1KK3Ja8H6-",
        "colab": {
          "base_uri": "https://localhost:8080/"
        },
        "outputId": "2d183398-a4b4-42d3-8d48-e2f600f4e20d"
      },
      "source": [
        "'cats' in animal_set # Here we check for membership using the `in` keyword."
      ],
      "execution_count": 96,
      "outputs": [
        {
          "output_type": "execute_result",
          "data": {
            "text/plain": [
              "True"
            ]
          },
          "metadata": {
            "tags": []
          },
          "execution_count": 96
        }
      ]
    },
    {
      "cell_type": "code",
      "metadata": {
        "colab": {
          "base_uri": "https://localhost:8080/"
        },
        "id": "8SGUQWdRir8e",
        "outputId": "a95352fc-bbb6-4118-a19f-1915f2667af7"
      },
      "source": [
        "'Uno' in conjunto_numeros"
      ],
      "execution_count": 97,
      "outputs": [
        {
          "output_type": "execute_result",
          "data": {
            "text/plain": [
              "True"
            ]
          },
          "metadata": {
            "tags": []
          },
          "execution_count": 97
        }
      ]
    },
    {
      "cell_type": "markdown",
      "metadata": {
        "id": "hU06nBXY8H7H"
      },
      "source": [
        "Here we checked to see whether the string 'cats' was contained within our `animal_set` and it returned `True`, telling us that it is indeed in our set.\n",
        "\n",
        "We can connect sets by using typical mathematical set operators, namely `|`, for union, and `&`, for intersection. Using `|` or `&` will return exactly what you would expect if you are familiar with sets in mathematics."
      ]
    },
    {
      "cell_type": "code",
      "metadata": {
        "id": "0UnZLQwQ8H7I",
        "colab": {
          "base_uri": "https://localhost:8080/"
        },
        "outputId": "5ff8d879-18f5-4ee7-ab59-d4e8e1ef20d3"
      },
      "source": [
        "print (animal_set | things_i_like) # You can also write things_i_like | animal_set with no difference"
      ],
      "execution_count": 98,
      "outputs": [
        {
          "output_type": "stream",
          "text": [
            "{'man I just LOVE the number 4', 4, 7, 'lizards', 42, 'bats', 'sponges', 'the number 4', 'dogs', 'cows', 'cats'}\n"
          ],
          "name": "stdout"
        }
      ]
    },
    {
      "cell_type": "code",
      "metadata": {
        "colab": {
          "base_uri": "https://localhost:8080/"
        },
        "id": "RnXmw074jJjR",
        "outputId": "4bbcebdb-7a1f-4d32-e571-a2fa103bccb4"
      },
      "source": [
        "print (conjunto_numeros | conjunto)"
      ],
      "execution_count": 99,
      "outputs": [
        {
          "output_type": "stream",
          "text": [
            "{64, 98, 'Cinco', 'Catorce', 'Uno', 'Hello', 'Dos', 50, 'Cuatro', 'Hola', 'Tres'}\n"
          ],
          "name": "stdout"
        }
      ]
    },
    {
      "cell_type": "markdown",
      "metadata": {
        "id": "bQmxj9Qz8H7I"
      },
      "source": [
        "Pairing two sets together with `|` combines the sets, removing any repetitions to make every set element unique."
      ]
    },
    {
      "cell_type": "code",
      "metadata": {
        "id": "wU09jghK8H7J",
        "colab": {
          "base_uri": "https://localhost:8080/"
        },
        "outputId": "eff89f53-98a9-4603-c133-6348ee0932dd"
      },
      "source": [
        "print (animal_set & things_i_like) # You can also write things_i_like & animal_set with no difference"
      ],
      "execution_count": 100,
      "outputs": [
        {
          "output_type": "stream",
          "text": [
            "{'lizards', 'dogs'}\n"
          ],
          "name": "stdout"
        }
      ]
    },
    {
      "cell_type": "code",
      "metadata": {
        "colab": {
          "base_uri": "https://localhost:8080/"
        },
        "id": "zH-tugOxjpVg",
        "outputId": "edc4894b-649c-481d-d3d5-58c59032cefb"
      },
      "source": [
        "print (conjunto_numeros & conjunto)"
      ],
      "execution_count": 101,
      "outputs": [
        {
          "output_type": "stream",
          "text": [
            "set()\n"
          ],
          "name": "stdout"
        }
      ]
    },
    {
      "cell_type": "markdown",
      "metadata": {
        "id": "VSN32Iwz8H7K"
      },
      "source": [
        "Pairing two sets together with `&` will calculate the intersection of both sets, returning a set that only contains what they have in common.\n",
        "\n",
        "If you are interested in learning more about the built-in functions for sets, feel free to check out the [documentation](https://docs.python.org/2/library/sets.html)."
      ]
    },
    {
      "cell_type": "markdown",
      "metadata": {
        "id": "8EcwQpA28H7K"
      },
      "source": [
        "### Dictionaries\n",
        "\n",
        "Another essential data structure in Python is the dictionary. Dictionaries are defined with a combination of curly braces (`{}`) and colons (`:`). The braces define the beginning and end of a dictionary and the colons indicate key-value pairs. A dictionary is essentially a set of key-value pairs. The key of any entry must be an immutable data type. This makes both strings and tuples candidates. Keys can be both added and deleted.\n",
        "\n",
        "In the following example, we have a dictionary composed of key-value pairs where the key is a genre of fiction (`string`) and the value is a list of books (`list`) within that genre. Since a collection is still considered a single entity, we can use one to collect multiple variables or values into one key-value pair."
      ]
    },
    {
      "cell_type": "code",
      "metadata": {
        "id": "iGTLsM2x8H7L"
      },
      "source": [
        "my_dict = {\"High Fantasy\": [\"Wheel of Time\", \"Lord of the Rings\"], \n",
        "           \"Sci-fi\": [\"Book of the New Sun\", \"Neuromancer\", \"Snow Crash\"],\n",
        "           \"Weird Fiction\": [\"At the Mountains of Madness\", \"The House on the Borderland\"]}"
      ],
      "execution_count": 102,
      "outputs": []
    },
    {
      "cell_type": "code",
      "metadata": {
        "id": "_ajl1tFKkz2s"
      },
      "source": [
        "mi_diccionario = {\"Numeros\": [\"Uno\", \"Dos\", \"Tres\",\"Cuatro\"],\n",
        "                  \"Letras\": [\"A\",\"B\",\"C\",\"S\"],\n",
        "                  \"Animales\": [\"Perro\",\"Gato\",\"Lobo\",\"Tortuga\"]}"
      ],
      "execution_count": 103,
      "outputs": []
    },
    {
      "cell_type": "markdown",
      "metadata": {
        "id": "lCI4EybR8H7M"
      },
      "source": [
        "After defining a dictionary, we can access any individual value by indicating its key in brackets."
      ]
    },
    {
      "cell_type": "code",
      "metadata": {
        "id": "6qgXQDP08H7N",
        "colab": {
          "base_uri": "https://localhost:8080/"
        },
        "outputId": "36ac0e60-011e-4d80-92fa-d09b4a7bdb3d"
      },
      "source": [
        "print (my_dict[\"Sci-fi\"])"
      ],
      "execution_count": 104,
      "outputs": [
        {
          "output_type": "stream",
          "text": [
            "['Book of the New Sun', 'Neuromancer', 'Snow Crash']\n"
          ],
          "name": "stdout"
        }
      ]
    },
    {
      "cell_type": "code",
      "metadata": {
        "colab": {
          "base_uri": "https://localhost:8080/"
        },
        "id": "RFfTJ8-wlZTS",
        "outputId": "2de3f9ed-99a3-422f-8a53-ae6d434e4a78"
      },
      "source": [
        "print (mi_diccionario[\"Animales\"])"
      ],
      "execution_count": 105,
      "outputs": [
        {
          "output_type": "stream",
          "text": [
            "['Perro', 'Gato', 'Lobo', 'Tortuga']\n"
          ],
          "name": "stdout"
        }
      ]
    },
    {
      "cell_type": "markdown",
      "metadata": {
        "id": "khRJIQLM8H7Q"
      },
      "source": [
        "We can also change the value associated with a given key"
      ]
    },
    {
      "cell_type": "code",
      "metadata": {
        "id": "XY4zbt0c8H7W",
        "colab": {
          "base_uri": "https://localhost:8080/"
        },
        "outputId": "efb39802-37aa-4157-8fc4-9de9e0f65f46"
      },
      "source": [
        "my_dict[\"Sci-fi\"] = \"I can't read\"\n",
        "print (my_dict[\"Sci-fi\"])"
      ],
      "execution_count": 106,
      "outputs": [
        {
          "output_type": "stream",
          "text": [
            "I can't read\n"
          ],
          "name": "stdout"
        }
      ]
    },
    {
      "cell_type": "code",
      "metadata": {
        "colab": {
          "base_uri": "https://localhost:8080/"
        },
        "id": "Lr3K5bnZlmCj",
        "outputId": "9815b140-b21d-43cb-f848-ba8fd33dbd9d"
      },
      "source": [
        "mi_diccionario[\"Animales\"] = \"Pato\"\n",
        "print (mi_diccionario[\"Animales\"])"
      ],
      "execution_count": 107,
      "outputs": [
        {
          "output_type": "stream",
          "text": [
            "Pato\n"
          ],
          "name": "stdout"
        }
      ]
    },
    {
      "cell_type": "markdown",
      "metadata": {
        "id": "kusIWcfB8H7W"
      },
      "source": [
        "Adding a new key-value pair is as simple as defining it."
      ]
    },
    {
      "cell_type": "code",
      "metadata": {
        "id": "sNxUpZ4l8H7Z",
        "colab": {
          "base_uri": "https://localhost:8080/"
        },
        "outputId": "b9968e39-1abd-4e66-f2b0-dcd6c6b935c2"
      },
      "source": [
        "my_dict[\"Historical Fiction\"] = [\"Pillars of the Earth\"]\n",
        "print (my_dict[\"Historical Fiction\"])"
      ],
      "execution_count": 108,
      "outputs": [
        {
          "output_type": "stream",
          "text": [
            "['Pillars of the Earth']\n"
          ],
          "name": "stdout"
        }
      ]
    },
    {
      "cell_type": "code",
      "metadata": {
        "colab": {
          "base_uri": "https://localhost:8080/"
        },
        "id": "jogJGxOml-rb",
        "outputId": "9b6dedc9-9ece-4828-fe56-a1dfdcaba105"
      },
      "source": [
        "mi_diccionario[\"Frutas\"] = [\"Uva\", \"Naranja\"]\n",
        "print (mi_diccionario[\"Frutas\"])"
      ],
      "execution_count": 109,
      "outputs": [
        {
          "output_type": "stream",
          "text": [
            "['Uva', 'Naranja']\n"
          ],
          "name": "stdout"
        }
      ]
    },
    {
      "cell_type": "code",
      "metadata": {
        "id": "JZgTFu4q8H7a",
        "colab": {
          "base_uri": "https://localhost:8080/"
        },
        "outputId": "41c72a2c-f8bf-4f32-bd83-8d2700a7ca60"
      },
      "source": [
        "print (my_dict)"
      ],
      "execution_count": 110,
      "outputs": [
        {
          "output_type": "stream",
          "text": [
            "{'High Fantasy': ['Wheel of Time', 'Lord of the Rings'], 'Sci-fi': \"I can't read\", 'Weird Fiction': ['At the Mountains of Madness', 'The House on the Borderland'], 'Historical Fiction': ['Pillars of the Earth']}\n"
          ],
          "name": "stdout"
        }
      ]
    },
    {
      "cell_type": "code",
      "metadata": {
        "colab": {
          "base_uri": "https://localhost:8080/"
        },
        "id": "G3SemQxWmfuj",
        "outputId": "0e4ebb86-07b8-4fc3-801d-57bf1e029f4d"
      },
      "source": [
        "print (mi_diccionario)"
      ],
      "execution_count": 111,
      "outputs": [
        {
          "output_type": "stream",
          "text": [
            "{'Numeros': ['Uno', 'Dos', 'Tres', 'Cuatro'], 'Letras': ['A', 'B', 'C', 'S'], 'Animales': 'Pato', 'Frutas': ['Uva', 'Naranja']}\n"
          ],
          "name": "stdout"
        }
      ]
    },
    {
      "cell_type": "markdown",
      "metadata": {
        "id": "xGxO90G58H7a"
      },
      "source": [
        "## String Shenanigans\n",
        "\n",
        "We already know that strings are generally used for text. We can used built-in operations to combine, split, and format strings easily, depending on our needs.\n",
        "\n",
        "The `+` symbol indicates concatenation in string language. It will combine two strings into a longer string."
      ]
    },
    {
      "cell_type": "code",
      "metadata": {
        "id": "vBXZkdBU8H7b",
        "colab": {
          "base_uri": "https://localhost:8080/"
        },
        "outputId": "84b6c2af-4d2f-4fa7-bc68-10b2b010c0b5"
      },
      "source": [
        "first_string = '\"Beware the Jabberwock, my son! /The jaws that bite, the claws that catch! /'\n",
        "second_string = 'Beware the Jubjub bird, and shun /The frumious Bandersnatch!\"/'\n",
        "third_string = first_string + second_string\n",
        "print (third_string)"
      ],
      "execution_count": 112,
      "outputs": [
        {
          "output_type": "stream",
          "text": [
            "\"Beware the Jabberwock, my son! /The jaws that bite, the claws that catch! /Beware the Jubjub bird, and shun /The frumious Bandersnatch!\"/\n"
          ],
          "name": "stdout"
        }
      ]
    },
    {
      "cell_type": "code",
      "metadata": {
        "colab": {
          "base_uri": "https://localhost:8080/"
        },
        "id": "nDBX-678oYej",
        "outputId": "9354e6bd-588c-4f73-e809-4a38e97afe91"
      },
      "source": [
        "primer_texto = 'Mensaje de '\n",
        "segundo_texto = 'prueba número 1'\n",
        "tercer_texto = primer_texto + segundo_texto\n",
        "print (tercer_texto)"
      ],
      "execution_count": 113,
      "outputs": [
        {
          "output_type": "stream",
          "text": [
            "Mensaje de prueba número 1\n"
          ],
          "name": "stdout"
        }
      ]
    },
    {
      "cell_type": "markdown",
      "metadata": {
        "id": "8PPh0Rg58H7b"
      },
      "source": [
        "Strings are also indexed much in the same way that lists are."
      ]
    },
    {
      "cell_type": "code",
      "metadata": {
        "id": "piKuqXIk8H7c",
        "colab": {
          "base_uri": "https://localhost:8080/"
        },
        "outputId": "c77db139-bcce-4bcb-b5be-87a5cdb1be32"
      },
      "source": [
        "my_string = 'Supercalifragilisticexpialidocious'\n",
        "print ('The first letter is: ', my_string[0]) # Uppercase S\n",
        "print ('The last letter is: ', my_string[-1]) # lowercase s\n",
        "print ('The second to last letter is: ', my_string[-2]) # lowercase u\n",
        "print ('The first five characters are: ', my_string[0:5]) # Remember: slicing doesn't include the final element!\n",
        "print ('Reverse it!: ', my_string[::-1])"
      ],
      "execution_count": 114,
      "outputs": [
        {
          "output_type": "stream",
          "text": [
            "The first letter is:  S\n",
            "The last letter is:  s\n",
            "The second to last letter is:  u\n",
            "The first five characters are:  Super\n",
            "Reverse it!:  suoicodilaipxecitsiligarfilacrepuS\n"
          ],
          "name": "stdout"
        }
      ]
    },
    {
      "cell_type": "code",
      "metadata": {
        "colab": {
          "base_uri": "https://localhost:8080/"
        },
        "id": "BcWMifcRo53W",
        "outputId": "ffb679e4-ec4e-428d-a251-61bd1b9bc50a"
      },
      "source": [
        "mi_texto = 'Esternocleidomastoideo'\n",
        "print ('Primera letra: ', mi_texto[0])\n",
        "print ('Última letra: ', mi_texto[-1])\n",
        "print ('Penúltima letra: ', mi_texto[-2])\n",
        "print ('Los primeros diez carácteres: ', mi_texto[0:10])\n",
        "print ('Texto al revés: ', mi_texto[::-1])"
      ],
      "execution_count": 115,
      "outputs": [
        {
          "output_type": "stream",
          "text": [
            "Primera letra:  E\n",
            "Última letra:  o\n",
            "Penúltima letra:  e\n",
            "Los primeros diez carácteres:  Esternocle\n",
            "Texto al revés:  oediotsamodielconretsE\n"
          ],
          "name": "stdout"
        }
      ]
    },
    {
      "cell_type": "markdown",
      "metadata": {
        "id": "3sCNKXYi8H7c"
      },
      "source": [
        "Built-in objects and classes often have special functions associated with them that are called methods. We access these methods by using a period ('.'). We will cover objects and their associated methods more in another lecture!\n",
        "\n",
        "Using string methods we can count instances of a character or group of characters."
      ]
    },
    {
      "cell_type": "code",
      "metadata": {
        "scrolled": true,
        "id": "5_G0jOHA8H7d",
        "colab": {
          "base_uri": "https://localhost:8080/"
        },
        "outputId": "50450e8e-654c-4156-af8b-7b22d15d793e"
      },
      "source": [
        "print ('Count of the letter i in Supercalifragilisticexpialidocious: ', my_string.count('i'))\n",
        "print ('Count of \"li\" in the same word: ', my_string.count('li'))"
      ],
      "execution_count": 116,
      "outputs": [
        {
          "output_type": "stream",
          "text": [
            "Count of the letter i in Supercalifragilisticexpialidocious:  7\n",
            "Count of \"li\" in the same word:  3\n"
          ],
          "name": "stdout"
        }
      ]
    },
    {
      "cell_type": "code",
      "metadata": {
        "colab": {
          "base_uri": "https://localhost:8080/"
        },
        "id": "jTZQYqsWrYAP",
        "outputId": "7a35aff5-cd0b-429e-fe6e-eec462d79f2c"
      },
      "source": [
        "print ('Número de letras e en Esternocleidomastoideo: ', mi_texto.count('e'))\n",
        "print ('Número de silabas \"te\"  en Esternocleidomastoideo: ', mi_texto.count('te'))"
      ],
      "execution_count": 117,
      "outputs": [
        {
          "output_type": "stream",
          "text": [
            "Número de letras e en Esternocleidomastoideo:  3\n",
            "Número de silabas \"te\"  en Esternocleidomastoideo:  1\n"
          ],
          "name": "stdout"
        }
      ]
    },
    {
      "cell_type": "markdown",
      "metadata": {
        "id": "mgH6Cvsu8H7d"
      },
      "source": [
        "We can also find the first instance of a character or group of characters in a string."
      ]
    },
    {
      "cell_type": "code",
      "metadata": {
        "id": "kXqrMUtm8H7e",
        "colab": {
          "base_uri": "https://localhost:8080/"
        },
        "outputId": "30a4f5f0-4555-426c-e377-cb6a391d8f77"
      },
      "source": [
        "print ('The first time i appears is at index: ', my_string.find('i'))"
      ],
      "execution_count": 118,
      "outputs": [
        {
          "output_type": "stream",
          "text": [
            "The first time i appears is at index:  8\n"
          ],
          "name": "stdout"
        }
      ]
    },
    {
      "cell_type": "code",
      "metadata": {
        "colab": {
          "base_uri": "https://localhost:8080/"
        },
        "id": "aHD6OQhHsK6M",
        "outputId": "5a9888af-0d06-4b0e-a148-fde8a637da2c"
      },
      "source": [
        "print ('La primera vez que aparece la letra \"d\": ', mi_texto.find('d'))"
      ],
      "execution_count": 119,
      "outputs": [
        {
          "output_type": "stream",
          "text": [
            "La primera vez que aparece la letra \"d\":  11\n"
          ],
          "name": "stdout"
        }
      ]
    },
    {
      "cell_type": "markdown",
      "metadata": {
        "id": "EspeJrrk8H7g"
      },
      "source": [
        "As well as replace characters in a string."
      ]
    },
    {
      "cell_type": "code",
      "metadata": {
        "id": "a3NdVUW18H7h",
        "colab": {
          "base_uri": "https://localhost:8080/"
        },
        "outputId": "624181f0-0bae-4080-d10b-ca79b44ebfa7"
      },
      "source": [
        "print (\"All i's are now a's: \", my_string.replace('i', 'a'))"
      ],
      "execution_count": 120,
      "outputs": [
        {
          "output_type": "stream",
          "text": [
            "All i's are now a's:  Supercalafragalastacexpaaladocaous\n"
          ],
          "name": "stdout"
        }
      ]
    },
    {
      "cell_type": "code",
      "metadata": {
        "colab": {
          "base_uri": "https://localhost:8080/"
        },
        "id": "TQpablvqsozk",
        "outputId": "38a3f512-8133-4159-882c-e62fdf6bfd80"
      },
      "source": [
        "print ('Cambiar la letra \"e\" por \"x\" ', mi_texto.replace('e', 'x'))"
      ],
      "execution_count": 121,
      "outputs": [
        {
          "output_type": "stream",
          "text": [
            "Cambiar la letra \"e\" por \"x\"  Estxrnoclxidomastoidxo\n"
          ],
          "name": "stdout"
        }
      ]
    },
    {
      "cell_type": "code",
      "metadata": {
        "id": "4CR0REAm8H7i",
        "colab": {
          "base_uri": "https://localhost:8080/"
        },
        "outputId": "206b4af8-26a0-45e2-9d5c-948ed29d1953"
      },
      "source": [
        "print (\"It's raining cats and dogs\".replace('dogs', 'more cats'))"
      ],
      "execution_count": 122,
      "outputs": [
        {
          "output_type": "stream",
          "text": [
            "It's raining cats and more cats\n"
          ],
          "name": "stdout"
        }
      ]
    },
    {
      "cell_type": "code",
      "metadata": {
        "colab": {
          "base_uri": "https://localhost:8080/"
        },
        "id": "6dD5lXwftH5O",
        "outputId": "e3bf4ec0-3cca-4812-92bd-dca44672ca86"
      },
      "source": [
        "print (\"Mensaje de prueba uno y dos\".replace('dos', 'tres'))"
      ],
      "execution_count": 123,
      "outputs": [
        {
          "output_type": "stream",
          "text": [
            "Mensaje de prueba uno y tres\n"
          ],
          "name": "stdout"
        }
      ]
    },
    {
      "cell_type": "markdown",
      "metadata": {
        "id": "mG1BpRtB8H7i"
      },
      "source": [
        "There are also some methods that are unique to strings. The function `upper()` will convert all characters in a string to uppercase, while `lower()` will convert all characters in a string to lowercase!"
      ]
    },
    {
      "cell_type": "code",
      "metadata": {
        "id": "4NLO2QAY8H7j",
        "colab": {
          "base_uri": "https://localhost:8080/"
        },
        "outputId": "4f13bd3d-57f2-476b-9a1a-8c050869835c"
      },
      "source": [
        "my_string = \"I can't hear you\"\n",
        "print (my_string.upper())\n",
        "my_string = \"I said HELLO\"\n",
        "print (my_string.lower())"
      ],
      "execution_count": 124,
      "outputs": [
        {
          "output_type": "stream",
          "text": [
            "I CAN'T HEAR YOU\n",
            "i said hello\n"
          ],
          "name": "stdout"
        }
      ]
    },
    {
      "cell_type": "code",
      "metadata": {
        "colab": {
          "base_uri": "https://localhost:8080/"
        },
        "id": "MLhQkkpDzhkY",
        "outputId": "3cefdff3-82ec-4165-c61f-55e781aa482a"
      },
      "source": [
        "mi_texto = \"mensaje de prueba\"\n",
        "print (mi_texto.upper())\n",
        "mi_texto = \"MENSAJE DE PRUEBA\"\n",
        "print (mi_texto.lower())"
      ],
      "execution_count": 125,
      "outputs": [
        {
          "output_type": "stream",
          "text": [
            "MENSAJE DE PRUEBA\n",
            "mensaje de prueba\n"
          ],
          "name": "stdout"
        }
      ]
    },
    {
      "cell_type": "markdown",
      "metadata": {
        "id": "O_QGKsf28H7k"
      },
      "source": [
        "### String Formatting\n",
        "\n",
        "Using the `format()` method we can add in variable values and generally format our strings."
      ]
    },
    {
      "cell_type": "code",
      "metadata": {
        "id": "e5Pg7R528H7k",
        "colab": {
          "base_uri": "https://localhost:8080/"
        },
        "outputId": "5d77836d-29b8-4bf0-b911-0438f0e29606"
      },
      "source": [
        "my_string = \"{0} {1}\".format('Marco', 'Polo')\n",
        "print (my_string)"
      ],
      "execution_count": 126,
      "outputs": [
        {
          "output_type": "stream",
          "text": [
            "Marco Polo\n"
          ],
          "name": "stdout"
        }
      ]
    },
    {
      "cell_type": "code",
      "metadata": {
        "colab": {
          "base_uri": "https://localhost:8080/"
        },
        "id": "n5MX7M_P0NCh",
        "outputId": "d736f68e-baeb-4d94-b16f-5b69a0e200be"
      },
      "source": [
        "mi_texto =\"{0} {1} {2}\".format('Mensaje', 'de', 'prueba')\n",
        "print (mi_texto)"
      ],
      "execution_count": 127,
      "outputs": [
        {
          "output_type": "stream",
          "text": [
            "Mensaje de prueba\n"
          ],
          "name": "stdout"
        }
      ]
    },
    {
      "cell_type": "code",
      "metadata": {
        "id": "MrmZ_BwB8H7l",
        "colab": {
          "base_uri": "https://localhost:8080/"
        },
        "outputId": "65880989-3e93-4d33-9030-9e389b304b3d"
      },
      "source": [
        "my_string = \"{1} {0}\".format('Marco', 'Polo')\n",
        "print (my_string)"
      ],
      "execution_count": 128,
      "outputs": [
        {
          "output_type": "stream",
          "text": [
            "Polo Marco\n"
          ],
          "name": "stdout"
        }
      ]
    },
    {
      "cell_type": "code",
      "metadata": {
        "colab": {
          "base_uri": "https://localhost:8080/"
        },
        "id": "fDHhIguC0lKq",
        "outputId": "67f6b4cd-726d-4378-e7d6-538ed6eceae1"
      },
      "source": [
        "mi_texto =\"{2} {0} {1}\".format('Mensaje', 'de', 'prueba')\n",
        "print (mi_texto)"
      ],
      "execution_count": 129,
      "outputs": [
        {
          "output_type": "stream",
          "text": [
            "prueba Mensaje de\n"
          ],
          "name": "stdout"
        }
      ]
    },
    {
      "cell_type": "markdown",
      "metadata": {
        "id": "HB4aFm1_8H7l"
      },
      "source": [
        "We use braces (`{}`) to indicate parts of the string that will be filled in later and we use the arguments of the `format()` function to provide the values to substitute. The numbers within the braces indicate the index of the value in the `format()` arguments."
      ]
    },
    {
      "cell_type": "markdown",
      "metadata": {
        "id": "14tWRdfu8H7m"
      },
      "source": [
        "See the `format()` [documentation](https://docs.python.org/2/library/string.html#format-examples) for additional examples."
      ]
    },
    {
      "cell_type": "markdown",
      "metadata": {
        "id": "ipsXmgJI8H7n"
      },
      "source": [
        "If you need some quick and dirty formatting, you can instead use the `%` symbol, called the string formatting operator. "
      ]
    },
    {
      "cell_type": "code",
      "metadata": {
        "id": "FHi9tphq8H7n",
        "colab": {
          "base_uri": "https://localhost:8080/"
        },
        "outputId": "0e821313-344c-4f98-c9eb-3266795e7c59"
      },
      "source": [
        "print ('insert %s here' % 'value')"
      ],
      "execution_count": 130,
      "outputs": [
        {
          "output_type": "stream",
          "text": [
            "insert value here\n"
          ],
          "name": "stdout"
        }
      ]
    },
    {
      "cell_type": "code",
      "metadata": {
        "colab": {
          "base_uri": "https://localhost:8080/"
        },
        "id": "3C8aY47X1NM4",
        "outputId": "eebc3901-1520-4220-a8d3-596eb37c6283"
      },
      "source": [
        "print ('Agregue %s campos' % 'tres')"
      ],
      "execution_count": 131,
      "outputs": [
        {
          "output_type": "stream",
          "text": [
            "Agregue tres campos\n"
          ],
          "name": "stdout"
        }
      ]
    },
    {
      "cell_type": "markdown",
      "metadata": {
        "id": "gBBCqoPZ8H7o"
      },
      "source": [
        "The `%` symbol basically cues Python to create a placeholder. Whatever character follows the `%` (in the string) indicates what sort of type the value put into the placeholder will have. This character is called a *conversion type*. Once the string has been closed, we need another `%` that will be followed by the values to insert. In the case of one value, you can just put it there. If you are inserting more than one value, they must be enclosed in a tuple."
      ]
    },
    {
      "cell_type": "code",
      "metadata": {
        "id": "n4vnzCRm8H7o",
        "colab": {
          "base_uri": "https://localhost:8080/"
        },
        "outputId": "3e990957-a499-4be6-ba7c-d2d75ad99219"
      },
      "source": [
        "print ('There are %s cats in my %s' % (13, 'apartment'))"
      ],
      "execution_count": 132,
      "outputs": [
        {
          "output_type": "stream",
          "text": [
            "There are 13 cats in my apartment\n"
          ],
          "name": "stdout"
        }
      ]
    },
    {
      "cell_type": "code",
      "metadata": {
        "colab": {
          "base_uri": "https://localhost:8080/"
        },
        "id": "PniJyBoo1k2s",
        "outputId": "0447f9a9-c51b-4946-f673-c3de886887a5"
      },
      "source": [
        "print ('En el barrio hay 100 %s y %s parqueaderos' % ('casas', 80))"
      ],
      "execution_count": 133,
      "outputs": [
        {
          "output_type": "stream",
          "text": [
            "En el barrio hay 100 casas y 80 parqueaderos\n"
          ],
          "name": "stdout"
        }
      ]
    },
    {
      "cell_type": "markdown",
      "metadata": {
        "id": "W6nu-REC8H7p"
      },
      "source": [
        "In these examples, the `%s` indicates that Python should convert the values into strings. There are multiple conversion types that you can use to get more specific with the the formatting. See the string formatting [documentation](https://docs.python.org/2/library/stdtypes.html#string-formatting) for additional examples and more complete details on use."
      ]
    },
    {
      "cell_type": "markdown",
      "metadata": {
        "id": "mmrSt8MT8H7p"
      },
      "source": [
        "## Logical Operators\n",
        "### Basic Logic\n",
        "\n",
        "Logical operators deal with `boolean` values, as we briefly covered before. If you recall, a `bool` takes on one of two values, `True` or `False` (or $1$ or $0$). The basic logical statements that we can make are defined using the built-in comparators. These are `==` (equal), `!=` (not equal), `<` (less than), `>` (greater than), `<=` (less than or equal to), and `>=` (greater than or equal to)."
      ]
    },
    {
      "cell_type": "code",
      "metadata": {
        "id": "v4D-M1Ct8H7q",
        "colab": {
          "base_uri": "https://localhost:8080/"
        },
        "outputId": "8a55307e-8178-48ba-b3ae-4e82cbef6b30"
      },
      "source": [
        "print (5 == 5)"
      ],
      "execution_count": 134,
      "outputs": [
        {
          "output_type": "stream",
          "text": [
            "True\n"
          ],
          "name": "stdout"
        }
      ]
    },
    {
      "cell_type": "code",
      "metadata": {
        "colab": {
          "base_uri": "https://localhost:8080/"
        },
        "id": "wdhS4USx2XzS",
        "outputId": "3c49ba3f-1f08-44a5-dd8d-71d063e14fe0"
      },
      "source": [
        "print (16 == 16)"
      ],
      "execution_count": 135,
      "outputs": [
        {
          "output_type": "stream",
          "text": [
            "True\n"
          ],
          "name": "stdout"
        }
      ]
    },
    {
      "cell_type": "code",
      "metadata": {
        "id": "9unqzVtw8H7q",
        "colab": {
          "base_uri": "https://localhost:8080/"
        },
        "outputId": "0bdfe3c3-a3ab-4265-8974-7b7dabf2cfab"
      },
      "source": [
        "print (5 > 5)"
      ],
      "execution_count": 136,
      "outputs": [
        {
          "output_type": "stream",
          "text": [
            "False\n"
          ],
          "name": "stdout"
        }
      ]
    },
    {
      "cell_type": "code",
      "metadata": {
        "colab": {
          "base_uri": "https://localhost:8080/"
        },
        "id": "KLPK6u-W2dTy",
        "outputId": "566285b3-5528-44f2-811e-62a826ad38c0"
      },
      "source": [
        "print (10 > 23)"
      ],
      "execution_count": 137,
      "outputs": [
        {
          "output_type": "stream",
          "text": [
            "False\n"
          ],
          "name": "stdout"
        }
      ]
    },
    {
      "cell_type": "markdown",
      "metadata": {
        "id": "4ZruusDY8H7r"
      },
      "source": [
        "These comparators also work in conjunction with variables."
      ]
    },
    {
      "cell_type": "code",
      "metadata": {
        "id": "8ERHkYPf8H7s",
        "colab": {
          "base_uri": "https://localhost:8080/"
        },
        "outputId": "daf25c86-7225-4f4f-a3c9-5302b453e375"
      },
      "source": [
        "m = 2\n",
        "n = 23\n",
        "print (m < n)"
      ],
      "execution_count": 138,
      "outputs": [
        {
          "output_type": "stream",
          "text": [
            "True\n"
          ],
          "name": "stdout"
        }
      ]
    },
    {
      "cell_type": "code",
      "metadata": {
        "colab": {
          "base_uri": "https://localhost:8080/"
        },
        "id": "X4ddAlVi2nns",
        "outputId": "ef672358-f8ff-4800-f544-ca0fedeba10f"
      },
      "source": [
        "x = 25\n",
        "y = 14\n",
        "print (x < y)"
      ],
      "execution_count": 139,
      "outputs": [
        {
          "output_type": "stream",
          "text": [
            "False\n"
          ],
          "name": "stdout"
        }
      ]
    },
    {
      "cell_type": "markdown",
      "metadata": {
        "id": "oqFMUxiL8H7s"
      },
      "source": [
        "We can string these comparators together to make more complex logical statements using the logical operators `or`, `and`, and `not`. "
      ]
    },
    {
      "cell_type": "code",
      "metadata": {
        "id": "M4rVXmF28H7t",
        "colab": {
          "base_uri": "https://localhost:8080/"
        },
        "outputId": "3584322f-35e8-45fb-e7e1-863afec3c3ae"
      },
      "source": [
        "statement_1 = 10 > 2\n",
        "statement_2 = 4 <= 6\n",
        "print (\"Statement 1 truth value: {0}\".format(statement_1))\n",
        "print (\"Statement 2 truth value: {0}\".format(statement_2))\n",
        "print (\"Statement 1 and Statement 2: {0}\".format(statement_1 and statement_2))"
      ],
      "execution_count": 140,
      "outputs": [
        {
          "output_type": "stream",
          "text": [
            "Statement 1 truth value: True\n",
            "Statement 2 truth value: True\n",
            "Statement 1 and Statement 2: True\n"
          ],
          "name": "stdout"
        }
      ]
    },
    {
      "cell_type": "code",
      "metadata": {
        "colab": {
          "base_uri": "https://localhost:8080/"
        },
        "id": "v0M3jiEB3VJX",
        "outputId": "dd3a71c5-ac2c-41de-cce4-858dc6de5bad"
      },
      "source": [
        "prop_1 = 58 > 13\n",
        "prop_2 = 14 == 15\n",
        "print (\"Proposición uno es: {0}\".format(prop_1))\n",
        "print (\"Proposición dos es: {0}\".format(prop_2))\n",
        "print (\"Porposición uno y proposición dos: {0}\".format(prop_1 and prop_2))"
      ],
      "execution_count": 141,
      "outputs": [
        {
          "output_type": "stream",
          "text": [
            "Proposición uno es: True\n",
            "Proposición dos es: False\n",
            "Porposición uno y proposición dos: False\n"
          ],
          "name": "stdout"
        }
      ]
    },
    {
      "cell_type": "markdown",
      "metadata": {
        "id": "-RHY3t7V8H7u"
      },
      "source": [
        "The `or` operator performs a logical `or` calculation. This is an inclusive `or`, so if either component paired together by `or` is `True`, the whole statement will be `True`. The `and` statement only outputs `True` if all components that are `and`ed together are True. Otherwise it will output `False`. The `not` statement simply inverts the truth value of whichever statement follows it. So a `True` statement will be evaluated as `False` when a `not` is placed in front of it. Similarly, a `False` statement will become `True` when a `not` is in front of it.\n",
        "\n",
        "Say that we have two logical statements, or assertions, $P$ and $Q$. The truth table for the basic logical operators is as follows:\n",
        "\n",
        "|  P  |  Q  | `not` P| P `and` Q | P `or` Q|\n",
        "|:-----:|:-----:|:---:|:---:|:---:|\n",
        "| `True` | `True` | `False` | `True` | `True` |\n",
        "| `False` | `True` | `True` | `False` | `True` |\n",
        "| `True` | `False` | `False` | `False` | `True` |\n",
        "| `False` | `False` | `True` | `False` | `False` |\n",
        "\n",
        "We can string multiple logical statements together using the logical operators."
      ]
    },
    {
      "cell_type": "code",
      "metadata": {
        "id": "NJjjZ5PR8H7u",
        "colab": {
          "base_uri": "https://localhost:8080/"
        },
        "outputId": "4b55542f-c32a-4ccd-944b-de49be2ce31d"
      },
      "source": [
        "print (((2 < 3) and (3 > 0)) or ((5 > 6) and not (4 < 2)))"
      ],
      "execution_count": 142,
      "outputs": [
        {
          "output_type": "stream",
          "text": [
            "True\n"
          ],
          "name": "stdout"
        }
      ]
    },
    {
      "cell_type": "code",
      "metadata": {
        "colab": {
          "base_uri": "https://localhost:8080/"
        },
        "id": "TuCw2tTF5AL3",
        "outputId": "612eb0f7-b38f-4d57-9e6f-a6fb70d93b90"
      },
      "source": [
        "print ((5 < 2) or (6 < 4) or (10 > 5))"
      ],
      "execution_count": 143,
      "outputs": [
        {
          "output_type": "stream",
          "text": [
            "True\n"
          ],
          "name": "stdout"
        }
      ]
    },
    {
      "cell_type": "markdown",
      "metadata": {
        "id": "N3zPkoAD8H7v"
      },
      "source": [
        "Logical statements can be as simple or complex as we like, depending on what we need to express. Evaluating the above logical statement step by step we see that we are evaluating (`True and True`) `or` (`False and not False`). This becomes `True or (False and True`), subsequently becoming `True or False`, ultimately being evaluated as `True`."
      ]
    },
    {
      "cell_type": "markdown",
      "metadata": {
        "id": "JDpveF8n8H7v"
      },
      "source": [
        "#### Truthiness\n",
        "\n",
        "Data types in Python have a fun characteristic called truthiness. What this means is that most built-in types will evaluate as either `True` or `False` when a boolean value is needed (such as with an if-statement). As a general rule, containers like strings, tuples, dictionaries, lists, and sets, will return `True` if they contain anything at all and `False` if they contain nothing."
      ]
    },
    {
      "cell_type": "code",
      "metadata": {
        "id": "1bXc6LPK8H7w",
        "colab": {
          "base_uri": "https://localhost:8080/"
        },
        "outputId": "882c6d18-d455-472c-ac31-f3f924e64f9c"
      },
      "source": [
        "# Similar to how float() and int() work, bool() forces a value to be considered a boolean!\n",
        "print (bool(''))"
      ],
      "execution_count": 144,
      "outputs": [
        {
          "output_type": "stream",
          "text": [
            "False\n"
          ],
          "name": "stdout"
        }
      ]
    },
    {
      "cell_type": "code",
      "metadata": {
        "colab": {
          "base_uri": "https://localhost:8080/"
        },
        "id": "inX5dRBk5n6T",
        "outputId": "23e3250f-40a9-4092-8c2a-39f1c27982e0"
      },
      "source": [
        "print (bool(''))"
      ],
      "execution_count": 145,
      "outputs": [
        {
          "output_type": "stream",
          "text": [
            "False\n"
          ],
          "name": "stdout"
        }
      ]
    },
    {
      "cell_type": "code",
      "metadata": {
        "id": "AxWRC2nJ8H71",
        "colab": {
          "base_uri": "https://localhost:8080/"
        },
        "outputId": "b893955f-ec83-4bfc-c036-0287301e0a37"
      },
      "source": [
        "print (bool('I have character!'))"
      ],
      "execution_count": 146,
      "outputs": [
        {
          "output_type": "stream",
          "text": [
            "True\n"
          ],
          "name": "stdout"
        }
      ]
    },
    {
      "cell_type": "code",
      "metadata": {
        "colab": {
          "base_uri": "https://localhost:8080/"
        },
        "id": "xiPqecrh5v9J",
        "outputId": "44d08a27-13dd-4cec-91f4-12f39e02eef0"
      },
      "source": [
        "print (bool('SI'))"
      ],
      "execution_count": 147,
      "outputs": [
        {
          "output_type": "stream",
          "text": [
            "True\n"
          ],
          "name": "stdout"
        }
      ]
    },
    {
      "cell_type": "code",
      "metadata": {
        "id": "einJBbxJ8H71",
        "colab": {
          "base_uri": "https://localhost:8080/"
        },
        "outputId": "0ba0a4cf-1f73-4616-9727-6cd53ece9a82"
      },
      "source": [
        "print (bool([]))"
      ],
      "execution_count": 148,
      "outputs": [
        {
          "output_type": "stream",
          "text": [
            "False\n"
          ],
          "name": "stdout"
        }
      ]
    },
    {
      "cell_type": "code",
      "metadata": {
        "colab": {
          "base_uri": "https://localhost:8080/"
        },
        "id": "oZl2WEZG52Wi",
        "outputId": "f2ca41c4-e4df-4d48-8651-268c80a06843"
      },
      "source": [
        "print (bool([]))"
      ],
      "execution_count": 149,
      "outputs": [
        {
          "output_type": "stream",
          "text": [
            "False\n"
          ],
          "name": "stdout"
        }
      ]
    },
    {
      "cell_type": "code",
      "metadata": {
        "id": "hV5bPIVT8H72",
        "colab": {
          "base_uri": "https://localhost:8080/"
        },
        "outputId": "f629dea9-9db3-4040-bae5-f9dda6c0e33e"
      },
      "source": [
        "print (bool([1, 2, 3]))"
      ],
      "execution_count": 150,
      "outputs": [
        {
          "output_type": "stream",
          "text": [
            "True\n"
          ],
          "name": "stdout"
        }
      ]
    },
    {
      "cell_type": "code",
      "metadata": {
        "colab": {
          "base_uri": "https://localhost:8080/"
        },
        "id": "C8ACA7cp57Ka",
        "outputId": "c4ace9af-3042-4351-b8be-111a42e7fe63"
      },
      "source": [
        "print (bool(['SI', 'NO']))"
      ],
      "execution_count": 151,
      "outputs": [
        {
          "output_type": "stream",
          "text": [
            "True\n"
          ],
          "name": "stdout"
        }
      ]
    },
    {
      "cell_type": "markdown",
      "metadata": {
        "id": "iOBawj4H8H73"
      },
      "source": [
        "And so on, for the other collections and containers. `None` also evaluates as `False`. The number `1` is equivalent to `True` and the number `0` is equivalent to `False` as well, in a boolean context."
      ]
    },
    {
      "cell_type": "markdown",
      "metadata": {
        "id": "aaeOS6Sl8H73"
      },
      "source": [
        "### If-statements\n",
        "\n",
        "We can create segments of code that only execute if a set of conditions is met. We use if-statements in conjunction with logical statements in order to create branches in our code. \n",
        "\n",
        "An `if` block gets entered when the condition is considered to be `True`. If condition is evaluated as `False`, the `if` block will simply be skipped unless there is an `else` block to accompany it. Conditions are made using either logical operators or by using the truthiness of values in Python. An if-statement is defined with a colon and a block of indented text."
      ]
    },
    {
      "cell_type": "code",
      "metadata": {
        "id": "8nKpzN9q8H77",
        "colab": {
          "base_uri": "https://localhost:8080/"
        },
        "outputId": "1d296490-af4e-4b06-c4e3-93844a29fbdf"
      },
      "source": [
        "# This is the basic format of an if statement. This is a vacuous example. \n",
        "# The string \"Condition\" will always evaluated as True because it is a\n",
        "# non-empty string. he purpose of this code is to show the formatting of\n",
        "# an if-statement.\n",
        "if \"Condition\": \n",
        "    # This block of code will execute because the string is non-empty\n",
        "    # Everything on these indented lines\n",
        "    print (True)\n",
        "else:\n",
        "    # So if the condition that we examined with if is in fact False\n",
        "    # This block of code will execute INSTEAD of the first block of code\n",
        "    # Everything on these indented lines\n",
        "    print (False)\n",
        "# The else block here will never execute because \"Condition\" is a non-empty string."
      ],
      "execution_count": 152,
      "outputs": [
        {
          "output_type": "stream",
          "text": [
            "True\n"
          ],
          "name": "stdout"
        }
      ]
    },
    {
      "cell_type": "code",
      "metadata": {
        "colab": {
          "base_uri": "https://localhost:8080/"
        },
        "id": "kjLEZegI6aLQ",
        "outputId": "cc965fb0-671c-4f41-c3d5-b0be1ea25927"
      },
      "source": [
        "if \"\":\n",
        "  print (True)\n",
        "else:\n",
        "  print (False)"
      ],
      "execution_count": 153,
      "outputs": [
        {
          "output_type": "stream",
          "text": [
            "False\n"
          ],
          "name": "stdout"
        }
      ]
    },
    {
      "cell_type": "code",
      "metadata": {
        "id": "6zWJzzZx8H77"
      },
      "source": [
        "i = 4\n",
        "if i == 5:\n",
        "    print ('The variable i has a value of 5')"
      ],
      "execution_count": 154,
      "outputs": []
    },
    {
      "cell_type": "markdown",
      "metadata": {
        "id": "9UGVzeML8H79"
      },
      "source": [
        "Because in this example `i = 4` and the if-statement is only looking for whether `i` is equal to `5`, the print statement will never be executed. We can add in an `else` statement to create a contingency block of code in case the condition in the if-statement is not evaluated as `True`."
      ]
    },
    {
      "cell_type": "code",
      "metadata": {
        "id": "juYuQN2d6tPd"
      },
      "source": [
        "x = 5\n",
        "if x <= 3:\n",
        "  print ('x es igual o menor a 3')"
      ],
      "execution_count": 155,
      "outputs": []
    },
    {
      "cell_type": "code",
      "metadata": {
        "id": "pg31C-L28H79",
        "colab": {
          "base_uri": "https://localhost:8080/"
        },
        "outputId": "2e709d14-8326-4a5c-ba16-d275d37a4b0f"
      },
      "source": [
        "i = 4\n",
        "if i == 5:\n",
        "    print (\"All lines in this indented block are part of this block\")\n",
        "    print ('The variable i has a value of 5')\n",
        "else:\n",
        "    print (\"All lines in this indented block are part of this block\")\n",
        "    print ('The variable i is not equal to 5')"
      ],
      "execution_count": 156,
      "outputs": [
        {
          "output_type": "stream",
          "text": [
            "All lines in this indented block are part of this block\n",
            "The variable i is not equal to 5\n"
          ],
          "name": "stdout"
        }
      ]
    },
    {
      "cell_type": "code",
      "metadata": {
        "colab": {
          "base_uri": "https://localhost:8080/"
        },
        "id": "yA8MlAfI7PZj",
        "outputId": "2aaac746-4a23-450c-e7af-ff8d839d6092"
      },
      "source": [
        "x = 5\n",
        "if x <= 3:\n",
        "  print (\"La variable x es menor o igual a 3\")\n",
        "else:\n",
        "  print (\"La variable x es mayor a 3\")"
      ],
      "execution_count": 157,
      "outputs": [
        {
          "output_type": "stream",
          "text": [
            "La variable x es mayor a 3\n"
          ],
          "name": "stdout"
        }
      ]
    },
    {
      "cell_type": "markdown",
      "metadata": {
        "id": "K-cyIQvX8H7-"
      },
      "source": [
        "We can implement other branches off of the same if-statement by using `elif`, an abbreviation of \"else if\". We can include as many `elifs` as we like until we have exhausted all the logical branches of a condition."
      ]
    },
    {
      "cell_type": "code",
      "metadata": {
        "id": "qaIP76r28H7_",
        "colab": {
          "base_uri": "https://localhost:8080/"
        },
        "outputId": "798cb7c3-f6cf-4b4b-ebdf-955d5d39a996"
      },
      "source": [
        "i = 1\n",
        "if i == 1:\n",
        "    print ('The variable i has a value of 1')\n",
        "elif i == 2:\n",
        "    print ('The variable i has a value of 2')\n",
        "elif i == 3:\n",
        "    print ('The variable i has a value of 3')\n",
        "else:\n",
        "    print (\"I don't care what i is\")"
      ],
      "execution_count": 158,
      "outputs": [
        {
          "output_type": "stream",
          "text": [
            "The variable i has a value of 1\n"
          ],
          "name": "stdout"
        }
      ]
    },
    {
      "cell_type": "code",
      "metadata": {
        "colab": {
          "base_uri": "https://localhost:8080/"
        },
        "id": "BGf-fJ0gUpCE",
        "outputId": "b4f9585d-1abc-4d09-c574-7d5928f01057"
      },
      "source": [
        "x = 2\n",
        "if x == 0:\n",
        "  print ('La variable x es igual a 0')\n",
        "elif x == 1:\n",
        "  print ('La variable x es igual a 1')\n",
        "elif x == 2:\n",
        "  print ('La variable x es igual a 2')\n",
        "else:\n",
        "  print ('La variable x es diferente a 0, 1, 2 y 3')"
      ],
      "execution_count": 159,
      "outputs": [
        {
          "output_type": "stream",
          "text": [
            "La variable x es igual a 2\n"
          ],
          "name": "stdout"
        }
      ]
    },
    {
      "cell_type": "markdown",
      "metadata": {
        "id": "Ekk7J4hH8H8A"
      },
      "source": [
        "You can also nest if-statements within if-statements to check for further conditions."
      ]
    },
    {
      "cell_type": "code",
      "metadata": {
        "id": "PY5jMNvf8H8B",
        "colab": {
          "base_uri": "https://localhost:8080/"
        },
        "outputId": "35e43836-9894-4c88-f301-f73994fce9c6"
      },
      "source": [
        "i = 10\n",
        "if i % 2 == 0:\n",
        "    if i % 3 == 0:\n",
        "        print ('i is divisible by both 2 and 3! Wow!')\n",
        "    elif i % 5 == 0:\n",
        "        print ('i is divisible by both 2 and 5! Wow!')\n",
        "    else:\n",
        "        print ('i is divisible by 2, but not 3 or 5. Meh.')\n",
        "else:\n",
        "    print ('I guess that i is an odd number. Boring.')"
      ],
      "execution_count": 160,
      "outputs": [
        {
          "output_type": "stream",
          "text": [
            "i is divisible by both 2 and 5! Wow!\n"
          ],
          "name": "stdout"
        }
      ]
    },
    {
      "cell_type": "code",
      "metadata": {
        "colab": {
          "base_uri": "https://localhost:8080/"
        },
        "id": "9is0O7mGVXx4",
        "outputId": "0298e7bc-3102-44ae-ee93-1ec2eac2303e"
      },
      "source": [
        "x = 30\n",
        "if x % 5 == 0:\n",
        "  if x % 2 == 0:\n",
        "    print ('La variable x es divisible por 2 y por 5')\n",
        "  elif x % 4 == 0:\n",
        "    print ('La variable x es divisible por 2 y por 4')\n",
        "  else:\n",
        "    print ('La variable x es divisible por 5, pero no por 2 y 4') \n",
        "else:\n",
        "  print ('La variable x no es divisible por 2, 5 o 4')"
      ],
      "execution_count": 161,
      "outputs": [
        {
          "output_type": "stream",
          "text": [
            "La variable x es divisible por 2 y por 5\n"
          ],
          "name": "stdout"
        }
      ]
    },
    {
      "cell_type": "markdown",
      "metadata": {
        "id": "y6cfULiU8H8C"
      },
      "source": [
        "Remember that we can group multiple conditions together by using the logical operators!"
      ]
    },
    {
      "cell_type": "code",
      "metadata": {
        "id": "XHB2tjbF8H8C",
        "colab": {
          "base_uri": "https://localhost:8080/"
        },
        "outputId": "dd33225f-5e42-45c3-e3fb-fdadc65c66ff"
      },
      "source": [
        "i = 5\n",
        "j = 12\n",
        "if i < 10 and j > 11:\n",
        "    print ('{0} is less than 10 and {1} is greater than 11! How novel and interesting!'.format(i, j))"
      ],
      "execution_count": 162,
      "outputs": [
        {
          "output_type": "stream",
          "text": [
            "5 is less than 10 and 12 is greater than 11! How novel and interesting!\n"
          ],
          "name": "stdout"
        }
      ]
    },
    {
      "cell_type": "code",
      "metadata": {
        "colab": {
          "base_uri": "https://localhost:8080/"
        },
        "id": "DoM29vWTWlPg",
        "outputId": "661cc024-29e0-437d-810a-6712d8bdc0e0"
      },
      "source": [
        "x = 3\n",
        "y = 6\n",
        "if x < y and y<10:\n",
        "  print ('{0} es menor que {1} y {1} es menor que 10'.format(x, y))"
      ],
      "execution_count": 163,
      "outputs": [
        {
          "output_type": "stream",
          "text": [
            "3 es menor que 6 y 6 es menor que 10\n"
          ],
          "name": "stdout"
        }
      ]
    },
    {
      "cell_type": "markdown",
      "metadata": {
        "id": "o0dBEkCf8H8D"
      },
      "source": [
        "You can use the logical comparators to compare strings!"
      ]
    },
    {
      "cell_type": "code",
      "metadata": {
        "id": "i4FNjA988H8E",
        "colab": {
          "base_uri": "https://localhost:8080/"
        },
        "outputId": "152c81c0-6b6f-4a95-cd03-aadba43dd99d"
      },
      "source": [
        "my_string = \"Carthago delenda est\"\n",
        "if my_string == \"Carthago delenda est\":\n",
        "    print ('And so it was! For the glory of Rome!')\n",
        "else:\n",
        "    print ('War elephants are TERRIFYING. I am staying home.')"
      ],
      "execution_count": 164,
      "outputs": [
        {
          "output_type": "stream",
          "text": [
            "And so it was! For the glory of Rome!\n"
          ],
          "name": "stdout"
        }
      ]
    },
    {
      "cell_type": "code",
      "metadata": {
        "colab": {
          "base_uri": "https://localhost:8080/"
        },
        "id": "JVreiQZYXSJY",
        "outputId": "fce7e997-8c11-4809-cb02-59ab93b12e3d"
      },
      "source": [
        "mi_texto = \"Hola, bienvenid@s\"\n",
        "if mi_texto == \"Hola, bienvenid@s\":\n",
        "  print ('Hi')\n",
        "else:\n",
        "  print('Bye')"
      ],
      "execution_count": 165,
      "outputs": [
        {
          "output_type": "stream",
          "text": [
            "Hi\n"
          ],
          "name": "stdout"
        }
      ]
    },
    {
      "cell_type": "markdown",
      "metadata": {
        "id": "8_oi4E5a8H8F"
      },
      "source": [
        "As with other data types, `==` will check for whether the two things on either side of it have the same value. In this case, we compare whether the value of the strings are the same. Using `>` or `<` or any of the other comparators is not quite so intuitive, however, so we will stay from using comparators with strings in this lecture. Comparators will examine the [lexicographical order](https://en.wikipedia.org/wiki/Lexicographical_order) of the strings, which might be a bit more in-depth than you might like."
      ]
    },
    {
      "cell_type": "markdown",
      "metadata": {
        "id": "aHEOn3eO8H8F"
      },
      "source": [
        "Some built-in functions return a boolean value, so they can be used as conditions in an if-statement. User-defined functions can also be constructed so that they return a boolean value. This will be covered later with function definition!\n",
        "\n",
        "The `in` keyword is generally used to check membership of a value within another value. We can check memebership in the context of an if-statement and use it to output a truth value."
      ]
    },
    {
      "cell_type": "code",
      "metadata": {
        "id": "xUdUWwFk8H8G",
        "colab": {
          "base_uri": "https://localhost:8080/"
        },
        "outputId": "3ab26941-77e4-425f-9f85-d359dc91b1ea"
      },
      "source": [
        "if 'a' in my_string or 'e' in my_string:\n",
        "    print ('Those are my favorite vowels!')"
      ],
      "execution_count": 166,
      "outputs": [
        {
          "output_type": "stream",
          "text": [
            "Those are my favorite vowels!\n"
          ],
          "name": "stdout"
        }
      ]
    },
    {
      "cell_type": "code",
      "metadata": {
        "colab": {
          "base_uri": "https://localhost:8080/"
        },
        "id": "aBMSp9GHX0EU",
        "outputId": "bafbc686-29f8-4245-e61c-f4cbcc3bd9ce"
      },
      "source": [
        "if '@' in mi_texto or ',' in mi_texto:\n",
        "  print ('\"@\" y \",\" fueron encontradas en el texto')"
      ],
      "execution_count": 167,
      "outputs": [
        {
          "output_type": "stream",
          "text": [
            "\"@\" y \",\" fueron encontradas en el texto\n"
          ],
          "name": "stdout"
        }
      ]
    },
    {
      "cell_type": "markdown",
      "metadata": {
        "id": "JsZ4yOjK8H8H"
      },
      "source": [
        "Here we use `in` to check whether the variable `my_string` contains any particular letters. We will later use `in` to iterate through lists!"
      ]
    },
    {
      "cell_type": "markdown",
      "metadata": {
        "id": "IugV8yqB8H8I"
      },
      "source": [
        "## Loop Structures\n",
        "\n",
        "Loop structures are one of the most important parts of programming. The `for` loop and the `while` loop provide a way to repeatedly run a block of code repeatedly. A `while` loop will iterate until a certain condition has been met. If at any point after an iteration that condition is no longer satisfied, the loop terminates. A `for` loop will iterate over a sequence of values and terminate when the sequence has ended. You can instead include conditions within the `for` loop to decide whether it should terminate early or you could simply let it run its course."
      ]
    },
    {
      "cell_type": "code",
      "metadata": {
        "id": "BJ5zjBgf8H8I",
        "colab": {
          "base_uri": "https://localhost:8080/"
        },
        "outputId": "703e1d6d-875d-4e66-ad94-e579480b4bfc"
      },
      "source": [
        "i = 5\n",
        "while i > 0: # We can write this as 'while i:' because 0 is False!\n",
        "    i -= 1\n",
        "    print ('I am looping! {0} more to go!'.format(i))"
      ],
      "execution_count": 168,
      "outputs": [
        {
          "output_type": "stream",
          "text": [
            "I am looping! 4 more to go!\n",
            "I am looping! 3 more to go!\n",
            "I am looping! 2 more to go!\n",
            "I am looping! 1 more to go!\n",
            "I am looping! 0 more to go!\n"
          ],
          "name": "stdout"
        }
      ]
    },
    {
      "cell_type": "code",
      "metadata": {
        "colab": {
          "base_uri": "https://localhost:8080/"
        },
        "id": "zxvZFqeRjttA",
        "outputId": "90efed0e-0a87-4fca-b0b2-27f4628ea004"
      },
      "source": [
        "x = 4\n",
        "while x < 10:\n",
        "  x += 1\n",
        "  print ('Valor de x: {0}'.format(x))"
      ],
      "execution_count": 169,
      "outputs": [
        {
          "output_type": "stream",
          "text": [
            "Valor de x: 5\n",
            "Valor de x: 6\n",
            "Valor de x: 7\n",
            "Valor de x: 8\n",
            "Valor de x: 9\n",
            "Valor de x: 10\n"
          ],
          "name": "stdout"
        }
      ]
    },
    {
      "cell_type": "markdown",
      "metadata": {
        "id": "qrGhX_It8H8K"
      },
      "source": [
        "\n",
        "With `while` loops we need to make sure that something actually changes from iteration to iteration so that that the loop actually terminates. In this case, we use the shorthand `i -= 1` (short for `i = i - 1`) so that the value of `i` gets smaller with each iteration. Eventually `i` will be reduced to `0`, rendering the condition `False` and exiting the loop."
      ]
    },
    {
      "cell_type": "markdown",
      "metadata": {
        "id": "c0uNxb0l8H8L"
      },
      "source": [
        "A `for` loop iterates a set number of times, determined when you state the entry into the loop. In this case we are iterating over the list returned from `range()`. The `for` loop selects a value from the list, in order, and temporarily assigns the value of `i` to it so that operations can be performed with the value."
      ]
    },
    {
      "cell_type": "code",
      "metadata": {
        "id": "fQZPry128H8M",
        "colab": {
          "base_uri": "https://localhost:8080/"
        },
        "outputId": "4a8784c6-780f-4dd4-a2cf-0f93888c8e0d"
      },
      "source": [
        "for i in range(5):\n",
        "    print ('I am looping! I have looped {0} times!'.format(i + 1))"
      ],
      "execution_count": 170,
      "outputs": [
        {
          "output_type": "stream",
          "text": [
            "I am looping! I have looped 1 times!\n",
            "I am looping! I have looped 2 times!\n",
            "I am looping! I have looped 3 times!\n",
            "I am looping! I have looped 4 times!\n",
            "I am looping! I have looped 5 times!\n"
          ],
          "name": "stdout"
        }
      ]
    },
    {
      "cell_type": "code",
      "metadata": {
        "colab": {
          "base_uri": "https://localhost:8080/"
        },
        "id": "pvTVyyuUMqhI",
        "outputId": "cf1e6982-a4e7-4c3b-f649-6c1661ca3ae5"
      },
      "source": [
        "for x in range(4):\n",
        "  print ('Valor de x: {0}'.format(x + 1))"
      ],
      "execution_count": 171,
      "outputs": [
        {
          "output_type": "stream",
          "text": [
            "Valor de x: 1\n",
            "Valor de x: 2\n",
            "Valor de x: 3\n",
            "Valor de x: 4\n"
          ],
          "name": "stdout"
        }
      ]
    },
    {
      "cell_type": "markdown",
      "metadata": {
        "id": "vtdKBONY8H8O"
      },
      "source": [
        "Note that in this `for` loop we use the `in` keyword. Use of the `in` keyword is not limited to checking for membership as in the if-statement example. You can iterate over any collection with a `for` loop by using the `in` keyword.\n",
        "\n",
        "In this next example, we will iterate over a `set` because we want to check for containment and add to a new set."
      ]
    },
    {
      "cell_type": "code",
      "metadata": {
        "id": "5ZHfW1lD8H8P",
        "colab": {
          "base_uri": "https://localhost:8080/"
        },
        "outputId": "f9a178ae-979f-4fcc-f15e-7e42b252846c"
      },
      "source": [
        "my_list = {'cats', 'dogs', 'lizards', 'cows', 'bats', 'sponges', 'humans'} # Lists all the animals in the world\n",
        "mammal_list = {'cats', 'dogs', 'cows', 'bats', 'humans'} # Lists all the mammals in the world\n",
        "my_new_list = set()\n",
        "for animal in my_list:\n",
        "    if animal in mammal_list:\n",
        "        # This adds any animal that is both in my_list and mammal_list to my_new_list\n",
        "        my_new_list.add(animal)\n",
        "        \n",
        "print (my_new_list)"
      ],
      "execution_count": 172,
      "outputs": [
        {
          "output_type": "stream",
          "text": [
            "{'bats', 'dogs', 'humans', 'cows', 'cats'}\n"
          ],
          "name": "stdout"
        }
      ]
    },
    {
      "cell_type": "code",
      "metadata": {
        "colab": {
          "base_uri": "https://localhost:8080/"
        },
        "id": "lbyw_8sY3hUr",
        "outputId": "e08dd40d-904a-46e1-b3e5-148f0c4c79a7"
      },
      "source": [
        "alimentos = {'Papa', 'Arroz', 'Pepino', 'Fresa', 'Maracuya', 'Habichuela', 'Calabaza', 'Naranja', 'Pasta', 'Pera'}\n",
        "frutas = {'Fresa', 'Maracuya', 'Naranja', 'Pera'}\n",
        "nueva_lista = set()\n",
        "for fruta in alimentos:\n",
        "  if fruta in frutas:\n",
        "    nueva_lista.add (fruta)\n",
        "\n",
        "print (nueva_lista)"
      ],
      "execution_count": 173,
      "outputs": [
        {
          "output_type": "stream",
          "text": [
            "{'Naranja', 'Maracuya', 'Pera', 'Fresa'}\n"
          ],
          "name": "stdout"
        }
      ]
    },
    {
      "cell_type": "markdown",
      "metadata": {
        "id": "tqTj1JZK8H8Q"
      },
      "source": [
        "There are two statements that are very helpful in dealing with both `for` and `while` loops. These are `break` and `continue`. If `break` is encountered at any point while a loop is executing, the loop will immediately end."
      ]
    },
    {
      "cell_type": "code",
      "metadata": {
        "id": "Lzbwtlpk8H8R",
        "colab": {
          "base_uri": "https://localhost:8080/"
        },
        "outputId": "5fae5c38-b69d-404f-bd91-15e852362c14"
      },
      "source": [
        "i = 10\n",
        "while True:\n",
        "    if i == 14:\n",
        "        break\n",
        "    i += 1 # This is shorthand for i = i + 1. It increments i with each iteration.\n",
        "    print (i)"
      ],
      "execution_count": 174,
      "outputs": [
        {
          "output_type": "stream",
          "text": [
            "11\n",
            "12\n",
            "13\n",
            "14\n"
          ],
          "name": "stdout"
        }
      ]
    },
    {
      "cell_type": "code",
      "metadata": {
        "colab": {
          "base_uri": "https://localhost:8080/"
        },
        "id": "1lY-I8Yn5NUc",
        "outputId": "903eecdc-468c-419f-a6fa-672c3ec40f37"
      },
      "source": [
        "x = 20\n",
        "while True:\n",
        "  if x == 10:\n",
        "    break\n",
        "  x -= 2\n",
        "  print (x)"
      ],
      "execution_count": 175,
      "outputs": [
        {
          "output_type": "stream",
          "text": [
            "18\n",
            "16\n",
            "14\n",
            "12\n",
            "10\n"
          ],
          "name": "stdout"
        }
      ]
    },
    {
      "cell_type": "code",
      "metadata": {
        "id": "Y0io8Pos8H8R",
        "colab": {
          "base_uri": "https://localhost:8080/"
        },
        "outputId": "a9663d1e-26d5-4a1b-8685-73927df98dc3"
      },
      "source": [
        "for i in range(5):\n",
        "    if i == 2:\n",
        "        break\n",
        "    print (i)"
      ],
      "execution_count": 176,
      "outputs": [
        {
          "output_type": "stream",
          "text": [
            "0\n",
            "1\n"
          ],
          "name": "stdout"
        }
      ]
    },
    {
      "cell_type": "code",
      "metadata": {
        "colab": {
          "base_uri": "https://localhost:8080/"
        },
        "id": "vqF2mvNV5ltG",
        "outputId": "d087bd75-fa78-4380-cd79-07fa708e90ba"
      },
      "source": [
        "for x in range(10):\n",
        "  if x == 5:\n",
        "    break\n",
        "  print (x)"
      ],
      "execution_count": 177,
      "outputs": [
        {
          "output_type": "stream",
          "text": [
            "0\n",
            "1\n",
            "2\n",
            "3\n",
            "4\n"
          ],
          "name": "stdout"
        }
      ]
    },
    {
      "cell_type": "markdown",
      "metadata": {
        "id": "YJorrkud8H8S"
      },
      "source": [
        "The `continue` statement will tell the loop to immediately end this iteration and continue onto the next iteration of the loop."
      ]
    },
    {
      "cell_type": "code",
      "metadata": {
        "id": "R3-OdbvP8H8T",
        "colab": {
          "base_uri": "https://localhost:8080/"
        },
        "outputId": "86c40ea4-08c2-4000-d45f-617cae214fda"
      },
      "source": [
        "i = 0\n",
        "while i < 5:\n",
        "    i += 1\n",
        "    if i == 3:\n",
        "        continue\n",
        "    print (i)"
      ],
      "execution_count": 178,
      "outputs": [
        {
          "output_type": "stream",
          "text": [
            "1\n",
            "2\n",
            "4\n",
            "5\n"
          ],
          "name": "stdout"
        }
      ]
    },
    {
      "cell_type": "code",
      "metadata": {
        "colab": {
          "base_uri": "https://localhost:8080/"
        },
        "id": "MIva2_Yp58sb",
        "outputId": "7c356271-0a80-446f-948e-6623d9dfe719"
      },
      "source": [
        "x = 0\n",
        "while x < 10:\n",
        "  x += 2\n",
        "  if x == 4:\n",
        "    continue\n",
        "  print (x)\n",
        "\n"
      ],
      "execution_count": 179,
      "outputs": [
        {
          "output_type": "stream",
          "text": [
            "2\n",
            "6\n",
            "8\n",
            "10\n"
          ],
          "name": "stdout"
        }
      ]
    },
    {
      "cell_type": "markdown",
      "metadata": {
        "id": "L63Ek4j_8H8U"
      },
      "source": [
        "This loop skips printing the number $3$ because of the `continue` statement that executes when we enter the if-statement. The code never sees the command to print the number $3$ because it has already moved to the next iteration. The `break` and `continue` statements are further tools to help you control the flow of your loops and, as a result, your code."
      ]
    },
    {
      "cell_type": "markdown",
      "metadata": {
        "id": "wjsZBUwC8H8U"
      },
      "source": [
        "The variable that we use to iterate over a loop will retain its value when the loop exits. Similarly, any variables defined within the context of the loop will continue to exist outside of it."
      ]
    },
    {
      "cell_type": "code",
      "metadata": {
        "id": "frXoOcrQ8H8V",
        "colab": {
          "base_uri": "https://localhost:8080/"
        },
        "outputId": "174e3725-d271-4aff-cba0-62128ed7b496"
      },
      "source": [
        "for i in range(5):\n",
        "    loop_string = 'I transcend the loop!'\n",
        "    print ('I am eternal! I am {0} and I exist everywhere!'.format(i))\n",
        "\n",
        "print ('I persist! My value is {0}'.format(i))\n",
        "print (loop_string)"
      ],
      "execution_count": 180,
      "outputs": [
        {
          "output_type": "stream",
          "text": [
            "I am eternal! I am 0 and I exist everywhere!\n",
            "I am eternal! I am 1 and I exist everywhere!\n",
            "I am eternal! I am 2 and I exist everywhere!\n",
            "I am eternal! I am 3 and I exist everywhere!\n",
            "I am eternal! I am 4 and I exist everywhere!\n",
            "I persist! My value is 4\n",
            "I transcend the loop!\n"
          ],
          "name": "stdout"
        }
      ]
    },
    {
      "cell_type": "code",
      "metadata": {
        "colab": {
          "base_uri": "https://localhost:8080/"
        },
        "id": "jl2X07rE6ont",
        "outputId": "3ac2f84d-a530-449c-8824-960d6557d283"
      },
      "source": [
        "for x in range(4):\n",
        "  texto = \"Hola\"\n",
        "  print ('Valor de a variabale x: {0}'.format(x))\n",
        "\n",
        "print ('Valor final de la variable x: {0}'.format(x))\n",
        "print (texto)"
      ],
      "execution_count": 181,
      "outputs": [
        {
          "output_type": "stream",
          "text": [
            "Valor de a variabale x: 0\n",
            "Valor de a variabale x: 1\n",
            "Valor de a variabale x: 2\n",
            "Valor de a variabale x: 3\n",
            "Valor final de la variable x: 3\n",
            "Hola\n"
          ],
          "name": "stdout"
        }
      ]
    },
    {
      "cell_type": "markdown",
      "metadata": {
        "id": "5vNaKkO38H8W"
      },
      "source": [
        "We can also iterate over a dictionary!"
      ]
    },
    {
      "cell_type": "code",
      "metadata": {
        "id": "e9aufxrh8H8W"
      },
      "source": [
        "my_dict = {'firstname' : 'Inigo', 'lastname' : 'Montoya', 'nemesis' : 'Rugen'}"
      ],
      "execution_count": 182,
      "outputs": []
    },
    {
      "cell_type": "code",
      "metadata": {
        "id": "Mm6Y_TLu7K5t"
      },
      "source": [
        "mi_diccionario = {'Nombres' : 'Jenifer ' 'Alexandra ' 'Cristian ' 'Lucia ', \n",
        "                  'Apellidos' : 'Fernández ' 'Crespo ' 'Puentes ' 'Torres ', \n",
        "                  'Usuarios' : 'jefernan ' 'alecres ' 'cripuen ' 'lutorres '}"
      ],
      "execution_count": 183,
      "outputs": []
    },
    {
      "cell_type": "code",
      "metadata": {
        "id": "LAdDGk2r8H8W",
        "colab": {
          "base_uri": "https://localhost:8080/"
        },
        "outputId": "74d9bdf8-2b65-4bf9-dce8-de0bbf1f9e8e"
      },
      "source": [
        "for key in my_dict:\n",
        "    print (key)"
      ],
      "execution_count": 184,
      "outputs": [
        {
          "output_type": "stream",
          "text": [
            "firstname\n",
            "lastname\n",
            "nemesis\n"
          ],
          "name": "stdout"
        }
      ]
    },
    {
      "cell_type": "code",
      "metadata": {
        "colab": {
          "base_uri": "https://localhost:8080/"
        },
        "id": "9GiIToS-8tYy",
        "outputId": "4dbfd76e-4704-4995-a9ce-283ae460ad0a"
      },
      "source": [
        "for key in mi_diccionario:\n",
        "  print (key)"
      ],
      "execution_count": 185,
      "outputs": [
        {
          "output_type": "stream",
          "text": [
            "Nombres\n",
            "Apellidos\n",
            "Usuarios\n"
          ],
          "name": "stdout"
        }
      ]
    },
    {
      "cell_type": "markdown",
      "metadata": {
        "id": "b7JxR3tq8H8X"
      },
      "source": [
        "If we just iterate over a dictionary without doing anything else, we will only get the keys. We can either use the keys to get the values, like so:"
      ]
    },
    {
      "cell_type": "code",
      "metadata": {
        "id": "w17mIahK8H8X",
        "colab": {
          "base_uri": "https://localhost:8080/"
        },
        "outputId": "6da7f603-c444-4cbc-a0e1-ccb72884a055"
      },
      "source": [
        "for key in my_dict:\n",
        "    print (my_dict[key])"
      ],
      "execution_count": 186,
      "outputs": [
        {
          "output_type": "stream",
          "text": [
            "Inigo\n",
            "Montoya\n",
            "Rugen\n"
          ],
          "name": "stdout"
        }
      ]
    },
    {
      "cell_type": "code",
      "metadata": {
        "colab": {
          "base_uri": "https://localhost:8080/"
        },
        "id": "wIKjyid986KR",
        "outputId": "9d950c9f-72f0-4b5b-8441-68a2e1ce3e67"
      },
      "source": [
        "for key in mi_diccionario:\n",
        "  print (mi_diccionario[key])"
      ],
      "execution_count": 187,
      "outputs": [
        {
          "output_type": "stream",
          "text": [
            "Jenifer Alexandra Cristian Lucia \n",
            "Fernández Crespo Puentes Torres \n",
            "jefernan alecres cripuen lutorres \n"
          ],
          "name": "stdout"
        }
      ]
    },
    {
      "cell_type": "markdown",
      "metadata": {
        "id": "5v5kPd9e8H8Y"
      },
      "source": [
        "Or we can use the `items()` function to get both key and value at the same time."
      ]
    },
    {
      "cell_type": "code",
      "metadata": {
        "id": "G4pSAM1F8H8Z",
        "colab": {
          "base_uri": "https://localhost:8080/"
        },
        "outputId": "4fbb0cf6-f25b-4f23-f0d8-178c713aa02f"
      },
      "source": [
        "for key, value in my_dict.items():\n",
        "    print (key, ':', value)"
      ],
      "execution_count": 188,
      "outputs": [
        {
          "output_type": "stream",
          "text": [
            "firstname : Inigo\n",
            "lastname : Montoya\n",
            "nemesis : Rugen\n"
          ],
          "name": "stdout"
        }
      ]
    },
    {
      "cell_type": "code",
      "metadata": {
        "colab": {
          "base_uri": "https://localhost:8080/"
        },
        "id": "wjcUgUNg9dj9",
        "outputId": "c969e7b1-2e22-46da-c6df-ce7c4cfc3d6f"
      },
      "source": [
        "for key, value in mi_diccionario.items():\n",
        "  print (key, ':', value)"
      ],
      "execution_count": 189,
      "outputs": [
        {
          "output_type": "stream",
          "text": [
            "Nombres : Jenifer Alexandra Cristian Lucia \n",
            "Apellidos : Fernández Crespo Puentes Torres \n",
            "Usuarios : jefernan alecres cripuen lutorres \n"
          ],
          "name": "stdout"
        }
      ]
    },
    {
      "cell_type": "markdown",
      "metadata": {
        "id": "AinWQYem8H8Z"
      },
      "source": [
        "The `items()` function creates a tuple of each key-value pair and the for loop unpacks that tuple into `key, value` on each separate execution of the loop!"
      ]
    },
    {
      "cell_type": "markdown",
      "metadata": {
        "id": "5oPvEXDk8H8a"
      },
      "source": [
        "## Functions\n",
        "\n",
        "A function is a reusable block of code that you can call repeatedly to make calculations, output data, or really do anything that you want. This is one of the key aspects of using a programming language. To add to the built-in functions in Python, you can define your own!"
      ]
    },
    {
      "cell_type": "code",
      "metadata": {
        "id": "lQyzsPlc8H8b",
        "colab": {
          "base_uri": "https://localhost:8080/"
        },
        "outputId": "32713354-82c5-4171-bdd2-fd79e8207579"
      },
      "source": [
        "def hello_world():\n",
        "    \"\"\" Prints Hello, world! \"\"\"\n",
        "    print ('Hello, world!')\n",
        "\n",
        "hello_world()"
      ],
      "execution_count": 190,
      "outputs": [
        {
          "output_type": "stream",
          "text": [
            "Hello, world!\n"
          ],
          "name": "stdout"
        }
      ]
    },
    {
      "cell_type": "code",
      "metadata": {
        "colab": {
          "base_uri": "https://localhost:8080/"
        },
        "id": "zxuhG2ZM-yRh",
        "outputId": "e9fae8ce-1c70-4fe3-927c-218aefa34667"
      },
      "source": [
        "def info():\n",
        "  print (\"Información importante\")\n",
        "\n",
        "info()"
      ],
      "execution_count": 191,
      "outputs": [
        {
          "output_type": "stream",
          "text": [
            "Información importante\n"
          ],
          "name": "stdout"
        }
      ]
    },
    {
      "cell_type": "code",
      "metadata": {
        "id": "Wg-gxGXj8H8d",
        "colab": {
          "base_uri": "https://localhost:8080/"
        },
        "outputId": "aba70a19-305e-44b5-9efa-63998363be82"
      },
      "source": [
        "for i in range(5):\n",
        "    hello_world()"
      ],
      "execution_count": 192,
      "outputs": [
        {
          "output_type": "stream",
          "text": [
            "Hello, world!\n",
            "Hello, world!\n",
            "Hello, world!\n",
            "Hello, world!\n",
            "Hello, world!\n"
          ],
          "name": "stdout"
        }
      ]
    },
    {
      "cell_type": "code",
      "metadata": {
        "colab": {
          "base_uri": "https://localhost:8080/"
        },
        "id": "R-Ve4Esa_Fke",
        "outputId": "11e73e4c-a938-4d31-8644-fdd9e2801421"
      },
      "source": [
        "for x in range(3):\n",
        "  info() "
      ],
      "execution_count": 193,
      "outputs": [
        {
          "output_type": "stream",
          "text": [
            "Información importante\n",
            "Información importante\n",
            "Información importante\n"
          ],
          "name": "stdout"
        }
      ]
    },
    {
      "cell_type": "markdown",
      "metadata": {
        "id": "XQLxoCNY8H8f"
      },
      "source": [
        "Functions are defined with `def`, a function name, a list of parameters, and a colon. Everything indented below the colon will be included in the definition of the function.\n",
        "\n",
        "We can have our functions do anything that you can do with a normal block of code. For example, our `hello_world()` function prints a string every time it is called. If we want to keep a value that a function calculates, we can define the function so that it will `return` the value we want. This is a very important feature of functions, as any variable defined purely within a function will not exist outside of it."
      ]
    },
    {
      "cell_type": "code",
      "metadata": {
        "id": "m1EUHh5p8H8g"
      },
      "source": [
        "def see_the_scope():\n",
        "    in_function_string = \"I'm stuck in here!\"\n",
        "\n",
        "see_the_scope()\n",
        "# print (in_function_string)  #Error: Varible definida dentro de la función"
      ],
      "execution_count": 194,
      "outputs": []
    },
    {
      "cell_type": "code",
      "metadata": {
        "id": "d4UF1VQDMzWB"
      },
      "source": [
        "def ejemplo_funcion():\n",
        "  texto_funcion = \"Texto dentro de la función\"\n",
        "\n",
        "ejemplo_funcion()\n",
        "# print (texto_funcion)  #Error: Variable definida dentro de la función"
      ],
      "execution_count": 195,
      "outputs": []
    },
    {
      "cell_type": "markdown",
      "metadata": {
        "id": "9osny27_8H8g"
      },
      "source": [
        " The **scope** of a variable is the part of a block of code where that variable is tied to a particular value. Functions in Python have an enclosed scope, making it so that variables defined within them can only be accessed directly within them. If we pass those values to a return statement we can get them out of the function. This makes it so that the function call returns values so that you can store them in variables that have a greater scope.\n",
        " \n",
        "In this case specifically, including a return statement allows us to keep the string value that we define in the function."
      ]
    },
    {
      "cell_type": "code",
      "metadata": {
        "id": "kpSHfEdG8H8h",
        "colab": {
          "base_uri": "https://localhost:8080/"
        },
        "outputId": "09b4d1e7-b6f7-4d30-d60e-f45a1f386ed3"
      },
      "source": [
        "def free_the_scope():\n",
        "    in_function_string = \"Anything you can do I can do better!\"\n",
        "    return in_function_string\n",
        "my_string = free_the_scope()\n",
        "print (my_string)"
      ],
      "execution_count": 196,
      "outputs": [
        {
          "output_type": "stream",
          "text": [
            "Anything you can do I can do better!\n"
          ],
          "name": "stdout"
        }
      ]
    },
    {
      "cell_type": "code",
      "metadata": {
        "colab": {
          "base_uri": "https://localhost:8080/"
        },
        "id": "tOWmMTEyN7Q1",
        "outputId": "86afed04-5e58-4a1d-81d3-bd56ca306643"
      },
      "source": [
        "def valor_devuelto():\n",
        "  texto_funcion_2 = \"Texto función: valor_devuelto()\"\n",
        "  return texto_funcion_2\n",
        "mi_texto = valor_devuelto()\n",
        "print (mi_texto)"
      ],
      "execution_count": 197,
      "outputs": [
        {
          "output_type": "stream",
          "text": [
            "Texto función: valor_devuelto()\n"
          ],
          "name": "stdout"
        }
      ]
    },
    {
      "cell_type": "markdown",
      "metadata": {
        "id": "ioqgBdXW8H8h"
      },
      "source": [
        "Just as we can get values out of a function, we can also put values into a function. We do this by defining our function with parameters."
      ]
    },
    {
      "cell_type": "code",
      "metadata": {
        "id": "kdn686GR8H8i",
        "colab": {
          "base_uri": "https://localhost:8080/"
        },
        "outputId": "60e65fa1-ec8e-48d7-c112-8a2ba02c70ed"
      },
      "source": [
        "def multiply_by_five(x):\n",
        "    \"\"\" Multiplies an input number by 5 \"\"\"\n",
        "    return x * 5\n",
        "\n",
        "n = 4\n",
        "print (n)\n",
        "print (multiply_by_five(n))"
      ],
      "execution_count": 198,
      "outputs": [
        {
          "output_type": "stream",
          "text": [
            "4\n",
            "20\n"
          ],
          "name": "stdout"
        }
      ]
    },
    {
      "cell_type": "code",
      "metadata": {
        "colab": {
          "base_uri": "https://localhost:8080/"
        },
        "id": "xFiM2Q2rPxXU",
        "outputId": "ba28ca37-6fb5-44d3-b17f-5ef050da5d2c"
      },
      "source": [
        "def dividir(x):\n",
        "  return x / 5\n",
        "\n",
        "x=20\n",
        "print (x)\n",
        "print (dividir(x))"
      ],
      "execution_count": 199,
      "outputs": [
        {
          "output_type": "stream",
          "text": [
            "20\n",
            "4.0\n"
          ],
          "name": "stdout"
        }
      ]
    },
    {
      "cell_type": "markdown",
      "metadata": {
        "id": "VO7lNw0Z8H8i"
      },
      "source": [
        "In this example we only had one parameter for our function, `x`. We can easily add more parameters, separating everything with a comma."
      ]
    },
    {
      "cell_type": "code",
      "metadata": {
        "id": "DwaOCE5D8H8j"
      },
      "source": [
        "def calculate_area(length, width):\n",
        "    \"\"\" Calculates the area of a rectangle \"\"\"\n",
        "    return length * width"
      ],
      "execution_count": 200,
      "outputs": []
    },
    {
      "cell_type": "code",
      "metadata": {
        "id": "AJ0i3V4SQPCQ"
      },
      "source": [
        "def multiplicar(numero_1, numero_2):\n",
        "  return numero_1 * numero_2"
      ],
      "execution_count": 201,
      "outputs": []
    },
    {
      "cell_type": "code",
      "metadata": {
        "id": "rJhn3LBS8H8k",
        "colab": {
          "base_uri": "https://localhost:8080/"
        },
        "outputId": "6f3f6e7c-19bb-49f4-be16-f0b7dfae043b"
      },
      "source": [
        "l = 5\n",
        "w = 10\n",
        "print ('Area: ', calculate_area(l, w))\n",
        "print ('Length: ', l)\n",
        "print ('Width: ', w)"
      ],
      "execution_count": 202,
      "outputs": [
        {
          "output_type": "stream",
          "text": [
            "Area:  50\n",
            "Length:  5\n",
            "Width:  10\n"
          ],
          "name": "stdout"
        }
      ]
    },
    {
      "cell_type": "code",
      "metadata": {
        "colab": {
          "base_uri": "https://localhost:8080/"
        },
        "id": "BleZa4Y9Quc9",
        "outputId": "80152d2e-a9f1-4830-d0b3-7dce2e5ec0f6"
      },
      "source": [
        "x = 4\n",
        "y = 20\n",
        "print ('Número 1: ', x)\n",
        "print ('Número 2: ', y)\n",
        "print ('Multiplicación: ', multiplicar(x , y))\n"
      ],
      "execution_count": 203,
      "outputs": [
        {
          "output_type": "stream",
          "text": [
            "Número 1:  4\n",
            "Número 2:  20\n",
            "Multiplicación:  80\n"
          ],
          "name": "stdout"
        }
      ]
    },
    {
      "cell_type": "code",
      "metadata": {
        "id": "tQo1oqFv8H8k",
        "colab": {
          "base_uri": "https://localhost:8080/"
        },
        "outputId": "17e1ea7a-78f7-4a4e-89cf-524e54731212"
      },
      "source": [
        "def calculate_volume(length, width, depth):\n",
        "    \"\"\" Calculates the volume of a rectangular prism \"\"\"\n",
        "    return length * width * depth\n",
        "\n",
        "resultado = calculate_volume(5, 4, 5)\n",
        "print (resultado)"
      ],
      "execution_count": 204,
      "outputs": [
        {
          "output_type": "stream",
          "text": [
            "100\n"
          ],
          "name": "stdout"
        }
      ]
    },
    {
      "cell_type": "code",
      "metadata": {
        "colab": {
          "base_uri": "https://localhost:8080/"
        },
        "id": "nmrOUVoURoUW",
        "outputId": "21cc46e3-0fe5-49c5-f12e-d29937dd08a3"
      },
      "source": [
        "def suma(num_1, num_2, num_3):\n",
        "  return num_1 + num_2 + num_3\n",
        "\n",
        "resultado = suma(20 , 30 , 50)\n",
        "print (resultado)"
      ],
      "execution_count": 205,
      "outputs": [
        {
          "output_type": "stream",
          "text": [
            "100\n"
          ],
          "name": "stdout"
        }
      ]
    },
    {
      "cell_type": "markdown",
      "metadata": {
        "id": "fMFNtdo78H8k"
      },
      "source": [
        "If we want to, we can define a function so that it takes an arbitrary number of parameters. We tell Python that we want this by using an asterisk (`*`)."
      ]
    },
    {
      "cell_type": "code",
      "metadata": {
        "id": "BFcQfo6m8H8l"
      },
      "source": [
        "def sum_values(*args):\n",
        "    sum_val = 0\n",
        "    for i in args:\n",
        "        sum_val += i\n",
        "    return sum_val"
      ],
      "execution_count": 206,
      "outputs": []
    },
    {
      "cell_type": "code",
      "metadata": {
        "id": "YaWephzISKS_"
      },
      "source": [
        "def resta(*args):\n",
        "  resultado = 100\n",
        "  for x in args:\n",
        "    resultado -= x\n",
        "  return resultado"
      ],
      "execution_count": 207,
      "outputs": []
    },
    {
      "cell_type": "code",
      "metadata": {
        "id": "F3tpW3By8H8l",
        "colab": {
          "base_uri": "https://localhost:8080/"
        },
        "outputId": "588ca2d2-95ea-4153-d512-0a15e2351d05"
      },
      "source": [
        "print (sum_values(1, 2, 3))\n",
        "print (sum_values(10, 20, 30, 40, 50))\n",
        "print (sum_values(4, 2, 5, 1, 10, 249, 25, 24, 13, 6, 4))"
      ],
      "execution_count": 208,
      "outputs": [
        {
          "output_type": "stream",
          "text": [
            "6\n",
            "150\n",
            "343\n"
          ],
          "name": "stdout"
        }
      ]
    },
    {
      "cell_type": "code",
      "metadata": {
        "colab": {
          "base_uri": "https://localhost:8080/"
        },
        "id": "BRbO7nPySo5b",
        "outputId": "d2b5bd8f-8383-4020-ac63-f18069d0c61c"
      },
      "source": [
        "print (resta(50, 5, 10))\n",
        "print (resta(80, 5 ,1, 2, 3))\n",
        "print (resta(1, 2, 3, 4, 5, 6, 7, 8, 9, 10, 11, 12, 13, 14))\n"
      ],
      "execution_count": 209,
      "outputs": [
        {
          "output_type": "stream",
          "text": [
            "35\n",
            "9\n",
            "-5\n"
          ],
          "name": "stdout"
        }
      ]
    },
    {
      "cell_type": "markdown",
      "metadata": {
        "id": "QNhClnbt8H8o"
      },
      "source": [
        "The time to use `*args` as a parameter for your function is when you do not know how many values may be passed to it, as in the case of our sum function. The asterisk in this case is the syntax that tells Python that you are going to pass an arbitrary number of parameters into your function. These parameters are stored in the form of a tuple."
      ]
    },
    {
      "cell_type": "code",
      "metadata": {
        "id": "Qd-V3U5v8H8o",
        "colab": {
          "base_uri": "https://localhost:8080/"
        },
        "outputId": "ec349bb1-0844-4b7d-ab0c-f449f7f5cd77"
      },
      "source": [
        "def test_args(*args):\n",
        "    print (type(args))\n",
        "\n",
        "test_args(1, 2, 3, 4, 5, 6)"
      ],
      "execution_count": 210,
      "outputs": [
        {
          "output_type": "stream",
          "text": [
            "<class 'tuple'>\n"
          ],
          "name": "stdout"
        }
      ]
    },
    {
      "cell_type": "code",
      "metadata": {
        "colab": {
          "base_uri": "https://localhost:8080/"
        },
        "id": "ZDySrX08TNdh",
        "outputId": "4a85d793-41e2-4f5f-948b-3f6920a4ed0c"
      },
      "source": [
        "def tipo_args(*args):\n",
        "  print (type(args))\n",
        "\n",
        "test_args(10, 21, 32, 43, 54, 63)"
      ],
      "execution_count": 211,
      "outputs": [
        {
          "output_type": "stream",
          "text": [
            "<class 'tuple'>\n"
          ],
          "name": "stdout"
        }
      ]
    },
    {
      "cell_type": "markdown",
      "metadata": {
        "id": "FtRVWP1d8H8p"
      },
      "source": [
        "We can put as many elements into the `args` tuple as we want to when we call the function. However, because `args` is a tuple, we cannot modify it after it has been created.\n",
        "\n",
        "The `args` name of the variable is purely by convention. You could just as easily name your parameter `*vars` or `*things`. You can treat the `args` tuple like you would any other tuple, easily accessing `arg`'s values and iterating over it, as in the above `sum_values(*args)` function."
      ]
    },
    {
      "cell_type": "markdown",
      "metadata": {
        "id": "LL6nDQ1V8H8q"
      },
      "source": [
        "Our functions can return any data type. This makes it easy for us to create functions that check for conditions that we might want to monitor.\n",
        "\n",
        "Here we define a function that returns a boolean value. We can easily use this in conjunction with if-statements and  other situations that require a boolean."
      ]
    },
    {
      "cell_type": "code",
      "metadata": {
        "id": "W3bQot3k8H8r"
      },
      "source": [
        "def has_a_vowel(word):\n",
        "    \"\"\" \n",
        "    Checks to see whether a word contains a vowel \n",
        "    If it doesn't contain a conventional vowel, it\n",
        "    will check for the presence of 'y' or 'w'. Does\n",
        "    not check to see whether those are in the word\n",
        "    in a vowel context.\n",
        "    \"\"\"\n",
        "    vowel_list = ['a', 'e', 'i', 'o', 'u']\n",
        "    \n",
        "    for vowel in vowel_list:\n",
        "        if vowel in word:\n",
        "            return True\n",
        "    # If there is a vowel in the word, the function returns, preventing anything after this loop from running\n",
        "    return False"
      ],
      "execution_count": 212,
      "outputs": []
    },
    {
      "cell_type": "code",
      "metadata": {
        "id": "WoRyKhKAT2Q8"
      },
      "source": [
        "def animales(animal):\n",
        "  lista_animales = ['Gato', 'Perro', 'Loro', 'Vaca']\n",
        "\n",
        "  for x in lista_animales:\n",
        "    if x in animal:\n",
        "      return True\n",
        "  \n",
        "  return False "
      ],
      "execution_count": 213,
      "outputs": []
    },
    {
      "cell_type": "code",
      "metadata": {
        "id": "sFY0ghUN8H8s",
        "colab": {
          "base_uri": "https://localhost:8080/"
        },
        "outputId": "0f5a9224-d1e5-4a33-b57d-3a466e4b4905"
      },
      "source": [
        "my_word = 'catnapping'\n",
        "if has_a_vowel(my_word):\n",
        "    print ('How surprising, an english word contains a vowel.')\n",
        "else:\n",
        "    print ('This is actually surprising.')"
      ],
      "execution_count": 214,
      "outputs": [
        {
          "output_type": "stream",
          "text": [
            "How surprising, an english word contains a vowel.\n"
          ],
          "name": "stdout"
        }
      ]
    },
    {
      "cell_type": "code",
      "metadata": {
        "colab": {
          "base_uri": "https://localhost:8080/"
        },
        "id": "7LQ8Pf58UgTB",
        "outputId": "d20fb1d0-c1be-4088-ea93-3bbdb9897374"
      },
      "source": [
        "mi_animal = 'Perro'\n",
        "if animales(mi_animal):\n",
        "  print ('El animal \"{0}\" se encuentra en la lista'.format(mi_animal))\n",
        "else:\n",
        "  print ('El animal no se encuentra en la lista')"
      ],
      "execution_count": 215,
      "outputs": [
        {
          "output_type": "stream",
          "text": [
            "El animal \"Perro\" se encuentra en la lista\n"
          ],
          "name": "stdout"
        }
      ]
    },
    {
      "cell_type": "code",
      "metadata": {
        "id": "Rn366pKN8H8s"
      },
      "source": [
        "def point_maker(x, y):\n",
        "    \"\"\" Groups x and y values into a point, technically a tuple \"\"\"\n",
        "    return x, y"
      ],
      "execution_count": 216,
      "outputs": []
    },
    {
      "cell_type": "code",
      "metadata": {
        "id": "9lHpD-MbVYmD"
      },
      "source": [
        "def coordenadas(x1, y1):\n",
        "  return x1, y1"
      ],
      "execution_count": 217,
      "outputs": []
    },
    {
      "cell_type": "markdown",
      "metadata": {
        "id": "Zg0q8i658H8t"
      },
      "source": [
        "This above function returns an ordered pair of the input parameters, stored as a tuple."
      ]
    },
    {
      "cell_type": "code",
      "metadata": {
        "scrolled": true,
        "id": "373O4GGF8H8t",
        "colab": {
          "base_uri": "https://localhost:8080/"
        },
        "outputId": "9d0d410e-4e79-4716-8211-925bbf6421a9"
      },
      "source": [
        "a = point_maker(0, 10)\n",
        "b = point_maker(5, 3)\n",
        "def calculate_slope(point_a, point_b):\n",
        "    \"\"\" Calculates the linear slope between two points \"\"\"\n",
        "    return (point_b[1] - point_a[1])/(point_b[0] - point_a[0])\n",
        "print (\"The slope between a and b is {0}\".format(calculate_slope(a, b)))"
      ],
      "execution_count": 218,
      "outputs": [
        {
          "output_type": "stream",
          "text": [
            "The slope between a and b is -1.4\n"
          ],
          "name": "stdout"
        }
      ]
    },
    {
      "cell_type": "code",
      "metadata": {
        "colab": {
          "base_uri": "https://localhost:8080/"
        },
        "id": "UwRXJsaIVsVd",
        "outputId": "d680a9ac-a892-418d-c2a4-5d3434d97fb4"
      },
      "source": [
        "x = coordenadas(5, 5)\n",
        "y = coordenadas(10, 10)\n",
        "\n",
        "def pendiente(punto_1, punto_2):\n",
        "  return (punto_2[1] - punto_1[1])/(punto_2[0] - punto_1[0])\n",
        "print ('La pendiente de la recta que pasa por el Punto 1 y el Punto 2 es: {0}'.format(pendiente(x, y)))"
      ],
      "execution_count": 219,
      "outputs": [
        {
          "output_type": "stream",
          "text": [
            "La pendiente de la recta que pasa por el Punto 1 y el Punto 2 es: 1.0\n"
          ],
          "name": "stdout"
        }
      ]
    },
    {
      "cell_type": "markdown",
      "metadata": {
        "id": "OlYDTa_C8H8u"
      },
      "source": [
        "And that one calculates the slope between two points!"
      ]
    },
    {
      "cell_type": "code",
      "metadata": {
        "id": "zXw3Apt38H8v",
        "colab": {
          "base_uri": "https://localhost:8080/"
        },
        "outputId": "7eb76bce-e900-47a0-bf2a-07d7c9da98d5"
      },
      "source": [
        "print (\"The slope-intercept form of the line between a and b, using point a, is: y - {0} = {2}(x - {1})\".format(a[1], a[0], calculate_slope(a, b)))"
      ],
      "execution_count": 220,
      "outputs": [
        {
          "output_type": "stream",
          "text": [
            "The slope-intercept form of the line between a and b, using point a, is: y - 10 = -1.4(x - 0)\n"
          ],
          "name": "stdout"
        }
      ]
    },
    {
      "cell_type": "code",
      "metadata": {
        "colab": {
          "base_uri": "https://localhost:8080/"
        },
        "id": "zEin5ICIfyr2",
        "outputId": "ed1c24e1-31b4-4a5b-c673-751a2907ec6a"
      },
      "source": [
        "print ('La ecuación punto pendiente, usando el punto x es: y - {0} = {2}(x - {1})'.format(x[1], x[0], pendiente(x, y)))"
      ],
      "execution_count": 221,
      "outputs": [
        {
          "output_type": "stream",
          "text": [
            "La ecuación punto pendiente, usando el punto x es: y - 5 = 1.0(x - 5)\n"
          ],
          "name": "stdout"
        }
      ]
    },
    {
      "cell_type": "markdown",
      "metadata": {
        "id": "0TIym-0T8H8v"
      },
      "source": [
        "With the proper syntax, you can define functions to do whatever calculations you want. This makes them an indispensible part of programming in any language."
      ]
    },
    {
      "cell_type": "markdown",
      "metadata": {
        "id": "NgKrET2z8H8w"
      },
      "source": [
        "## Next Steps\n",
        "\n",
        "This was a lot of material and there is still even more to cover! Make sure you play around with the cells in each notebook to accustom yourself to the syntax featured here and to figure out any limitations. If you want to delve even deeper into the material, the [documentation for Python](https://docs.python.org/2/) is all available online. We are in the process of developing a second part to this Python tutorial, designed to provide you with even more programming knowledge, so keep an eye on the [Quantopian Lectures Page](quantopian.com/lectures) and the [forums](quantopian.com/posts) for any new lectures."
      ]
    },
    {
      "cell_type": "markdown",
      "metadata": {
        "id": "lwn9RpyX8H8x"
      },
      "source": [
        "*This presentation is for informational purposes only and does not constitute an offer to sell, a solicitation to buy, or a recommendation for any security; nor does it constitute an offer to provide investment advisory or other services by Quantopian, Inc. (\"Quantopian\"). Nothing contained herein constitutes investment advice or offers any opinion with respect to the suitability of any security, and any views expressed herein should not be taken as advice to buy, sell, or hold any security or as an endorsement of any security or company.  In preparing the information contained herein, Quantopian, Inc. has not taken into account the investment needs, objectives, and financial circumstances of any particular investor. Any views expressed and data illustrated herein were prepared based upon information, believed to be reliable, available to Quantopian, Inc. at the time of publication. Quantopian makes no guarantees as to their accuracy or completeness. All information is subject to change and may quickly become unreliable for various reasons, including changes in market conditions or economic circumstances.*"
      ]
    }
  ]
}
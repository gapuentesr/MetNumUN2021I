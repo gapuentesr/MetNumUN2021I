{
  "nbformat": 4,
  "nbformat_minor": 0,
  "metadata": {
    "kernelspec": {
      "name": "python3",
      "display_name": "Python 3"
    },
    "colab": {
      "name": "gapuentesrlecture2.ipynb",
      "provenance": [],
      "collapsed_sections": []
    },
    "language_info": {
      "name": "python"
    }
  },
  "cells": [
    {
      "cell_type": "markdown",
      "metadata": {
        "id": "cLUYfTYAHVrE"
      },
      "source": [
        "#Quantopian - Lectura \\# 2\n",
        "\n",
        "##Métodos Numéricos\n",
        "###Gustavo Alberto Puentes Romero"
      ]
    },
    {
      "cell_type": "markdown",
      "metadata": {
        "id": "XOEjyp_w8H51"
      },
      "source": [
        "# Introduction to Python\n",
        "by Maxwell Margenot\n",
        "\n",
        "Part of the Quantopian Lecture Series:\n",
        "\n",
        "* [www.quantopian.com/lectures](https://www.quantopian.com/lectures)\n",
        "* [github.com/quantopian/research_public](https://github.com/quantopian/research_public)\n",
        "\n",
        "\n",
        "---\n",
        "\n",
        "All of the coding that you will do on the Quantopian platform will be in Python. It is also just a good, jack-of-all-trades language to know! Here we will provide you with the basics so that you can feel confident going through our other lectures and understanding what is happening."
      ]
    },
    {
      "cell_type": "markdown",
      "metadata": {
        "id": "jW7JEPoK8H5-"
      },
      "source": [
        "## Code Comments\n",
        "\n",
        "A comment is a note made by a programmer in the source code of a program. Its purpose is to clarify the source code and make it easier for people to follow along with what is happening. Anything in a comment is generally ignored when the code is actually run, making comments useful for including explanations and reasoning as well as removing specific lines of code that you may be unsure about. Comments in Python are created by using the pound symbol (`# Insert Text Here`). Including a `#` in a line of code will comment out anything that follows it."
      ]
    },
    {
      "cell_type": "code",
      "metadata": {
        "id": "UasLtWqJ8H5_"
      },
      "source": [
        "# This is a comment\n",
        "# These lines of code will not change any values\n",
        "# Anything following the first # is not run as code"
      ],
      "execution_count": 1,
      "outputs": []
    },
    {
      "cell_type": "code",
      "metadata": {
        "id": "_GbBaS97AeHT"
      },
      "source": [
        "# Ejemplo de comentario en Python\n",
        "# Comentario 1"
      ],
      "execution_count": 2,
      "outputs": []
    },
    {
      "cell_type": "markdown",
      "metadata": {
        "id": "TbpBDn_18H6A"
      },
      "source": [
        "You may hear text enclosed in triple quotes (`\"\"\" Insert Text Here \"\"\"`) referred to as multi-line comments, but this is not entirely accurate. This is a special type of `string` (a data type we will cover), called a `docstring`, used to explain the purpose of a function."
      ]
    },
    {
      "cell_type": "code",
      "metadata": {
        "id": "oOsv6LsX8H6B",
        "colab": {
          "base_uri": "https://localhost:8080/",
          "height": 35
        },
        "outputId": "52cc2fbd-6ebf-43d5-c6c7-3374f638ff52"
      },
      "source": [
        "\"\"\" This is a special string \"\"\""
      ],
      "execution_count": 3,
      "outputs": [
        {
          "output_type": "execute_result",
          "data": {
            "application/vnd.google.colaboratory.intrinsic+json": {
              "type": "string"
            },
            "text/plain": [
              "' This is a special string '"
            ]
          },
          "metadata": {
            "tags": []
          },
          "execution_count": 3
        }
      ]
    },
    {
      "cell_type": "markdown",
      "metadata": {
        "id": "VyagglqRAwbJ"
      },
      "source": [
        "Tipo especial de String: \"docstring\"\n",
        "\n"
      ]
    },
    {
      "cell_type": "code",
      "metadata": {
        "id": "_73hvJ0rA596",
        "colab": {
          "base_uri": "https://localhost:8080/",
          "height": 35
        },
        "outputId": "319595ad-e967-479c-ec87-ff4e251ab2c3"
      },
      "source": [
        "\"\"\" Ejemplo de docstring \"\"\""
      ],
      "execution_count": 4,
      "outputs": [
        {
          "output_type": "execute_result",
          "data": {
            "application/vnd.google.colaboratory.intrinsic+json": {
              "type": "string"
            },
            "text/plain": [
              "' Ejemplo de docstring '"
            ]
          },
          "metadata": {
            "tags": []
          },
          "execution_count": 4
        }
      ]
    },
    {
      "cell_type": "markdown",
      "metadata": {
        "id": "3zzEp4WO8H6B"
      },
      "source": [
        "Make sure you read the comments within each code cell (if they are there). They will provide more real-time explanations of what is going on as you look at each line of code."
      ]
    },
    {
      "cell_type": "markdown",
      "metadata": {
        "id": "Wpz-Z1258H6B"
      },
      "source": [
        "## Variables\n",
        "\n",
        "Variables provide names for values in programming. If you want to save a value for later or repeated use, you give the value a name, storing the contents in a variable. Variables in programming work in a fundamentally similar way to variables in algebra, but in Python they can take on various different data types.\n",
        "\n",
        "The basic variable types that we will cover in this section are `integers`, `floating point numbers`, `booleans`, and `strings`. \n",
        "\n",
        "An `integer` in programming is the same as in mathematics, a round number with no values after the decimal point. We use the built-in `print` function here to display the values of our variables as well as their types!"
      ]
    },
    {
      "cell_type": "code",
      "metadata": {
        "id": "QzJ2cLQ08H6C",
        "colab": {
          "base_uri": "https://localhost:8080/"
        },
        "outputId": "f9b46afa-3fae-4ada-803d-1a673bf2a632"
      },
      "source": [
        "my_integer = 50\n",
        "print (my_integer), type(my_integer)"
      ],
      "execution_count": 5,
      "outputs": [
        {
          "output_type": "stream",
          "text": [
            "50\n"
          ],
          "name": "stdout"
        },
        {
          "output_type": "execute_result",
          "data": {
            "text/plain": [
              "(None, int)"
            ]
          },
          "metadata": {
            "tags": []
          },
          "execution_count": 5
        }
      ]
    },
    {
      "cell_type": "code",
      "metadata": {
        "colab": {
          "base_uri": "https://localhost:8080/"
        },
        "id": "V2VBDZoeEE68",
        "outputId": "7e3d0865-dd90-494c-d80c-931a3c3f90b3"
      },
      "source": [
        "entero = 230\n",
        "print (entero), type(entero)"
      ],
      "execution_count": 6,
      "outputs": [
        {
          "output_type": "stream",
          "text": [
            "230\n"
          ],
          "name": "stdout"
        },
        {
          "output_type": "execute_result",
          "data": {
            "text/plain": [
              "(None, int)"
            ]
          },
          "metadata": {
            "tags": []
          },
          "execution_count": 6
        }
      ]
    },
    {
      "cell_type": "markdown",
      "metadata": {
        "id": "drrgZBsp8H6C"
      },
      "source": [
        "Variables, regardless of type, are assigned by using a single equals sign (`=`). Variables are case-sensitive so any changes in variation in the capitals of a variable name will reference a different variable entirely."
      ]
    },
    {
      "cell_type": "code",
      "metadata": {
        "id": "49LyZBmN8H6C",
        "colab": {
          "base_uri": "https://localhost:8080/"
        },
        "outputId": "83fddb67-fabb-4d73-c836-1415cc93cf94"
      },
      "source": [
        "one = 1\n",
        "# print (One)  -->  Variable no declarada\n",
        "print (one)"
      ],
      "execution_count": 7,
      "outputs": [
        {
          "output_type": "stream",
          "text": [
            "1\n"
          ],
          "name": "stdout"
        }
      ]
    },
    {
      "cell_type": "code",
      "metadata": {
        "colab": {
          "base_uri": "https://localhost:8080/"
        },
        "id": "QQPynH72Et1c",
        "outputId": "8ad2a602-7523-4784-d615-285e52567469"
      },
      "source": [
        "variable = 50\n",
        "# print (VARiable)  --> Variable no declarada\n",
        "print (variable)"
      ],
      "execution_count": 8,
      "outputs": [
        {
          "output_type": "stream",
          "text": [
            "50\n"
          ],
          "name": "stdout"
        }
      ]
    },
    {
      "cell_type": "markdown",
      "metadata": {
        "id": "0ibqwG1a8H6D"
      },
      "source": [
        "A `floating point` number, or a `float` is a fancy name for a real number (again as in mathematics). To define a `float`, we need to either include a decimal point or specify that the value is a float."
      ]
    },
    {
      "cell_type": "code",
      "metadata": {
        "scrolled": true,
        "id": "5yWLL2qB8H6D",
        "colab": {
          "base_uri": "https://localhost:8080/"
        },
        "outputId": "a2a4150e-dd3a-44d6-bd43-1a0eda321687"
      },
      "source": [
        "my_float = 1.0\n",
        "print (my_float), type(my_float)\n",
        "my_float = float(1)\n",
        "print (my_float), type(my_float)"
      ],
      "execution_count": 9,
      "outputs": [
        {
          "output_type": "stream",
          "text": [
            "1.0\n",
            "1.0\n"
          ],
          "name": "stdout"
        },
        {
          "output_type": "execute_result",
          "data": {
            "text/plain": [
              "(None, float)"
            ]
          },
          "metadata": {
            "tags": []
          },
          "execution_count": 9
        }
      ]
    },
    {
      "cell_type": "code",
      "metadata": {
        "colab": {
          "base_uri": "https://localhost:8080/"
        },
        "id": "0nRFlroWFM4b",
        "outputId": "7efaddc8-ad2e-473e-d7cc-dea93d061e57"
      },
      "source": [
        "flotante = 15.436\n",
        "print (flotante), type(flotante)\n",
        "flotante2 = float(25)\n",
        "print(flotante2), type(flotante2)"
      ],
      "execution_count": 10,
      "outputs": [
        {
          "output_type": "stream",
          "text": [
            "15.436\n",
            "25.0\n"
          ],
          "name": "stdout"
        },
        {
          "output_type": "execute_result",
          "data": {
            "text/plain": [
              "(None, float)"
            ]
          },
          "metadata": {
            "tags": []
          },
          "execution_count": 10
        }
      ]
    },
    {
      "cell_type": "markdown",
      "metadata": {
        "id": "dDmAZ3n_8H6D"
      },
      "source": [
        "A variable of type `float` will not round the number that you store in it, while a variable of type `integer` will. This makes `floats` more suitable for mathematical calculations where you want more than just integers.\n",
        "\n",
        "Note that as we used the `float()` function to force an number to be considered a `float`, we can use the `int()` function to force a number to be considered an `int`."
      ]
    },
    {
      "cell_type": "code",
      "metadata": {
        "id": "Dm8D0Y248H6E",
        "colab": {
          "base_uri": "https://localhost:8080/"
        },
        "outputId": "5dfd1d2d-d808-448f-9fc6-bcc7a4a2073e"
      },
      "source": [
        "my_int = int(3.14159)\n",
        "print (my_int), type(my_int)"
      ],
      "execution_count": 11,
      "outputs": [
        {
          "output_type": "stream",
          "text": [
            "3\n"
          ],
          "name": "stdout"
        },
        {
          "output_type": "execute_result",
          "data": {
            "text/plain": [
              "(None, int)"
            ]
          },
          "metadata": {
            "tags": []
          },
          "execution_count": 11
        }
      ]
    },
    {
      "cell_type": "code",
      "metadata": {
        "colab": {
          "base_uri": "https://localhost:8080/"
        },
        "id": "nu_SAD_RGhSc",
        "outputId": "096c4e07-2cbb-4272-8d08-126697bceecc"
      },
      "source": [
        "entero = int(15.436)\n",
        "print(entero), type(entero)"
      ],
      "execution_count": 12,
      "outputs": [
        {
          "output_type": "stream",
          "text": [
            "15\n"
          ],
          "name": "stdout"
        },
        {
          "output_type": "execute_result",
          "data": {
            "text/plain": [
              "(None, int)"
            ]
          },
          "metadata": {
            "tags": []
          },
          "execution_count": 12
        }
      ]
    },
    {
      "cell_type": "markdown",
      "metadata": {
        "id": "7249-nzk8H6F"
      },
      "source": [
        "The `int()` function will also truncate any digits that a number may have after the decimal point!\n",
        "\n",
        "Strings allow you to include text as a variable to operate on. They are defined using either single quotes ('') or double quotes (\"\")."
      ]
    },
    {
      "cell_type": "code",
      "metadata": {
        "id": "p_YPJFRT8H6G",
        "colab": {
          "base_uri": "https://localhost:8080/"
        },
        "outputId": "71a76323-3eb4-4b8c-d833-f250b5126d23"
      },
      "source": [
        "my_string = 'This is a string with single quotes'\n",
        "print (my_string)\n",
        "my_string = \"This is a string with double quotes\"\n",
        "print (my_string)"
      ],
      "execution_count": 13,
      "outputs": [
        {
          "output_type": "stream",
          "text": [
            "This is a string with single quotes\n",
            "This is a string with double quotes\n"
          ],
          "name": "stdout"
        }
      ]
    },
    {
      "cell_type": "code",
      "metadata": {
        "colab": {
          "base_uri": "https://localhost:8080/"
        },
        "id": "_oiXoFYvG1vd",
        "outputId": "d6dfd443-ac85-4e7a-ba86-c1994ba51727"
      },
      "source": [
        "texto = 'Ejemplo de String usando comillas simples'\n",
        "print (texto)"
      ],
      "execution_count": 14,
      "outputs": [
        {
          "output_type": "stream",
          "text": [
            "Ejemplo de String usando comillas simples\n"
          ],
          "name": "stdout"
        }
      ]
    },
    {
      "cell_type": "code",
      "metadata": {
        "colab": {
          "base_uri": "https://localhost:8080/"
        },
        "id": "mkhQ4_eWHCJE",
        "outputId": "4cdfea1c-c500-4ff6-969d-22a1d1ccc4c4"
      },
      "source": [
        "texto2 = \"Ejemplo de String usando comillas dobles\"\n",
        "print (texto2)"
      ],
      "execution_count": 15,
      "outputs": [
        {
          "output_type": "stream",
          "text": [
            "Ejemplo de String usando comillas dobles\n"
          ],
          "name": "stdout"
        }
      ]
    },
    {
      "cell_type": "markdown",
      "metadata": {
        "id": "qFk-FeMa8H6G"
      },
      "source": [
        "Both are allowed so that we can include apostrophes or quotation marks in a string if we so choose."
      ]
    },
    {
      "cell_type": "code",
      "metadata": {
        "id": "CAUSfYwg8H6H",
        "colab": {
          "base_uri": "https://localhost:8080/"
        },
        "outputId": "93c2c63d-1881-465c-a020-89a013e0d49f"
      },
      "source": [
        "my_string = '\"Jabberwocky\", by Lewis Carroll'\n",
        "print (my_string)\n",
        "my_string = \"'Twas brillig, and the slithy toves / Did gyre and gimble in the wabe;\"\n",
        "print (my_string)"
      ],
      "execution_count": 16,
      "outputs": [
        {
          "output_type": "stream",
          "text": [
            "\"Jabberwocky\", by Lewis Carroll\n",
            "'Twas brillig, and the slithy toves / Did gyre and gimble in the wabe;\n"
          ],
          "name": "stdout"
        }
      ]
    },
    {
      "cell_type": "code",
      "metadata": {
        "colab": {
          "base_uri": "https://localhost:8080/"
        },
        "id": "ZmgWVdZmHt70",
        "outputId": "0a0b66e9-685b-4990-e6fc-5e8b67bec08e"
      },
      "source": [
        "texto = '\"Ejemplo de comillas dobles en un String\"'\n",
        "print(texto)"
      ],
      "execution_count": 17,
      "outputs": [
        {
          "output_type": "stream",
          "text": [
            "\"Ejemplo de comillas dobles en un String\"\n"
          ],
          "name": "stdout"
        }
      ]
    },
    {
      "cell_type": "code",
      "metadata": {
        "colab": {
          "base_uri": "https://localhost:8080/"
        },
        "id": "vyqLjbwrIPsE",
        "outputId": "e643c2ce-0b96-4bee-8234-c9c84ad89d0b"
      },
      "source": [
        "texto = \"'Ejemplo de comillas simples en un String'\"\n",
        "print(texto)"
      ],
      "execution_count": 18,
      "outputs": [
        {
          "output_type": "stream",
          "text": [
            "'Ejemplo de comillas simples en un String'\n"
          ],
          "name": "stdout"
        }
      ]
    },
    {
      "cell_type": "markdown",
      "metadata": {
        "id": "L18VRi5Q8H6H"
      },
      "source": [
        "Booleans, or `bools` are binary variable types. A `bool` can only take on one of two values, these being `True` or `False`. There is much more to this idea of truth values when it comes to programming, which we cover later in the [Logical Operators](#id-section5) of this notebook."
      ]
    },
    {
      "cell_type": "code",
      "metadata": {
        "id": "cZEzL4D68H6H",
        "colab": {
          "base_uri": "https://localhost:8080/"
        },
        "outputId": "05346482-9ad7-44a9-ceff-eb7e68670758"
      },
      "source": [
        "my_bool = True\n",
        "print (my_bool), type(my_bool)"
      ],
      "execution_count": 19,
      "outputs": [
        {
          "output_type": "stream",
          "text": [
            "True\n"
          ],
          "name": "stdout"
        },
        {
          "output_type": "execute_result",
          "data": {
            "text/plain": [
              "(None, bool)"
            ]
          },
          "metadata": {
            "tags": []
          },
          "execution_count": 19
        }
      ]
    },
    {
      "cell_type": "code",
      "metadata": {
        "colab": {
          "base_uri": "https://localhost:8080/"
        },
        "id": "Dr733IDCIkAc",
        "outputId": "b080b76f-10fc-4e26-b588-608804a03058"
      },
      "source": [
        "booleano = False\n",
        "print (booleano), type(booleano)"
      ],
      "execution_count": 20,
      "outputs": [
        {
          "output_type": "stream",
          "text": [
            "False\n"
          ],
          "name": "stdout"
        },
        {
          "output_type": "execute_result",
          "data": {
            "text/plain": [
              "(None, bool)"
            ]
          },
          "metadata": {
            "tags": []
          },
          "execution_count": 20
        }
      ]
    },
    {
      "cell_type": "markdown",
      "metadata": {
        "id": "YEUaTgbN8H6J"
      },
      "source": [
        "There are many more data types that you can assign as variables in Python, but these are the basic ones! We will cover a few more later as we move through this tutorial."
      ]
    },
    {
      "cell_type": "markdown",
      "metadata": {
        "id": "QvagOHGS8H6J"
      },
      "source": [
        "## Basic Math\n",
        "\n",
        "Python has a number of built-in math functions. These can be extended even further by importing the **math** package or by including any number of other calculation-based packages.\n",
        "\n",
        "All of the basic arithmetic operations are supported: `+`, `-`, `/`, and `*`. You can create exponents by using `**` and modular arithmetic is introduced with the mod operator, `%`."
      ]
    },
    {
      "cell_type": "code",
      "metadata": {
        "id": "7R31vO1y8H6K",
        "colab": {
          "base_uri": "https://localhost:8080/"
        },
        "outputId": "7e1ff457-f9f0-4524-ca04-5fda40b6a7f3"
      },
      "source": [
        "print ('Addition: ', 2 + 2)\n",
        "print ('Subtraction: ', 7 - 4)\n",
        "print ('Multiplication: ', 2 * 5)\n",
        "print ('Division: ', 10 / 2)\n",
        "print ('Exponentiation: ', 3**2)"
      ],
      "execution_count": 21,
      "outputs": [
        {
          "output_type": "stream",
          "text": [
            "Addition:  4\n",
            "Subtraction:  3\n",
            "Multiplication:  10\n",
            "Division:  5.0\n",
            "Exponentiation:  9\n"
          ],
          "name": "stdout"
        }
      ]
    },
    {
      "cell_type": "code",
      "metadata": {
        "colab": {
          "base_uri": "https://localhost:8080/"
        },
        "id": "Utti1yEOEYPa",
        "outputId": "bd237d82-f0d0-4e94-bee6-f8738b75ec60"
      },
      "source": [
        "print ('Suma: ', 8 + 5)\n",
        "print ('Resta: ', 8 - 8)\n",
        "print ('Multipliación: ', 5 * 9)\n",
        "print ('División: ', 15 / 3)\n",
        "print ('Potenciación: ', 5**2)"
      ],
      "execution_count": 22,
      "outputs": [
        {
          "output_type": "stream",
          "text": [
            "Suma:  13\n",
            "Resta:  0\n",
            "Multipliación:  45\n",
            "División:  5.0\n",
            "Potenciación:  25\n"
          ],
          "name": "stdout"
        }
      ]
    },
    {
      "cell_type": "markdown",
      "metadata": {
        "id": "8oVdKFKM8H6L"
      },
      "source": [
        "If you are not familiar with the the mod operator, it operates like a remainder function. If we type $15 \\ \\% \\ 4$, it will return the remainder after dividing $15$ by $4$."
      ]
    },
    {
      "cell_type": "code",
      "metadata": {
        "id": "VTcx6ai_8H6L",
        "colab": {
          "base_uri": "https://localhost:8080/"
        },
        "outputId": "7072d2ed-9ec8-4b07-a186-d8f6020eaa5c"
      },
      "source": [
        "print ('Modulo: ', 15 % 4)"
      ],
      "execution_count": 23,
      "outputs": [
        {
          "output_type": "stream",
          "text": [
            "Modulo:  3\n"
          ],
          "name": "stdout"
        }
      ]
    },
    {
      "cell_type": "code",
      "metadata": {
        "colab": {
          "base_uri": "https://localhost:8080/"
        },
        "id": "FeWlYfyVFFhN",
        "outputId": "ed718259-5c5d-4e1e-87a4-86d984f5e75d"
      },
      "source": [
        "print ('Módulo: ', 80 % 7)"
      ],
      "execution_count": 24,
      "outputs": [
        {
          "output_type": "stream",
          "text": [
            "Módulo:  3\n"
          ],
          "name": "stdout"
        }
      ]
    },
    {
      "cell_type": "markdown",
      "metadata": {
        "id": "xUnkYLv28H6M"
      },
      "source": [
        "Mathematical functions also work on variables!"
      ]
    },
    {
      "cell_type": "code",
      "metadata": {
        "scrolled": true,
        "id": "SstA_e1D8H6N",
        "colab": {
          "base_uri": "https://localhost:8080/"
        },
        "outputId": "dc0bd7a5-489a-4fc0-dc40-9b6d543c86ca"
      },
      "source": [
        "first_integer = 4\n",
        "second_integer = 5\n",
        "print (first_integer * second_integer)"
      ],
      "execution_count": 25,
      "outputs": [
        {
          "output_type": "stream",
          "text": [
            "20\n"
          ],
          "name": "stdout"
        }
      ]
    },
    {
      "cell_type": "markdown",
      "metadata": {
        "id": "CF-Pk0YBFc-E"
      },
      "source": [
        "Operaciones con variables"
      ]
    },
    {
      "cell_type": "code",
      "metadata": {
        "colab": {
          "base_uri": "https://localhost:8080/"
        },
        "id": "KbW0bEpkFcaS",
        "outputId": "03e9c0a3-7f50-4c3a-b93d-c98bcd742d13"
      },
      "source": [
        "primer_entero = 8\n",
        "segundo_entero = 2\n",
        "print (primer_entero**segundo_entero)"
      ],
      "execution_count": 26,
      "outputs": [
        {
          "output_type": "stream",
          "text": [
            "64\n"
          ],
          "name": "stdout"
        }
      ]
    },
    {
      "cell_type": "markdown",
      "metadata": {
        "id": "6utfgEgV8H6N"
      },
      "source": [
        "Make sure that your variables are floats if you want to have decimal points in your answer. If you perform math exclusively with integers, you get an integer. Including any float in the calculation will make the result a float."
      ]
    },
    {
      "cell_type": "code",
      "metadata": {
        "id": "SLbTfKNh8H6O",
        "colab": {
          "base_uri": "https://localhost:8080/"
        },
        "outputId": "3171e152-6d08-4657-f13d-8171bd1a1d04"
      },
      "source": [
        "first_integer = 11\n",
        "second_integer = 3\n",
        "print (first_integer / second_integer)"
      ],
      "execution_count": 27,
      "outputs": [
        {
          "output_type": "stream",
          "text": [
            "3.6666666666666665\n"
          ],
          "name": "stdout"
        }
      ]
    },
    {
      "cell_type": "code",
      "metadata": {
        "colab": {
          "base_uri": "https://localhost:8080/"
        },
        "id": "7Zcgwgo3Gcdh",
        "outputId": "13de6c8b-f089-4922-9077-d5508fc13ebe"
      },
      "source": [
        "primer_entero = 5\n",
        "segundo_entero = 3\n",
        "print (primer_entero / segundo_entero)"
      ],
      "execution_count": 28,
      "outputs": [
        {
          "output_type": "stream",
          "text": [
            "1.6666666666666667\n"
          ],
          "name": "stdout"
        }
      ]
    },
    {
      "cell_type": "code",
      "metadata": {
        "id": "qhvKjv_M8H6O",
        "colab": {
          "base_uri": "https://localhost:8080/"
        },
        "outputId": "309c3be5-6030-4375-cb76-126f9e196473"
      },
      "source": [
        "first_number = 11.0\n",
        "second_number = 3.0\n",
        "print (first_number / second_number)"
      ],
      "execution_count": 29,
      "outputs": [
        {
          "output_type": "stream",
          "text": [
            "3.6666666666666665\n"
          ],
          "name": "stdout"
        }
      ]
    },
    {
      "cell_type": "code",
      "metadata": {
        "colab": {
          "base_uri": "https://localhost:8080/"
        },
        "id": "SwvS3P_WG3ue",
        "outputId": "e626939e-445d-412c-9315-5c8715becb84"
      },
      "source": [
        "primer_entero = 5.0\n",
        "segundo_entero = 3.0\n",
        "print (primer_entero / segundo_entero)"
      ],
      "execution_count": 30,
      "outputs": [
        {
          "output_type": "stream",
          "text": [
            "1.6666666666666667\n"
          ],
          "name": "stdout"
        }
      ]
    },
    {
      "cell_type": "markdown",
      "metadata": {
        "id": "S0HSwDwc8H6O"
      },
      "source": [
        "Python has a few built-in math functions. The most notable of these are:\n",
        "\n",
        "* `abs()`\n",
        "* `round()`\n",
        "* `max()`\n",
        "* `min()`\n",
        "* `sum()`\n",
        "\n",
        "These functions all act as you would expect, given their names. Calling `abs()` on a number will return its absolute value. The `round()` function will round a number to a specified number of the decimal points (the default is $0$). Calling `max()` or `min()` on a collection of numbers will return, respectively, the maximum or minimum value in the collection. Calling `sum()` on a collection of numbers will add them all up. If you're not familiar with how collections of values in Python work, don't worry! We will cover collections in-depth in the next section. \n",
        "\n",
        "Additional math functionality can be added in with the `math` package."
      ]
    },
    {
      "cell_type": "code",
      "metadata": {
        "id": "MXEjghx78H6P"
      },
      "source": [
        "import math"
      ],
      "execution_count": 31,
      "outputs": []
    },
    {
      "cell_type": "markdown",
      "metadata": {
        "id": "KTHjIrO18H6P"
      },
      "source": [
        "The math library adds a long list of new mathematical functions to Python. Feel free to check out the [documentation](https://docs.python.org/2/library/math.html) for the full list and details. It concludes some mathematical constants"
      ]
    },
    {
      "cell_type": "code",
      "metadata": {
        "id": "f9d2H1hc8H6Q",
        "colab": {
          "base_uri": "https://localhost:8080/"
        },
        "outputId": "566169d0-7725-4e5d-a746-fad059b66008"
      },
      "source": [
        "print ('Pi: ', math.pi)\n",
        "print (\"Euler's Constant: \", math.e)"
      ],
      "execution_count": 32,
      "outputs": [
        {
          "output_type": "stream",
          "text": [
            "Pi:  3.141592653589793\n",
            "Euler's Constant:  2.718281828459045\n"
          ],
          "name": "stdout"
        }
      ]
    },
    {
      "cell_type": "code",
      "metadata": {
        "colab": {
          "base_uri": "https://localhost:8080/"
        },
        "id": "_hCpRkGmHgLz",
        "outputId": "94e36e66-f188-433c-e925-91de439344e4"
      },
      "source": [
        "print ('Tau: ', math.tau)"
      ],
      "execution_count": 33,
      "outputs": [
        {
          "output_type": "stream",
          "text": [
            "Tau:  6.283185307179586\n"
          ],
          "name": "stdout"
        }
      ]
    },
    {
      "cell_type": "markdown",
      "metadata": {
        "id": "vIzkkmcD8H6Q"
      },
      "source": [
        "As well as some commonly used math functions"
      ]
    },
    {
      "cell_type": "markdown",
      "metadata": {
        "id": "0016h6dXN8N4"
      },
      "source": [
        "$$\n",
        "\\cos \\pi\n",
        "$$"
      ]
    },
    {
      "cell_type": "code",
      "metadata": {
        "id": "BivuPOod8H6R",
        "colab": {
          "base_uri": "https://localhost:8080/"
        },
        "outputId": "77d05637-6f25-4ae3-afd2-56742d2fbc70"
      },
      "source": [
        "print ('Cosine of pi: ', math.cos(math.pi))"
      ],
      "execution_count": 34,
      "outputs": [
        {
          "output_type": "stream",
          "text": [
            "Cosine of pi:  -1.0\n"
          ],
          "name": "stdout"
        }
      ]
    },
    {
      "cell_type": "markdown",
      "metadata": {
        "id": "gAylYp6nNPBh"
      },
      "source": [
        "$$\n",
        "\\sin \\frac{\\pi} {2}\n",
        "$$\n",
        "\n"
      ]
    },
    {
      "cell_type": "code",
      "metadata": {
        "colab": {
          "base_uri": "https://localhost:8080/"
        },
        "id": "HBXMZuaTIP17",
        "outputId": "575d291f-375a-4449-c7f0-3c0f0b473858"
      },
      "source": [
        "print ('Seno de Pi/2: ', math.sin(math.pi))"
      ],
      "execution_count": 35,
      "outputs": [
        {
          "output_type": "stream",
          "text": [
            "Seno de Pi/2:  1.2246467991473532e-16\n"
          ],
          "name": "stdout"
        }
      ]
    },
    {
      "cell_type": "markdown",
      "metadata": {
        "id": "AXwyCsO48H6R"
      },
      "source": [
        "## Collections\n",
        "### Lists\n",
        "\n",
        "A `list` in Python is an ordered collection of objects that can contain any data type. We define a `list` using brackets (`[]`)."
      ]
    },
    {
      "cell_type": "code",
      "metadata": {
        "id": "VqGl6DcP8H6S",
        "colab": {
          "base_uri": "https://localhost:8080/"
        },
        "outputId": "b0148fa5-3924-4c00-a92b-f1145d3568f9"
      },
      "source": [
        "my_list = [1, 2, 3]\n",
        "print (my_list)"
      ],
      "execution_count": 36,
      "outputs": [
        {
          "output_type": "stream",
          "text": [
            "[1, 2, 3]\n"
          ],
          "name": "stdout"
        }
      ]
    },
    {
      "cell_type": "code",
      "metadata": {
        "colab": {
          "base_uri": "https://localhost:8080/"
        },
        "id": "z6GrKAwGJeh3",
        "outputId": "3501c18e-ea1f-4cf4-ba63-173978b8e714"
      },
      "source": [
        "lista = [5, 10, 15, 20]\n",
        "print (lista)"
      ],
      "execution_count": 37,
      "outputs": [
        {
          "output_type": "stream",
          "text": [
            "[5, 10, 15, 20]\n"
          ],
          "name": "stdout"
        }
      ]
    },
    {
      "cell_type": "markdown",
      "metadata": {
        "id": "sPypmzvj8H6T"
      },
      "source": [
        "We can access and index the list by using brackets as well. In order to select an individual element, simply type the list name followed by the index of the item you are looking for in braces."
      ]
    },
    {
      "cell_type": "code",
      "metadata": {
        "id": "XgtgXcOT8H6T",
        "colab": {
          "base_uri": "https://localhost:8080/"
        },
        "outputId": "b5a6abde-c13b-4b19-af01-9df2e756d32c"
      },
      "source": [
        "print (my_list[0])\n",
        "print (my_list[2])"
      ],
      "execution_count": 38,
      "outputs": [
        {
          "output_type": "stream",
          "text": [
            "1\n",
            "3\n"
          ],
          "name": "stdout"
        }
      ]
    },
    {
      "cell_type": "code",
      "metadata": {
        "colab": {
          "base_uri": "https://localhost:8080/"
        },
        "id": "W3OaIYykJ8Us",
        "outputId": "46d484c0-aaa9-41b0-8921-fbc3a6cfb45b"
      },
      "source": [
        "print (lista[2])\n",
        "print (lista[3])"
      ],
      "execution_count": 39,
      "outputs": [
        {
          "output_type": "stream",
          "text": [
            "15\n",
            "20\n"
          ],
          "name": "stdout"
        }
      ]
    },
    {
      "cell_type": "markdown",
      "metadata": {
        "id": "aRDGYR_48H6T"
      },
      "source": [
        "Indexing in Python starts from $0$. If you have a list of length $n$, the first element of the list is at index $0$, the second element is at index $1$, and so on and so forth. The final element of the list will be at index $n-1$. Be careful! Trying to access a non-existent index will cause an error."
      ]
    },
    {
      "cell_type": "code",
      "metadata": {
        "id": "8ZkgGMbh8H6U",
        "colab": {
          "base_uri": "https://localhost:8080/"
        },
        "outputId": "8ef39193-e2e3-4d8a-c38d-7edb16113421"
      },
      "source": [
        "print ('The first, second, and third list elements: ', my_list[0], my_list[1], my_list[2])\n",
        "# print ('Accessing outside the list bounds causes an error: ', my_list[3])"
      ],
      "execution_count": 40,
      "outputs": [
        {
          "output_type": "stream",
          "text": [
            "The first, second, and third list elements:  1 2 3\n"
          ],
          "name": "stdout"
        }
      ]
    },
    {
      "cell_type": "code",
      "metadata": {
        "colab": {
          "base_uri": "https://localhost:8080/"
        },
        "id": "kFbvQGyYKTQ2",
        "outputId": "44c775c5-1cf3-4cc5-9737-fd26aecdd4b6"
      },
      "source": [
        "print ('Primer y segundo elemento de la lista:', lista[0], ' | ', lista[1], ' | ', lista[2])\n",
        "# print ('Error al acceder a un índice inexistente: '), lista[4]"
      ],
      "execution_count": 41,
      "outputs": [
        {
          "output_type": "stream",
          "text": [
            "Primer y segundo elemento de la lista: 5  |  10  |  15\n"
          ],
          "name": "stdout"
        }
      ]
    },
    {
      "cell_type": "markdown",
      "metadata": {
        "id": "P_AKAiFM8H6Y"
      },
      "source": [
        "We can see the number of elements in a list by calling the `len()` function."
      ]
    },
    {
      "cell_type": "code",
      "metadata": {
        "id": "XQLvp4Zt8H6Z",
        "colab": {
          "base_uri": "https://localhost:8080/"
        },
        "outputId": "5c0c7797-1839-45e7-f0c1-93b298785de1"
      },
      "source": [
        "print (len(my_list))"
      ],
      "execution_count": 42,
      "outputs": [
        {
          "output_type": "stream",
          "text": [
            "3\n"
          ],
          "name": "stdout"
        }
      ]
    },
    {
      "cell_type": "code",
      "metadata": {
        "colab": {
          "base_uri": "https://localhost:8080/"
        },
        "id": "D72lnjDALSjO",
        "outputId": "aed332f0-9949-4229-87db-51098b91a2e5"
      },
      "source": [
        "print (len(lista))"
      ],
      "execution_count": 43,
      "outputs": [
        {
          "output_type": "stream",
          "text": [
            "4\n"
          ],
          "name": "stdout"
        }
      ]
    },
    {
      "cell_type": "markdown",
      "metadata": {
        "id": "dYts-y2M8H6Z"
      },
      "source": [
        "We can update and change a list by accessing an index and assigning new value."
      ]
    },
    {
      "cell_type": "code",
      "metadata": {
        "id": "_vKAMiqt8H6b",
        "colab": {
          "base_uri": "https://localhost:8080/"
        },
        "outputId": "0b130664-92ad-4dd9-9211-6e7c3527c2f4"
      },
      "source": [
        "print (my_list)\n",
        "my_list[0] = 42\n",
        "print (my_list)"
      ],
      "execution_count": 44,
      "outputs": [
        {
          "output_type": "stream",
          "text": [
            "[1, 2, 3]\n",
            "[42, 2, 3]\n"
          ],
          "name": "stdout"
        }
      ]
    },
    {
      "cell_type": "code",
      "metadata": {
        "colab": {
          "base_uri": "https://localhost:8080/"
        },
        "id": "mBopBKxYLhL2",
        "outputId": "b30a3527-ca38-4de1-c8e4-25cc3719b719"
      },
      "source": [
        "print (lista)\n",
        "lista[0] = 88\n",
        "print (lista)"
      ],
      "execution_count": 45,
      "outputs": [
        {
          "output_type": "stream",
          "text": [
            "[5, 10, 15, 20]\n",
            "[88, 10, 15, 20]\n"
          ],
          "name": "stdout"
        }
      ]
    },
    {
      "cell_type": "markdown",
      "metadata": {
        "id": "_lBuqoIh8H6b"
      },
      "source": [
        "This is fundamentally different from how strings are handled. A `list` is mutable, meaning that you can change a `list`'s elements without changing the list itself. Some data types, like `strings`, are immutable, meaning you cannot change them at all. Once a `string` or other immutable data type has been created, it cannot be directly modified without creating an entirely new object."
      ]
    },
    {
      "cell_type": "code",
      "metadata": {
        "id": "d-MorCWj8H6d"
      },
      "source": [
        "my_string = \"Strings never change\"\n",
        "# my_string[0] = 'Z'"
      ],
      "execution_count": 46,
      "outputs": []
    },
    {
      "cell_type": "code",
      "metadata": {
        "id": "3y427hIhPEOg"
      },
      "source": [
        "texto = \"Strings no cambian\"\n",
        "# texto[0] = 'L'"
      ],
      "execution_count": 47,
      "outputs": []
    },
    {
      "cell_type": "markdown",
      "metadata": {
        "id": "_G43ElV28H6d"
      },
      "source": [
        "As we stated before, a list can contain any data type. Thus, lists can also contain strings."
      ]
    },
    {
      "cell_type": "code",
      "metadata": {
        "id": "oLFN6b4T8H6e",
        "colab": {
          "base_uri": "https://localhost:8080/"
        },
        "outputId": "42910bed-9878-43db-b75c-69c6c5e38614"
      },
      "source": [
        "my_list_2 = ['one', 'two', 'three']\n",
        "print (my_list_2)"
      ],
      "execution_count": 48,
      "outputs": [
        {
          "output_type": "stream",
          "text": [
            "['one', 'two', 'three']\n"
          ],
          "name": "stdout"
        }
      ]
    },
    {
      "cell_type": "code",
      "metadata": {
        "colab": {
          "base_uri": "https://localhost:8080/"
        },
        "id": "buE8XjOQPV82",
        "outputId": "94bcac62-dcae-4132-f570-19fa996324f2"
      },
      "source": [
        "lista_2 = ['Manzana', 'Naranja', 'Pera', 'Maracuya']\n",
        "print (lista_2)"
      ],
      "execution_count": 49,
      "outputs": [
        {
          "output_type": "stream",
          "text": [
            "['Manzana', 'Naranja', 'Pera', 'Maracuya']\n"
          ],
          "name": "stdout"
        }
      ]
    },
    {
      "cell_type": "markdown",
      "metadata": {
        "id": "TI_-sZUs8H6e"
      },
      "source": [
        "Lists can also contain multiple different data types at once!"
      ]
    },
    {
      "cell_type": "code",
      "metadata": {
        "id": "FpIWZWw38H6f"
      },
      "source": [
        "my_list_3 = [True, 'False', 42]"
      ],
      "execution_count": 50,
      "outputs": []
    },
    {
      "cell_type": "code",
      "metadata": {
        "id": "z8rlFYKRP_JA"
      },
      "source": [
        "lista_3 = [False, 'Hola', 50]"
      ],
      "execution_count": 51,
      "outputs": []
    },
    {
      "cell_type": "markdown",
      "metadata": {
        "id": "MliQOc2X8H6f"
      },
      "source": [
        "If you want to put two lists together, they can be combined with a `+` symbol."
      ]
    },
    {
      "cell_type": "code",
      "metadata": {
        "id": "qGxYwPUD8H6j",
        "colab": {
          "base_uri": "https://localhost:8080/"
        },
        "outputId": "5ec9b9f3-9bd9-401f-8276-fdb87950db30"
      },
      "source": [
        "my_list_4 = my_list + my_list_2 + my_list_3\n",
        "print (my_list_4)"
      ],
      "execution_count": 52,
      "outputs": [
        {
          "output_type": "stream",
          "text": [
            "[42, 2, 3, 'one', 'two', 'three', True, 'False', 42]\n"
          ],
          "name": "stdout"
        }
      ]
    },
    {
      "cell_type": "code",
      "metadata": {
        "colab": {
          "base_uri": "https://localhost:8080/"
        },
        "id": "epLn0SqeQJdw",
        "outputId": "760e2e33-6be5-4473-e181-a688f7d0b515"
      },
      "source": [
        "lista_4 = lista + lista_2 + lista_3\n",
        "print (lista_4)"
      ],
      "execution_count": 53,
      "outputs": [
        {
          "output_type": "stream",
          "text": [
            "[88, 10, 15, 20, 'Manzana', 'Naranja', 'Pera', 'Maracuya', False, 'Hola', 50]\n"
          ],
          "name": "stdout"
        }
      ]
    },
    {
      "cell_type": "markdown",
      "metadata": {
        "id": "mbN5Rf0R8H6k"
      },
      "source": [
        "In addition to accessing individual elements of a list, we can access groups of elements through slicing."
      ]
    },
    {
      "cell_type": "code",
      "metadata": {
        "id": "-UxCa5fA8H6m"
      },
      "source": [
        "my_list = ['friends', 'romans', 'countrymen', 'lend', 'me', 'your', 'ears']"
      ],
      "execution_count": 54,
      "outputs": []
    },
    {
      "cell_type": "code",
      "metadata": {
        "id": "PNQWt1nHR8Rh"
      },
      "source": [
        "mi_lista = ['Mensaje', 'de', 'prueba', 'número', 'uno']"
      ],
      "execution_count": 55,
      "outputs": []
    },
    {
      "cell_type": "markdown",
      "metadata": {
        "id": "4mMkCkQC8H6n"
      },
      "source": [
        "#### Slicing\n",
        "\n",
        "We use the colon (`:`) to slice lists. "
      ]
    },
    {
      "cell_type": "code",
      "metadata": {
        "scrolled": true,
        "id": "YgEKrCwC8H6o",
        "colab": {
          "base_uri": "https://localhost:8080/"
        },
        "outputId": "013db281-4da5-4a12-ec09-3832b61f0589"
      },
      "source": [
        "print (my_list[2:4])"
      ],
      "execution_count": 56,
      "outputs": [
        {
          "output_type": "stream",
          "text": [
            "['countrymen', 'lend']\n"
          ],
          "name": "stdout"
        }
      ]
    },
    {
      "cell_type": "code",
      "metadata": {
        "colab": {
          "base_uri": "https://localhost:8080/"
        },
        "id": "BUuI9_CXTD3N",
        "outputId": "bb807ab2-83b8-4095-f1fa-e85d4b784019"
      },
      "source": [
        "print (mi_lista[0:3])"
      ],
      "execution_count": 57,
      "outputs": [
        {
          "output_type": "stream",
          "text": [
            "['Mensaje', 'de', 'prueba']\n"
          ],
          "name": "stdout"
        }
      ]
    },
    {
      "cell_type": "markdown",
      "metadata": {
        "id": "xMYZdEhE8H6o"
      },
      "source": [
        "Using `:` we can select a group of elements in the list starting from the first element indicated and going up to  (but not including) the last element indicated.\n",
        "\n",
        "We can also select everything after a certain point"
      ]
    },
    {
      "cell_type": "code",
      "metadata": {
        "scrolled": true,
        "id": "XdX9GRaN8H6o",
        "colab": {
          "base_uri": "https://localhost:8080/"
        },
        "outputId": "4c0fb2f4-beba-4fae-d741-332c3744902c"
      },
      "source": [
        "print (my_list[1:])"
      ],
      "execution_count": 58,
      "outputs": [
        {
          "output_type": "stream",
          "text": [
            "['romans', 'countrymen', 'lend', 'me', 'your', 'ears']\n"
          ],
          "name": "stdout"
        }
      ]
    },
    {
      "cell_type": "code",
      "metadata": {
        "id": "p-u-ZGQhTRKa",
        "colab": {
          "base_uri": "https://localhost:8080/"
        },
        "outputId": "c253b21b-a05f-4917-aa2a-93b8714053df"
      },
      "source": [
        "print (mi_lista[2:])"
      ],
      "execution_count": 59,
      "outputs": [
        {
          "output_type": "stream",
          "text": [
            "['prueba', 'número', 'uno']\n"
          ],
          "name": "stdout"
        }
      ]
    },
    {
      "cell_type": "markdown",
      "metadata": {
        "id": "K02_OnFF8H6o"
      },
      "source": [
        "And everything before a certain point"
      ]
    },
    {
      "cell_type": "code",
      "metadata": {
        "scrolled": true,
        "id": "1GbXBFYH8H6p",
        "colab": {
          "base_uri": "https://localhost:8080/"
        },
        "outputId": "66ec3ab2-77d3-4ee2-836e-f91f89c00fcd"
      },
      "source": [
        "print (my_list[:4])"
      ],
      "execution_count": 60,
      "outputs": [
        {
          "output_type": "stream",
          "text": [
            "['friends', 'romans', 'countrymen', 'lend']\n"
          ],
          "name": "stdout"
        }
      ]
    },
    {
      "cell_type": "code",
      "metadata": {
        "id": "syCTv4U8Ta-r",
        "colab": {
          "base_uri": "https://localhost:8080/"
        },
        "outputId": "ec340bf7-bd2f-4687-a82c-ee5ed2b0060b"
      },
      "source": [
        "print (mi_lista[:3])"
      ],
      "execution_count": 61,
      "outputs": [
        {
          "output_type": "stream",
          "text": [
            "['Mensaje', 'de', 'prueba']\n"
          ],
          "name": "stdout"
        }
      ]
    },
    {
      "cell_type": "markdown",
      "metadata": {
        "id": "zVxqONiv8H6p"
      },
      "source": [
        "Using negative numbers will count from the end of the indices instead of from the beginning. For example, an index of `-1` indicates the last element of the list."
      ]
    },
    {
      "cell_type": "code",
      "metadata": {
        "id": "xieeFJcc8H6q",
        "colab": {
          "base_uri": "https://localhost:8080/"
        },
        "outputId": "1923b6dd-980b-4b7b-d5bf-ef497c74939b"
      },
      "source": [
        "print (my_list[-1])"
      ],
      "execution_count": 62,
      "outputs": [
        {
          "output_type": "stream",
          "text": [
            "ears\n"
          ],
          "name": "stdout"
        }
      ]
    },
    {
      "cell_type": "code",
      "metadata": {
        "id": "o_v4mFFfTuCy",
        "colab": {
          "base_uri": "https://localhost:8080/"
        },
        "outputId": "35b66d65-3f89-479d-bf31-ce05d81ad580"
      },
      "source": [
        "print (mi_lista[-1])"
      ],
      "execution_count": 63,
      "outputs": [
        {
          "output_type": "stream",
          "text": [
            "uno\n"
          ],
          "name": "stdout"
        }
      ]
    },
    {
      "cell_type": "markdown",
      "metadata": {
        "id": "uYKCWuKk8H6q"
      },
      "source": [
        "You can also add a third component to slicing. Instead of simply indicating the first and final parts of your slice, you can specify the step size that you want to take. So instead of taking every single element, you can take every other element."
      ]
    },
    {
      "cell_type": "markdown",
      "metadata": {
        "id": "yzrsiuPOU9Ho"
      },
      "source": [
        "En el siguiente ejemplo se seleccionan todos los elementos de la lista 0:6 y un step size :2"
      ]
    },
    {
      "cell_type": "code",
      "metadata": {
        "id": "QLR8Sm0lUk9K",
        "colab": {
          "base_uri": "https://localhost:8080/"
        },
        "outputId": "5b0250b8-0558-49b9-8a10-8d6a0d11d1e8"
      },
      "source": [
        "print (mi_lista[0:6:2])"
      ],
      "execution_count": 64,
      "outputs": [
        {
          "output_type": "stream",
          "text": [
            "['Mensaje', 'prueba', 'uno']\n"
          ],
          "name": "stdout"
        }
      ]
    },
    {
      "cell_type": "code",
      "metadata": {
        "id": "9dH8ON-u8H6r",
        "colab": {
          "base_uri": "https://localhost:8080/"
        },
        "outputId": "b3582731-761e-462a-ef2b-f071f8367c93"
      },
      "source": [
        "print (my_list[0:7:2])"
      ],
      "execution_count": 65,
      "outputs": [
        {
          "output_type": "stream",
          "text": [
            "['friends', 'countrymen', 'me', 'ears']\n"
          ],
          "name": "stdout"
        }
      ]
    },
    {
      "cell_type": "markdown",
      "metadata": {
        "id": "HstZbWhs8H6r"
      },
      "source": [
        "Here we have selected the entire list (because `0:7` will yield elements `0` through `6`) and we have selected a step size of `2`. So this will spit out element `0` , element `2`, element `4`, and so on through the list element selected. We can skip indicated the beginning and end of our slice, only indicating the step, if we like."
      ]
    },
    {
      "cell_type": "code",
      "metadata": {
        "id": "HgHoMcdx8H6s",
        "colab": {
          "base_uri": "https://localhost:8080/"
        },
        "outputId": "344730bb-9783-437f-a587-16ea490d7d1c"
      },
      "source": [
        "print (my_list[::2])"
      ],
      "execution_count": 66,
      "outputs": [
        {
          "output_type": "stream",
          "text": [
            "['friends', 'countrymen', 'me', 'ears']\n"
          ],
          "name": "stdout"
        }
      ]
    },
    {
      "cell_type": "code",
      "metadata": {
        "id": "CryKSJ3ZV5c0",
        "colab": {
          "base_uri": "https://localhost:8080/"
        },
        "outputId": "ef0d76c6-03c8-4c7b-e5af-a74fcc17e1b0"
      },
      "source": [
        "print (mi_lista[::2])"
      ],
      "execution_count": 67,
      "outputs": [
        {
          "output_type": "stream",
          "text": [
            "['Mensaje', 'prueba', 'uno']\n"
          ],
          "name": "stdout"
        }
      ]
    },
    {
      "cell_type": "markdown",
      "metadata": {
        "id": "xcOijQhj8H6s"
      },
      "source": [
        "Lists implictly select the beginning and end of the list when not otherwise specified."
      ]
    },
    {
      "cell_type": "code",
      "metadata": {
        "id": "mg5cboEQ8H6t",
        "colab": {
          "base_uri": "https://localhost:8080/"
        },
        "outputId": "a271bf59-934b-4484-c144-ce24b68be226"
      },
      "source": [
        "print (my_list[:])"
      ],
      "execution_count": 68,
      "outputs": [
        {
          "output_type": "stream",
          "text": [
            "['friends', 'romans', 'countrymen', 'lend', 'me', 'your', 'ears']\n"
          ],
          "name": "stdout"
        }
      ]
    },
    {
      "cell_type": "code",
      "metadata": {
        "id": "tqxy-QESWK1z",
        "colab": {
          "base_uri": "https://localhost:8080/"
        },
        "outputId": "83fbebbc-9f7b-439f-c74d-36ae091e7f83"
      },
      "source": [
        "print (mi_lista[:])"
      ],
      "execution_count": 69,
      "outputs": [
        {
          "output_type": "stream",
          "text": [
            "['Mensaje', 'de', 'prueba', 'número', 'uno']\n"
          ],
          "name": "stdout"
        }
      ]
    },
    {
      "cell_type": "markdown",
      "metadata": {
        "id": "rVPYws2E8H6t"
      },
      "source": [
        "With a negative step size we can even reverse the list!"
      ]
    },
    {
      "cell_type": "code",
      "metadata": {
        "id": "caROfG3A8H6t",
        "colab": {
          "base_uri": "https://localhost:8080/"
        },
        "outputId": "ffc443bb-076f-43a9-f41f-9faf2dff7515"
      },
      "source": [
        "print (my_list[::-1])"
      ],
      "execution_count": 70,
      "outputs": [
        {
          "output_type": "stream",
          "text": [
            "['ears', 'your', 'me', 'lend', 'countrymen', 'romans', 'friends']\n"
          ],
          "name": "stdout"
        }
      ]
    },
    {
      "cell_type": "code",
      "metadata": {
        "id": "wvSaOeDnWWgy",
        "colab": {
          "base_uri": "https://localhost:8080/"
        },
        "outputId": "a9cddcdb-b9c0-4ac7-98a5-79cd9f531c23"
      },
      "source": [
        "print (mi_lista[::-1])"
      ],
      "execution_count": 71,
      "outputs": [
        {
          "output_type": "stream",
          "text": [
            "['uno', 'número', 'prueba', 'de', 'Mensaje']\n"
          ],
          "name": "stdout"
        }
      ]
    },
    {
      "cell_type": "markdown",
      "metadata": {
        "id": "0rfjOn6J8H6u"
      },
      "source": [
        "Python does not have native matrices, but with lists we can produce a working fascimile. Other packages, such as `numpy`, add matrices as a separate data type, but in base Python the best way to create a matrix is to use a list of lists."
      ]
    },
    {
      "cell_type": "markdown",
      "metadata": {
        "id": "jD98seAS8H6u"
      },
      "source": [
        "We can also use built-in functions to generate lists. In particular we will look at `range()` (because we will be using it later!). Range can take several different inputs and will return a list."
      ]
    },
    {
      "cell_type": "code",
      "metadata": {
        "id": "vDAVWQ7A8H6v",
        "colab": {
          "base_uri": "https://localhost:8080/"
        },
        "outputId": "062c4c28-a1cb-45a0-9710-895f02d18ff9"
      },
      "source": [
        "b = 10\n",
        "my_list = range(b)\n",
        "print (my_list)"
      ],
      "execution_count": 72,
      "outputs": [
        {
          "output_type": "stream",
          "text": [
            "range(0, 10)\n"
          ],
          "name": "stdout"
        }
      ]
    },
    {
      "cell_type": "code",
      "metadata": {
        "id": "nueMaGZHW1LL",
        "colab": {
          "base_uri": "https://localhost:8080/"
        },
        "outputId": "f781006d-71a5-4a47-dbdd-190172ce4968"
      },
      "source": [
        "x = 20\n",
        "mi_lista = range(x)\n",
        "print (mi_lista)"
      ],
      "execution_count": 73,
      "outputs": [
        {
          "output_type": "stream",
          "text": [
            "range(0, 20)\n"
          ],
          "name": "stdout"
        }
      ]
    },
    {
      "cell_type": "markdown",
      "metadata": {
        "id": "KUhlEO1b8H6v"
      },
      "source": [
        "Similar to our list-slicing methods from before, we can define both a start and an end for our range. This will return a list that is includes the start and excludes the end, just like a slice."
      ]
    },
    {
      "cell_type": "code",
      "metadata": {
        "id": "G4jvZEOW8H6w",
        "colab": {
          "base_uri": "https://localhost:8080/"
        },
        "outputId": "066c1c24-80ce-4ff8-cff6-d92040e2098d"
      },
      "source": [
        "a = 0\n",
        "b = 10\n",
        "my_list = range(a, b)\n",
        "print (my_list)"
      ],
      "execution_count": 74,
      "outputs": [
        {
          "output_type": "stream",
          "text": [
            "range(0, 10)\n"
          ],
          "name": "stdout"
        }
      ]
    },
    {
      "cell_type": "code",
      "metadata": {
        "id": "PsRbQ3tLXGYv",
        "colab": {
          "base_uri": "https://localhost:8080/"
        },
        "outputId": "566924ab-a4a1-4606-8aaf-4f682f271809"
      },
      "source": [
        "x = 5\n",
        "y = 30\n",
        "mi_lista = range(x, y)\n",
        "print (mi_lista)"
      ],
      "execution_count": 75,
      "outputs": [
        {
          "output_type": "stream",
          "text": [
            "range(5, 30)\n"
          ],
          "name": "stdout"
        }
      ]
    },
    {
      "cell_type": "markdown",
      "metadata": {
        "id": "6RXuoP5W8H6x"
      },
      "source": [
        "We can also specify a step size. This again has the same behavior as a slice."
      ]
    },
    {
      "cell_type": "code",
      "metadata": {
        "scrolled": true,
        "id": "o2zQJ6mE8H6x",
        "colab": {
          "base_uri": "https://localhost:8080/"
        },
        "outputId": "4ae89b3d-53dc-45c1-f877-0faa6b465534"
      },
      "source": [
        "a = 0\n",
        "b = 10\n",
        "step = 2\n",
        "my_list = range(a, b, step)\n",
        "print (my_list)"
      ],
      "execution_count": 76,
      "outputs": [
        {
          "output_type": "stream",
          "text": [
            "range(0, 10, 2)\n"
          ],
          "name": "stdout"
        }
      ]
    },
    {
      "cell_type": "code",
      "metadata": {
        "id": "1IYNEFpgX3Jl",
        "colab": {
          "base_uri": "https://localhost:8080/"
        },
        "outputId": "a8423ddb-4b74-4f8f-af39-7996d8ade2ad"
      },
      "source": [
        "x = 5\n",
        "y = 30\n",
        "step_2 = 5\n",
        "mi_lista = range(x, y, step_2)\n",
        "print (mi_lista)\n",
        "print (mi_lista[2])"
      ],
      "execution_count": 77,
      "outputs": [
        {
          "output_type": "stream",
          "text": [
            "range(5, 30, 5)\n",
            "15\n"
          ],
          "name": "stdout"
        }
      ]
    },
    {
      "cell_type": "markdown",
      "metadata": {
        "id": "liVX-j758H6y"
      },
      "source": [
        "### Tuples\n",
        "\n",
        "A `tuple` is a data type similar to a list in that it can hold different kinds of data types. The key difference here is that a `tuple` is immutable. We define a `tuple` by separating the elements we want to include by commas. It is conventional to surround a `tuple` with parentheses."
      ]
    },
    {
      "cell_type": "code",
      "metadata": {
        "id": "wVo6h8ZX8H6y",
        "colab": {
          "base_uri": "https://localhost:8080/"
        },
        "outputId": "8c8d899d-508b-4efc-b651-05bb6a720688"
      },
      "source": [
        "my_tuple = 'I', 'have', 30, 'cats'\n",
        "print (my_tuple)"
      ],
      "execution_count": 78,
      "outputs": [
        {
          "output_type": "stream",
          "text": [
            "('I', 'have', 30, 'cats')\n"
          ],
          "name": "stdout"
        }
      ]
    },
    {
      "cell_type": "code",
      "metadata": {
        "id": "sTxkT25VZHjG",
        "colab": {
          "base_uri": "https://localhost:8080/"
        },
        "outputId": "e21311d6-b09e-4b21-fdcb-f30c432494c1"
      },
      "source": [
        "mi_tupla = 'Hola', 'Fruta', 30, False\n",
        "print (mi_tupla)"
      ],
      "execution_count": 79,
      "outputs": [
        {
          "output_type": "stream",
          "text": [
            "('Hola', 'Fruta', 30, False)\n"
          ],
          "name": "stdout"
        }
      ]
    },
    {
      "cell_type": "code",
      "metadata": {
        "id": "go1p-d-t8H6z",
        "colab": {
          "base_uri": "https://localhost:8080/"
        },
        "outputId": "12079170-6726-4575-808b-abf4c72a536b"
      },
      "source": [
        "my_tuple = ('I', 'have', 30, 'cats')\n",
        "print (my_tuple)"
      ],
      "execution_count": 80,
      "outputs": [
        {
          "output_type": "stream",
          "text": [
            "('I', 'have', 30, 'cats')\n"
          ],
          "name": "stdout"
        }
      ]
    },
    {
      "cell_type": "code",
      "metadata": {
        "id": "9Jve613YZX58",
        "colab": {
          "base_uri": "https://localhost:8080/"
        },
        "outputId": "4c17fd38-a837-416c-89a5-256ea6a9b7ab"
      },
      "source": [
        "mi_tupla = ('Hola', 'Fruta', 30, False)\n",
        "print (mi_tupla)"
      ],
      "execution_count": 81,
      "outputs": [
        {
          "output_type": "stream",
          "text": [
            "('Hola', 'Fruta', 30, False)\n"
          ],
          "name": "stdout"
        }
      ]
    },
    {
      "cell_type": "markdown",
      "metadata": {
        "id": "nbBZYb-I8H60"
      },
      "source": [
        "As mentioned before, tuples are immutable. You can't change any part of them without defining a new tuple."
      ]
    },
    {
      "cell_type": "code",
      "metadata": {
        "id": "oYGvf3dz8H60"
      },
      "source": [
        "#my_tuple[3] = 'dogs' # Attempts to change the 'cats' value stored in the the tuple to 'dogs'"
      ],
      "execution_count": 82,
      "outputs": []
    },
    {
      "cell_type": "code",
      "metadata": {
        "id": "FpLl06jkaLuA"
      },
      "source": [
        "#mi_tupla[1] = 'Fresa' # Error al intentar cambiar 'Fruta' por 'Fresa'"
      ],
      "execution_count": 83,
      "outputs": []
    },
    {
      "cell_type": "markdown",
      "metadata": {
        "id": "Mtky6TRX8H61"
      },
      "source": [
        "You can slice tuples the same way that you slice lists!"
      ]
    },
    {
      "cell_type": "code",
      "metadata": {
        "id": "Ck62u64a8H61",
        "colab": {
          "base_uri": "https://localhost:8080/"
        },
        "outputId": "d35df809-0c89-4345-d167-2b9c2319e871"
      },
      "source": [
        "print (my_tuple[1:3])"
      ],
      "execution_count": 84,
      "outputs": [
        {
          "output_type": "stream",
          "text": [
            "('have', 30)\n"
          ],
          "name": "stdout"
        }
      ]
    },
    {
      "cell_type": "code",
      "metadata": {
        "id": "7Jl5DeOzaklm",
        "colab": {
          "base_uri": "https://localhost:8080/"
        },
        "outputId": "784c28fa-3888-4ee9-fc89-40b348eca5c4"
      },
      "source": [
        "print (mi_tupla[0:3])"
      ],
      "execution_count": 85,
      "outputs": [
        {
          "output_type": "stream",
          "text": [
            "('Hola', 'Fruta', 30)\n"
          ],
          "name": "stdout"
        }
      ]
    },
    {
      "cell_type": "markdown",
      "metadata": {
        "id": "TQ-8ZZ9w8H62"
      },
      "source": [
        "And concatenate them the way that you would with strings!"
      ]
    },
    {
      "cell_type": "code",
      "metadata": {
        "id": "MbsTfATD8H62",
        "colab": {
          "base_uri": "https://localhost:8080/"
        },
        "outputId": "f71227b9-5b9b-407c-beae-6b8377af8097"
      },
      "source": [
        "my_other_tuple = ('make', 'that', 50)\n",
        "print (my_tuple + my_other_tuple)"
      ],
      "execution_count": 86,
      "outputs": [
        {
          "output_type": "stream",
          "text": [
            "('I', 'have', 30, 'cats', 'make', 'that', 50)\n"
          ],
          "name": "stdout"
        }
      ]
    },
    {
      "cell_type": "code",
      "metadata": {
        "id": "Vn2KCMK-auvE",
        "colab": {
          "base_uri": "https://localhost:8080/"
        },
        "outputId": "364e6388-a1e8-469b-e95e-2f934bb5a89b"
      },
      "source": [
        "mi_otra_tupla = ('Cinco', 5, True)\n",
        "print (mi_tupla + mi_otra_tupla)"
      ],
      "execution_count": 87,
      "outputs": [
        {
          "output_type": "stream",
          "text": [
            "('Hola', 'Fruta', 30, False, 'Cinco', 5, True)\n"
          ],
          "name": "stdout"
        }
      ]
    },
    {
      "cell_type": "markdown",
      "metadata": {
        "id": "bb1YNP4l8H63"
      },
      "source": [
        "We can 'pack' values together, creating a tuple (as above), or we can 'unpack' values from a tuple, taking them out."
      ]
    },
    {
      "cell_type": "code",
      "metadata": {
        "id": "JY7-6LHB8H63",
        "colab": {
          "base_uri": "https://localhost:8080/"
        },
        "outputId": "29716e3e-68fc-4383-8065-b8f06c65a5a5"
      },
      "source": [
        "str_1, str_2, int_1 = my_other_tuple\n",
        "print (str_1, str_2, int_1)"
      ],
      "execution_count": 88,
      "outputs": [
        {
          "output_type": "stream",
          "text": [
            "make that 50\n"
          ],
          "name": "stdout"
        }
      ]
    },
    {
      "cell_type": "code",
      "metadata": {
        "id": "HSzRgPoAcnP_",
        "colab": {
          "base_uri": "https://localhost:8080/"
        },
        "outputId": "5ba59c2f-8583-4802-fd1c-59ba9ae5c9a4"
      },
      "source": [
        "uno, dos, tres = mi_otra_tupla\n",
        "print (uno, dos, tres)"
      ],
      "execution_count": 89,
      "outputs": [
        {
          "output_type": "stream",
          "text": [
            "Cinco 5 True\n"
          ],
          "name": "stdout"
        }
      ]
    },
    {
      "cell_type": "markdown",
      "metadata": {
        "id": "X8RgUdyf8H64"
      },
      "source": [
        "Unpacking assigns each value of the tuple in order to each variable on the left hand side of the equals sign. Some functions, including user-defined functions, may return tuples, so we can use this to directly unpack them and access the values that we want."
      ]
    },
    {
      "cell_type": "markdown",
      "metadata": {
        "id": "v4023zuR8H64"
      },
      "source": [
        "### Sets\n",
        "\n",
        "A `set` is a collection of unordered, unique elements. It works almost exactly as you would expect a normal set of things in mathematics to work and is defined using braces (`{}`)."
      ]
    },
    {
      "cell_type": "code",
      "metadata": {
        "id": "zoUBSRHO8H65",
        "colab": {
          "base_uri": "https://localhost:8080/"
        },
        "outputId": "00527528-502f-4b34-aca8-1968932abafe"
      },
      "source": [
        "things_i_like = {'dogs', 7, 'the number 4', 4, 4, 4, 42, 'lizards', 'man I just LOVE the number 4'}\n",
        "print (things_i_like), type(things_i_like)"
      ],
      "execution_count": 90,
      "outputs": [
        {
          "output_type": "stream",
          "text": [
            "{'dogs', 4, 7, 42, 'the number 4', 'lizards', 'man I just LOVE the number 4'}\n"
          ],
          "name": "stdout"
        },
        {
          "output_type": "execute_result",
          "data": {
            "text/plain": [
              "(None, set)"
            ]
          },
          "metadata": {
            "tags": []
          },
          "execution_count": 90
        }
      ]
    },
    {
      "cell_type": "code",
      "metadata": {
        "id": "4prcIjQdgrKa",
        "colab": {
          "base_uri": "https://localhost:8080/"
        },
        "outputId": "57e0d46f-2447-4e96-a9e2-91f93629a234"
      },
      "source": [
        "conjunto = {'Hola', 98, 'Catorce', 50, 50, 50, 'Hello', 64}\n",
        "print (conjunto), type(conjunto)"
      ],
      "execution_count": 91,
      "outputs": [
        {
          "output_type": "stream",
          "text": [
            "{64, 98, 'Hola', 50, 'Hello', 'Catorce'}\n"
          ],
          "name": "stdout"
        },
        {
          "output_type": "execute_result",
          "data": {
            "text/plain": [
              "(None, set)"
            ]
          },
          "metadata": {
            "tags": []
          },
          "execution_count": 91
        }
      ]
    },
    {
      "cell_type": "markdown",
      "metadata": {
        "id": "QsRBnRVo8H65"
      },
      "source": [
        "Note how any extra instances of the same item are removed in the final set. We can also create a `set` from a list, using the `set()` function."
      ]
    },
    {
      "cell_type": "code",
      "metadata": {
        "id": "PThhdDaz8H67",
        "colab": {
          "base_uri": "https://localhost:8080/"
        },
        "outputId": "2190a474-b667-4b21-d998-a4a46336ef3f"
      },
      "source": [
        "animal_list = ['cats', 'dogs', 'dogs', 'dogs', 'lizards', 'sponges', 'cows', 'bats', 'sponges']\n",
        "animal_set = set(animal_list)\n",
        "print (animal_set) # Removes all extra instances from the list"
      ],
      "execution_count": 92,
      "outputs": [
        {
          "output_type": "stream",
          "text": [
            "{'dogs', 'cats', 'sponges', 'cows', 'bats', 'lizards'}\n"
          ],
          "name": "stdout"
        }
      ]
    },
    {
      "cell_type": "code",
      "metadata": {
        "id": "jGHrM7X8hMQH",
        "colab": {
          "base_uri": "https://localhost:8080/"
        },
        "outputId": "405541b5-5bd3-4886-d629-34dd4210934c"
      },
      "source": [
        "lista_numeros = ['Uno', 'Dos', 'Tres', 'Tres', 'Tres', 'Cuatro', 'Cuatro', 'Cinco']\n",
        "conjunto_numeros = set(lista_numeros)\n",
        "print (conjunto_numeros)"
      ],
      "execution_count": 93,
      "outputs": [
        {
          "output_type": "stream",
          "text": [
            "{'Tres', 'Cuatro', 'Dos', 'Cinco', 'Uno'}\n"
          ],
          "name": "stdout"
        }
      ]
    },
    {
      "cell_type": "markdown",
      "metadata": {
        "id": "HBVKuXgB8H67"
      },
      "source": [
        "Calling `len()` on a set will tell you how many elements are in it."
      ]
    },
    {
      "cell_type": "code",
      "metadata": {
        "id": "f91c7QaM8H68",
        "colab": {
          "base_uri": "https://localhost:8080/"
        },
        "outputId": "95a9623b-efce-4b61-d089-5eb1e6634c5e"
      },
      "source": [
        "print (len(animal_set))"
      ],
      "execution_count": 94,
      "outputs": [
        {
          "output_type": "stream",
          "text": [
            "6\n"
          ],
          "name": "stdout"
        }
      ]
    },
    {
      "cell_type": "code",
      "metadata": {
        "id": "aqz8PJBYiYDz",
        "colab": {
          "base_uri": "https://localhost:8080/"
        },
        "outputId": "e6a8a63d-706b-429b-ed43-2a9a9175abe7"
      },
      "source": [
        "print (len(conjunto_numeros))"
      ],
      "execution_count": 95,
      "outputs": [
        {
          "output_type": "stream",
          "text": [
            "5\n"
          ],
          "name": "stdout"
        }
      ]
    },
    {
      "cell_type": "markdown",
      "metadata": {
        "id": "kKDdxt8r8H6-"
      },
      "source": [
        "Because a `set` is unordered, we can't access individual elements using an index. We can, however, easily check for membership (to see if something is contained in a set) and take the unions and intersections of sets by using the built-in set functions."
      ]
    },
    {
      "cell_type": "code",
      "metadata": {
        "id": "PZ1KK3Ja8H6-",
        "colab": {
          "base_uri": "https://localhost:8080/"
        },
        "outputId": "81d4809d-008f-478f-a6e5-52b8e6c8269c"
      },
      "source": [
        "'cats' in animal_set # Here we check for membership using the `in` keyword."
      ],
      "execution_count": 96,
      "outputs": [
        {
          "output_type": "execute_result",
          "data": {
            "text/plain": [
              "True"
            ]
          },
          "metadata": {
            "tags": []
          },
          "execution_count": 96
        }
      ]
    },
    {
      "cell_type": "code",
      "metadata": {
        "id": "8SGUQWdRir8e",
        "colab": {
          "base_uri": "https://localhost:8080/"
        },
        "outputId": "7dce925a-c40e-40f5-b0db-2daf3a21b2b4"
      },
      "source": [
        "'Uno' in conjunto_numeros"
      ],
      "execution_count": 97,
      "outputs": [
        {
          "output_type": "execute_result",
          "data": {
            "text/plain": [
              "True"
            ]
          },
          "metadata": {
            "tags": []
          },
          "execution_count": 97
        }
      ]
    },
    {
      "cell_type": "markdown",
      "metadata": {
        "id": "hU06nBXY8H7H"
      },
      "source": [
        "Here we checked to see whether the string 'cats' was contained within our `animal_set` and it returned `True`, telling us that it is indeed in our set.\n",
        "\n",
        "We can connect sets by using typical mathematical set operators, namely `|`, for union, and `&`, for intersection. Using `|` or `&` will return exactly what you would expect if you are familiar with sets in mathematics."
      ]
    },
    {
      "cell_type": "code",
      "metadata": {
        "id": "0UnZLQwQ8H7I",
        "colab": {
          "base_uri": "https://localhost:8080/"
        },
        "outputId": "50321dc2-49e9-4896-bbdb-0d10774b2c01"
      },
      "source": [
        "print (animal_set | things_i_like) # You can also write things_i_like | animal_set with no difference"
      ],
      "execution_count": 98,
      "outputs": [
        {
          "output_type": "stream",
          "text": [
            "{'dogs', 'cats', 4, 7, 'sponges', 42, 'the number 4', 'cows', 'bats', 'lizards', 'man I just LOVE the number 4'}\n"
          ],
          "name": "stdout"
        }
      ]
    },
    {
      "cell_type": "code",
      "metadata": {
        "id": "RnXmw074jJjR",
        "colab": {
          "base_uri": "https://localhost:8080/"
        },
        "outputId": "630973af-ad9f-4408-971c-935d0c970d3a"
      },
      "source": [
        "print (conjunto_numeros | conjunto)"
      ],
      "execution_count": 99,
      "outputs": [
        {
          "output_type": "stream",
          "text": [
            "{64, 98, 'Hola', 'Tres', 'Cuatro', 'Dos', 'Cinco', 50, 'Hello', 'Uno', 'Catorce'}\n"
          ],
          "name": "stdout"
        }
      ]
    },
    {
      "cell_type": "markdown",
      "metadata": {
        "id": "bQmxj9Qz8H7I"
      },
      "source": [
        "Pairing two sets together with `|` combines the sets, removing any repetitions to make every set element unique."
      ]
    },
    {
      "cell_type": "code",
      "metadata": {
        "id": "wU09jghK8H7J",
        "colab": {
          "base_uri": "https://localhost:8080/"
        },
        "outputId": "14b1d87c-ef62-4da8-efe0-ab48e9b8b165"
      },
      "source": [
        "print (animal_set & things_i_like) # You can also write things_i_like & animal_set with no difference"
      ],
      "execution_count": 100,
      "outputs": [
        {
          "output_type": "stream",
          "text": [
            "{'dogs', 'lizards'}\n"
          ],
          "name": "stdout"
        }
      ]
    },
    {
      "cell_type": "code",
      "metadata": {
        "id": "zH-tugOxjpVg",
        "colab": {
          "base_uri": "https://localhost:8080/"
        },
        "outputId": "58d3ec41-492b-4eef-c41e-065e3f72159b"
      },
      "source": [
        "print (conjunto_numeros & conjunto)"
      ],
      "execution_count": 101,
      "outputs": [
        {
          "output_type": "stream",
          "text": [
            "set()\n"
          ],
          "name": "stdout"
        }
      ]
    },
    {
      "cell_type": "markdown",
      "metadata": {
        "id": "VSN32Iwz8H7K"
      },
      "source": [
        "Pairing two sets together with `&` will calculate the intersection of both sets, returning a set that only contains what they have in common.\n",
        "\n",
        "If you are interested in learning more about the built-in functions for sets, feel free to check out the [documentation](https://docs.python.org/2/library/sets.html)."
      ]
    },
    {
      "cell_type": "markdown",
      "metadata": {
        "id": "8EcwQpA28H7K"
      },
      "source": [
        "### Dictionaries\n",
        "\n",
        "Another essential data structure in Python is the dictionary. Dictionaries are defined with a combination of curly braces (`{}`) and colons (`:`). The braces define the beginning and end of a dictionary and the colons indicate key-value pairs. A dictionary is essentially a set of key-value pairs. The key of any entry must be an immutable data type. This makes both strings and tuples candidates. Keys can be both added and deleted.\n",
        "\n",
        "In the following example, we have a dictionary composed of key-value pairs where the key is a genre of fiction (`string`) and the value is a list of books (`list`) within that genre. Since a collection is still considered a single entity, we can use one to collect multiple variables or values into one key-value pair."
      ]
    },
    {
      "cell_type": "code",
      "metadata": {
        "id": "iGTLsM2x8H7L"
      },
      "source": [
        "my_dict = {\"High Fantasy\": [\"Wheel of Time\", \"Lord of the Rings\"], \n",
        "           \"Sci-fi\": [\"Book of the New Sun\", \"Neuromancer\", \"Snow Crash\"],\n",
        "           \"Weird Fiction\": [\"At the Mountains of Madness\", \"The House on the Borderland\"]}"
      ],
      "execution_count": 102,
      "outputs": []
    },
    {
      "cell_type": "code",
      "metadata": {
        "id": "_ajl1tFKkz2s"
      },
      "source": [
        "mi_diccionario = {\"Numeros\": [\"Uno\", \"Dos\", \"Tres\",\"Cuatro\"],\n",
        "                  \"Letras\": [\"A\",\"B\",\"C\",\"S\"],\n",
        "                  \"Animales\": [\"Perro\",\"Gato\",\"Lobo\",\"Tortuga\"]}"
      ],
      "execution_count": 103,
      "outputs": []
    },
    {
      "cell_type": "markdown",
      "metadata": {
        "id": "lCI4EybR8H7M"
      },
      "source": [
        "After defining a dictionary, we can access any individual value by indicating its key in brackets."
      ]
    },
    {
      "cell_type": "code",
      "metadata": {
        "id": "6qgXQDP08H7N",
        "colab": {
          "base_uri": "https://localhost:8080/"
        },
        "outputId": "67ec1dc4-5672-4665-bcd2-881de86c1443"
      },
      "source": [
        "print (my_dict[\"Sci-fi\"])"
      ],
      "execution_count": 104,
      "outputs": [
        {
          "output_type": "stream",
          "text": [
            "['Book of the New Sun', 'Neuromancer', 'Snow Crash']\n"
          ],
          "name": "stdout"
        }
      ]
    },
    {
      "cell_type": "code",
      "metadata": {
        "id": "RFfTJ8-wlZTS",
        "colab": {
          "base_uri": "https://localhost:8080/"
        },
        "outputId": "20be7fc2-4ac0-456f-cc46-792249dc77a6"
      },
      "source": [
        "print (mi_diccionario[\"Animales\"])"
      ],
      "execution_count": 105,
      "outputs": [
        {
          "output_type": "stream",
          "text": [
            "['Perro', 'Gato', 'Lobo', 'Tortuga']\n"
          ],
          "name": "stdout"
        }
      ]
    },
    {
      "cell_type": "markdown",
      "metadata": {
        "id": "khRJIQLM8H7Q"
      },
      "source": [
        "We can also change the value associated with a given key"
      ]
    },
    {
      "cell_type": "code",
      "metadata": {
        "id": "XY4zbt0c8H7W",
        "colab": {
          "base_uri": "https://localhost:8080/"
        },
        "outputId": "ff46ef78-b485-44e2-eeca-4b79b8b7d253"
      },
      "source": [
        "my_dict[\"Sci-fi\"] = \"I can't read\"\n",
        "print (my_dict[\"Sci-fi\"])"
      ],
      "execution_count": 106,
      "outputs": [
        {
          "output_type": "stream",
          "text": [
            "I can't read\n"
          ],
          "name": "stdout"
        }
      ]
    },
    {
      "cell_type": "code",
      "metadata": {
        "id": "Lr3K5bnZlmCj",
        "colab": {
          "base_uri": "https://localhost:8080/"
        },
        "outputId": "ce36a463-bfb4-4c07-8c0a-7fc0627b9efb"
      },
      "source": [
        "mi_diccionario[\"Animales\"] = \"Pato\"\n",
        "print (mi_diccionario[\"Animales\"])"
      ],
      "execution_count": 107,
      "outputs": [
        {
          "output_type": "stream",
          "text": [
            "Pato\n"
          ],
          "name": "stdout"
        }
      ]
    },
    {
      "cell_type": "markdown",
      "metadata": {
        "id": "kusIWcfB8H7W"
      },
      "source": [
        "Adding a new key-value pair is as simple as defining it."
      ]
    },
    {
      "cell_type": "code",
      "metadata": {
        "id": "sNxUpZ4l8H7Z",
        "colab": {
          "base_uri": "https://localhost:8080/"
        },
        "outputId": "95ad678b-a409-4fbf-9c7b-302506bdabe5"
      },
      "source": [
        "my_dict[\"Historical Fiction\"] = [\"Pillars of the Earth\"]\n",
        "print (my_dict[\"Historical Fiction\"])"
      ],
      "execution_count": 108,
      "outputs": [
        {
          "output_type": "stream",
          "text": [
            "['Pillars of the Earth']\n"
          ],
          "name": "stdout"
        }
      ]
    },
    {
      "cell_type": "code",
      "metadata": {
        "id": "jogJGxOml-rb",
        "colab": {
          "base_uri": "https://localhost:8080/"
        },
        "outputId": "1340ebd1-6367-4323-8daf-ed6a16903af4"
      },
      "source": [
        "mi_diccionario[\"Frutas\"] = [\"Uva\", \"Naranja\"]\n",
        "print (mi_diccionario[\"Frutas\"])"
      ],
      "execution_count": 109,
      "outputs": [
        {
          "output_type": "stream",
          "text": [
            "['Uva', 'Naranja']\n"
          ],
          "name": "stdout"
        }
      ]
    },
    {
      "cell_type": "code",
      "metadata": {
        "id": "JZgTFu4q8H7a",
        "colab": {
          "base_uri": "https://localhost:8080/"
        },
        "outputId": "5821c0e1-a969-4bd4-db8c-1b25aa7858c2"
      },
      "source": [
        "print (my_dict)"
      ],
      "execution_count": 110,
      "outputs": [
        {
          "output_type": "stream",
          "text": [
            "{'High Fantasy': ['Wheel of Time', 'Lord of the Rings'], 'Sci-fi': \"I can't read\", 'Weird Fiction': ['At the Mountains of Madness', 'The House on the Borderland'], 'Historical Fiction': ['Pillars of the Earth']}\n"
          ],
          "name": "stdout"
        }
      ]
    },
    {
      "cell_type": "code",
      "metadata": {
        "id": "G3SemQxWmfuj",
        "colab": {
          "base_uri": "https://localhost:8080/"
        },
        "outputId": "11208e98-ab3e-4ab2-b774-8630c8fad224"
      },
      "source": [
        "print (mi_diccionario)"
      ],
      "execution_count": 111,
      "outputs": [
        {
          "output_type": "stream",
          "text": [
            "{'Numeros': ['Uno', 'Dos', 'Tres', 'Cuatro'], 'Letras': ['A', 'B', 'C', 'S'], 'Animales': 'Pato', 'Frutas': ['Uva', 'Naranja']}\n"
          ],
          "name": "stdout"
        }
      ]
    },
    {
      "cell_type": "markdown",
      "metadata": {
        "id": "xGxO90G58H7a"
      },
      "source": [
        "## String Shenanigans\n",
        "\n",
        "We already know that strings are generally used for text. We can used built-in operations to combine, split, and format strings easily, depending on our needs.\n",
        "\n",
        "The `+` symbol indicates concatenation in string language. It will combine two strings into a longer string."
      ]
    },
    {
      "cell_type": "code",
      "metadata": {
        "id": "vBXZkdBU8H7b",
        "colab": {
          "base_uri": "https://localhost:8080/"
        },
        "outputId": "6a888ff5-1a9d-45e1-dcd7-874633a3365d"
      },
      "source": [
        "first_string = '\"Beware the Jabberwock, my son! /The jaws that bite, the claws that catch! /'\n",
        "second_string = 'Beware the Jubjub bird, and shun /The frumious Bandersnatch!\"/'\n",
        "third_string = first_string + second_string\n",
        "print (third_string)"
      ],
      "execution_count": 112,
      "outputs": [
        {
          "output_type": "stream",
          "text": [
            "\"Beware the Jabberwock, my son! /The jaws that bite, the claws that catch! /Beware the Jubjub bird, and shun /The frumious Bandersnatch!\"/\n"
          ],
          "name": "stdout"
        }
      ]
    },
    {
      "cell_type": "code",
      "metadata": {
        "id": "nDBX-678oYej",
        "colab": {
          "base_uri": "https://localhost:8080/"
        },
        "outputId": "9ab94f11-42a8-4323-eb26-4a512478a9a3"
      },
      "source": [
        "primer_texto = 'Mensaje de '\n",
        "segundo_texto = 'prueba número 1'\n",
        "tercer_texto = primer_texto + segundo_texto\n",
        "print (tercer_texto)"
      ],
      "execution_count": 113,
      "outputs": [
        {
          "output_type": "stream",
          "text": [
            "Mensaje de prueba número 1\n"
          ],
          "name": "stdout"
        }
      ]
    },
    {
      "cell_type": "markdown",
      "metadata": {
        "id": "8PPh0Rg58H7b"
      },
      "source": [
        "Strings are also indexed much in the same way that lists are."
      ]
    },
    {
      "cell_type": "code",
      "metadata": {
        "id": "piKuqXIk8H7c",
        "colab": {
          "base_uri": "https://localhost:8080/"
        },
        "outputId": "6726418e-9323-4e9c-8bf3-3ca9aceb55ed"
      },
      "source": [
        "my_string = 'Supercalifragilisticexpialidocious'\n",
        "print ('The first letter is: ', my_string[0]) # Uppercase S\n",
        "print ('The last letter is: ', my_string[-1]) # lowercase s\n",
        "print ('The second to last letter is: ', my_string[-2]) # lowercase u\n",
        "print ('The first five characters are: ', my_string[0:5]) # Remember: slicing doesn't include the final element!\n",
        "print ('Reverse it!: ', my_string[::-1])"
      ],
      "execution_count": 114,
      "outputs": [
        {
          "output_type": "stream",
          "text": [
            "The first letter is:  S\n",
            "The last letter is:  s\n",
            "The second to last letter is:  u\n",
            "The first five characters are:  Super\n",
            "Reverse it!:  suoicodilaipxecitsiligarfilacrepuS\n"
          ],
          "name": "stdout"
        }
      ]
    },
    {
      "cell_type": "code",
      "metadata": {
        "id": "BcWMifcRo53W",
        "colab": {
          "base_uri": "https://localhost:8080/"
        },
        "outputId": "c9dfd647-5bcc-42f6-d845-ee5c5af5e9cb"
      },
      "source": [
        "mi_texto = 'Esternocleidomastoideo'\n",
        "print ('Primera letra: ', mi_texto[0])\n",
        "print ('Última letra: ', mi_texto[-1])\n",
        "print ('Penúltima letra: ', mi_texto[-2])\n",
        "print ('Los primeros diez carácteres: ', mi_texto[0:10])\n",
        "print ('Texto al revés: ', mi_texto[::-1])"
      ],
      "execution_count": 115,
      "outputs": [
        {
          "output_type": "stream",
          "text": [
            "Primera letra:  E\n",
            "Última letra:  o\n",
            "Penúltima letra:  e\n",
            "Los primeros diez carácteres:  Esternocle\n",
            "Texto al revés:  oediotsamodielconretsE\n"
          ],
          "name": "stdout"
        }
      ]
    },
    {
      "cell_type": "markdown",
      "metadata": {
        "id": "3sCNKXYi8H7c"
      },
      "source": [
        "Built-in objects and classes often have special functions associated with them that are called methods. We access these methods by using a period ('.'). We will cover objects and their associated methods more in another lecture!\n",
        "\n",
        "Using string methods we can count instances of a character or group of characters."
      ]
    },
    {
      "cell_type": "code",
      "metadata": {
        "scrolled": true,
        "id": "5_G0jOHA8H7d",
        "colab": {
          "base_uri": "https://localhost:8080/"
        },
        "outputId": "0027e946-3f95-462b-d85b-7cf9c4f0cff6"
      },
      "source": [
        "print ('Count of the letter i in Supercalifragilisticexpialidocious: ', my_string.count('i'))\n",
        "print ('Count of \"li\" in the same word: ', my_string.count('li'))"
      ],
      "execution_count": 116,
      "outputs": [
        {
          "output_type": "stream",
          "text": [
            "Count of the letter i in Supercalifragilisticexpialidocious:  7\n",
            "Count of \"li\" in the same word:  3\n"
          ],
          "name": "stdout"
        }
      ]
    },
    {
      "cell_type": "code",
      "metadata": {
        "id": "jTZQYqsWrYAP",
        "colab": {
          "base_uri": "https://localhost:8080/"
        },
        "outputId": "0c32ccf9-8c4f-4386-b59c-b40c27f277f8"
      },
      "source": [
        "print ('Número de letras e en Esternocleidomastoideo: ', mi_texto.count('e'))\n",
        "print ('Número de silabas \"te\"  en Esternocleidomastoideo: ', mi_texto.count('te'))"
      ],
      "execution_count": 117,
      "outputs": [
        {
          "output_type": "stream",
          "text": [
            "Número de letras e en Esternocleidomastoideo:  3\n",
            "Número de silabas \"te\"  en Esternocleidomastoideo:  1\n"
          ],
          "name": "stdout"
        }
      ]
    },
    {
      "cell_type": "markdown",
      "metadata": {
        "id": "mgH6Cvsu8H7d"
      },
      "source": [
        "We can also find the first instance of a character or group of characters in a string."
      ]
    },
    {
      "cell_type": "code",
      "metadata": {
        "id": "kXqrMUtm8H7e",
        "colab": {
          "base_uri": "https://localhost:8080/"
        },
        "outputId": "36a7af15-d6a3-45e1-f9df-d143cdecea6f"
      },
      "source": [
        "print ('The first time i appears is at index: ', my_string.find('i'))"
      ],
      "execution_count": 118,
      "outputs": [
        {
          "output_type": "stream",
          "text": [
            "The first time i appears is at index:  8\n"
          ],
          "name": "stdout"
        }
      ]
    },
    {
      "cell_type": "code",
      "metadata": {
        "id": "aHD6OQhHsK6M",
        "colab": {
          "base_uri": "https://localhost:8080/"
        },
        "outputId": "58417aa4-7644-41b0-ee40-9c0c430d4c89"
      },
      "source": [
        "print ('La primera vez que aparece la letra \"d\": ', mi_texto.find('d'))"
      ],
      "execution_count": 119,
      "outputs": [
        {
          "output_type": "stream",
          "text": [
            "La primera vez que aparece la letra \"d\":  11\n"
          ],
          "name": "stdout"
        }
      ]
    },
    {
      "cell_type": "markdown",
      "metadata": {
        "id": "EspeJrrk8H7g"
      },
      "source": [
        "As well as replace characters in a string."
      ]
    },
    {
      "cell_type": "code",
      "metadata": {
        "id": "a3NdVUW18H7h",
        "colab": {
          "base_uri": "https://localhost:8080/"
        },
        "outputId": "be65841b-6640-439c-f842-cd72eaf96401"
      },
      "source": [
        "print (\"All i's are now a's: \", my_string.replace('i', 'a'))"
      ],
      "execution_count": 120,
      "outputs": [
        {
          "output_type": "stream",
          "text": [
            "All i's are now a's:  Supercalafragalastacexpaaladocaous\n"
          ],
          "name": "stdout"
        }
      ]
    },
    {
      "cell_type": "code",
      "metadata": {
        "id": "TQpablvqsozk",
        "colab": {
          "base_uri": "https://localhost:8080/"
        },
        "outputId": "38464799-9e9b-4104-8b89-7eac94bed3d0"
      },
      "source": [
        "print ('Cambiar la letra \"e\" por \"x\" ', mi_texto.replace('e', 'x'))"
      ],
      "execution_count": 121,
      "outputs": [
        {
          "output_type": "stream",
          "text": [
            "Cambiar la letra \"e\" por \"x\"  Estxrnoclxidomastoidxo\n"
          ],
          "name": "stdout"
        }
      ]
    },
    {
      "cell_type": "code",
      "metadata": {
        "id": "4CR0REAm8H7i",
        "colab": {
          "base_uri": "https://localhost:8080/"
        },
        "outputId": "627a49fa-3b72-4bf6-bd4d-9127c95ee28b"
      },
      "source": [
        "print (\"It's raining cats and dogs\".replace('dogs', 'more cats'))"
      ],
      "execution_count": 122,
      "outputs": [
        {
          "output_type": "stream",
          "text": [
            "It's raining cats and more cats\n"
          ],
          "name": "stdout"
        }
      ]
    },
    {
      "cell_type": "code",
      "metadata": {
        "id": "6dD5lXwftH5O",
        "colab": {
          "base_uri": "https://localhost:8080/"
        },
        "outputId": "d2ea53f0-192a-4803-e25f-25ae8dd5b963"
      },
      "source": [
        "print (\"Mensaje de prueba uno y dos\".replace('dos', 'tres'))"
      ],
      "execution_count": 123,
      "outputs": [
        {
          "output_type": "stream",
          "text": [
            "Mensaje de prueba uno y tres\n"
          ],
          "name": "stdout"
        }
      ]
    },
    {
      "cell_type": "markdown",
      "metadata": {
        "id": "mG1BpRtB8H7i"
      },
      "source": [
        "There are also some methods that are unique to strings. The function `upper()` will convert all characters in a string to uppercase, while `lower()` will convert all characters in a string to lowercase!"
      ]
    },
    {
      "cell_type": "code",
      "metadata": {
        "id": "4NLO2QAY8H7j",
        "colab": {
          "base_uri": "https://localhost:8080/"
        },
        "outputId": "d143e96d-8b2b-4421-b7c3-dc418d586f05"
      },
      "source": [
        "my_string = \"I can't hear you\"\n",
        "print (my_string.upper())\n",
        "my_string = \"I said HELLO\"\n",
        "print (my_string.lower())"
      ],
      "execution_count": 124,
      "outputs": [
        {
          "output_type": "stream",
          "text": [
            "I CAN'T HEAR YOU\n",
            "i said hello\n"
          ],
          "name": "stdout"
        }
      ]
    },
    {
      "cell_type": "code",
      "metadata": {
        "id": "MLhQkkpDzhkY",
        "colab": {
          "base_uri": "https://localhost:8080/"
        },
        "outputId": "65e5185a-064c-4d1a-f6c0-f33955ba84e5"
      },
      "source": [
        "mi_texto = \"mensaje de prueba\"\n",
        "print (mi_texto.upper())\n",
        "mi_texto = \"MENSAJE DE PRUEBA\"\n",
        "print (mi_texto.lower())"
      ],
      "execution_count": 125,
      "outputs": [
        {
          "output_type": "stream",
          "text": [
            "MENSAJE DE PRUEBA\n",
            "mensaje de prueba\n"
          ],
          "name": "stdout"
        }
      ]
    },
    {
      "cell_type": "markdown",
      "metadata": {
        "id": "O_QGKsf28H7k"
      },
      "source": [
        "### String Formatting\n",
        "\n",
        "Using the `format()` method we can add in variable values and generally format our strings."
      ]
    },
    {
      "cell_type": "code",
      "metadata": {
        "id": "e5Pg7R528H7k",
        "colab": {
          "base_uri": "https://localhost:8080/"
        },
        "outputId": "d16b623b-d608-4117-eb26-38676bcd9e84"
      },
      "source": [
        "my_string = \"{0} {1}\".format('Marco', 'Polo')\n",
        "print (my_string)"
      ],
      "execution_count": 126,
      "outputs": [
        {
          "output_type": "stream",
          "text": [
            "Marco Polo\n"
          ],
          "name": "stdout"
        }
      ]
    },
    {
      "cell_type": "code",
      "metadata": {
        "id": "n5MX7M_P0NCh",
        "colab": {
          "base_uri": "https://localhost:8080/"
        },
        "outputId": "f3589ebf-1b0c-4ba1-ae39-f80367e8a652"
      },
      "source": [
        "mi_texto =\"{0} {1} {2}\".format('Mensaje', 'de', 'prueba')\n",
        "print (mi_texto)"
      ],
      "execution_count": 127,
      "outputs": [
        {
          "output_type": "stream",
          "text": [
            "Mensaje de prueba\n"
          ],
          "name": "stdout"
        }
      ]
    },
    {
      "cell_type": "code",
      "metadata": {
        "id": "MrmZ_BwB8H7l",
        "colab": {
          "base_uri": "https://localhost:8080/"
        },
        "outputId": "faa29951-12f3-438b-fd84-7e5717daf399"
      },
      "source": [
        "my_string = \"{1} {0}\".format('Marco', 'Polo')\n",
        "print (my_string)"
      ],
      "execution_count": 128,
      "outputs": [
        {
          "output_type": "stream",
          "text": [
            "Polo Marco\n"
          ],
          "name": "stdout"
        }
      ]
    },
    {
      "cell_type": "code",
      "metadata": {
        "id": "fDHhIguC0lKq",
        "colab": {
          "base_uri": "https://localhost:8080/"
        },
        "outputId": "d9c1e99c-e47f-4251-eec4-eebe438fcafc"
      },
      "source": [
        "mi_texto =\"{2} {0} {1}\".format('Mensaje', 'de', 'prueba')\n",
        "print (mi_texto)"
      ],
      "execution_count": 129,
      "outputs": [
        {
          "output_type": "stream",
          "text": [
            "prueba Mensaje de\n"
          ],
          "name": "stdout"
        }
      ]
    },
    {
      "cell_type": "markdown",
      "metadata": {
        "id": "HB4aFm1_8H7l"
      },
      "source": [
        "We use braces (`{}`) to indicate parts of the string that will be filled in later and we use the arguments of the `format()` function to provide the values to substitute. The numbers within the braces indicate the index of the value in the `format()` arguments."
      ]
    },
    {
      "cell_type": "markdown",
      "metadata": {
        "id": "14tWRdfu8H7m"
      },
      "source": [
        "See the `format()` [documentation](https://docs.python.org/2/library/string.html#format-examples) for additional examples."
      ]
    },
    {
      "cell_type": "markdown",
      "metadata": {
        "id": "ipsXmgJI8H7n"
      },
      "source": [
        "If you need some quick and dirty formatting, you can instead use the `%` symbol, called the string formatting operator. "
      ]
    },
    {
      "cell_type": "code",
      "metadata": {
        "id": "FHi9tphq8H7n",
        "colab": {
          "base_uri": "https://localhost:8080/"
        },
        "outputId": "c8953595-505c-46b4-bbfd-3009fdfcfe4f"
      },
      "source": [
        "print ('insert %s here' % 'value')"
      ],
      "execution_count": 130,
      "outputs": [
        {
          "output_type": "stream",
          "text": [
            "insert value here\n"
          ],
          "name": "stdout"
        }
      ]
    },
    {
      "cell_type": "code",
      "metadata": {
        "id": "3C8aY47X1NM4",
        "colab": {
          "base_uri": "https://localhost:8080/"
        },
        "outputId": "77b89caa-41e3-445d-fa71-39f14d283d30"
      },
      "source": [
        "print ('Agregue %s campos' % 'tres')"
      ],
      "execution_count": 131,
      "outputs": [
        {
          "output_type": "stream",
          "text": [
            "Agregue tres campos\n"
          ],
          "name": "stdout"
        }
      ]
    },
    {
      "cell_type": "markdown",
      "metadata": {
        "id": "gBBCqoPZ8H7o"
      },
      "source": [
        "The `%` symbol basically cues Python to create a placeholder. Whatever character follows the `%` (in the string) indicates what sort of type the value put into the placeholder will have. This character is called a *conversion type*. Once the string has been closed, we need another `%` that will be followed by the values to insert. In the case of one value, you can just put it there. If you are inserting more than one value, they must be enclosed in a tuple."
      ]
    },
    {
      "cell_type": "code",
      "metadata": {
        "id": "n4vnzCRm8H7o",
        "colab": {
          "base_uri": "https://localhost:8080/"
        },
        "outputId": "d016f57b-403e-42bd-b372-ff02a77aacc4"
      },
      "source": [
        "print ('There are %s cats in my %s' % (13, 'apartment'))"
      ],
      "execution_count": 132,
      "outputs": [
        {
          "output_type": "stream",
          "text": [
            "There are 13 cats in my apartment\n"
          ],
          "name": "stdout"
        }
      ]
    },
    {
      "cell_type": "code",
      "metadata": {
        "id": "PniJyBoo1k2s",
        "colab": {
          "base_uri": "https://localhost:8080/"
        },
        "outputId": "7685ea12-5fac-4fbb-9bc4-cf67787e6e54"
      },
      "source": [
        "print ('En el barrio hay 100 %s y %s parqueaderos' % ('casas', 80))"
      ],
      "execution_count": 133,
      "outputs": [
        {
          "output_type": "stream",
          "text": [
            "En el barrio hay 100 casas y 80 parqueaderos\n"
          ],
          "name": "stdout"
        }
      ]
    },
    {
      "cell_type": "markdown",
      "metadata": {
        "id": "W6nu-REC8H7p"
      },
      "source": [
        "In these examples, the `%s` indicates that Python should convert the values into strings. There are multiple conversion types that you can use to get more specific with the the formatting. See the string formatting [documentation](https://docs.python.org/2/library/stdtypes.html#string-formatting) for additional examples and more complete details on use."
      ]
    },
    {
      "cell_type": "markdown",
      "metadata": {
        "id": "mmrSt8MT8H7p"
      },
      "source": [
        "## Logical Operators\n",
        "### Basic Logic\n",
        "\n",
        "Logical operators deal with `boolean` values, as we briefly covered before. If you recall, a `bool` takes on one of two values, `True` or `False` (or $1$ or $0$). The basic logical statements that we can make are defined using the built-in comparators. These are `==` (equal), `!=` (not equal), `<` (less than), `>` (greater than), `<=` (less than or equal to), and `>=` (greater than or equal to)."
      ]
    },
    {
      "cell_type": "code",
      "metadata": {
        "id": "v4D-M1Ct8H7q",
        "colab": {
          "base_uri": "https://localhost:8080/"
        },
        "outputId": "7ba553a8-48f5-4481-ed9c-8fd43c4e7642"
      },
      "source": [
        "print (5 == 5)"
      ],
      "execution_count": 134,
      "outputs": [
        {
          "output_type": "stream",
          "text": [
            "True\n"
          ],
          "name": "stdout"
        }
      ]
    },
    {
      "cell_type": "code",
      "metadata": {
        "id": "wdhS4USx2XzS",
        "colab": {
          "base_uri": "https://localhost:8080/"
        },
        "outputId": "aaccfcc5-a78e-4257-9ad6-f21ce8f9ed4d"
      },
      "source": [
        "print (16 == 16)"
      ],
      "execution_count": 135,
      "outputs": [
        {
          "output_type": "stream",
          "text": [
            "True\n"
          ],
          "name": "stdout"
        }
      ]
    },
    {
      "cell_type": "code",
      "metadata": {
        "id": "9unqzVtw8H7q",
        "colab": {
          "base_uri": "https://localhost:8080/"
        },
        "outputId": "1be8bafc-5fcc-40d8-947a-448ca1c32962"
      },
      "source": [
        "print (5 > 5)"
      ],
      "execution_count": 136,
      "outputs": [
        {
          "output_type": "stream",
          "text": [
            "False\n"
          ],
          "name": "stdout"
        }
      ]
    },
    {
      "cell_type": "code",
      "metadata": {
        "id": "KLPK6u-W2dTy",
        "colab": {
          "base_uri": "https://localhost:8080/"
        },
        "outputId": "9ab0e29f-74a8-4ed8-aad0-cc0fd91a46cd"
      },
      "source": [
        "print (10 > 23)"
      ],
      "execution_count": 137,
      "outputs": [
        {
          "output_type": "stream",
          "text": [
            "False\n"
          ],
          "name": "stdout"
        }
      ]
    },
    {
      "cell_type": "markdown",
      "metadata": {
        "id": "4ZruusDY8H7r"
      },
      "source": [
        "These comparators also work in conjunction with variables."
      ]
    },
    {
      "cell_type": "code",
      "metadata": {
        "id": "8ERHkYPf8H7s",
        "colab": {
          "base_uri": "https://localhost:8080/"
        },
        "outputId": "59a98d77-63ee-4e2b-cf95-cda8c4ef58c7"
      },
      "source": [
        "m = 2\n",
        "n = 23\n",
        "print (m < n)"
      ],
      "execution_count": 138,
      "outputs": [
        {
          "output_type": "stream",
          "text": [
            "True\n"
          ],
          "name": "stdout"
        }
      ]
    },
    {
      "cell_type": "code",
      "metadata": {
        "id": "X4ddAlVi2nns",
        "colab": {
          "base_uri": "https://localhost:8080/"
        },
        "outputId": "7d06c5fd-f96c-4348-bb1a-a9f38e20fa0a"
      },
      "source": [
        "x = 25\n",
        "y = 14\n",
        "print (x < y)"
      ],
      "execution_count": 139,
      "outputs": [
        {
          "output_type": "stream",
          "text": [
            "False\n"
          ],
          "name": "stdout"
        }
      ]
    },
    {
      "cell_type": "markdown",
      "metadata": {
        "id": "oqFMUxiL8H7s"
      },
      "source": [
        "We can string these comparators together to make more complex logical statements using the logical operators `or`, `and`, and `not`. "
      ]
    },
    {
      "cell_type": "code",
      "metadata": {
        "id": "M4rVXmF28H7t",
        "colab": {
          "base_uri": "https://localhost:8080/"
        },
        "outputId": "a01cf8a0-59a9-40a7-ce32-3a47365c01b7"
      },
      "source": [
        "statement_1 = 10 > 2\n",
        "statement_2 = 4 <= 6\n",
        "print (\"Statement 1 truth value: {0}\".format(statement_1))\n",
        "print (\"Statement 2 truth value: {0}\".format(statement_2))\n",
        "print (\"Statement 1 and Statement 2: {0}\".format(statement_1 and statement_2))"
      ],
      "execution_count": 140,
      "outputs": [
        {
          "output_type": "stream",
          "text": [
            "Statement 1 truth value: True\n",
            "Statement 2 truth value: True\n",
            "Statement 1 and Statement 2: True\n"
          ],
          "name": "stdout"
        }
      ]
    },
    {
      "cell_type": "code",
      "metadata": {
        "id": "v0M3jiEB3VJX",
        "colab": {
          "base_uri": "https://localhost:8080/"
        },
        "outputId": "95f3f080-8c09-4432-b67c-801e5b609373"
      },
      "source": [
        "prop_1 = 58 > 13\n",
        "prop_2 = 14 == 15\n",
        "print (\"Proposición uno es: {0}\".format(prop_1))\n",
        "print (\"Proposición dos es: {0}\".format(prop_2))\n",
        "print (\"Porposición uno y proposición dos: {0}\".format(prop_1 and prop_2))"
      ],
      "execution_count": 141,
      "outputs": [
        {
          "output_type": "stream",
          "text": [
            "Proposición uno es: True\n",
            "Proposición dos es: False\n",
            "Porposición uno y proposición dos: False\n"
          ],
          "name": "stdout"
        }
      ]
    },
    {
      "cell_type": "markdown",
      "metadata": {
        "id": "-RHY3t7V8H7u"
      },
      "source": [
        "The `or` operator performs a logical `or` calculation. This is an inclusive `or`, so if either component paired together by `or` is `True`, the whole statement will be `True`. The `and` statement only outputs `True` if all components that are `and`ed together are True. Otherwise it will output `False`. The `not` statement simply inverts the truth value of whichever statement follows it. So a `True` statement will be evaluated as `False` when a `not` is placed in front of it. Similarly, a `False` statement will become `True` when a `not` is in front of it.\n",
        "\n",
        "Say that we have two logical statements, or assertions, $P$ and $Q$. The truth table for the basic logical operators is as follows:\n",
        "\n",
        "|  P  |  Q  | `not` P| P `and` Q | P `or` Q|\n",
        "|:-----:|:-----:|:---:|:---:|:---:|\n",
        "| `True` | `True` | `False` | `True` | `True` |\n",
        "| `False` | `True` | `True` | `False` | `True` |\n",
        "| `True` | `False` | `False` | `False` | `True` |\n",
        "| `False` | `False` | `True` | `False` | `False` |\n",
        "\n",
        "We can string multiple logical statements together using the logical operators."
      ]
    },
    {
      "cell_type": "code",
      "metadata": {
        "id": "NJjjZ5PR8H7u",
        "colab": {
          "base_uri": "https://localhost:8080/"
        },
        "outputId": "47330f4c-6de8-43b5-8886-b915d5542e46"
      },
      "source": [
        "print (((2 < 3) and (3 > 0)) or ((5 > 6) and not (4 < 2)))"
      ],
      "execution_count": 142,
      "outputs": [
        {
          "output_type": "stream",
          "text": [
            "True\n"
          ],
          "name": "stdout"
        }
      ]
    },
    {
      "cell_type": "code",
      "metadata": {
        "id": "TuCw2tTF5AL3",
        "colab": {
          "base_uri": "https://localhost:8080/"
        },
        "outputId": "0807268c-6b60-4277-96f7-00b94f583c90"
      },
      "source": [
        "print ((5 < 2) or (6 < 4) or (10 > 5))"
      ],
      "execution_count": 143,
      "outputs": [
        {
          "output_type": "stream",
          "text": [
            "True\n"
          ],
          "name": "stdout"
        }
      ]
    },
    {
      "cell_type": "markdown",
      "metadata": {
        "id": "N3zPkoAD8H7v"
      },
      "source": [
        "Logical statements can be as simple or complex as we like, depending on what we need to express. Evaluating the above logical statement step by step we see that we are evaluating (`True and True`) `or` (`False and not False`). This becomes `True or (False and True`), subsequently becoming `True or False`, ultimately being evaluated as `True`."
      ]
    },
    {
      "cell_type": "markdown",
      "metadata": {
        "id": "JDpveF8n8H7v"
      },
      "source": [
        "#### Truthiness\n",
        "\n",
        "Data types in Python have a fun characteristic called truthiness. What this means is that most built-in types will evaluate as either `True` or `False` when a boolean value is needed (such as with an if-statement). As a general rule, containers like strings, tuples, dictionaries, lists, and sets, will return `True` if they contain anything at all and `False` if they contain nothing."
      ]
    },
    {
      "cell_type": "code",
      "metadata": {
        "id": "1bXc6LPK8H7w",
        "colab": {
          "base_uri": "https://localhost:8080/"
        },
        "outputId": "82a4b600-d23d-49db-e834-91625f1ab6ed"
      },
      "source": [
        "# Similar to how float() and int() work, bool() forces a value to be considered a boolean!\n",
        "print (bool(''))"
      ],
      "execution_count": 144,
      "outputs": [
        {
          "output_type": "stream",
          "text": [
            "False\n"
          ],
          "name": "stdout"
        }
      ]
    },
    {
      "cell_type": "code",
      "metadata": {
        "id": "inX5dRBk5n6T",
        "colab": {
          "base_uri": "https://localhost:8080/"
        },
        "outputId": "fbdcfeae-7068-4b81-fd61-c47f3542765f"
      },
      "source": [
        "print (bool(''))"
      ],
      "execution_count": 145,
      "outputs": [
        {
          "output_type": "stream",
          "text": [
            "False\n"
          ],
          "name": "stdout"
        }
      ]
    },
    {
      "cell_type": "code",
      "metadata": {
        "id": "AxWRC2nJ8H71",
        "colab": {
          "base_uri": "https://localhost:8080/"
        },
        "outputId": "15b2f3f7-e162-4ec3-989f-95bf3711dc76"
      },
      "source": [
        "print (bool('I have character!'))"
      ],
      "execution_count": 146,
      "outputs": [
        {
          "output_type": "stream",
          "text": [
            "True\n"
          ],
          "name": "stdout"
        }
      ]
    },
    {
      "cell_type": "code",
      "metadata": {
        "id": "xiPqecrh5v9J",
        "colab": {
          "base_uri": "https://localhost:8080/"
        },
        "outputId": "c2c0333f-9ca7-490e-e3a1-6c04d1481691"
      },
      "source": [
        "print (bool('SI'))"
      ],
      "execution_count": 147,
      "outputs": [
        {
          "output_type": "stream",
          "text": [
            "True\n"
          ],
          "name": "stdout"
        }
      ]
    },
    {
      "cell_type": "code",
      "metadata": {
        "id": "einJBbxJ8H71",
        "colab": {
          "base_uri": "https://localhost:8080/"
        },
        "outputId": "d63e5822-c671-4210-d93f-8d04c1f313fe"
      },
      "source": [
        "print (bool([]))"
      ],
      "execution_count": 148,
      "outputs": [
        {
          "output_type": "stream",
          "text": [
            "False\n"
          ],
          "name": "stdout"
        }
      ]
    },
    {
      "cell_type": "code",
      "metadata": {
        "id": "oZl2WEZG52Wi",
        "colab": {
          "base_uri": "https://localhost:8080/"
        },
        "outputId": "654c59d3-678a-457a-f39e-9193b8fd6395"
      },
      "source": [
        "print (bool([]))"
      ],
      "execution_count": 149,
      "outputs": [
        {
          "output_type": "stream",
          "text": [
            "False\n"
          ],
          "name": "stdout"
        }
      ]
    },
    {
      "cell_type": "code",
      "metadata": {
        "id": "hV5bPIVT8H72",
        "colab": {
          "base_uri": "https://localhost:8080/"
        },
        "outputId": "b53da15a-3348-4837-c34d-ce25f4e2afbb"
      },
      "source": [
        "print (bool([1, 2, 3]))"
      ],
      "execution_count": 150,
      "outputs": [
        {
          "output_type": "stream",
          "text": [
            "True\n"
          ],
          "name": "stdout"
        }
      ]
    },
    {
      "cell_type": "code",
      "metadata": {
        "id": "C8ACA7cp57Ka",
        "colab": {
          "base_uri": "https://localhost:8080/"
        },
        "outputId": "af8d74f8-7697-43c5-f8c7-eb52f80a56e9"
      },
      "source": [
        "print (bool(['SI', 'NO']))"
      ],
      "execution_count": 151,
      "outputs": [
        {
          "output_type": "stream",
          "text": [
            "True\n"
          ],
          "name": "stdout"
        }
      ]
    },
    {
      "cell_type": "markdown",
      "metadata": {
        "id": "iOBawj4H8H73"
      },
      "source": [
        "And so on, for the other collections and containers. `None` also evaluates as `False`. The number `1` is equivalent to `True` and the number `0` is equivalent to `False` as well, in a boolean context."
      ]
    },
    {
      "cell_type": "markdown",
      "metadata": {
        "id": "aaeOS6Sl8H73"
      },
      "source": [
        "### If-statements\n",
        "\n",
        "We can create segments of code that only execute if a set of conditions is met. We use if-statements in conjunction with logical statements in order to create branches in our code. \n",
        "\n",
        "An `if` block gets entered when the condition is considered to be `True`. If condition is evaluated as `False`, the `if` block will simply be skipped unless there is an `else` block to accompany it. Conditions are made using either logical operators or by using the truthiness of values in Python. An if-statement is defined with a colon and a block of indented text."
      ]
    },
    {
      "cell_type": "code",
      "metadata": {
        "id": "8nKpzN9q8H77",
        "colab": {
          "base_uri": "https://localhost:8080/"
        },
        "outputId": "9dacace8-39d2-4525-d254-79b444b96ba0"
      },
      "source": [
        "# This is the basic format of an if statement. This is a vacuous example. \n",
        "# The string \"Condition\" will always evaluated as True because it is a\n",
        "# non-empty string. he purpose of this code is to show the formatting of\n",
        "# an if-statement.\n",
        "if \"Condition\": \n",
        "    # This block of code will execute because the string is non-empty\n",
        "    # Everything on these indented lines\n",
        "    print (True)\n",
        "else:\n",
        "    # So if the condition that we examined with if is in fact False\n",
        "    # This block of code will execute INSTEAD of the first block of code\n",
        "    # Everything on these indented lines\n",
        "    print (False)\n",
        "# The else block here will never execute because \"Condition\" is a non-empty string."
      ],
      "execution_count": 152,
      "outputs": [
        {
          "output_type": "stream",
          "text": [
            "True\n"
          ],
          "name": "stdout"
        }
      ]
    },
    {
      "cell_type": "code",
      "metadata": {
        "id": "kjLEZegI6aLQ",
        "colab": {
          "base_uri": "https://localhost:8080/"
        },
        "outputId": "a51d526c-b3ea-41af-d922-03dc5790f15c"
      },
      "source": [
        "if \"\":\n",
        "  print (True)\n",
        "else:\n",
        "  print (False)"
      ],
      "execution_count": 153,
      "outputs": [
        {
          "output_type": "stream",
          "text": [
            "False\n"
          ],
          "name": "stdout"
        }
      ]
    },
    {
      "cell_type": "code",
      "metadata": {
        "id": "6zWJzzZx8H77"
      },
      "source": [
        "i = 4\n",
        "if i == 5:\n",
        "    print ('The variable i has a value of 5')"
      ],
      "execution_count": 154,
      "outputs": []
    },
    {
      "cell_type": "markdown",
      "metadata": {
        "id": "9UGVzeML8H79"
      },
      "source": [
        "Because in this example `i = 4` and the if-statement is only looking for whether `i` is equal to `5`, the print statement will never be executed. We can add in an `else` statement to create a contingency block of code in case the condition in the if-statement is not evaluated as `True`."
      ]
    },
    {
      "cell_type": "code",
      "metadata": {
        "id": "juYuQN2d6tPd"
      },
      "source": [
        "x = 5\n",
        "if x <= 3:\n",
        "  print ('x es igual o menor a 3')"
      ],
      "execution_count": 155,
      "outputs": []
    },
    {
      "cell_type": "code",
      "metadata": {
        "id": "pg31C-L28H79",
        "colab": {
          "base_uri": "https://localhost:8080/"
        },
        "outputId": "be6643f1-b161-47e3-a970-53852ddc2bef"
      },
      "source": [
        "i = 4\n",
        "if i == 5:\n",
        "    print (\"All lines in this indented block are part of this block\")\n",
        "    print ('The variable i has a value of 5')\n",
        "else:\n",
        "    print (\"All lines in this indented block are part of this block\")\n",
        "    print ('The variable i is not equal to 5')"
      ],
      "execution_count": 156,
      "outputs": [
        {
          "output_type": "stream",
          "text": [
            "All lines in this indented block are part of this block\n",
            "The variable i is not equal to 5\n"
          ],
          "name": "stdout"
        }
      ]
    },
    {
      "cell_type": "code",
      "metadata": {
        "id": "yA8MlAfI7PZj",
        "colab": {
          "base_uri": "https://localhost:8080/"
        },
        "outputId": "b6da3bca-0d46-4ba4-9c46-603d8409d58b"
      },
      "source": [
        "x = 5\n",
        "if x <= 3:\n",
        "  print (\"La variable x es menor o igual a 3\")\n",
        "else:\n",
        "  print (\"La variable x es mayor a 3\")"
      ],
      "execution_count": 157,
      "outputs": [
        {
          "output_type": "stream",
          "text": [
            "La variable x es mayor a 3\n"
          ],
          "name": "stdout"
        }
      ]
    },
    {
      "cell_type": "markdown",
      "metadata": {
        "id": "K-cyIQvX8H7-"
      },
      "source": [
        "We can implement other branches off of the same if-statement by using `elif`, an abbreviation of \"else if\". We can include as many `elifs` as we like until we have exhausted all the logical branches of a condition."
      ]
    },
    {
      "cell_type": "code",
      "metadata": {
        "id": "qaIP76r28H7_",
        "colab": {
          "base_uri": "https://localhost:8080/"
        },
        "outputId": "906f4762-d89b-47e3-de19-12b26364634e"
      },
      "source": [
        "i = 1\n",
        "if i == 1:\n",
        "    print ('The variable i has a value of 1')\n",
        "elif i == 2:\n",
        "    print ('The variable i has a value of 2')\n",
        "elif i == 3:\n",
        "    print ('The variable i has a value of 3')\n",
        "else:\n",
        "    print (\"I don't care what i is\")"
      ],
      "execution_count": 158,
      "outputs": [
        {
          "output_type": "stream",
          "text": [
            "The variable i has a value of 1\n"
          ],
          "name": "stdout"
        }
      ]
    },
    {
      "cell_type": "code",
      "metadata": {
        "id": "BGf-fJ0gUpCE",
        "colab": {
          "base_uri": "https://localhost:8080/"
        },
        "outputId": "510d4ddd-349f-4cb2-8f29-0926b6461c15"
      },
      "source": [
        "x = 2\n",
        "if x == 0:\n",
        "  print ('La variable x es igual a 0')\n",
        "elif x == 1:\n",
        "  print ('La variable x es igual a 1')\n",
        "elif x == 2:\n",
        "  print ('La variable x es igual a 2')\n",
        "else:\n",
        "  print ('La variable x es diferente a 0, 1, 2 y 3')"
      ],
      "execution_count": 159,
      "outputs": [
        {
          "output_type": "stream",
          "text": [
            "La variable x es igual a 2\n"
          ],
          "name": "stdout"
        }
      ]
    },
    {
      "cell_type": "markdown",
      "metadata": {
        "id": "Ekk7J4hH8H8A"
      },
      "source": [
        "You can also nest if-statements within if-statements to check for further conditions."
      ]
    },
    {
      "cell_type": "code",
      "metadata": {
        "id": "PY5jMNvf8H8B",
        "colab": {
          "base_uri": "https://localhost:8080/"
        },
        "outputId": "3ec1e240-a1f8-4fa4-a9ea-a9f200b66f24"
      },
      "source": [
        "i = 10\n",
        "if i % 2 == 0:\n",
        "    if i % 3 == 0:\n",
        "        print ('i is divisible by both 2 and 3! Wow!')\n",
        "    elif i % 5 == 0:\n",
        "        print ('i is divisible by both 2 and 5! Wow!')\n",
        "    else:\n",
        "        print ('i is divisible by 2, but not 3 or 5. Meh.')\n",
        "else:\n",
        "    print ('I guess that i is an odd number. Boring.')"
      ],
      "execution_count": 160,
      "outputs": [
        {
          "output_type": "stream",
          "text": [
            "i is divisible by both 2 and 5! Wow!\n"
          ],
          "name": "stdout"
        }
      ]
    },
    {
      "cell_type": "code",
      "metadata": {
        "id": "9is0O7mGVXx4",
        "colab": {
          "base_uri": "https://localhost:8080/"
        },
        "outputId": "3ad656ab-bb0d-4034-de61-1e36b972e262"
      },
      "source": [
        "x = 30\n",
        "if x % 5 == 0:\n",
        "  if x % 2 == 0:\n",
        "    print ('La variable x es divisible por 2 y por 5')\n",
        "  elif x % 4 == 0:\n",
        "    print ('La variable x es divisible por 2 y por 4')\n",
        "  else:\n",
        "    print ('La variable x es divisible por 5, pero no por 2 y 4') \n",
        "else:\n",
        "  print ('La variable x no es divisible por 2, 5 o 4')"
      ],
      "execution_count": 161,
      "outputs": [
        {
          "output_type": "stream",
          "text": [
            "La variable x es divisible por 2 y por 5\n"
          ],
          "name": "stdout"
        }
      ]
    },
    {
      "cell_type": "markdown",
      "metadata": {
        "id": "y6cfULiU8H8C"
      },
      "source": [
        "Remember that we can group multiple conditions together by using the logical operators!"
      ]
    },
    {
      "cell_type": "code",
      "metadata": {
        "id": "XHB2tjbF8H8C",
        "colab": {
          "base_uri": "https://localhost:8080/"
        },
        "outputId": "e6bc239d-d94b-4635-e567-6a5d151ea1b3"
      },
      "source": [
        "i = 5\n",
        "j = 12\n",
        "if i < 10 and j > 11:\n",
        "    print ('{0} is less than 10 and {1} is greater than 11! How novel and interesting!'.format(i, j))"
      ],
      "execution_count": 162,
      "outputs": [
        {
          "output_type": "stream",
          "text": [
            "5 is less than 10 and 12 is greater than 11! How novel and interesting!\n"
          ],
          "name": "stdout"
        }
      ]
    },
    {
      "cell_type": "code",
      "metadata": {
        "id": "DoM29vWTWlPg",
        "colab": {
          "base_uri": "https://localhost:8080/"
        },
        "outputId": "fffca71f-3742-452d-b960-e38c7fa71882"
      },
      "source": [
        "x = 3\n",
        "y = 6\n",
        "if x < y and y<10:\n",
        "  print ('{0} es menor que {1} y {1} es menor que 10'.format(x, y))"
      ],
      "execution_count": 163,
      "outputs": [
        {
          "output_type": "stream",
          "text": [
            "3 es menor que 6 y 6 es menor que 10\n"
          ],
          "name": "stdout"
        }
      ]
    },
    {
      "cell_type": "markdown",
      "metadata": {
        "id": "o0dBEkCf8H8D"
      },
      "source": [
        "You can use the logical comparators to compare strings!"
      ]
    },
    {
      "cell_type": "code",
      "metadata": {
        "id": "i4FNjA988H8E",
        "colab": {
          "base_uri": "https://localhost:8080/"
        },
        "outputId": "74a71eb6-ba95-4fa3-e254-67196e51b3b3"
      },
      "source": [
        "my_string = \"Carthago delenda est\"\n",
        "if my_string == \"Carthago delenda est\":\n",
        "    print ('And so it was! For the glory of Rome!')\n",
        "else:\n",
        "    print ('War elephants are TERRIFYING. I am staying home.')"
      ],
      "execution_count": 164,
      "outputs": [
        {
          "output_type": "stream",
          "text": [
            "And so it was! For the glory of Rome!\n"
          ],
          "name": "stdout"
        }
      ]
    },
    {
      "cell_type": "code",
      "metadata": {
        "id": "JVreiQZYXSJY",
        "colab": {
          "base_uri": "https://localhost:8080/"
        },
        "outputId": "197c820c-c485-4f06-dc6d-72f4d5c8f483"
      },
      "source": [
        "mi_texto = \"Hola, bienvenid@s\"\n",
        "if mi_texto == \"Hola, bienvenid@s\":\n",
        "  print ('Hi')\n",
        "else:\n",
        "  print('Bye')"
      ],
      "execution_count": 165,
      "outputs": [
        {
          "output_type": "stream",
          "text": [
            "Hi\n"
          ],
          "name": "stdout"
        }
      ]
    },
    {
      "cell_type": "markdown",
      "metadata": {
        "id": "8_oi4E5a8H8F"
      },
      "source": [
        "As with other data types, `==` will check for whether the two things on either side of it have the same value. In this case, we compare whether the value of the strings are the same. Using `>` or `<` or any of the other comparators is not quite so intuitive, however, so we will stay from using comparators with strings in this lecture. Comparators will examine the [lexicographical order](https://en.wikipedia.org/wiki/Lexicographical_order) of the strings, which might be a bit more in-depth than you might like."
      ]
    },
    {
      "cell_type": "markdown",
      "metadata": {
        "id": "aHEOn3eO8H8F"
      },
      "source": [
        "Some built-in functions return a boolean value, so they can be used as conditions in an if-statement. User-defined functions can also be constructed so that they return a boolean value. This will be covered later with function definition!\n",
        "\n",
        "The `in` keyword is generally used to check membership of a value within another value. We can check memebership in the context of an if-statement and use it to output a truth value."
      ]
    },
    {
      "cell_type": "code",
      "metadata": {
        "id": "xUdUWwFk8H8G",
        "colab": {
          "base_uri": "https://localhost:8080/"
        },
        "outputId": "c88fbc42-fd8e-4fbf-e886-519ee8696b94"
      },
      "source": [
        "if 'a' in my_string or 'e' in my_string:\n",
        "    print ('Those are my favorite vowels!')"
      ],
      "execution_count": 166,
      "outputs": [
        {
          "output_type": "stream",
          "text": [
            "Those are my favorite vowels!\n"
          ],
          "name": "stdout"
        }
      ]
    },
    {
      "cell_type": "code",
      "metadata": {
        "id": "aBMSp9GHX0EU",
        "colab": {
          "base_uri": "https://localhost:8080/"
        },
        "outputId": "5b0ab11f-35b3-4954-ef7d-06f71f28f758"
      },
      "source": [
        "if '@' in mi_texto or ',' in mi_texto:\n",
        "  print ('\"@\" y \",\" fueron encontradas en el texto')"
      ],
      "execution_count": 167,
      "outputs": [
        {
          "output_type": "stream",
          "text": [
            "\"@\" y \",\" fueron encontradas en el texto\n"
          ],
          "name": "stdout"
        }
      ]
    },
    {
      "cell_type": "markdown",
      "metadata": {
        "id": "JsZ4yOjK8H8H"
      },
      "source": [
        "Here we use `in` to check whether the variable `my_string` contains any particular letters. We will later use `in` to iterate through lists!"
      ]
    },
    {
      "cell_type": "markdown",
      "metadata": {
        "id": "IugV8yqB8H8I"
      },
      "source": [
        "## Loop Structures\n",
        "\n",
        "Loop structures are one of the most important parts of programming. The `for` loop and the `while` loop provide a way to repeatedly run a block of code repeatedly. A `while` loop will iterate until a certain condition has been met. If at any point after an iteration that condition is no longer satisfied, the loop terminates. A `for` loop will iterate over a sequence of values and terminate when the sequence has ended. You can instead include conditions within the `for` loop to decide whether it should terminate early or you could simply let it run its course."
      ]
    },
    {
      "cell_type": "code",
      "metadata": {
        "id": "BJ5zjBgf8H8I",
        "colab": {
          "base_uri": "https://localhost:8080/"
        },
        "outputId": "21cdf6d9-5c91-474d-c6ef-5e83e279e57f"
      },
      "source": [
        "i = 5\n",
        "while i > 0: # We can write this as 'while i:' because 0 is False!\n",
        "    i -= 1\n",
        "    print ('I am looping! {0} more to go!'.format(i))"
      ],
      "execution_count": 168,
      "outputs": [
        {
          "output_type": "stream",
          "text": [
            "I am looping! 4 more to go!\n",
            "I am looping! 3 more to go!\n",
            "I am looping! 2 more to go!\n",
            "I am looping! 1 more to go!\n",
            "I am looping! 0 more to go!\n"
          ],
          "name": "stdout"
        }
      ]
    },
    {
      "cell_type": "code",
      "metadata": {
        "id": "zxvZFqeRjttA",
        "colab": {
          "base_uri": "https://localhost:8080/"
        },
        "outputId": "dd792aea-70d3-4f70-8074-2700ed13f54d"
      },
      "source": [
        "x = 4\n",
        "while x < 10:\n",
        "  x += 1\n",
        "  print ('Valor de x: {0}'.format(x))"
      ],
      "execution_count": 169,
      "outputs": [
        {
          "output_type": "stream",
          "text": [
            "Valor de x: 5\n",
            "Valor de x: 6\n",
            "Valor de x: 7\n",
            "Valor de x: 8\n",
            "Valor de x: 9\n",
            "Valor de x: 10\n"
          ],
          "name": "stdout"
        }
      ]
    },
    {
      "cell_type": "markdown",
      "metadata": {
        "id": "qrGhX_It8H8K"
      },
      "source": [
        "\n",
        "With `while` loops we need to make sure that something actually changes from iteration to iteration so that that the loop actually terminates. In this case, we use the shorthand `i -= 1` (short for `i = i - 1`) so that the value of `i` gets smaller with each iteration. Eventually `i` will be reduced to `0`, rendering the condition `False` and exiting the loop."
      ]
    },
    {
      "cell_type": "markdown",
      "metadata": {
        "id": "c0uNxb0l8H8L"
      },
      "source": [
        "A `for` loop iterates a set number of times, determined when you state the entry into the loop. In this case we are iterating over the list returned from `range()`. The `for` loop selects a value from the list, in order, and temporarily assigns the value of `i` to it so that operations can be performed with the value."
      ]
    },
    {
      "cell_type": "code",
      "metadata": {
        "id": "fQZPry128H8M",
        "colab": {
          "base_uri": "https://localhost:8080/"
        },
        "outputId": "add9e991-fcb6-4530-c986-9984f44330ec"
      },
      "source": [
        "for i in range(5):\n",
        "    print ('I am looping! I have looped {0} times!'.format(i + 1))"
      ],
      "execution_count": 170,
      "outputs": [
        {
          "output_type": "stream",
          "text": [
            "I am looping! I have looped 1 times!\n",
            "I am looping! I have looped 2 times!\n",
            "I am looping! I have looped 3 times!\n",
            "I am looping! I have looped 4 times!\n",
            "I am looping! I have looped 5 times!\n"
          ],
          "name": "stdout"
        }
      ]
    },
    {
      "cell_type": "code",
      "metadata": {
        "id": "pvTVyyuUMqhI",
        "colab": {
          "base_uri": "https://localhost:8080/"
        },
        "outputId": "c0140372-9736-45a0-b84d-086fa75fd19e"
      },
      "source": [
        "for x in range(4):\n",
        "  print ('Valor de x: {0}'.format(x + 1))"
      ],
      "execution_count": 171,
      "outputs": [
        {
          "output_type": "stream",
          "text": [
            "Valor de x: 1\n",
            "Valor de x: 2\n",
            "Valor de x: 3\n",
            "Valor de x: 4\n"
          ],
          "name": "stdout"
        }
      ]
    },
    {
      "cell_type": "markdown",
      "metadata": {
        "id": "vtdKBONY8H8O"
      },
      "source": [
        "Note that in this `for` loop we use the `in` keyword. Use of the `in` keyword is not limited to checking for membership as in the if-statement example. You can iterate over any collection with a `for` loop by using the `in` keyword.\n",
        "\n",
        "In this next example, we will iterate over a `set` because we want to check for containment and add to a new set."
      ]
    },
    {
      "cell_type": "code",
      "metadata": {
        "id": "5ZHfW1lD8H8P",
        "colab": {
          "base_uri": "https://localhost:8080/"
        },
        "outputId": "ff3d7d69-846a-4a4f-de52-01d1f3e45e44"
      },
      "source": [
        "my_list = {'cats', 'dogs', 'lizards', 'cows', 'bats', 'sponges', 'humans'} # Lists all the animals in the world\n",
        "mammal_list = {'cats', 'dogs', 'cows', 'bats', 'humans'} # Lists all the mammals in the world\n",
        "my_new_list = set()\n",
        "for animal in my_list:\n",
        "    if animal in mammal_list:\n",
        "        # This adds any animal that is both in my_list and mammal_list to my_new_list\n",
        "        my_new_list.add(animal)\n",
        "        \n",
        "print (my_new_list)"
      ],
      "execution_count": 172,
      "outputs": [
        {
          "output_type": "stream",
          "text": [
            "{'dogs', 'cats', 'humans', 'cows', 'bats'}\n"
          ],
          "name": "stdout"
        }
      ]
    },
    {
      "cell_type": "code",
      "metadata": {
        "id": "lbyw_8sY3hUr",
        "colab": {
          "base_uri": "https://localhost:8080/"
        },
        "outputId": "2d2dc4d9-614d-49ec-ff22-8f1a134b3068"
      },
      "source": [
        "alimentos = {'Papa', 'Arroz', 'Pepino', 'Fresa', 'Maracuya', 'Habichuela', 'Calabaza', 'Naranja', 'Pasta', 'Pera'}\n",
        "frutas = {'Fresa', 'Maracuya', 'Naranja', 'Pera'}\n",
        "nueva_lista = set()\n",
        "for fruta in alimentos:\n",
        "  if fruta in frutas:\n",
        "    nueva_lista.add (fruta)\n",
        "\n",
        "print (nueva_lista)"
      ],
      "execution_count": 173,
      "outputs": [
        {
          "output_type": "stream",
          "text": [
            "{'Fresa', 'Maracuya', 'Pera', 'Naranja'}\n"
          ],
          "name": "stdout"
        }
      ]
    },
    {
      "cell_type": "markdown",
      "metadata": {
        "id": "tqTj1JZK8H8Q"
      },
      "source": [
        "There are two statements that are very helpful in dealing with both `for` and `while` loops. These are `break` and `continue`. If `break` is encountered at any point while a loop is executing, the loop will immediately end."
      ]
    },
    {
      "cell_type": "code",
      "metadata": {
        "id": "Lzbwtlpk8H8R",
        "colab": {
          "base_uri": "https://localhost:8080/"
        },
        "outputId": "6671fb62-6170-47e3-ff41-e286fe7232bc"
      },
      "source": [
        "i = 10\n",
        "while True:\n",
        "    if i == 14:\n",
        "        break\n",
        "    i += 1 # This is shorthand for i = i + 1. It increments i with each iteration.\n",
        "    print (i)"
      ],
      "execution_count": 174,
      "outputs": [
        {
          "output_type": "stream",
          "text": [
            "11\n",
            "12\n",
            "13\n",
            "14\n"
          ],
          "name": "stdout"
        }
      ]
    },
    {
      "cell_type": "code",
      "metadata": {
        "id": "1lY-I8Yn5NUc",
        "colab": {
          "base_uri": "https://localhost:8080/"
        },
        "outputId": "b03543f7-6cf6-47fa-f055-86a667c61847"
      },
      "source": [
        "x = 20\n",
        "while True:\n",
        "  if x == 10:\n",
        "    break\n",
        "  x -= 2\n",
        "  print (x)"
      ],
      "execution_count": 175,
      "outputs": [
        {
          "output_type": "stream",
          "text": [
            "18\n",
            "16\n",
            "14\n",
            "12\n",
            "10\n"
          ],
          "name": "stdout"
        }
      ]
    },
    {
      "cell_type": "code",
      "metadata": {
        "id": "Y0io8Pos8H8R",
        "colab": {
          "base_uri": "https://localhost:8080/"
        },
        "outputId": "e2e484a5-39a0-472a-921f-1cd21c18727e"
      },
      "source": [
        "for i in range(5):\n",
        "    if i == 2:\n",
        "        break\n",
        "    print (i)"
      ],
      "execution_count": 176,
      "outputs": [
        {
          "output_type": "stream",
          "text": [
            "0\n",
            "1\n"
          ],
          "name": "stdout"
        }
      ]
    },
    {
      "cell_type": "code",
      "metadata": {
        "id": "vqF2mvNV5ltG",
        "colab": {
          "base_uri": "https://localhost:8080/"
        },
        "outputId": "e5361eb5-7e02-4ac9-dbf5-8645048f9171"
      },
      "source": [
        "for x in range(10):\n",
        "  if x == 5:\n",
        "    break\n",
        "  print (x)"
      ],
      "execution_count": 177,
      "outputs": [
        {
          "output_type": "stream",
          "text": [
            "0\n",
            "1\n",
            "2\n",
            "3\n",
            "4\n"
          ],
          "name": "stdout"
        }
      ]
    },
    {
      "cell_type": "markdown",
      "metadata": {
        "id": "YJorrkud8H8S"
      },
      "source": [
        "The `continue` statement will tell the loop to immediately end this iteration and continue onto the next iteration of the loop."
      ]
    },
    {
      "cell_type": "code",
      "metadata": {
        "id": "R3-OdbvP8H8T",
        "colab": {
          "base_uri": "https://localhost:8080/"
        },
        "outputId": "ec2d2750-8507-41be-ea00-cd524a76dfb4"
      },
      "source": [
        "i = 0\n",
        "while i < 5:\n",
        "    i += 1\n",
        "    if i == 3:\n",
        "        continue\n",
        "    print (i)"
      ],
      "execution_count": 178,
      "outputs": [
        {
          "output_type": "stream",
          "text": [
            "1\n",
            "2\n",
            "4\n",
            "5\n"
          ],
          "name": "stdout"
        }
      ]
    },
    {
      "cell_type": "code",
      "metadata": {
        "id": "MIva2_Yp58sb",
        "colab": {
          "base_uri": "https://localhost:8080/"
        },
        "outputId": "f813a94e-1602-4a0a-9547-85f07d5fdc20"
      },
      "source": [
        "x = 0\n",
        "while x < 10:\n",
        "  x += 2\n",
        "  if x == 4:\n",
        "    continue\n",
        "  print (x)\n",
        "\n"
      ],
      "execution_count": 179,
      "outputs": [
        {
          "output_type": "stream",
          "text": [
            "2\n",
            "6\n",
            "8\n",
            "10\n"
          ],
          "name": "stdout"
        }
      ]
    },
    {
      "cell_type": "markdown",
      "metadata": {
        "id": "L63Ek4j_8H8U"
      },
      "source": [
        "This loop skips printing the number $3$ because of the `continue` statement that executes when we enter the if-statement. The code never sees the command to print the number $3$ because it has already moved to the next iteration. The `break` and `continue` statements are further tools to help you control the flow of your loops and, as a result, your code."
      ]
    },
    {
      "cell_type": "markdown",
      "metadata": {
        "id": "wjsZBUwC8H8U"
      },
      "source": [
        "The variable that we use to iterate over a loop will retain its value when the loop exits. Similarly, any variables defined within the context of the loop will continue to exist outside of it."
      ]
    },
    {
      "cell_type": "code",
      "metadata": {
        "id": "frXoOcrQ8H8V",
        "colab": {
          "base_uri": "https://localhost:8080/"
        },
        "outputId": "50ef80de-f6ce-4fe5-9ef0-1f3100a5d156"
      },
      "source": [
        "for i in range(5):\n",
        "    loop_string = 'I transcend the loop!'\n",
        "    print ('I am eternal! I am {0} and I exist everywhere!'.format(i))\n",
        "\n",
        "print ('I persist! My value is {0}'.format(i))\n",
        "print (loop_string)"
      ],
      "execution_count": 180,
      "outputs": [
        {
          "output_type": "stream",
          "text": [
            "I am eternal! I am 0 and I exist everywhere!\n",
            "I am eternal! I am 1 and I exist everywhere!\n",
            "I am eternal! I am 2 and I exist everywhere!\n",
            "I am eternal! I am 3 and I exist everywhere!\n",
            "I am eternal! I am 4 and I exist everywhere!\n",
            "I persist! My value is 4\n",
            "I transcend the loop!\n"
          ],
          "name": "stdout"
        }
      ]
    },
    {
      "cell_type": "code",
      "metadata": {
        "id": "jl2X07rE6ont",
        "colab": {
          "base_uri": "https://localhost:8080/"
        },
        "outputId": "463eca9d-9423-4cf0-fbaa-58fcb2c724dc"
      },
      "source": [
        "for x in range(4):\n",
        "  texto = \"Hola\"\n",
        "  print ('Valor de a variabale x: {0}'.format(x))\n",
        "\n",
        "print ('Valor final de la variable x: {0}'.format(x))\n",
        "print (texto)"
      ],
      "execution_count": 181,
      "outputs": [
        {
          "output_type": "stream",
          "text": [
            "Valor de a variabale x: 0\n",
            "Valor de a variabale x: 1\n",
            "Valor de a variabale x: 2\n",
            "Valor de a variabale x: 3\n",
            "Valor final de la variable x: 3\n",
            "Hola\n"
          ],
          "name": "stdout"
        }
      ]
    },
    {
      "cell_type": "markdown",
      "metadata": {
        "id": "5vNaKkO38H8W"
      },
      "source": [
        "We can also iterate over a dictionary!"
      ]
    },
    {
      "cell_type": "code",
      "metadata": {
        "id": "e9aufxrh8H8W"
      },
      "source": [
        "my_dict = {'firstname' : 'Inigo', 'lastname' : 'Montoya', 'nemesis' : 'Rugen'}"
      ],
      "execution_count": 182,
      "outputs": []
    },
    {
      "cell_type": "code",
      "metadata": {
        "id": "Mm6Y_TLu7K5t"
      },
      "source": [
        "mi_diccionario = {'Nombres' : 'Jenifer ' 'Alexandra ' 'Cristian ' 'Lucia ', \n",
        "                  'Apellidos' : 'Fernández ' 'Crespo ' 'Puentes ' 'Torres ', \n",
        "                  'Usuarios' : 'jefernan ' 'alecres ' 'cripuen ' 'lutorres '}"
      ],
      "execution_count": 183,
      "outputs": []
    },
    {
      "cell_type": "code",
      "metadata": {
        "id": "LAdDGk2r8H8W",
        "colab": {
          "base_uri": "https://localhost:8080/"
        },
        "outputId": "9b0c38b9-0ed5-4f3b-fae6-b18a0254108b"
      },
      "source": [
        "for key in my_dict:\n",
        "    print (key)"
      ],
      "execution_count": 184,
      "outputs": [
        {
          "output_type": "stream",
          "text": [
            "firstname\n",
            "lastname\n",
            "nemesis\n"
          ],
          "name": "stdout"
        }
      ]
    },
    {
      "cell_type": "code",
      "metadata": {
        "id": "9GiIToS-8tYy",
        "colab": {
          "base_uri": "https://localhost:8080/"
        },
        "outputId": "7b6700ee-e3fa-47ce-f66e-a03c99814957"
      },
      "source": [
        "for key in mi_diccionario:\n",
        "  print (key)"
      ],
      "execution_count": 185,
      "outputs": [
        {
          "output_type": "stream",
          "text": [
            "Nombres\n",
            "Apellidos\n",
            "Usuarios\n"
          ],
          "name": "stdout"
        }
      ]
    },
    {
      "cell_type": "markdown",
      "metadata": {
        "id": "b7JxR3tq8H8X"
      },
      "source": [
        "If we just iterate over a dictionary without doing anything else, we will only get the keys. We can either use the keys to get the values, like so:"
      ]
    },
    {
      "cell_type": "code",
      "metadata": {
        "id": "w17mIahK8H8X",
        "colab": {
          "base_uri": "https://localhost:8080/"
        },
        "outputId": "e0a360e8-1a43-455a-8a05-dc6c38876502"
      },
      "source": [
        "for key in my_dict:\n",
        "    print (my_dict[key])"
      ],
      "execution_count": 186,
      "outputs": [
        {
          "output_type": "stream",
          "text": [
            "Inigo\n",
            "Montoya\n",
            "Rugen\n"
          ],
          "name": "stdout"
        }
      ]
    },
    {
      "cell_type": "code",
      "metadata": {
        "id": "wIKjyid986KR",
        "colab": {
          "base_uri": "https://localhost:8080/"
        },
        "outputId": "5b615176-7603-40bf-ef78-f807bbb2a81d"
      },
      "source": [
        "for key in mi_diccionario:\n",
        "  print (mi_diccionario[key])"
      ],
      "execution_count": 187,
      "outputs": [
        {
          "output_type": "stream",
          "text": [
            "Jenifer Alexandra Cristian Lucia \n",
            "Fernández Crespo Puentes Torres \n",
            "jefernan alecres cripuen lutorres \n"
          ],
          "name": "stdout"
        }
      ]
    },
    {
      "cell_type": "markdown",
      "metadata": {
        "id": "5v5kPd9e8H8Y"
      },
      "source": [
        "Or we can use the `items()` function to get both key and value at the same time."
      ]
    },
    {
      "cell_type": "code",
      "metadata": {
        "id": "G4pSAM1F8H8Z",
        "colab": {
          "base_uri": "https://localhost:8080/"
        },
        "outputId": "08510f6d-bff3-498f-c38b-b7e334584817"
      },
      "source": [
        "for key, value in my_dict.items():\n",
        "    print (key, ':', value)"
      ],
      "execution_count": 188,
      "outputs": [
        {
          "output_type": "stream",
          "text": [
            "firstname : Inigo\n",
            "lastname : Montoya\n",
            "nemesis : Rugen\n"
          ],
          "name": "stdout"
        }
      ]
    },
    {
      "cell_type": "code",
      "metadata": {
        "id": "wjcUgUNg9dj9",
        "colab": {
          "base_uri": "https://localhost:8080/"
        },
        "outputId": "487af324-59da-4a03-a1f1-9a10087949a3"
      },
      "source": [
        "for key, value in mi_diccionario.items():\n",
        "  print (key, ':', value)"
      ],
      "execution_count": 189,
      "outputs": [
        {
          "output_type": "stream",
          "text": [
            "Nombres : Jenifer Alexandra Cristian Lucia \n",
            "Apellidos : Fernández Crespo Puentes Torres \n",
            "Usuarios : jefernan alecres cripuen lutorres \n"
          ],
          "name": "stdout"
        }
      ]
    },
    {
      "cell_type": "markdown",
      "metadata": {
        "id": "AinWQYem8H8Z"
      },
      "source": [
        "The `items()` function creates a tuple of each key-value pair and the for loop unpacks that tuple into `key, value` on each separate execution of the loop!"
      ]
    },
    {
      "cell_type": "markdown",
      "metadata": {
        "id": "5oPvEXDk8H8a"
      },
      "source": [
        "## Functions\n",
        "\n",
        "A function is a reusable block of code that you can call repeatedly to make calculations, output data, or really do anything that you want. This is one of the key aspects of using a programming language. To add to the built-in functions in Python, you can define your own!"
      ]
    },
    {
      "cell_type": "code",
      "metadata": {
        "id": "lQyzsPlc8H8b",
        "colab": {
          "base_uri": "https://localhost:8080/"
        },
        "outputId": "089f5653-ca65-401e-dad2-237ffc135366"
      },
      "source": [
        "def hello_world():\n",
        "    \"\"\" Prints Hello, world! \"\"\"\n",
        "    print ('Hello, world!')\n",
        "\n",
        "hello_world()"
      ],
      "execution_count": 190,
      "outputs": [
        {
          "output_type": "stream",
          "text": [
            "Hello, world!\n"
          ],
          "name": "stdout"
        }
      ]
    },
    {
      "cell_type": "code",
      "metadata": {
        "id": "zxuhG2ZM-yRh",
        "colab": {
          "base_uri": "https://localhost:8080/"
        },
        "outputId": "4a75e9f1-326b-4490-bcf9-5e603929ed1e"
      },
      "source": [
        "def info():\n",
        "  print (\"Información importante\")\n",
        "\n",
        "info()"
      ],
      "execution_count": 191,
      "outputs": [
        {
          "output_type": "stream",
          "text": [
            "Información importante\n"
          ],
          "name": "stdout"
        }
      ]
    },
    {
      "cell_type": "code",
      "metadata": {
        "id": "Wg-gxGXj8H8d",
        "colab": {
          "base_uri": "https://localhost:8080/"
        },
        "outputId": "26dc2b35-b0ef-4ba6-e2de-5d430a2ba268"
      },
      "source": [
        "for i in range(5):\n",
        "    hello_world()"
      ],
      "execution_count": 192,
      "outputs": [
        {
          "output_type": "stream",
          "text": [
            "Hello, world!\n",
            "Hello, world!\n",
            "Hello, world!\n",
            "Hello, world!\n",
            "Hello, world!\n"
          ],
          "name": "stdout"
        }
      ]
    },
    {
      "cell_type": "code",
      "metadata": {
        "id": "R-Ve4Esa_Fke",
        "colab": {
          "base_uri": "https://localhost:8080/"
        },
        "outputId": "a53c55f6-e365-465f-8e2c-155709dbaaef"
      },
      "source": [
        "for x in range(3):\n",
        "  info() "
      ],
      "execution_count": 193,
      "outputs": [
        {
          "output_type": "stream",
          "text": [
            "Información importante\n",
            "Información importante\n",
            "Información importante\n"
          ],
          "name": "stdout"
        }
      ]
    },
    {
      "cell_type": "markdown",
      "metadata": {
        "id": "XQLxoCNY8H8f"
      },
      "source": [
        "Functions are defined with `def`, a function name, a list of parameters, and a colon. Everything indented below the colon will be included in the definition of the function.\n",
        "\n",
        "We can have our functions do anything that you can do with a normal block of code. For example, our `hello_world()` function prints a string every time it is called. If we want to keep a value that a function calculates, we can define the function so that it will `return` the value we want. This is a very important feature of functions, as any variable defined purely within a function will not exist outside of it."
      ]
    },
    {
      "cell_type": "code",
      "metadata": {
        "id": "m1EUHh5p8H8g"
      },
      "source": [
        "def see_the_scope():\n",
        "    in_function_string = \"I'm stuck in here!\"\n",
        "\n",
        "see_the_scope()\n",
        "# print (in_function_string)  #Error: Varible definida dentro de la función"
      ],
      "execution_count": 194,
      "outputs": []
    },
    {
      "cell_type": "code",
      "metadata": {
        "id": "d4UF1VQDMzWB"
      },
      "source": [
        "def ejemplo_funcion():\n",
        "  texto_funcion = \"Texto dentro de la función\"\n",
        "\n",
        "ejemplo_funcion()\n",
        "# print (texto_funcion)  #Error: Variable definida dentro de la función"
      ],
      "execution_count": 195,
      "outputs": []
    },
    {
      "cell_type": "markdown",
      "metadata": {
        "id": "9osny27_8H8g"
      },
      "source": [
        " The **scope** of a variable is the part of a block of code where that variable is tied to a particular value. Functions in Python have an enclosed scope, making it so that variables defined within them can only be accessed directly within them. If we pass those values to a return statement we can get them out of the function. This makes it so that the function call returns values so that you can store them in variables that have a greater scope.\n",
        " \n",
        "In this case specifically, including a return statement allows us to keep the string value that we define in the function."
      ]
    },
    {
      "cell_type": "code",
      "metadata": {
        "id": "kpSHfEdG8H8h",
        "colab": {
          "base_uri": "https://localhost:8080/"
        },
        "outputId": "4111e6c2-d240-4505-cd0d-bad928c04bc9"
      },
      "source": [
        "def free_the_scope():\n",
        "    in_function_string = \"Anything you can do I can do better!\"\n",
        "    return in_function_string\n",
        "my_string = free_the_scope()\n",
        "print (my_string)"
      ],
      "execution_count": 196,
      "outputs": [
        {
          "output_type": "stream",
          "text": [
            "Anything you can do I can do better!\n"
          ],
          "name": "stdout"
        }
      ]
    },
    {
      "cell_type": "code",
      "metadata": {
        "id": "tOWmMTEyN7Q1",
        "colab": {
          "base_uri": "https://localhost:8080/"
        },
        "outputId": "4363d68c-c654-4075-830d-d6a6dcad1053"
      },
      "source": [
        "def valor_devuelto():\n",
        "  texto_funcion_2 = \"Texto función: valor_devuelto()\"\n",
        "  return texto_funcion_2\n",
        "mi_texto = valor_devuelto()\n",
        "print (mi_texto)"
      ],
      "execution_count": 197,
      "outputs": [
        {
          "output_type": "stream",
          "text": [
            "Texto función: valor_devuelto()\n"
          ],
          "name": "stdout"
        }
      ]
    },
    {
      "cell_type": "markdown",
      "metadata": {
        "id": "ioqgBdXW8H8h"
      },
      "source": [
        "Just as we can get values out of a function, we can also put values into a function. We do this by defining our function with parameters."
      ]
    },
    {
      "cell_type": "code",
      "metadata": {
        "id": "kdn686GR8H8i",
        "colab": {
          "base_uri": "https://localhost:8080/"
        },
        "outputId": "2ffd9150-e96d-4204-a84a-28a32c0cbc5a"
      },
      "source": [
        "def multiply_by_five(x):\n",
        "    \"\"\" Multiplies an input number by 5 \"\"\"\n",
        "    return x * 5\n",
        "\n",
        "n = 4\n",
        "print (n)\n",
        "print (multiply_by_five(n))"
      ],
      "execution_count": 198,
      "outputs": [
        {
          "output_type": "stream",
          "text": [
            "4\n",
            "20\n"
          ],
          "name": "stdout"
        }
      ]
    },
    {
      "cell_type": "code",
      "metadata": {
        "id": "xFiM2Q2rPxXU",
        "colab": {
          "base_uri": "https://localhost:8080/"
        },
        "outputId": "1d1b8525-2576-40d3-b2c7-48dbd97387ea"
      },
      "source": [
        "def dividir(x):\n",
        "  return x / 5\n",
        "\n",
        "x=20\n",
        "print (x)\n",
        "print (dividir(x))"
      ],
      "execution_count": 199,
      "outputs": [
        {
          "output_type": "stream",
          "text": [
            "20\n",
            "4.0\n"
          ],
          "name": "stdout"
        }
      ]
    },
    {
      "cell_type": "markdown",
      "metadata": {
        "id": "VO7lNw0Z8H8i"
      },
      "source": [
        "In this example we only had one parameter for our function, `x`. We can easily add more parameters, separating everything with a comma."
      ]
    },
    {
      "cell_type": "code",
      "metadata": {
        "id": "DwaOCE5D8H8j"
      },
      "source": [
        "def calculate_area(length, width):\n",
        "    \"\"\" Calculates the area of a rectangle \"\"\"\n",
        "    return length * width"
      ],
      "execution_count": 200,
      "outputs": []
    },
    {
      "cell_type": "code",
      "metadata": {
        "id": "AJ0i3V4SQPCQ"
      },
      "source": [
        "def multiplicar(numero_1, numero_2):\n",
        "  return numero_1 * numero_2"
      ],
      "execution_count": 201,
      "outputs": []
    },
    {
      "cell_type": "code",
      "metadata": {
        "id": "rJhn3LBS8H8k",
        "colab": {
          "base_uri": "https://localhost:8080/"
        },
        "outputId": "07e57d6e-a5fc-4590-ef84-66d6bb154d6c"
      },
      "source": [
        "l = 5\n",
        "w = 10\n",
        "print ('Area: ', calculate_area(l, w))\n",
        "print ('Length: ', l)\n",
        "print ('Width: ', w)"
      ],
      "execution_count": 202,
      "outputs": [
        {
          "output_type": "stream",
          "text": [
            "Area:  50\n",
            "Length:  5\n",
            "Width:  10\n"
          ],
          "name": "stdout"
        }
      ]
    },
    {
      "cell_type": "code",
      "metadata": {
        "id": "BleZa4Y9Quc9",
        "colab": {
          "base_uri": "https://localhost:8080/"
        },
        "outputId": "e94bd3a5-5e01-44c1-d022-489becd3182e"
      },
      "source": [
        "x = 4\n",
        "y = 20\n",
        "print ('Número 1: ', x)\n",
        "print ('Número 2: ', y)\n",
        "print ('Multiplicación: ', multiplicar(x , y))\n"
      ],
      "execution_count": 203,
      "outputs": [
        {
          "output_type": "stream",
          "text": [
            "Número 1:  4\n",
            "Número 2:  20\n",
            "Multiplicación:  80\n"
          ],
          "name": "stdout"
        }
      ]
    },
    {
      "cell_type": "code",
      "metadata": {
        "id": "tQo1oqFv8H8k",
        "colab": {
          "base_uri": "https://localhost:8080/"
        },
        "outputId": "b8f24dce-77b8-4447-ac19-f0693bdd3636"
      },
      "source": [
        "def calculate_volume(length, width, depth):\n",
        "    \"\"\" Calculates the volume of a rectangular prism \"\"\"\n",
        "    return length * width * depth\n",
        "\n",
        "resultado = calculate_volume(5, 4, 5)\n",
        "print (resultado)"
      ],
      "execution_count": 204,
      "outputs": [
        {
          "output_type": "stream",
          "text": [
            "100\n"
          ],
          "name": "stdout"
        }
      ]
    },
    {
      "cell_type": "code",
      "metadata": {
        "id": "nmrOUVoURoUW",
        "colab": {
          "base_uri": "https://localhost:8080/"
        },
        "outputId": "b887f8ef-4f99-4647-e81a-0ba60c327f07"
      },
      "source": [
        "def suma(num_1, num_2, num_3):\n",
        "  return num_1 + num_2 + num_3\n",
        "\n",
        "resultado = suma(20 , 30 , 50)\n",
        "print (resultado)"
      ],
      "execution_count": 205,
      "outputs": [
        {
          "output_type": "stream",
          "text": [
            "100\n"
          ],
          "name": "stdout"
        }
      ]
    },
    {
      "cell_type": "markdown",
      "metadata": {
        "id": "fMFNtdo78H8k"
      },
      "source": [
        "If we want to, we can define a function so that it takes an arbitrary number of parameters. We tell Python that we want this by using an asterisk (`*`)."
      ]
    },
    {
      "cell_type": "code",
      "metadata": {
        "id": "BFcQfo6m8H8l"
      },
      "source": [
        "def sum_values(*args):\n",
        "    sum_val = 0\n",
        "    for i in args:\n",
        "        sum_val += i\n",
        "    return sum_val"
      ],
      "execution_count": 206,
      "outputs": []
    },
    {
      "cell_type": "code",
      "metadata": {
        "id": "YaWephzISKS_"
      },
      "source": [
        "def resta(*args):\n",
        "  resultado = 100\n",
        "  for x in args:\n",
        "    resultado -= x\n",
        "  return resultado"
      ],
      "execution_count": 207,
      "outputs": []
    },
    {
      "cell_type": "code",
      "metadata": {
        "id": "F3tpW3By8H8l",
        "colab": {
          "base_uri": "https://localhost:8080/"
        },
        "outputId": "d8fb9f5d-0938-4b80-b8a0-a3f106e71560"
      },
      "source": [
        "print (sum_values(1, 2, 3))\n",
        "print (sum_values(10, 20, 30, 40, 50))\n",
        "print (sum_values(4, 2, 5, 1, 10, 249, 25, 24, 13, 6, 4))"
      ],
      "execution_count": 208,
      "outputs": [
        {
          "output_type": "stream",
          "text": [
            "6\n",
            "150\n",
            "343\n"
          ],
          "name": "stdout"
        }
      ]
    },
    {
      "cell_type": "code",
      "metadata": {
        "id": "BRbO7nPySo5b",
        "colab": {
          "base_uri": "https://localhost:8080/"
        },
        "outputId": "6babe934-b94b-4abc-9de5-d93d71feb2af"
      },
      "source": [
        "print (resta(50, 5, 10))\n",
        "print (resta(80, 5 ,1, 2, 3))\n",
        "print (resta(1, 2, 3, 4, 5, 6, 7, 8, 9, 10, 11, 12, 13, 14))\n"
      ],
      "execution_count": 209,
      "outputs": [
        {
          "output_type": "stream",
          "text": [
            "35\n",
            "9\n",
            "-5\n"
          ],
          "name": "stdout"
        }
      ]
    },
    {
      "cell_type": "markdown",
      "metadata": {
        "id": "QNhClnbt8H8o"
      },
      "source": [
        "The time to use `*args` as a parameter for your function is when you do not know how many values may be passed to it, as in the case of our sum function. The asterisk in this case is the syntax that tells Python that you are going to pass an arbitrary number of parameters into your function. These parameters are stored in the form of a tuple."
      ]
    },
    {
      "cell_type": "code",
      "metadata": {
        "id": "Qd-V3U5v8H8o",
        "colab": {
          "base_uri": "https://localhost:8080/"
        },
        "outputId": "72752692-c70f-4b68-f8db-ed979ee115c3"
      },
      "source": [
        "def test_args(*args):\n",
        "    print (type(args))\n",
        "\n",
        "test_args(1, 2, 3, 4, 5, 6)"
      ],
      "execution_count": 210,
      "outputs": [
        {
          "output_type": "stream",
          "text": [
            "<class 'tuple'>\n"
          ],
          "name": "stdout"
        }
      ]
    },
    {
      "cell_type": "code",
      "metadata": {
        "id": "ZDySrX08TNdh",
        "colab": {
          "base_uri": "https://localhost:8080/"
        },
        "outputId": "7a591ace-a67b-48d8-add6-eeabc97f96f0"
      },
      "source": [
        "def tipo_args(*args):\n",
        "  print (type(args))\n",
        "\n",
        "test_args(10, 21, 32, 43, 54, 63)"
      ],
      "execution_count": 211,
      "outputs": [
        {
          "output_type": "stream",
          "text": [
            "<class 'tuple'>\n"
          ],
          "name": "stdout"
        }
      ]
    },
    {
      "cell_type": "markdown",
      "metadata": {
        "id": "FtRVWP1d8H8p"
      },
      "source": [
        "We can put as many elements into the `args` tuple as we want to when we call the function. However, because `args` is a tuple, we cannot modify it after it has been created.\n",
        "\n",
        "The `args` name of the variable is purely by convention. You could just as easily name your parameter `*vars` or `*things`. You can treat the `args` tuple like you would any other tuple, easily accessing `arg`'s values and iterating over it, as in the above `sum_values(*args)` function."
      ]
    },
    {
      "cell_type": "markdown",
      "metadata": {
        "id": "LL6nDQ1V8H8q"
      },
      "source": [
        "Our functions can return any data type. This makes it easy for us to create functions that check for conditions that we might want to monitor.\n",
        "\n",
        "Here we define a function that returns a boolean value. We can easily use this in conjunction with if-statements and  other situations that require a boolean."
      ]
    },
    {
      "cell_type": "code",
      "metadata": {
        "id": "W3bQot3k8H8r"
      },
      "source": [
        "def has_a_vowel(word):\n",
        "    \"\"\" \n",
        "    Checks to see whether a word contains a vowel \n",
        "    If it doesn't contain a conventional vowel, it\n",
        "    will check for the presence of 'y' or 'w'. Does\n",
        "    not check to see whether those are in the word\n",
        "    in a vowel context.\n",
        "    \"\"\"\n",
        "    vowel_list = ['a', 'e', 'i', 'o', 'u']\n",
        "    \n",
        "    for vowel in vowel_list:\n",
        "        if vowel in word:\n",
        "            return True\n",
        "    # If there is a vowel in the word, the function returns, preventing anything after this loop from running\n",
        "    return False"
      ],
      "execution_count": 212,
      "outputs": []
    },
    {
      "cell_type": "code",
      "metadata": {
        "id": "WoRyKhKAT2Q8"
      },
      "source": [
        "def animales(animal):\n",
        "  lista_animales = ['Gato', 'Perro', 'Loro', 'Vaca']\n",
        "\n",
        "  for x in lista_animales:\n",
        "    if x in animal:\n",
        "      return True\n",
        "  \n",
        "  return False "
      ],
      "execution_count": 213,
      "outputs": []
    },
    {
      "cell_type": "code",
      "metadata": {
        "id": "sFY0ghUN8H8s",
        "colab": {
          "base_uri": "https://localhost:8080/"
        },
        "outputId": "a3d5979f-d5dd-4c1f-89da-361a320a039a"
      },
      "source": [
        "my_word = 'catnapping'\n",
        "if has_a_vowel(my_word):\n",
        "    print ('How surprising, an english word contains a vowel.')\n",
        "else:\n",
        "    print ('This is actually surprising.')"
      ],
      "execution_count": 214,
      "outputs": [
        {
          "output_type": "stream",
          "text": [
            "How surprising, an english word contains a vowel.\n"
          ],
          "name": "stdout"
        }
      ]
    },
    {
      "cell_type": "code",
      "metadata": {
        "id": "7LQ8Pf58UgTB",
        "colab": {
          "base_uri": "https://localhost:8080/"
        },
        "outputId": "defcdd72-e583-4925-fc2f-056469d535c0"
      },
      "source": [
        "mi_animal = 'Perro'\n",
        "if animales(mi_animal):\n",
        "  print ('El animal \"{0}\" se encuentra en la lista'.format(mi_animal))\n",
        "else:\n",
        "  print ('El animal no se encuentra en la lista')"
      ],
      "execution_count": 215,
      "outputs": [
        {
          "output_type": "stream",
          "text": [
            "El animal \"Perro\" se encuentra en la lista\n"
          ],
          "name": "stdout"
        }
      ]
    },
    {
      "cell_type": "code",
      "metadata": {
        "id": "Rn366pKN8H8s"
      },
      "source": [
        "def point_maker(x, y):\n",
        "    \"\"\" Groups x and y values into a point, technically a tuple \"\"\"\n",
        "    return x, y"
      ],
      "execution_count": 216,
      "outputs": []
    },
    {
      "cell_type": "code",
      "metadata": {
        "id": "9lHpD-MbVYmD"
      },
      "source": [
        "def coordenadas(x1, y1):\n",
        "  return x1, y1"
      ],
      "execution_count": 217,
      "outputs": []
    },
    {
      "cell_type": "markdown",
      "metadata": {
        "id": "Zg0q8i658H8t"
      },
      "source": [
        "This above function returns an ordered pair of the input parameters, stored as a tuple."
      ]
    },
    {
      "cell_type": "code",
      "metadata": {
        "scrolled": true,
        "id": "373O4GGF8H8t",
        "colab": {
          "base_uri": "https://localhost:8080/"
        },
        "outputId": "92f4099d-d9ef-49f3-d700-a109bbc2e241"
      },
      "source": [
        "a = point_maker(0, 10)\n",
        "b = point_maker(5, 3)\n",
        "def calculate_slope(point_a, point_b):\n",
        "    \"\"\" Calculates the linear slope between two points \"\"\"\n",
        "    return (point_b[1] - point_a[1])/(point_b[0] - point_a[0])\n",
        "print (\"The slope between a and b is {0}\".format(calculate_slope(a, b)))"
      ],
      "execution_count": 218,
      "outputs": [
        {
          "output_type": "stream",
          "text": [
            "The slope between a and b is -1.4\n"
          ],
          "name": "stdout"
        }
      ]
    },
    {
      "cell_type": "code",
      "metadata": {
        "id": "UwRXJsaIVsVd",
        "colab": {
          "base_uri": "https://localhost:8080/"
        },
        "outputId": "4c7b9f39-9216-4184-eaf8-eaf46125f5d3"
      },
      "source": [
        "x = coordenadas(5, 5)\n",
        "y = coordenadas(10, 10)\n",
        "\n",
        "def pendiente(punto_1, punto_2):\n",
        "  return (punto_2[1] - punto_1[1])/(punto_2[0] - punto_1[0])\n",
        "print ('La pendiente de la recta que pasa por el Punto 1 y el Punto 2 es: {0}'.format(pendiente(x, y)))"
      ],
      "execution_count": 219,
      "outputs": [
        {
          "output_type": "stream",
          "text": [
            "La pendiente de la recta que pasa por el Punto 1 y el Punto 2 es: 1.0\n"
          ],
          "name": "stdout"
        }
      ]
    },
    {
      "cell_type": "markdown",
      "metadata": {
        "id": "OlYDTa_C8H8u"
      },
      "source": [
        "And that one calculates the slope between two points!"
      ]
    },
    {
      "cell_type": "code",
      "metadata": {
        "id": "zXw3Apt38H8v",
        "colab": {
          "base_uri": "https://localhost:8080/"
        },
        "outputId": "7fd30421-e99f-4676-b04b-b9671a05be38"
      },
      "source": [
        "print (\"The slope-intercept form of the line between a and b, using point a, is: y - {0} = {2}(x - {1})\".format(a[1], a[0], calculate_slope(a, b)))"
      ],
      "execution_count": 220,
      "outputs": [
        {
          "output_type": "stream",
          "text": [
            "The slope-intercept form of the line between a and b, using point a, is: y - 10 = -1.4(x - 0)\n"
          ],
          "name": "stdout"
        }
      ]
    },
    {
      "cell_type": "code",
      "metadata": {
        "id": "zEin5ICIfyr2",
        "colab": {
          "base_uri": "https://localhost:8080/"
        },
        "outputId": "081ff2e3-1124-4aab-ed11-e90ba65bfbce"
      },
      "source": [
        "print ('La ecuación punto pendiente, usando el punto x es: y - {0} = {2}(x - {1})'.format(x[1], x[0], pendiente(x, y)))"
      ],
      "execution_count": 221,
      "outputs": [
        {
          "output_type": "stream",
          "text": [
            "La ecuación punto pendiente, usando el punto x es: y - 5 = 1.0(x - 5)\n"
          ],
          "name": "stdout"
        }
      ]
    },
    {
      "cell_type": "markdown",
      "metadata": {
        "id": "0TIym-0T8H8v"
      },
      "source": [
        "With the proper syntax, you can define functions to do whatever calculations you want. This makes them an indispensible part of programming in any language."
      ]
    },
    {
      "cell_type": "markdown",
      "metadata": {
        "id": "NgKrET2z8H8w"
      },
      "source": [
        "## Next Steps\n",
        "\n",
        "This was a lot of material and there is still even more to cover! Make sure you play around with the cells in each notebook to accustom yourself to the syntax featured here and to figure out any limitations. If you want to delve even deeper into the material, the [documentation for Python](https://docs.python.org/2/) is all available online. We are in the process of developing a second part to this Python tutorial, designed to provide you with even more programming knowledge, so keep an eye on the [Quantopian Lectures Page](quantopian.com/lectures) and the [forums](quantopian.com/posts) for any new lectures."
      ]
    },
    {
      "cell_type": "markdown",
      "metadata": {
        "id": "lwn9RpyX8H8x"
      },
      "source": [
        "*This presentation is for informational purposes only and does not constitute an offer to sell, a solicitation to buy, or a recommendation for any security; nor does it constitute an offer to provide investment advisory or other services by Quantopian, Inc. (\"Quantopian\"). Nothing contained herein constitutes investment advice or offers any opinion with respect to the suitability of any security, and any views expressed herein should not be taken as advice to buy, sell, or hold any security or as an endorsement of any security or company.  In preparing the information contained herein, Quantopian, Inc. has not taken into account the investment needs, objectives, and financial circumstances of any particular investor. Any views expressed and data illustrated herein were prepared based upon information, believed to be reliable, available to Quantopian, Inc. at the time of publication. Quantopian makes no guarantees as to their accuracy or completeness. All information is subject to change and may quickly become unreliable for various reasons, including changes in market conditions or economic circumstances.*"
      ]
    }
  ]
}
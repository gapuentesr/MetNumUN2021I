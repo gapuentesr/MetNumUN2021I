{
  "nbformat": 4,
  "nbformat_minor": 0,
  "metadata": {
    "kernelspec": {
      "name": "python3",
      "display_name": "Python 3"
    },
    "colab": {
      "name": "gapuentesrlecture3.ipynb",
      "provenance": [],
      "collapsed_sections": [
        "cLUYfTYAHVrE",
        "x7mDKMaVk46V"
      ]
    },
    "language_info": {
      "name": "python"
    }
  },
  "cells": [
    {
      "cell_type": "markdown",
      "metadata": {
        "id": "cLUYfTYAHVrE"
      },
      "source": [
        "#Quantopian - Lectura \\# 3\n",
        "\n",
        "##Métodos Numéricos\n",
        "###Gustavo Alberto Puentes Romero"
      ]
    },
    {
      "cell_type": "markdown",
      "metadata": {
        "id": "Np2ba9nBk42d"
      },
      "source": [
        "# Introduction to NumPy\n",
        "by Maxwell Margenot\n",
        "\n",
        "Part of the Quantopian Lecture Series:\n",
        "\n",
        "* [www.quantopian.com/lectures](https://www.quantopian.com/lectures)\n",
        "* [github.com/quantopian/research_public](https://github.com/quantopian/research_public)\n",
        "\n",
        "Notebook released under the Creative Commons Attribution 4.0 License."
      ]
    },
    {
      "cell_type": "markdown",
      "metadata": {
        "id": "YTLL1nOxk45r"
      },
      "source": [
        "NumPy is an incredibly powerful package in Python that is ubiquitous throughout the Quantopian platform. It has strong integration with Pandas, another tool we will be covering in the lecture series. NumPy adds support for multi-dimensional arrays and mathematical functions that allow you to easily perform linear algebra calculations. This lecture will be a collection of linear algebra examples computed using NumPy."
      ]
    },
    {
      "cell_type": "code",
      "metadata": {
        "id": "2v21TJ3Zqh9q"
      },
      "source": [
        "import numpy as num\n",
        "import matplotlib.pyplot as pl"
      ],
      "execution_count": 1,
      "outputs": []
    },
    {
      "cell_type": "code",
      "metadata": {
        "collapsed": true,
        "id": "p5oM4VOhk45u"
      },
      "source": [
        "import numpy as np\n",
        "import matplotlib.pyplot as plt"
      ],
      "execution_count": 2,
      "outputs": []
    },
    {
      "cell_type": "markdown",
      "metadata": {
        "id": "N5-N_G58k45w"
      },
      "source": [
        "### Basic NumPy arrays"
      ]
    },
    {
      "cell_type": "markdown",
      "metadata": {
        "id": "cDs99B_Zk45w"
      },
      "source": [
        "The most basic way that we could make use of NumPy in finance is calculating the mean return of a portfolio. Say that we have a list containing the historical return of several stocks."
      ]
    },
    {
      "cell_type": "code",
      "metadata": {
        "collapsed": true,
        "id": "3iK0g8YFk45y"
      },
      "source": [
        "stock_list = [3.5, 5, 2, 8, 4.2]"
      ],
      "execution_count": 3,
      "outputs": []
    },
    {
      "cell_type": "code",
      "metadata": {
        "id": "otz0xOBWrG-S"
      },
      "source": [
        "lista = [10.8, 8.5, 4, 20, 50]"
      ],
      "execution_count": 4,
      "outputs": []
    },
    {
      "cell_type": "markdown",
      "metadata": {
        "id": "bBhl7dMbk45z"
      },
      "source": [
        "We can make an array by calling a function on the list:"
      ]
    },
    {
      "cell_type": "code",
      "metadata": {
        "colab": {
          "base_uri": "https://localhost:8080/"
        },
        "id": "hmZnDmHZk450",
        "outputId": "825d3af8-1791-4f8e-e4a8-faa139ebf3ac"
      },
      "source": [
        "returns = np.array(stock_list)\n",
        "print (returns, type(returns))"
      ],
      "execution_count": 5,
      "outputs": [
        {
          "output_type": "stream",
          "text": [
            "[3.5 5.  2.  8.  4.2] <class 'numpy.ndarray'>\n"
          ],
          "name": "stdout"
        }
      ]
    },
    {
      "cell_type": "code",
      "metadata": {
        "colab": {
          "base_uri": "https://localhost:8080/"
        },
        "id": "gX4GvmDPrYsr",
        "outputId": "e682c3d4-e0cd-4be4-c045-de1f4a6dd79b"
      },
      "source": [
        "arreglo = np.array(lista)\n",
        "print (arreglo, type(arreglo))"
      ],
      "execution_count": 6,
      "outputs": [
        {
          "output_type": "stream",
          "text": [
            "[10.8  8.5  4.  20.  50. ] <class 'numpy.ndarray'>\n"
          ],
          "name": "stdout"
        }
      ]
    },
    {
      "cell_type": "markdown",
      "metadata": {
        "id": "NqQLdLpXk453"
      },
      "source": [
        "You'll notice that the type of our array is 'ndarray', not just 'array'. This is because NumPy arrays can be created with multiple dimensions. If we pass np.array() a list of lists, it will create a 2-dimensional array. If we pass a list of lists of lists, it will create a 3-dimensional array, and so on and so forth."
      ]
    },
    {
      "cell_type": "code",
      "metadata": {
        "colab": {
          "base_uri": "https://localhost:8080/"
        },
        "id": "hsNxsbVvk454",
        "outputId": "86fb970f-b27b-46e9-ed21-a0ab17ddb217"
      },
      "source": [
        "A = np.array([[1, 2], [3, 4]])\n",
        "print (A, type(A))"
      ],
      "execution_count": 7,
      "outputs": [
        {
          "output_type": "stream",
          "text": [
            "[[1 2]\n",
            " [3 4]] <class 'numpy.ndarray'>\n"
          ],
          "name": "stdout"
        }
      ]
    },
    {
      "cell_type": "code",
      "metadata": {
        "colab": {
          "base_uri": "https://localhost:8080/"
        },
        "id": "Cl0WwFMosDJ7",
        "outputId": "453e0233-532d-4421-e2fc-31064cddd8e4"
      },
      "source": [
        "X = np.array([[10, 8], [5, 4]])\n",
        "print (X, type(X))"
      ],
      "execution_count": 8,
      "outputs": [
        {
          "output_type": "stream",
          "text": [
            "[[10  8]\n",
            " [ 5  4]] <class 'numpy.ndarray'>\n"
          ],
          "name": "stdout"
        }
      ]
    },
    {
      "cell_type": "markdown",
      "metadata": {
        "id": "aSp7P6-9k454"
      },
      "source": [
        "We can access the dimensions of an array by looking at its `shape` member variable."
      ]
    },
    {
      "cell_type": "code",
      "metadata": {
        "colab": {
          "base_uri": "https://localhost:8080/"
        },
        "id": "NZXxEWLlk455",
        "outputId": "50fc0cd6-8a74-44ee-c4bf-ed8f4ab945a2"
      },
      "source": [
        "print (A.shape)"
      ],
      "execution_count": 9,
      "outputs": [
        {
          "output_type": "stream",
          "text": [
            "(2, 2)\n"
          ],
          "name": "stdout"
        }
      ]
    },
    {
      "cell_type": "code",
      "metadata": {
        "colab": {
          "base_uri": "https://localhost:8080/"
        },
        "id": "UgixoJ5ys44O",
        "outputId": "a40850af-8a56-46bb-cd0a-24d969c510f1"
      },
      "source": [
        "print (X.shape)"
      ],
      "execution_count": 10,
      "outputs": [
        {
          "output_type": "stream",
          "text": [
            "(2, 2)\n"
          ],
          "name": "stdout"
        }
      ]
    },
    {
      "cell_type": "markdown",
      "metadata": {
        "id": "sR7S3QBtk456"
      },
      "source": [
        "Arrays are indexed in much the same way as lists in Python. Elements of a list begin indexing from $0$ and end at $n - 1$, where $n$ is the length of the array."
      ]
    },
    {
      "cell_type": "code",
      "metadata": {
        "colab": {
          "base_uri": "https://localhost:8080/"
        },
        "id": "3CKxL5nkk457",
        "outputId": "196f9188-9945-4371-ce28-62a20ee94a13"
      },
      "source": [
        "print (returns[0], returns[len(returns) - 1])"
      ],
      "execution_count": 11,
      "outputs": [
        {
          "output_type": "stream",
          "text": [
            "3.5 4.2\n"
          ],
          "name": "stdout"
        }
      ]
    },
    {
      "cell_type": "code",
      "metadata": {
        "colab": {
          "base_uri": "https://localhost:8080/"
        },
        "id": "yFa_jbB6tJGi",
        "outputId": "cd8a9f87-4a83-481b-a816-5a7e35193487"
      },
      "source": [
        "print (arreglo[0], arreglo[len(arreglo)-1])"
      ],
      "execution_count": 12,
      "outputs": [
        {
          "output_type": "stream",
          "text": [
            "10.8 50.0\n"
          ],
          "name": "stdout"
        }
      ]
    },
    {
      "cell_type": "markdown",
      "metadata": {
        "id": "xfJUwCP_k458"
      },
      "source": [
        "We can take a slice of an array using a colon, just like in a list."
      ]
    },
    {
      "cell_type": "code",
      "metadata": {
        "colab": {
          "base_uri": "https://localhost:8080/"
        },
        "id": "FBUuzNyxk458",
        "outputId": "3f4b51ce-a52e-4d2b-9d8e-7a55c23c744b"
      },
      "source": [
        "print (returns[1:3])"
      ],
      "execution_count": 13,
      "outputs": [
        {
          "output_type": "stream",
          "text": [
            "[5. 2.]\n"
          ],
          "name": "stdout"
        }
      ]
    },
    {
      "cell_type": "code",
      "metadata": {
        "colab": {
          "base_uri": "https://localhost:8080/"
        },
        "id": "hUpn91SUuFMT",
        "outputId": "7bb29986-4e33-4649-e51c-1a12cd0f1944"
      },
      "source": [
        "print (arreglo[0:2])"
      ],
      "execution_count": 14,
      "outputs": [
        {
          "output_type": "stream",
          "text": [
            "[10.8  8.5]\n"
          ],
          "name": "stdout"
        }
      ]
    },
    {
      "cell_type": "markdown",
      "metadata": {
        "id": "0EEORzs6k459"
      },
      "source": [
        "A slice of an array, like in a list, will select a group of elements in the array starting from the first element indicated and going up to (but not including) the last element indicated.\n",
        "\n",
        "In the case of multidimensional arrays, many of the same conventions with slicing and indexing hold. We can access the first column of a 2-dimensional array like so:"
      ]
    },
    {
      "cell_type": "code",
      "metadata": {
        "colab": {
          "base_uri": "https://localhost:8080/"
        },
        "id": "3zp-Dm43k459",
        "outputId": "88540d69-c3d8-46de-9c4e-5c2d19a25c14"
      },
      "source": [
        "print (A[:, 0])"
      ],
      "execution_count": 15,
      "outputs": [
        {
          "output_type": "stream",
          "text": [
            "[1 3]\n"
          ],
          "name": "stdout"
        }
      ]
    },
    {
      "cell_type": "code",
      "metadata": {
        "colab": {
          "base_uri": "https://localhost:8080/"
        },
        "id": "aHpOje5S3SXQ",
        "outputId": "330d62fe-3fec-41b0-e39c-84939cae8588"
      },
      "source": [
        "print (X[:, 0])"
      ],
      "execution_count": 16,
      "outputs": [
        {
          "output_type": "stream",
          "text": [
            "[10  5]\n"
          ],
          "name": "stdout"
        }
      ]
    },
    {
      "cell_type": "markdown",
      "metadata": {
        "id": "nRf0AYwCk45-"
      },
      "source": [
        "And the first row of a 2-dimensional array like so:"
      ]
    },
    {
      "cell_type": "code",
      "metadata": {
        "colab": {
          "base_uri": "https://localhost:8080/"
        },
        "id": "kZzRJo2Ek45-",
        "outputId": "acf94fcc-4a1a-4ba1-cbc4-b1df2ba1b828"
      },
      "source": [
        "print (A[0, :])"
      ],
      "execution_count": 17,
      "outputs": [
        {
          "output_type": "stream",
          "text": [
            "[1 2]\n"
          ],
          "name": "stdout"
        }
      ]
    },
    {
      "cell_type": "code",
      "metadata": {
        "colab": {
          "base_uri": "https://localhost:8080/"
        },
        "id": "jhH6intq36to",
        "outputId": "3cfcd375-e40e-478c-a3f4-87f55535ca34"
      },
      "source": [
        "print (X[0, :])"
      ],
      "execution_count": 18,
      "outputs": [
        {
          "output_type": "stream",
          "text": [
            "[10  8]\n"
          ],
          "name": "stdout"
        }
      ]
    },
    {
      "cell_type": "markdown",
      "metadata": {
        "id": "jsL4Sw43k45_"
      },
      "source": [
        "Notice that each slice of the array returns yet another array!"
      ]
    },
    {
      "cell_type": "code",
      "metadata": {
        "colab": {
          "base_uri": "https://localhost:8080/"
        },
        "id": "sG6ijIL4k45_",
        "outputId": "e1c98986-cc37-44fd-d636-31acde91f4ce"
      },
      "source": [
        "print (type(A[0,:]))"
      ],
      "execution_count": 19,
      "outputs": [
        {
          "output_type": "stream",
          "text": [
            "<class 'numpy.ndarray'>\n"
          ],
          "name": "stdout"
        }
      ]
    },
    {
      "cell_type": "code",
      "metadata": {
        "colab": {
          "base_uri": "https://localhost:8080/"
        },
        "id": "APJo1aS84U_R",
        "outputId": "8f62b6ea-b41d-4e5c-d713-adf0ae67932e"
      },
      "source": [
        "print (type(X[0,:]))"
      ],
      "execution_count": 20,
      "outputs": [
        {
          "output_type": "stream",
          "text": [
            "<class 'numpy.ndarray'>\n"
          ],
          "name": "stdout"
        }
      ]
    },
    {
      "cell_type": "markdown",
      "metadata": {
        "id": "Gf8BTLP5k45_"
      },
      "source": [
        "Passing only one index to a 2-dimensional array will result in returning the row with the given index as well, providing us with another way to access individual rows."
      ]
    },
    {
      "cell_type": "code",
      "metadata": {
        "colab": {
          "base_uri": "https://localhost:8080/"
        },
        "id": "TamrnfqYk46A",
        "outputId": "ce633cfb-5dd1-48b6-dee3-45b6b44e3328"
      },
      "source": [
        "print (A[0])"
      ],
      "execution_count": 21,
      "outputs": [
        {
          "output_type": "stream",
          "text": [
            "[1 2]\n"
          ],
          "name": "stdout"
        }
      ]
    },
    {
      "cell_type": "code",
      "metadata": {
        "colab": {
          "base_uri": "https://localhost:8080/"
        },
        "id": "HESQiN3s4p7g",
        "outputId": "f0dfdf43-e78a-49fb-e82b-86268e9484fc"
      },
      "source": [
        "print (X[1])"
      ],
      "execution_count": 22,
      "outputs": [
        {
          "output_type": "stream",
          "text": [
            "[5 4]\n"
          ],
          "name": "stdout"
        }
      ]
    },
    {
      "cell_type": "markdown",
      "metadata": {
        "id": "kSIL-pVRk46B"
      },
      "source": [
        "Accessing the index of an individual element will return only the element."
      ]
    },
    {
      "cell_type": "code",
      "metadata": {
        "colab": {
          "base_uri": "https://localhost:8080/"
        },
        "id": "_GA24HgUk46B",
        "outputId": "d9592e6f-bade-49e2-cb81-a727f93bdfb5"
      },
      "source": [
        "print (A[1, 1])"
      ],
      "execution_count": 23,
      "outputs": [
        {
          "output_type": "stream",
          "text": [
            "4\n"
          ],
          "name": "stdout"
        }
      ]
    },
    {
      "cell_type": "code",
      "metadata": {
        "colab": {
          "base_uri": "https://localhost:8080/"
        },
        "id": "EZMwhKWs47N5",
        "outputId": "80df563b-a61b-47fb-9d7f-897fe286df6c"
      },
      "source": [
        "print (X[0, 0])"
      ],
      "execution_count": 24,
      "outputs": [
        {
          "output_type": "stream",
          "text": [
            "10\n"
          ],
          "name": "stdout"
        }
      ]
    },
    {
      "cell_type": "markdown",
      "metadata": {
        "id": "IPGISekyk46B"
      },
      "source": [
        "#### Array functions\n",
        "\n",
        "Functions built into NumPy can be easily called on arrays. Most functions are applied to an array element-wise (as scalar multiplication is). For example, if we call `log()` on an array, the logarithm will be taken of each element."
      ]
    },
    {
      "cell_type": "code",
      "metadata": {
        "colab": {
          "base_uri": "https://localhost:8080/"
        },
        "id": "kk5_8VtGk46C",
        "outputId": "0abeee20-9988-4d2c-a1e8-d6512bc3cb1a"
      },
      "source": [
        "print (np.log(returns))"
      ],
      "execution_count": 25,
      "outputs": [
        {
          "output_type": "stream",
          "text": [
            "[1.25276297 1.60943791 0.69314718 2.07944154 1.43508453]\n"
          ],
          "name": "stdout"
        }
      ]
    },
    {
      "cell_type": "code",
      "metadata": {
        "colab": {
          "base_uri": "https://localhost:8080/"
        },
        "id": "S-Y0HKUp5X8I",
        "outputId": "fc2054be-34e0-4ba5-a63b-74cd97479b00"
      },
      "source": [
        "print (np.log(arreglo))"
      ],
      "execution_count": 26,
      "outputs": [
        {
          "output_type": "stream",
          "text": [
            "[2.37954613 2.14006616 1.38629436 2.99573227 3.91202301]\n"
          ],
          "name": "stdout"
        }
      ]
    },
    {
      "cell_type": "markdown",
      "metadata": {
        "id": "GZ1jXvQhk46C"
      },
      "source": [
        "Some functions return a single value. This is because they treat the array as a collection (similar to a list), performing the designated function. For example, the `mean()` function will do exactly what you expect, calculating the mean of an array."
      ]
    },
    {
      "cell_type": "code",
      "metadata": {
        "colab": {
          "base_uri": "https://localhost:8080/"
        },
        "id": "PzYigN59k46C",
        "outputId": "fcd04b11-0c3b-4678-b99b-7ca05d4659e9"
      },
      "source": [
        "print (np.mean(returns))"
      ],
      "execution_count": 27,
      "outputs": [
        {
          "output_type": "stream",
          "text": [
            "4.54\n"
          ],
          "name": "stdout"
        }
      ]
    },
    {
      "cell_type": "code",
      "metadata": {
        "colab": {
          "base_uri": "https://localhost:8080/"
        },
        "id": "V7XWXt2u5rxh",
        "outputId": "d90d463a-7571-45e2-a99a-368d4a5968d2"
      },
      "source": [
        "print (np.mean(arreglo))"
      ],
      "execution_count": 28,
      "outputs": [
        {
          "output_type": "stream",
          "text": [
            "18.66\n"
          ],
          "name": "stdout"
        }
      ]
    },
    {
      "cell_type": "markdown",
      "metadata": {
        "id": "BHcbPHIVk46D"
      },
      "source": [
        "Or the `max()` function will return the maximum element of an array."
      ]
    },
    {
      "cell_type": "code",
      "metadata": {
        "colab": {
          "base_uri": "https://localhost:8080/"
        },
        "id": "LT4_eAsHk46D",
        "outputId": "f4c51760-ec46-443d-f41f-225426390e11"
      },
      "source": [
        "print (np.max(returns))"
      ],
      "execution_count": 29,
      "outputs": [
        {
          "output_type": "stream",
          "text": [
            "8.0\n"
          ],
          "name": "stdout"
        }
      ]
    },
    {
      "cell_type": "code",
      "metadata": {
        "colab": {
          "base_uri": "https://localhost:8080/"
        },
        "id": "UZf_kZ5T6Nwy",
        "outputId": "230b7952-a004-4dea-bad6-1db91f8c80bb"
      },
      "source": [
        "print (np.max(arreglo))"
      ],
      "execution_count": 30,
      "outputs": [
        {
          "output_type": "stream",
          "text": [
            "50.0\n"
          ],
          "name": "stdout"
        }
      ]
    },
    {
      "cell_type": "markdown",
      "metadata": {
        "id": "a0GUySnXk46E"
      },
      "source": [
        "For further reading on the universal functions in NumPy, check out the [documentation](https://docs.scipy.org/doc/numpy/user/quickstart.html#universal-functions)."
      ]
    },
    {
      "cell_type": "markdown",
      "metadata": {
        "id": "xpUzd4K3k46F"
      },
      "source": [
        "### Return to the returns\n",
        "\n",
        "Now let's modify our returns array with scalar values. If we add a scalar value to an array it will be added to every element of the array. If we multiply an array by a scalar value it will be multiplied against every element of the array. If we do both, both will happen!"
      ]
    },
    {
      "cell_type": "code",
      "metadata": {
        "scrolled": false,
        "colab": {
          "base_uri": "https://localhost:8080/"
        },
        "id": "f60kbHF-k46F",
        "outputId": "cf44c587-9e70-4569-b93c-3815c300302f"
      },
      "source": [
        "returns*2 + 5"
      ],
      "execution_count": 31,
      "outputs": [
        {
          "output_type": "execute_result",
          "data": {
            "text/plain": [
              "array([12. , 15. ,  9. , 21. , 13.4])"
            ]
          },
          "metadata": {
            "tags": []
          },
          "execution_count": 31
        }
      ]
    },
    {
      "cell_type": "code",
      "metadata": {
        "colab": {
          "base_uri": "https://localhost:8080/"
        },
        "id": "s7Um8hfqDxs9",
        "outputId": "296217bf-e46f-473a-9c7a-94daae32e7ba"
      },
      "source": [
        "arreglo*5 + 2"
      ],
      "execution_count": 32,
      "outputs": [
        {
          "output_type": "execute_result",
          "data": {
            "text/plain": [
              "array([ 56. ,  44.5,  22. , 102. , 252. ])"
            ]
          },
          "metadata": {
            "tags": []
          },
          "execution_count": 32
        }
      ]
    },
    {
      "cell_type": "markdown",
      "metadata": {
        "id": "zWGCstvAk46G"
      },
      "source": [
        "NumPy also has functions specifically built to operate on arrays. Let's take the mean and standard deviation of this group of returns."
      ]
    },
    {
      "cell_type": "code",
      "metadata": {
        "colab": {
          "base_uri": "https://localhost:8080/"
        },
        "id": "YY2jqQHNk46G",
        "outputId": "486aa720-ea67-4724-c35f-7043dcf73780"
      },
      "source": [
        "print (\"Mean: \", np.mean(returns), \"Std Dev: \", np.std(returns))"
      ],
      "execution_count": 33,
      "outputs": [
        {
          "output_type": "stream",
          "text": [
            "Mean:  4.54 Std Dev:  1.9915822855207364\n"
          ],
          "name": "stdout"
        }
      ]
    },
    {
      "cell_type": "markdown",
      "metadata": {
        "id": "mZRyWkIQEAo9"
      },
      "source": [
        "Media y desviación estandar de \"arreglo\":"
      ]
    },
    {
      "cell_type": "markdown",
      "metadata": {
        "id": "HNcJ4nzJFBWW"
      },
      "source": [
        "$$\n",
        "\\sigma : Desviaci \\acute{o}n est\\acute{a} ndar    \n",
        "$$\n",
        "$$\n",
        "\\bar{x}: Media\n",
        "$$"
      ]
    },
    {
      "cell_type": "code",
      "metadata": {
        "colab": {
          "base_uri": "https://localhost:8080/"
        },
        "id": "TPCYE6LLEHoN",
        "outputId": "bfc0e3c6-54fa-4454-9092-8f5f9a36f062"
      },
      "source": [
        "print (\"Media: \", np.mean(arreglo), \" || \" , \"Desviación estándar: \", np.std(returns))"
      ],
      "execution_count": 34,
      "outputs": [
        {
          "output_type": "stream",
          "text": [
            "Media:  18.66  ||  Desviación estándar:  1.9915822855207364\n"
          ],
          "name": "stdout"
        }
      ]
    },
    {
      "cell_type": "markdown",
      "metadata": {
        "id": "iEueCSlgk46H"
      },
      "source": [
        "Let's simulate a universe of stocks using NumPy's functions. First we need to create the arrays to hold the assets and returns that we will use to build a portfolio. This is because arrays are created with a fixed size. Their dimensions can't be changed without creating a new array."
      ]
    },
    {
      "cell_type": "code",
      "metadata": {
        "collapsed": true,
        "id": "lgOsEeK_k46H"
      },
      "source": [
        "N = 10\n",
        "assets = np.zeros((N, 100))\n",
        "returns = np.zeros((N, 100))"
      ],
      "execution_count": 35,
      "outputs": []
    },
    {
      "cell_type": "code",
      "metadata": {
        "id": "ELjo9bF3JeC7"
      },
      "source": [
        "X = 10\n",
        "arreglo_1 = np.zeros((N, 100))\n",
        "arreglo_2 = np.zeros((N, 100))"
      ],
      "execution_count": 36,
      "outputs": []
    },
    {
      "cell_type": "markdown",
      "metadata": {
        "id": "dAagIbVnk46H"
      },
      "source": [
        "This function, `zeroes()`, creates a NumPy array with the given dimensions that is entirely filled in with $0$. We can pass a single value or a tuple of as many dimensions as we like. Passing in the tuple `(N, 100)`, will return a two-dimensional array with $N$ rows and $100$ columns. Our result is a $N \\times 100$ array.\n",
        "\n",
        "Now we will simulate a base asset. We want the universe of stocks to be correlated with each other so we will use this initial value to generate the others."
      ]
    },
    {
      "cell_type": "code",
      "metadata": {
        "id": "z6YSOBrfk46I"
      },
      "source": [
        "R_1 = np.random.normal(1.01, 0.03, 100)\n",
        "returns[0] = R_1\n",
        "assets[0] = np.cumprod(R_1)"
      ],
      "execution_count": 37,
      "outputs": []
    },
    {
      "cell_type": "code",
      "metadata": {
        "id": "O6Jtx4f7J02A"
      },
      "source": [
        "R_2 = np.random.normal(1.01, 0.03, 100)\n",
        "arreglo_1[0] = R_2\n",
        "arreglo_2[0] = np.cumprod(R_2)"
      ],
      "execution_count": 38,
      "outputs": []
    },
    {
      "cell_type": "markdown",
      "metadata": {
        "id": "WElNFpIzk46I"
      },
      "source": [
        "The `random` module in NumPy is exceedingly useful. It contains methods for sampling from many different probability distributions, some of which are covered in the [random variables lecture](https://www.quantopian.com/lectures/random-variables) in the Quantopian lecture series. In this case we draw $N = 100$ random samples from a normal distribution with mean $1.01$ and standard deviation $0.03$. We treat these as the daily percentage returns of our asset and take the cumulative product of these samples to get the current price.\n",
        "\n",
        "The way we have generated our universe, the the individual $R_i$ vectors are each 1-dimensional arrays and the `returns` and `assets` variables contain 2-dimensional arrays. Above, we set the initial row of both `returns` and `assets` to be the first $R_i$ vector and the cumulative asset price based on those returns, respectively.\n",
        "\n",
        "We will now use this base asset to create a few other random assets that are correlated with it."
      ]
    },
    {
      "cell_type": "code",
      "metadata": {
        "id": "Mk73rivZk46J"
      },
      "source": [
        "# Generate assets that are correlated with R_1\n",
        "for i in range(1, N):\n",
        "    R_i = R_1 + np.random.normal(0.001, 0.02, 100)\n",
        "    returns[i] = R_i # Set each row of returns equal to the new R_i array\n",
        "    assets[i] = np.cumprod(R_i)\n",
        "    \n",
        "mean_returns = [(np.mean(R) - 1)*100 for R in returns]\n",
        "return_volatilities = [np.std(R) for R in returns]"
      ],
      "execution_count": 39,
      "outputs": []
    },
    {
      "cell_type": "code",
      "metadata": {
        "id": "aNfv5aDnLnac"
      },
      "source": [
        "for x in range(1, X):\n",
        "  R_x = R_2 + np.random.normal(0.001, 0.02, 100)\n",
        "  arreglo_1[x] = R_x\n",
        "  arreglo_2[x] = np.cumprod(R_x)\n",
        "\n",
        "mean_arreglo_1 = [(np.mean(R) - 1)*100 for R in arreglo_1]\n",
        "arreglo_1_volatilities = [np.std(R) for R in arreglo_1]\n"
      ],
      "execution_count": 40,
      "outputs": []
    },
    {
      "cell_type": "markdown",
      "metadata": {
        "id": "Ubku2s5Lk46J"
      },
      "source": [
        "Here we generate the remaining $N - 1$ securities that we want in our universe by adding random noise to $R_1$. This ensures that our $N - 1$ other assets will be correlated with the base asset because they have some underlying information that is shared.\n",
        "\n",
        "Let's plot what the mean return of each asset looks like:"
      ]
    },
    {
      "cell_type": "code",
      "metadata": {
        "scrolled": false,
        "colab": {
          "base_uri": "https://localhost:8080/",
          "height": 295
        },
        "id": "MMEjbj4Tk46K",
        "outputId": "3faf976d-8302-46f8-aee0-7ae5031c90cd"
      },
      "source": [
        "plt.bar(np.arange(len(mean_returns)), mean_returns)\n",
        "plt.xlabel('Stock')\n",
        "plt.ylabel('Returns')\n",
        "plt.title('Returns for {0} Random Assets'.format(N));"
      ],
      "execution_count": 41,
      "outputs": [
        {
          "output_type": "display_data",
          "data": {
            "image/png": "[encoded data removed]",
            "text/plain": [
              "<Figure size 432x288 with 1 Axes>"
            ]
          },
          "metadata": {
            "tags": [],
            "needs_background": "light"
          }
        }
      ]
    },
    {
      "cell_type": "code",
      "metadata": {
        "colab": {
          "base_uri": "https://localhost:8080/",
          "height": 312
        },
        "id": "qWm4CjMkN4Ba",
        "outputId": "bb39cd69-0d98-448c-eae1-9ef62a7a8c29"
      },
      "source": [
        "plt.bar(np.arange(len(mean_arreglo_1)), mean_arreglo_1)\n",
        "plt.xlabel('Stock')\n",
        "plt.ylabel('Devoluciones')\n",
        "plt.title('Devoluciones para {0} valores aleatorios'.format(X))"
      ],
      "execution_count": 42,
      "outputs": [
        {
          "output_type": "execute_result",
          "data": {
            "text/plain": [
              "Text(0.5, 1.0, 'Devoluciones para 10 valores aleatorios')"
            ]
          },
          "metadata": {
            "tags": []
          },
          "execution_count": 42
        },
        {
          "output_type": "display_data",
          "data": {
            "image/png": "[encoded data removed]",
            "text/plain": [
              "<Figure size 432x288 with 1 Axes>"
            ]
          },
          "metadata": {
            "tags": [],
            "needs_background": "light"
          }
        }
      ]
    },
    {
      "cell_type": "markdown",
      "metadata": {
        "id": "uBXqSIOUk46K"
      },
      "source": [
        "### Calculating Expected Return\n",
        "\n",
        "So we have a universe of stocks. Great! Now let's put them together in a portfolio and calculate its expected return and risk.\n",
        "\n",
        "We will start off by generating $N$ random weights for each asset in our portfolio."
      ]
    },
    {
      "cell_type": "code",
      "metadata": {
        "id": "DvyDKRfOk46L"
      },
      "source": [
        "weights = np.random.uniform(0, 1, N)\n",
        "weights = weights/np.sum(weights)"
      ],
      "execution_count": 43,
      "outputs": []
    },
    {
      "cell_type": "code",
      "metadata": {
        "id": "Tocbn9eLyG_E"
      },
      "source": [
        "pesos = np.random.uniform(0, 1, X)\n",
        "pesos = pesos/np.sum(pesos)"
      ],
      "execution_count": 44,
      "outputs": []
    },
    {
      "cell_type": "markdown",
      "metadata": {
        "id": "g9o6Q2Xkk46L"
      },
      "source": [
        "We have to rescale the weights so that they all add up to $1$. We do this by scaling the weights vector by the sum total of all the weights. This step ensures that we will be using $100\\%$ of the portfolio's cash.\n",
        "\n",
        "To calculate the mean return of the portfolio, we have to scale each asset's return by its designated weight. We can pull each element of each array and multiply them individually, but it's quicker to use NumPy's linear algebra methods. The function that we want is `dot()`. This will calculate the dot product between two arrays for us. So if $v = \\left[ 1, 2, 3 \\right]$ and $w = \\left[4, 5, 6 \\right]$, then:\n",
        "\n",
        "$$ v \\cdot w = 1 \\times 4 + 2 \\times 5 + 3 \\times 6 $$\n",
        "\n",
        "For a one-dimensional vector, the dot product will multiply each element pointwise and add all the products together! In our case, we have a vector of weights, $\\omega = \\left[ \\omega_1, \\omega_2, \\dots \\omega_N\\right]$ and a vector of returns, $\\mu = \\left[ \\mu_1, \\mu_2, \\dots, \\mu_N\\right]$. If we take the dot product of these two we will get:\n",
        "\n",
        "$$ \\omega \\cdot \\mu = \\omega_1\\mu_1 + \\omega_2\\mu_2 + \\dots + \\omega_N\\mu_N = \\mu_P $$\n",
        "\n",
        "This yields the sum of all the asset returns scaled by their respective weights. This the the portfolio's overall expected return!"
      ]
    },
    {
      "cell_type": "code",
      "metadata": {
        "colab": {
          "base_uri": "https://localhost:8080/"
        },
        "id": "2LazV27Ck46M",
        "outputId": "6853d16a-6f4f-446b-81d4-03d2cc77d667"
      },
      "source": [
        "p_returns = np.dot(weights, mean_returns)\n",
        "print (\"Expected return of the portfolio: \", p_returns)"
      ],
      "execution_count": 45,
      "outputs": [
        {
          "output_type": "stream",
          "text": [
            "Expected return of the portfolio:  1.2899053984580755\n"
          ],
          "name": "stdout"
        }
      ]
    },
    {
      "cell_type": "code",
      "metadata": {
        "colab": {
          "base_uri": "https://localhost:8080/"
        },
        "id": "fBTne4rdzDeO",
        "outputId": "b88e6519-56cd-4166-c504-cfb0157b01a5"
      },
      "source": [
        "p_arreglo = np.dot(weights, mean_arreglo_1)\n",
        "print (\"Retorno esperado: \", p_arreglo)"
      ],
      "execution_count": 46,
      "outputs": [
        {
          "output_type": "stream",
          "text": [
            "Retorno esperado:  1.3878066641970686\n"
          ],
          "name": "stdout"
        }
      ]
    },
    {
      "cell_type": "markdown",
      "metadata": {
        "id": "vkCgYT4rk46M"
      },
      "source": [
        "Calculating the mean return is fairly intuitive and does not require too much explanation of linear algebra. However, calculating the variance of our portfolio requires a bit more background."
      ]
    },
    {
      "cell_type": "markdown",
      "metadata": {
        "id": "rmO5B9oqk46N"
      },
      "source": [
        "#### Beware of NaN values\n",
        "\n",
        "Most of the time, all of these calculations will work without an issue. However, when working with real data we run the risk of having `nan` values in our arrays. This is NumPy's way of saying that the data there is missing or doesn't exist. These `nan` values can lead to errors in mathematical calculations so it is important to be aware of whether your array contains `nan` values and to know how to drop them."
      ]
    },
    {
      "cell_type": "code",
      "metadata": {
        "colab": {
          "base_uri": "https://localhost:8080/"
        },
        "id": "2Wkmie8nk46N",
        "outputId": "833210eb-9f93-4cb5-b5a8-5acb1b117551"
      },
      "source": [
        "v = np.array([1, 2, np.nan, 4, 5])\n",
        "print (v)"
      ],
      "execution_count": 47,
      "outputs": [
        {
          "output_type": "stream",
          "text": [
            "[ 1.  2. nan  4.  5.]\n"
          ],
          "name": "stdout"
        }
      ]
    },
    {
      "cell_type": "code",
      "metadata": {
        "colab": {
          "base_uri": "https://localhost:8080/"
        },
        "id": "vAQeDNe3ztwX",
        "outputId": "41692397-eda5-4bf1-fe23-ec4e10732aac"
      },
      "source": [
        "z = np.array([45, 12, 13, np.nan, 44])\n",
        "print (z)"
      ],
      "execution_count": 48,
      "outputs": [
        {
          "output_type": "stream",
          "text": [
            "[45. 12. 13. nan 44.]\n"
          ],
          "name": "stdout"
        }
      ]
    },
    {
      "cell_type": "markdown",
      "metadata": {
        "id": "NQSxCZ6fk46O"
      },
      "source": [
        "Let's see what happens when we try to take the mean of this array."
      ]
    },
    {
      "cell_type": "code",
      "metadata": {
        "id": "eIZEHI_qk46P"
      },
      "source": [
        "# print np.mean(v)  #Error: invalid syntax - Debido a nan"
      ],
      "execution_count": 49,
      "outputs": []
    },
    {
      "cell_type": "code",
      "metadata": {
        "id": "Q7l_XkVd0Pp1"
      },
      "source": [
        "# print np.mean(z)  #Error: invalid syntax - Debido a nan"
      ],
      "execution_count": 50,
      "outputs": []
    },
    {
      "cell_type": "markdown",
      "metadata": {
        "id": "cGm4Mhzkk46P"
      },
      "source": [
        "Clearly, `nan` values can have a large impact on our calculations. Fortunately, we can check for `nan` values with the `isnan()` function."
      ]
    },
    {
      "cell_type": "code",
      "metadata": {
        "colab": {
          "base_uri": "https://localhost:8080/"
        },
        "id": "5AlXWJWkk46Q",
        "outputId": "ada14e13-576e-4bbe-b4cc-b4884d5376a1"
      },
      "source": [
        "np.isnan(v)"
      ],
      "execution_count": 51,
      "outputs": [
        {
          "output_type": "execute_result",
          "data": {
            "text/plain": [
              "array([False, False,  True, False, False])"
            ]
          },
          "metadata": {
            "tags": []
          },
          "execution_count": 51
        }
      ]
    },
    {
      "cell_type": "code",
      "metadata": {
        "colab": {
          "base_uri": "https://localhost:8080/"
        },
        "id": "NRRPuA5S0Wm9",
        "outputId": "029b6bd3-9bbf-4c63-b114-49f45a636ea8"
      },
      "source": [
        "np.isnan(z)"
      ],
      "execution_count": 52,
      "outputs": [
        {
          "output_type": "execute_result",
          "data": {
            "text/plain": [
              "array([False, False, False,  True, False])"
            ]
          },
          "metadata": {
            "tags": []
          },
          "execution_count": 52
        }
      ]
    },
    {
      "cell_type": "markdown",
      "metadata": {
        "id": "a4ikXMDWk46R"
      },
      "source": [
        "Calling `isnan()` on an array will call the function on each value of the array, returning a value of `True` if the element is `nan` and `False` if the element is valid. Now, knowing whether your array contains `nan` values is all well and good, but how do we remove `nan`s? Handily enough, NumPy arrays can be indexed by boolean values (`True` or `False`). If we use a boolean array to index an array, we will remove all values of the array that register as `False` under the condition. We use the `isnan()` function in create a boolean array, assigning a `True` value to everything that is *not* `nan` and a `False` to the `nan`s and we use that to index the same array."
      ]
    },
    {
      "cell_type": "code",
      "metadata": {
        "colab": {
          "base_uri": "https://localhost:8080/"
        },
        "id": "jcCnJ6o3k46R",
        "outputId": "668a8669-cbfd-4af9-bc69-98ab92af5275"
      },
      "source": [
        "ix = ~np.isnan(v) # the ~ indicates a logical not, inverting the bools\n",
        "print (v[ix]) # We can also just write v = v[~np.isnan(v)]"
      ],
      "execution_count": 53,
      "outputs": [
        {
          "output_type": "stream",
          "text": [
            "[1. 2. 4. 5.]\n"
          ],
          "name": "stdout"
        }
      ]
    },
    {
      "cell_type": "code",
      "metadata": {
        "colab": {
          "base_uri": "https://localhost:8080/"
        },
        "id": "erXhLGzh0nON",
        "outputId": "316d7ed1-168e-4138-e1e1-6bd2cc6c6b47"
      },
      "source": [
        "iz = ~np.isnan(z)\n",
        "print (z[iz])"
      ],
      "execution_count": 54,
      "outputs": [
        {
          "output_type": "stream",
          "text": [
            "[45. 12. 13. 44.]\n"
          ],
          "name": "stdout"
        }
      ]
    },
    {
      "cell_type": "code",
      "metadata": {
        "colab": {
          "base_uri": "https://localhost:8080/"
        },
        "id": "qTUT_mJ9k46R",
        "outputId": "c11f25f8-ad77-4498-cef2-d8a8595042dd"
      },
      "source": [
        "print (np.mean(v[ix]))"
      ],
      "execution_count": 55,
      "outputs": [
        {
          "output_type": "stream",
          "text": [
            "3.0\n"
          ],
          "name": "stdout"
        }
      ]
    },
    {
      "cell_type": "code",
      "metadata": {
        "colab": {
          "base_uri": "https://localhost:8080/"
        },
        "id": "WHHdMwd0098T",
        "outputId": "8b5f6623-e9ff-4c74-bde3-e5d1964f5fba"
      },
      "source": [
        "print (np.mean(z[iz]))"
      ],
      "execution_count": 56,
      "outputs": [
        {
          "output_type": "stream",
          "text": [
            "28.5\n"
          ],
          "name": "stdout"
        }
      ]
    },
    {
      "cell_type": "markdown",
      "metadata": {
        "id": "VxeoTdZzk46S"
      },
      "source": [
        "There are a few shortcuts to this process in the form of NumPy functions specifically built to handle them, such as `nanmean()`."
      ]
    },
    {
      "cell_type": "code",
      "metadata": {
        "colab": {
          "base_uri": "https://localhost:8080/"
        },
        "id": "Gwah4ctuk46U",
        "outputId": "e2532eba-3958-412a-86db-1eabdf89981c"
      },
      "source": [
        "print (np.nanmean(v))"
      ],
      "execution_count": 57,
      "outputs": [
        {
          "output_type": "stream",
          "text": [
            "3.0\n"
          ],
          "name": "stdout"
        }
      ]
    },
    {
      "cell_type": "code",
      "metadata": {
        "colab": {
          "base_uri": "https://localhost:8080/"
        },
        "id": "kbJShgqJ12AB",
        "outputId": "38b2442f-d8a5-4c59-cb94-eb4b87b06a21"
      },
      "source": [
        "print (np.nanmean(z))"
      ],
      "execution_count": 58,
      "outputs": [
        {
          "output_type": "stream",
          "text": [
            "28.5\n"
          ],
          "name": "stdout"
        }
      ]
    },
    {
      "cell_type": "markdown",
      "metadata": {
        "id": "2MQBQWp2k46V"
      },
      "source": [
        "The `nanmean()` function simply calculates the mean of the array as if there were no `nan` values at all! There are a few more of these functions, so feel free to read more about them in the [documentation](https://docs.scipy.org/doc/numpy/user/index.html). These indeterminate values are more an issue with data than linear algebra itself so it is helpful that there are ways to handle them."
      ]
    },
    {
      "cell_type": "markdown",
      "metadata": {
        "id": "x7mDKMaVk46V"
      },
      "source": [
        "### Conclusion\n",
        "\n",
        "Linear algebra is pervasive in finance and in general. For example, the calculation of *optimal* weights according to modern portfolio theory is done using linear algebra techniques. The arrays and functions in NumPy allow us to handle these calculations in an intuitive way. For a quick intro to linear algebra and how to use NumPy to do more significant matrix calculations, proceed to the next section."
      ]
    },
    {
      "cell_type": "markdown",
      "metadata": {
        "id": "KKEuZ95Rk46V"
      },
      "source": [
        "## A brief foray into linear algebra\n",
        "\n",
        "Let's start with a basic overview of some linear algebra. Linear algebra comes down to the multiplication and composition of scalar and matrix values. A scalar value is just a real number that we multiply against an array. When we scale a matrix or array using a scalar, we multiply each individual element of that matrix or array by the scalar.\n",
        "\n",
        "A matrix is a collection of values, typically represented by an $m \\times n$ grid, where $m$ is the number of rows and $n$ is the number of columns. The edge lengths $m$ and $n$ do not necessarily have to be different. If we have $m = n$, we call this a square matrix. A particularly interesting case of a matrix is when $m = 1$ or $n = 1$. In this case we have a special case of a matrix that we call a vector. While there is a matrix object in NumPy we will be doing everything using NumPy arrays because they can have dimensions greater than $2$. For the purpose of this section, we will be using matrix and array interchangeably.\n",
        "\n",
        "We can express the matrix equation as:\n",
        "\n",
        "$$ y = A\\cdot x $$\n",
        "\n",
        "Where $A$ is an $m \\times n$ matrix, $y$ is a $m \\times 1$ vector, and $x$ is a $n \\times 1$ vector. On the right-hand side of the equation we are multiplying a matrix by a vector. This requires a little bit more clarification, lest we think that we can go about multiplying any matrices by any other matrices.\n",
        "\n",
        "#### Matrix multiplication\n",
        "\n",
        "With matrix multiplication, the order in which the matrices are multiplied matters. Multiplying a matrix on the left side by another matrix may be just fine, but multiplying on the right may be undefined."
      ]
    },
    {
      "cell_type": "code",
      "metadata": {
        "collapsed": true,
        "id": "vkCl4Xssk46V"
      },
      "source": [
        "A = np.array([\n",
        "        [1, 2, 3, 12, 6],\n",
        "        [4, 5, 6, 15, 20],\n",
        "        [7, 8, 9, 10, 10]        \n",
        "    ])\n",
        "B = np.array([\n",
        "        [4, 4, 2],\n",
        "        [2, 3, 1],\n",
        "        [6, 5, 8],\n",
        "        [9, 9, 9]\n",
        "    ])"
      ],
      "execution_count": 59,
      "outputs": []
    },
    {
      "cell_type": "code",
      "metadata": {
        "id": "ARJjhfnX3mg2"
      },
      "source": [
        "X = np.array([\n",
        "              [4, 6, 8, 10],\n",
        "              [2, 3, 4, 5],\n",
        "              [9, 1, 5, 12]\n",
        "])\n",
        "Y = np.array([\n",
        "              [5, 9, 8],\n",
        "              [3, 8, 1],\n",
        "              [2, 6, 10],\n",
        "              [8, 4, 3]\n",
        "])"
      ],
      "execution_count": 60,
      "outputs": []
    },
    {
      "cell_type": "markdown",
      "metadata": {
        "id": "EHeA_3LZk46W"
      },
      "source": [
        "Notice that the above-defined matrices, $A$ and $B$, have different dimensions. $A$ is $3 \\times 5$ and $B$ is $4 \\times 3$. The general rule of what can and cannot be multiplied in which order is based on the dimensions of the matrices. Specifically, the number of columns in the matrix on the left must be equal to the number of rows in the matrix on the right. In super informal terms, let's say that we have an $m \\times n$ matrix and a $p \\times q$ matrix. If we multiply the first by the second on the right, we get the following:\n",
        "\n",
        "$$ (m \\times n) \\cdot (p \\times q) = (m \\times q) $$\n",
        "\n",
        "So the resultant product has the same number of rows as the left matrix and the same number of columns as the right matrix. This limitation of matrix multiplication with regards to dimensions is important to keep track of when writing code. To demonstrate this, we use the `dot()` function to multiply our matrices below:"
      ]
    },
    {
      "cell_type": "code",
      "metadata": {
        "id": "EcV4RmfFk46W"
      },
      "source": [
        "# print (np.dot(A, B))"
      ],
      "execution_count": 61,
      "outputs": []
    },
    {
      "cell_type": "code",
      "metadata": {
        "id": "LLPUAf1_JjPg"
      },
      "source": [
        "# print (np.dot(X, Y))"
      ],
      "execution_count": 62,
      "outputs": []
    },
    {
      "cell_type": "markdown",
      "metadata": {
        "id": "HUIJRYAnk46W"
      },
      "source": [
        "These results make sense in accordance with our rule. Multiplying a $3 \\times 5$ matrix on the right by a $4 \\times 3$ matrix results in an error while multiplying a $4 \\times 3$ matrix on the right by a $3 \\times 5$ matrix results in a $4 \\times 5$ matrix."
      ]
    },
    {
      "cell_type": "code",
      "metadata": {
        "colab": {
          "base_uri": "https://localhost:8080/"
        },
        "id": "hnP7DPqUk46X",
        "outputId": "b4926b3e-3f6b-4630-d5bc-afb0995d9d7d"
      },
      "source": [
        "print (np.dot(B, A))"
      ],
      "execution_count": 63,
      "outputs": [
        {
          "output_type": "stream",
          "text": [
            "[[ 34  44  54 128 124]\n",
            " [ 21  27  33  79  82]\n",
            " [ 82 101 120 227 216]\n",
            " [108 135 162 333 324]]\n"
          ],
          "name": "stdout"
        }
      ]
    },
    {
      "cell_type": "code",
      "metadata": {
        "colab": {
          "base_uri": "https://localhost:8080/"
        },
        "id": "-YU80irQJrGn",
        "outputId": "8f3a0850-b188-4aa8-8eec-0611879ef2d4"
      },
      "source": [
        "print (np.dot(Y, X))"
      ],
      "execution_count": 64,
      "outputs": [
        {
          "output_type": "stream",
          "text": [
            "[[110  65 116 191]\n",
            " [ 37  43  61  82]\n",
            " [110  40  90 170]\n",
            " [ 67  63  95 136]]\n"
          ],
          "name": "stdout"
        }
      ]
    },
    {
      "cell_type": "markdown",
      "metadata": {
        "id": "TOFpfcBWk46X"
      },
      "source": [
        "### Portfolio Variance\n",
        "\n",
        "Let's return to our portfolio example from before. We calculated the expected return of the portfolio, but how do we calculate the variance? We start by trying to evaluate the portfolio as a sum of each individual asset, scaled by it's weight.\n",
        "\n",
        "$$ VAR[P] = VAR[\\omega_1 S_1 + \\omega_2 S_2 + \\cdots + \\omega_N S_N] $$\n",
        "\n",
        "Where $S_0, \\cdots, S_N$ are the assets contained within our universe. If all of our assets were independent of each other, we could simply evaluate this as\n",
        "\n",
        "$$ VAR[P] = VAR[\\omega_1 S_1] + VAR[\\omega_2 S_2] + \\cdots + VAR[\\omega_N S_N] = \\omega_1^2\\sigma_1^2 + \\omega_2^2\\sigma_2^2 + \\cdots + \\omega_N^2\\sigma_N^2 $$\n",
        "\n",
        "However, all of our assets depend on each other by their construction. They are all in some way related to our base asset and therefore each other. We thus have to calculate the variance of the portfolio by including the individual pairwise covariances of each asset. Our formula for the variance of the portfolio:\n",
        "\n",
        "$$ VAR[P] = \\sigma_P^2 = \\sum_i \\omega_i^2\\sigma_i^2 + \\sum_i\\sum_{i\\neq j} \\omega_i\\omega_j\\sigma_i\\sigma_j\\rho_{i, j}, \\ i, j \\in \\lbrace 1, 2, \\cdots, N \\rbrace $$\n",
        "\n",
        "Where $\\rho_{i,j}$ is the correlation between $S_i$ and $S_j$, $\\rho_{i, j} = \\frac{COV[S_i, S_j]}{\\sigma_i\\sigma_j}$. This seems exceedingly complicated, but we can easily handle all of this using NumPy arrays. First, we calculate the covariance matrix that relates all the individual stocks in our universe."
      ]
    },
    {
      "cell_type": "code",
      "metadata": {
        "colab": {
          "base_uri": "https://localhost:8080/"
        },
        "id": "kbH9cd_gk46X",
        "outputId": "55826ebb-a8c7-4bc5-f06e-5d09294fe6bc"
      },
      "source": [
        "cov_mat = np.cov(returns)\n",
        "print (cov_mat)"
      ],
      "execution_count": 65,
      "outputs": [
        {
          "output_type": "stream",
          "text": [
            "[[0.00082297 0.00079443 0.00078431 0.00079126 0.00085831 0.00085525\n",
            "  0.00086475 0.000808   0.00081516 0.00082845]\n",
            " [0.00079443 0.00121501 0.00075943 0.00075109 0.00081961 0.00094281\n",
            "  0.0008843  0.00074925 0.00081267 0.00085818]\n",
            " [0.00078431 0.00075943 0.00117135 0.00078026 0.00075333 0.00080214\n",
            "  0.00085528 0.00075286 0.00079125 0.00080044]\n",
            " [0.00079126 0.00075109 0.00078026 0.00107086 0.00091502 0.00081561\n",
            "  0.00078212 0.00076736 0.00078629 0.0008156 ]\n",
            " [0.00085831 0.00081961 0.00075333 0.00091502 0.00129785 0.00090821\n",
            "  0.00080529 0.00083389 0.00083647 0.00081923]\n",
            " [0.00085525 0.00094281 0.00080214 0.00081561 0.00090821 0.00123049\n",
            "  0.00089941 0.00081164 0.00086002 0.00092374]\n",
            " [0.00086475 0.0008843  0.00085528 0.00078212 0.00080529 0.00089941\n",
            "  0.00131135 0.00083818 0.000864   0.00088336]\n",
            " [0.000808   0.00074925 0.00075286 0.00076736 0.00083389 0.00081164\n",
            "  0.00083818 0.00113136 0.00082549 0.00080543]\n",
            " [0.00081516 0.00081267 0.00079125 0.00078629 0.00083647 0.00086002\n",
            "  0.000864   0.00082549 0.0011583  0.0007692 ]\n",
            " [0.00082845 0.00085818 0.00080044 0.0008156  0.00081923 0.00092374\n",
            "  0.00088336 0.00080543 0.0007692  0.00123064]]\n"
          ],
          "name": "stdout"
        }
      ]
    },
    {
      "cell_type": "markdown",
      "metadata": {
        "id": "Coq7bNSxRTO8"
      },
      "source": [
        "1)___\n",
        "\n",
        "$$ VAR[P] = VAR[\\omega_1 S_1 + \\omega_2 S_2 + \\cdots + \\omega_N S_N] $$\n",
        "\n",
        "2)___\n",
        "$$ VAR[P] = VAR[\\omega_1 S_1] + VAR[\\omega_2 S_2] + \\cdots + VAR[\\omega_N S_N] = \\omega_1^2\\sigma_1^2 + \\omega_2^2\\sigma_2^2 + \\cdots + \\omega_N^2\\sigma_N^2 $$\n",
        "\n",
        "3)___\n",
        "\n",
        "$$ VAR[P] = \\sigma_P^2 = \\sum_i \\omega_i^2\\sigma_i^2 + \\sum_i\\sum_{i\\neq j} \\omega_i\\omega_j\\sigma_i\\sigma_j\\rho_{i, j}, \\ i, j \\in \\lbrace 1, 2, \\cdots, N \\rbrace $$\n",
        "\n",
        "4)___\n",
        "\n",
        "$\\rho_{i,j}$ correlación entre\n",
        "$$S_i and S_j, \\rho_{i, j} = \\frac{COV[S_i, S_j]}{\\sigma_i\\sigma_j}$$."
      ]
    },
    {
      "cell_type": "code",
      "metadata": {
        "id": "GyymEz58dBjt"
      },
      "source": [
        ""
      ],
      "execution_count": 65,
      "outputs": []
    },
    {
      "cell_type": "code",
      "metadata": {
        "colab": {
          "base_uri": "https://localhost:8080/"
        },
        "id": "76cDNpl0L-rs",
        "outputId": "e04f1b03-c436-4e6b-beda-e9401ba1fd3b"
      },
      "source": [
        "cov_alg = np.cov(arreglo_1)\n",
        "print (cov_alg)"
      ],
      "execution_count": 66,
      "outputs": [
        {
          "output_type": "stream",
          "text": [
            "[[0.00057562 0.00056731 0.00051571 0.00055674 0.00065729 0.00056287\n",
            "  0.00049758 0.00049761 0.00052047 0.00060603]\n",
            " [0.00056731 0.00092632 0.00058807 0.00059512 0.00063909 0.00060022\n",
            "  0.00056535 0.0004815  0.00041891 0.00062193]\n",
            " [0.00051571 0.00058807 0.00081201 0.00043372 0.0005535  0.00052454\n",
            "  0.0004987  0.00042243 0.0004211  0.00059357]\n",
            " [0.00055674 0.00059512 0.00043372 0.00102964 0.00068137 0.0005727\n",
            "  0.00049047 0.00050156 0.00053787 0.00061994]\n",
            " [0.00065729 0.00063909 0.0005535  0.00068137 0.00112509 0.00059856\n",
            "  0.0005426  0.00056854 0.00066161 0.00069552]\n",
            " [0.00056287 0.00060022 0.00052454 0.0005727  0.00059856 0.00100886\n",
            "  0.00051792 0.00052378 0.00056334 0.00052528]\n",
            " [0.00049758 0.00056535 0.0004987  0.00049047 0.0005426  0.00051792\n",
            "  0.00087075 0.00041796 0.00044875 0.00058554]\n",
            " [0.00049761 0.0004815  0.00042243 0.00050156 0.00056854 0.00052378\n",
            "  0.00041796 0.00081403 0.00052973 0.00050076]\n",
            " [0.00052047 0.00041891 0.0004211  0.00053787 0.00066161 0.00056334\n",
            "  0.00044875 0.00052973 0.00097443 0.00046633]\n",
            " [0.00060603 0.00062193 0.00059357 0.00061994 0.00069552 0.00052528\n",
            "  0.00058554 0.00050076 0.00046633 0.0010744 ]]\n"
          ],
          "name": "stdout"
        }
      ]
    },
    {
      "cell_type": "markdown",
      "metadata": {
        "id": "j5TJ6sqLk46Y"
      },
      "source": [
        "This array is not formatted particularly nicely, but a covariance matrix is a very important concept. The covariance matrix is of the form:\n",
        "\n",
        "$$ \\left[\\begin{matrix}\n",
        "VAR[S_1] & COV[S_1, S_2] & \\cdots & COV[S_1, S_N] \\\\\n",
        "COV[S_2, S_1] & VAR[S_2] & \\cdots & COV[S_2, S_N] \\\\\n",
        "\\vdots & \\vdots & \\ddots & \\vdots \\\\\n",
        "COV[S_N, S_1] & COV[S_N, S_2] & \\cdots & VAR[S_N]\n",
        "\\end{matrix}\\right] $$\n",
        "\n",
        "So each diagonal entry is the variance of that asset at that index and each off-diagonal holds the covariance of two assets indexed by the column and row number. What is important is that once we have the covariance matrix we are able to do some very quick linear algebra to calculate the variance of the overall portfolio. We can represent the variance of the portfolio in array form as:\n",
        "\n",
        "$$ \\sigma_p^2 = \\omega \\ C \\ \\omega^\\intercal$$\n",
        "\n",
        "Where $C$ is the covariance matrix of all the assets and $\\omega$ is the array containing the weights of each individual asset. The superscript $\\intercal$ on the second $\\omega$ listed above denotes the **transpose** of $\\omega$. For a reference on the evaluation of the variance of a portfolio as a matrix equation, please see the Wikipedia article on [modern portfolio theory](https://en.wikipedia.org/wiki/Modern_portfolio_theory).\n",
        "\n",
        "The transpose of an array is what you get when you switch the rows and columns of an array. This has the effect of reflecting an array across what you might imagine as a diagonal. For example, take our array $A$ from before:"
      ]
    },
    {
      "cell_type": "code",
      "metadata": {
        "colab": {
          "base_uri": "https://localhost:8080/"
        },
        "id": "JLkrnnTKk46Y",
        "outputId": "e4b1cbb7-4ab4-4b23-fd38-ec017252c40b"
      },
      "source": [
        "print (A)"
      ],
      "execution_count": 67,
      "outputs": [
        {
          "output_type": "stream",
          "text": [
            "[[ 1  2  3 12  6]\n",
            " [ 4  5  6 15 20]\n",
            " [ 7  8  9 10 10]]\n"
          ],
          "name": "stdout"
        }
      ]
    },
    {
      "cell_type": "code",
      "metadata": {
        "colab": {
          "base_uri": "https://localhost:8080/"
        },
        "id": "sGNyF628NSL5",
        "outputId": "f99ae60f-2d1c-4f9e-b28d-86a15fb8ea3c"
      },
      "source": [
        "print (X)"
      ],
      "execution_count": 68,
      "outputs": [
        {
          "output_type": "stream",
          "text": [
            "[[ 4  6  8 10]\n",
            " [ 2  3  4  5]\n",
            " [ 9  1  5 12]]\n"
          ],
          "name": "stdout"
        }
      ]
    },
    {
      "cell_type": "markdown",
      "metadata": {
        "id": "umB6vTpik46Y"
      },
      "source": [
        "The transpose looks like a mirror image of the same array."
      ]
    },
    {
      "cell_type": "code",
      "metadata": {
        "colab": {
          "base_uri": "https://localhost:8080/"
        },
        "id": "PJlM0NK7k46Y",
        "outputId": "60d8e6cc-3b11-449e-a411-89bc75b6a180"
      },
      "source": [
        "print (np.transpose(A))"
      ],
      "execution_count": 69,
      "outputs": [
        {
          "output_type": "stream",
          "text": [
            "[[ 1  4  7]\n",
            " [ 2  5  8]\n",
            " [ 3  6  9]\n",
            " [12 15 10]\n",
            " [ 6 20 10]]\n"
          ],
          "name": "stdout"
        }
      ]
    },
    {
      "cell_type": "code",
      "metadata": {
        "colab": {
          "base_uri": "https://localhost:8080/"
        },
        "id": "qLL4aBMdNbo5",
        "outputId": "f2dc8256-494f-48e4-d4a1-421aadf454b7"
      },
      "source": [
        "print (np.transpose(X))"
      ],
      "execution_count": 70,
      "outputs": [
        {
          "output_type": "stream",
          "text": [
            "[[ 4  2  9]\n",
            " [ 6  3  1]\n",
            " [ 8  4  5]\n",
            " [10  5 12]]\n"
          ],
          "name": "stdout"
        }
      ]
    },
    {
      "cell_type": "markdown",
      "metadata": {
        "id": "MssVEVU7k46Z"
      },
      "source": [
        "But $\\omega$ here is a 1-dimensional array, a vector! It makes perfect to take the transpose of $A$, a $3 \\times 5$ array, as the output will be a $5 \\times 3$ array, but a 1-dimensional array is not quite as intuitive. A typical 1-dimensional array can be thought of as a $1 \\times n$ horizontal vector. Thus, taking the tranpose of this array essentially means changing it into a $n \\times 1$ vertical vector. This makes sense because 1-dimensional arrays are still arrays and any multiplication done between 1-dimensional and higher dimensional arrays must keep in line with our dimensionality issue of matrix multiplication.\n",
        "\n",
        "To make a long story short, we think of $\\omega$ as $1 \\times N$ since we have $N$ securities. This makes it so that $\\omega^\\intercal$ is $N \\times 1$. Again, our covariance matrix is $N \\times N$. So the overall multiplication works out like so, in informal terms:\n",
        "\n",
        "$$ \\text{Dimensions}(\\sigma_p^2) = \\text{Dimensions}(\\omega C \\omega^\\intercal) = (1 \\times N)\\cdot (N \\times N)\\cdot (N \\times 1) = (1 \\times 1)$$\n",
        "\n",
        "Multiplying the covariance matrix on the left by the plain horizontal vector and on the right by that vector's transpose results in the calculation of a single scalar ($1 \\times 1$) value, our portfolio's variance.\n",
        "\n",
        "So knowing this, let's proceed and calculate the portfolio variance! We can easily calculate the product of these arrays by using `dot()` for matrix multiplication, though this time we have to do it twice."
      ]
    },
    {
      "cell_type": "code",
      "metadata": {
        "scrolled": false,
        "colab": {
          "base_uri": "https://localhost:8080/"
        },
        "id": "UxKSma4Dk46Z",
        "outputId": "f4b6c44c-36a2-4870-da85-b66fa71bf912"
      },
      "source": [
        "# Calculating the portfolio volatility\n",
        "var_p = np.dot(np.dot(weights, cov_mat), weights.T)\n",
        "vol_p = np.sqrt(var_p)\n",
        "print (\"Portfolio volatility: \", vol_p)"
      ],
      "execution_count": 71,
      "outputs": [
        {
          "output_type": "stream",
          "text": [
            "Portfolio volatility:  0.029328999528900987\n"
          ],
          "name": "stdout"
        }
      ]
    },
    {
      "cell_type": "code",
      "metadata": {
        "colab": {
          "base_uri": "https://localhost:8080/"
        },
        "id": "OQNXfQizN7fS",
        "outputId": "73cfe106-f42e-4f2d-b085-cf5f6d17cd19"
      },
      "source": [
        "var_x = np.dot(np.dot(pesos, cov_alg), pesos.T)\n",
        "vol_x = np.sqrt(var_x)\n",
        "print (\"Volatilidad de la cartera: \", vol_x)"
      ],
      "execution_count": 72,
      "outputs": [
        {
          "output_type": "stream",
          "text": [
            "Volatilidad de la cartera:  0.023723947599922388\n"
          ],
          "name": "stdout"
        }
      ]
    },
    {
      "cell_type": "markdown",
      "metadata": {
        "id": "YOYSZjDwk46Z"
      },
      "source": [
        "To confirm this calculation, let's simply evaluate the volatility of the portfolio using only NumPy functions."
      ]
    },
    {
      "cell_type": "code",
      "metadata": {
        "colab": {
          "base_uri": "https://localhost:8080/"
        },
        "id": "ofCVs2PZk46a",
        "outputId": "feec2b05-7132-419b-be84-c6fa30a89c3d"
      },
      "source": [
        "# Confirming calculation\n",
        "vol_p_alt = np.sqrt(np.var(np.dot(weights, returns), ddof=1))\n",
        "print (\"Portfolio volatility: \", vol_p_alt)"
      ],
      "execution_count": 73,
      "outputs": [
        {
          "output_type": "stream",
          "text": [
            "Portfolio volatility:  0.029328999528900997\n"
          ],
          "name": "stdout"
        }
      ]
    },
    {
      "cell_type": "code",
      "metadata": {
        "colab": {
          "base_uri": "https://localhost:8080/"
        },
        "id": "ktpwmKKHOmy1",
        "outputId": "d4105db0-9ec2-425f-82d4-afbe2c3a8ecb"
      },
      "source": [
        "vol_x_alt = np.sqrt(np.var(np.dot(pesos, arreglo_1), ddof=1))\n",
        "print (\"Volatilidad de la cartera: \", vol_x_alt)"
      ],
      "execution_count": 74,
      "outputs": [
        {
          "output_type": "stream",
          "text": [
            "Volatilidad de la cartera:  0.023723947599922367\n"
          ],
          "name": "stdout"
        }
      ]
    },
    {
      "cell_type": "markdown",
      "metadata": {
        "id": "MNG7KpgPk46a"
      },
      "source": [
        "The `ddof` parameter is a simple integer input that tells the function the number of degrees of freedom to take into account. This is a more statistical concept, but what this tells us that our matrix calculation is correct!\n",
        "\n",
        "A lot of this might not make sense at first glance. It helps to go back and forth between the theory and the code representations until you have a better grasp of the mathematics involved. It is definitely not necessary to be an expert on linear algebra and on matrix operations, but linear algebra can help to streamline the process of working with large amounts of data. For further reading on NumPy, check out the [documentation](https://docs.scipy.org/doc/numpy/user/index.html)."
      ]
    },
    {
      "cell_type": "markdown",
      "metadata": {
        "id": "YAKWH3A_k46a"
      },
      "source": [
        "*This presentation is for informational purposes only and does not constitute an offer to sell, a solicitation to buy, or a recommendation for any security; nor does it constitute an offer to provide investment advisory or other services by Quantopian, Inc. (\"Quantopian\"). Nothing contained herein constitutes investment advice or offers any opinion with respect to the suitability of any security, and any views expressed herein should not be taken as advice to buy, sell, or hold any security or as an endorsement of any security or company.  In preparing the information contained herein, Quantopian, Inc. has not taken into account the investment needs, objectives, and financial circumstances of any particular investor. Any views expressed and data illustrated herein were prepared based upon information, believed to be reliable, available to Quantopian, Inc. at the time of publication. Quantopian makes no guarantees as to their accuracy or completeness. All information is subject to change and may quickly become unreliable for various reasons, including changes in market conditions or economic circumstances.*"
      ]
    }
  ]
}
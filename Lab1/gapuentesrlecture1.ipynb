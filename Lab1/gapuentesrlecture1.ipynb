{
  "nbformat": 4,
  "nbformat_minor": 0,
  "metadata": {
    "kernelspec": {
      "name": "python3",
      "display_name": "Python 3"
    },
    "colab": {
      "name": "gapuentesrlecture1.ipynb",
      "provenance": [],
      "collapsed_sections": [
        "cLUYfTYAHVrE",
        "hCjrPW-NFHIz"
      ]
    },
    "language_info": {
      "name": "python"
    }
  },
  "cells": [
    {
      "cell_type": "markdown",
      "metadata": {
        "id": "cLUYfTYAHVrE"
      },
      "source": [
        "#Quantopian - Lectura \\# 1\n",
        "\n",
        "##Métodos Numéricos\n",
        "###Gustavo Alberto Puentes Romero"
      ]
    },
    {
      "cell_type": "markdown",
      "metadata": {
        "id": "0NRS01tWFHIm"
      },
      "source": [
        "#Introduction to the Research Environment\n",
        "\n",
        "The research environment is powered by IPython notebooks, which allow one to perform a great deal of data analysis and statistical validation. We'll demonstrate a few simple techniques here."
      ]
    },
    {
      "cell_type": "markdown",
      "metadata": {
        "id": "hCjrPW-NFHIz"
      },
      "source": [
        "##Code Cells vs. Text Cells\n",
        "\n",
        "As you can see, each cell can be either code or text. To select between them, choose from the 'Cell Type' dropdown menu on the top left."
      ]
    },
    {
      "cell_type": "markdown",
      "metadata": {
        "id": "plocS1xccQDz"
      },
      "source": [
        "##Celdas de ejemplo\n",
        "Ejemplo: Celda de texto."
      ]
    },
    {
      "cell_type": "markdown",
      "metadata": {
        "id": "GdXxH5n83lgl"
      },
      "source": [
        "Ejemplo: Celda de texto LaTeX\n",
        "\n",
        "$$\n",
        "\\LaTeX\\\n",
        "\\\\\n",
        "\\sum_{k=0}^\\infty\\frac{(-1)^k}{k+1} = \\int_0^1\\frac{dx}{1+x}\n",
        "$$\n"
      ]
    },
    {
      "cell_type": "markdown",
      "metadata": {
        "id": "pRpG86FGFHI0"
      },
      "source": [
        "##Executing a Command\n",
        "\n",
        "A code cell will be evaluated when you press play, or when you press the shortcut, shift-enter. Evaluating a cell evaluates each line of code in sequence, and prints the results of the last line below the cell."
      ]
    },
    {
      "cell_type": "code",
      "metadata": {
        "id": "joh_jYblFHI2",
        "colab": {
          "base_uri": "https://localhost:8080/"
        },
        "outputId": "aa54a300-880a-4449-bd2d-b04ceae21f32"
      },
      "source": [
        "2 + 2"
      ],
      "execution_count": null,
      "outputs": [
        {
          "output_type": "execute_result",
          "data": {
            "text/plain": [
              "4"
            ]
          },
          "metadata": {
            "tags": []
          },
          "execution_count": 1
        }
      ]
    },
    {
      "cell_type": "code",
      "metadata": {
        "colab": {
          "base_uri": "https://localhost:8080/"
        },
        "id": "DZyvUk6kfCEp",
        "outputId": "1609777c-182a-407d-9fd0-c8095ae6ac0d"
      },
      "source": [
        "5 + 24"
      ],
      "execution_count": null,
      "outputs": [
        {
          "output_type": "execute_result",
          "data": {
            "text/plain": [
              "29"
            ]
          },
          "metadata": {
            "tags": []
          },
          "execution_count": 2
        }
      ]
    },
    {
      "cell_type": "markdown",
      "metadata": {
        "id": "ifeVN8gPFHI3"
      },
      "source": [
        "Sometimes there is no result to be printed, as is the case with assignment."
      ]
    },
    {
      "cell_type": "code",
      "metadata": {
        "collapsed": true,
        "id": "z8sF6181FHI4"
      },
      "source": [
        "X = 2"
      ],
      "execution_count": null,
      "outputs": []
    },
    {
      "cell_type": "code",
      "metadata": {
        "id": "PWXDgUInfHIa"
      },
      "source": [
        "Y = 14"
      ],
      "execution_count": null,
      "outputs": []
    },
    {
      "cell_type": "markdown",
      "metadata": {
        "id": "haLlNvr3FHI5"
      },
      "source": [
        "Remember that only the result from the last line is printed."
      ]
    },
    {
      "cell_type": "code",
      "metadata": {
        "id": "uMu5dLcVFHI5",
        "colab": {
          "base_uri": "https://localhost:8080/"
        },
        "outputId": "b6d15088-fb91-4894-963e-0c64fab87276"
      },
      "source": [
        "2 + 2\n",
        "3 + 3"
      ],
      "execution_count": null,
      "outputs": [
        {
          "output_type": "execute_result",
          "data": {
            "text/plain": [
              "6"
            ]
          },
          "metadata": {
            "tags": []
          },
          "execution_count": 5
        }
      ]
    },
    {
      "cell_type": "markdown",
      "metadata": {
        "id": "DTO3Wrx6fMcB"
      },
      "source": [
        "Imprime la suma:"
      ]
    },
    {
      "cell_type": "code",
      "metadata": {
        "colab": {
          "base_uri": "https://localhost:8080/"
        },
        "id": "PxA0X7WBfVah",
        "outputId": "ab419caf-58c2-419a-9fbe-d7a2b8d739b1"
      },
      "source": [
        "5 - 4\n",
        "3 + 3"
      ],
      "execution_count": null,
      "outputs": [
        {
          "output_type": "execute_result",
          "data": {
            "text/plain": [
              "6"
            ]
          },
          "metadata": {
            "tags": []
          },
          "execution_count": 6
        }
      ]
    },
    {
      "cell_type": "markdown",
      "metadata": {
        "id": "fTgvwnznFHI6"
      },
      "source": [
        "However, you can print whichever lines you want using the `print` statement."
      ]
    },
    {
      "cell_type": "code",
      "metadata": {
        "id": "Aokw7n0uFHI6",
        "colab": {
          "base_uri": "https://localhost:8080/"
        },
        "outputId": "1a0d8813-2ff3-4d98-ac09-89f021998f17"
      },
      "source": [
        "print (2 + 2)\n",
        "3 + 3"
      ],
      "execution_count": null,
      "outputs": [
        {
          "output_type": "stream",
          "text": [
            "4\n"
          ],
          "name": "stdout"
        },
        {
          "output_type": "execute_result",
          "data": {
            "text/plain": [
              "6"
            ]
          },
          "metadata": {
            "tags": []
          },
          "execution_count": 7
        }
      ]
    },
    {
      "cell_type": "markdown",
      "metadata": {
        "id": "Cx77mszvfcq3"
      },
      "source": [
        "Imprime el resultado de ambas operaciones (La primera línea con \"print\"):"
      ]
    },
    {
      "cell_type": "code",
      "metadata": {
        "colab": {
          "base_uri": "https://localhost:8080/"
        },
        "id": "IfbPjOhOgSmC",
        "outputId": "1f887279-fcc4-4295-c46e-3be87d1a0182"
      },
      "source": [
        "print (5 +5)\n",
        "4 + 26"
      ],
      "execution_count": null,
      "outputs": [
        {
          "output_type": "stream",
          "text": [
            "10\n"
          ],
          "name": "stdout"
        },
        {
          "output_type": "execute_result",
          "data": {
            "text/plain": [
              "30"
            ]
          },
          "metadata": {
            "tags": []
          },
          "execution_count": 8
        }
      ]
    },
    {
      "cell_type": "markdown",
      "metadata": {
        "id": "opuy3l0LFHI7"
      },
      "source": [
        "##Knowing When a Cell is Running\n",
        "\n",
        "While a cell is running, a `[*]` will display on the left. When a cell has yet to be executed, `[ ]` will display. When it has been run, a number will display indicating the order in which it was run during the execution of the notebook `[5]`. Try on this cell and note it happening."
      ]
    },
    {
      "cell_type": "code",
      "metadata": {
        "id": "d3lHTiokFHI7",
        "colab": {
          "base_uri": "https://localhost:8080/"
        },
        "outputId": "aa5390f7-887c-4566-a729-403e9a97c930"
      },
      "source": [
        "#Take some time to run something\n",
        "c = 0\n",
        "for i in range(10000000):\n",
        "    c = c + i\n",
        "c"
      ],
      "execution_count": null,
      "outputs": [
        {
          "output_type": "execute_result",
          "data": {
            "text/plain": [
              "49999995000000"
            ]
          },
          "metadata": {
            "tags": []
          },
          "execution_count": 9
        }
      ]
    },
    {
      "cell_type": "code",
      "metadata": {
        "colab": {
          "base_uri": "https://localhost:8080/"
        },
        "id": "FdrY1iXSgjea",
        "outputId": "d1dc942d-0c84-4579-d7e0-d5691f840ac8"
      },
      "source": [
        "w = 0\n",
        "for x in range(23210000):\n",
        "    w = w + x\n",
        "w"
      ],
      "execution_count": null,
      "outputs": [
        {
          "output_type": "execute_result",
          "data": {
            "text/plain": [
              "269352038395000"
            ]
          },
          "metadata": {
            "tags": []
          },
          "execution_count": 10
        }
      ]
    },
    {
      "cell_type": "markdown",
      "metadata": {
        "id": "NT8MsdqbFHI8"
      },
      "source": [
        "##Importing Libraries\n",
        "\n",
        "The vast majority of the time, you'll want to use functions from pre-built libraries. You can't import every library on Quantopian due to security issues, but you can import most of the common scientific ones. Here I import numpy and pandas, the two most common and useful libraries in quant finance. I recommend copying this import statement to every new notebook.\n",
        "\n",
        "Notice that you can rename libraries to whatever you want after importing. The `as` statement allows this. Here we use `np` and `pd` as aliases for `numpy` and `pandas`. This is a very common aliasing and will be found in most code snippets around the web. The point behind this is to allow you to type fewer characters when you are frequently accessing these libraries."
      ]
    },
    {
      "cell_type": "markdown",
      "metadata": {
        "id": "TwKE5QmChV-h"
      },
      "source": [
        "Se importa Numpy y Pandas y se les asigna un nombre distinto"
      ]
    },
    {
      "cell_type": "code",
      "metadata": {
        "id": "S0sqt2aphVqq"
      },
      "source": [
        "import numpy as num\n",
        "import pandas as pan"
      ],
      "execution_count": null,
      "outputs": []
    },
    {
      "cell_type": "code",
      "metadata": {
        "collapsed": true,
        "id": "y_Gm7EAwFHI8"
      },
      "source": [
        "import numpy as np\n",
        "import pandas as pd\n",
        "\n",
        "# This is a plotting library for pretty pictures.\n",
        "import matplotlib.pyplot as plt"
      ],
      "execution_count": null,
      "outputs": []
    },
    {
      "cell_type": "markdown",
      "metadata": {
        "id": "S2rbdCvKFHI9"
      },
      "source": [
        "##Tab Autocomplete\n",
        "\n",
        "Pressing tab will give you a list of IPython's best guesses for what you might want to type next. This is incredibly valuable and will save you a lot of time. If there is only one possible option for what you could type next, IPython will fill that in for you. Try pressing tab very frequently, it will seldom fill in anything you don't want, as if there is ambiguity a list will be shown. This is a great way to see what functions are available in a library.\n",
        "\n",
        "Try placing your cursor after the `.` and pressing tab."
      ]
    },
    {
      "cell_type": "code",
      "metadata": {
        "id": "mBI6af38FHI9",
        "colab": {
          "base_uri": "https://localhost:8080/"
        },
        "outputId": "6aa9aba0-610d-42cd-d038-29fe44711165"
      },
      "source": [
        "np.random.poisson"
      ],
      "execution_count": null,
      "outputs": [
        {
          "output_type": "execute_result",
          "data": {
            "text/plain": [
              "<function RandomState.poisson>"
            ]
          },
          "metadata": {
            "tags": []
          },
          "execution_count": 13
        }
      ]
    },
    {
      "cell_type": "code",
      "metadata": {
        "colab": {
          "base_uri": "https://localhost:8080/"
        },
        "id": "-0H_4cubi07M",
        "outputId": "39281c69-5207-4e77-9d10-72178231a8b9"
      },
      "source": [
        "np.absolute(-5)"
      ],
      "execution_count": null,
      "outputs": [
        {
          "output_type": "execute_result",
          "data": {
            "text/plain": [
              "5"
            ]
          },
          "metadata": {
            "tags": []
          },
          "execution_count": 14
        }
      ]
    },
    {
      "cell_type": "markdown",
      "metadata": {
        "id": "5O3gmwOjFHI9"
      },
      "source": [
        "##Getting Documentation Help\n",
        "\n",
        "Placing a question mark after a function and executing that line of code will give you the documentation IPython has for that function. It's often best to do this in a new cell, as you avoid re-executing other code and running into bugs."
      ]
    },
    {
      "cell_type": "code",
      "metadata": {
        "collapsed": true,
        "id": "qMOYkUXDFHI-"
      },
      "source": [
        "np.random.normal?"
      ],
      "execution_count": null,
      "outputs": []
    },
    {
      "cell_type": "code",
      "metadata": {
        "id": "gcDlyfm3jOnj"
      },
      "source": [
        "np.random.rand?"
      ],
      "execution_count": null,
      "outputs": []
    },
    {
      "cell_type": "markdown",
      "metadata": {
        "id": "htjGAEXyFHI-"
      },
      "source": [
        "##Sampling\n",
        "\n",
        "We'll sample some random data using a function from `numpy`."
      ]
    },
    {
      "cell_type": "code",
      "metadata": {
        "id": "5OeMXd6FFHI_",
        "colab": {
          "base_uri": "https://localhost:8080/"
        },
        "outputId": "f4b0e450-5fa5-45c6-ca33-1bdd96739a8e"
      },
      "source": [
        "# Sample 100 points with a mean of 0 and an std of 1. This is a standard normal distribution.\n",
        "X = np.random.normal(0, 1, 100)\n",
        "X"
      ],
      "execution_count": null,
      "outputs": [
        {
          "output_type": "execute_result",
          "data": {
            "text/plain": [
              "array([ 0.1071637 ,  1.32712046,  0.29829814, -2.45647687, -0.77231397,\n",
              "       -1.04716823, -0.32444079,  0.70481403, -0.27909269, -0.49553933,\n",
              "       -1.36779553,  0.87614907, -0.52981004,  0.19004566, -0.779238  ,\n",
              "        0.71670811, -0.43900552, -2.37631575, -0.61656442,  1.18854608,\n",
              "       -0.49962895, -1.53591173,  0.80037934,  0.82262299, -0.90374467,\n",
              "       -0.92785932,  0.67604941,  1.88765718, -0.60146857, -2.64068169,\n",
              "        1.20276282, -0.46086978,  1.32863531,  0.77811965, -0.03049403,\n",
              "       -0.55818061, -1.5117354 ,  0.34107238, -1.86385093,  2.28691961,\n",
              "        0.51536554, -0.92685557, -2.15510749,  0.38942408,  0.65430761,\n",
              "       -0.75123866, -0.19780937,  3.79542285,  1.48804695, -1.54966489,\n",
              "       -1.12588632,  0.08660798, -1.7714103 , -1.38689137, -1.26331022,\n",
              "        1.3162211 ,  0.36478741,  0.97786636,  0.98020397,  2.08740869,\n",
              "       -0.93666756,  0.17285573,  0.4578375 ,  2.66723881,  0.50219251,\n",
              "        0.89887847, -1.49144635, -1.65430689,  0.62883222,  0.80258401,\n",
              "        0.59907024,  0.07741631,  0.10842416, -0.21101892, -0.45222633,\n",
              "        0.70703171, -0.00952711,  0.0955999 ,  1.30888842, -0.6933837 ,\n",
              "       -1.02236354,  0.07893022, -0.11427805,  1.7090119 , -0.03234503,\n",
              "        0.31307173,  1.13704074, -0.20036539,  0.6612282 ,  2.00837079,\n",
              "        1.56977968, -0.38194188,  0.5239921 ,  0.41147121,  0.43409034,\n",
              "        1.53768098, -0.75761153,  2.38608329, -0.25557507, -0.89509392])"
            ]
          },
          "metadata": {
            "tags": []
          },
          "execution_count": 17
        }
      ]
    },
    {
      "cell_type": "code",
      "metadata": {
        "colab": {
          "base_uri": "https://localhost:8080/"
        },
        "id": "EuF-mChYk-Or",
        "outputId": "14e581f1-1aa3-4be1-fd6e-b6cd87c2caba"
      },
      "source": [
        "Y = np.random.rand(5)\n",
        "Y\n"
      ],
      "execution_count": null,
      "outputs": [
        {
          "output_type": "execute_result",
          "data": {
            "text/plain": [
              "array([0.30542765, 0.90831247, 0.98426159, 0.53816052, 0.20487364])"
            ]
          },
          "metadata": {
            "tags": []
          },
          "execution_count": 18
        }
      ]
    },
    {
      "cell_type": "markdown",
      "metadata": {
        "id": "pYX2nKkuFHI_"
      },
      "source": [
        "##Plotting\n",
        "\n",
        "We can use the plotting library we imported as follows."
      ]
    },
    {
      "cell_type": "code",
      "metadata": {
        "id": "NZWFp5sOFHI_",
        "colab": {
          "base_uri": "https://localhost:8080/",
          "height": 283
        },
        "outputId": "acb06664-ceca-487f-b76d-6ae47a5a000f"
      },
      "source": [
        "plt.plot(X)"
      ],
      "execution_count": null,
      "outputs": [
        {
          "output_type": "execute_result",
          "data": {
            "text/plain": [
              "[<matplotlib.lines.Line2D at 0x7f4b4ff3c910>]"
            ]
          },
          "metadata": {
            "tags": []
          },
          "execution_count": 19
        },
        {
          "output_type": "display_data",
          "data": {
            "image/png": "[encoded data removed]",
            "text/plain": [
              "<Figure size 432x288 with 1 Axes>"
            ]
          },
          "metadata": {
            "tags": [],
            "needs_background": "light"
          }
        }
      ]
    },
    {
      "cell_type": "code",
      "metadata": {
        "colab": {
          "base_uri": "https://localhost:8080/",
          "height": 282
        },
        "id": "h49fYwfslxk-",
        "outputId": "c7446e38-df34-410d-d62e-02122a80c80c"
      },
      "source": [
        "plt.plot(Y)"
      ],
      "execution_count": null,
      "outputs": [
        {
          "output_type": "execute_result",
          "data": {
            "text/plain": [
              "[<matplotlib.lines.Line2D at 0x7f4b4ffd5110>]"
            ]
          },
          "metadata": {
            "tags": []
          },
          "execution_count": 20
        },
        {
          "output_type": "display_data",
          "data": {
            "image/png": "[encoded data removed]",
            "text/plain": [
              "<Figure size 432x288 with 1 Axes>"
            ]
          },
          "metadata": {
            "tags": [],
            "needs_background": "light"
          }
        }
      ]
    },
    {
      "cell_type": "markdown",
      "metadata": {
        "id": "7r2ZO90QFHI_"
      },
      "source": [
        "###Squelching Line Output\n",
        "\n",
        "You might have noticed the annoying line of the form `[<matplotlib.lines.Line2D at 0x7f72fdbc1710>]` before the plots. This is because the `.plot` function actually produces output. Sometimes we wish not to display output, we can accomplish this with the semi-colon as follows."
      ]
    },
    {
      "cell_type": "code",
      "metadata": {
        "id": "r8fbYLZSFHJA",
        "colab": {
          "base_uri": "https://localhost:8080/",
          "height": 266
        },
        "outputId": "0abd3bf1-2aa6-4a77-a476-47115fe8dd10"
      },
      "source": [
        "plt.plot(X);"
      ],
      "execution_count": null,
      "outputs": [
        {
          "output_type": "display_data",
          "data": {
            "image/png": "[encoded data removed]",
            "text/plain": [
              "<Figure size 432x288 with 1 Axes>"
            ]
          },
          "metadata": {
            "tags": [],
            "needs_background": "light"
          }
        }
      ]
    },
    {
      "cell_type": "code",
      "metadata": {
        "colab": {
          "base_uri": "https://localhost:8080/",
          "height": 265
        },
        "id": "JkAlSk9ZoNM1",
        "outputId": "358953dc-ef8e-4236-d58c-868da4da05c6"
      },
      "source": [
        "plt.plot(Y);"
      ],
      "execution_count": null,
      "outputs": [
        {
          "output_type": "display_data",
          "data": {
            "image/png": "[encoded data removed]",
            "text/plain": [
              "<Figure size 432x288 with 1 Axes>"
            ]
          },
          "metadata": {
            "tags": [],
            "needs_background": "light"
          }
        }
      ]
    },
    {
      "cell_type": "markdown",
      "metadata": {
        "id": "qK_JMh-pFHJA"
      },
      "source": [
        "###Adding Axis Labels\n",
        "\n",
        "No self-respecting quant leaves a graph without labeled axes. Here are some commands to help with that."
      ]
    },
    {
      "cell_type": "code",
      "metadata": {
        "id": "775b5dAwFHJA",
        "colab": {
          "base_uri": "https://localhost:8080/",
          "height": 281
        },
        "outputId": "9d7e902e-4746-44e1-9bff-22706eeb3e0b"
      },
      "source": [
        "X = np.random.normal(0, 1, 100)\n",
        "X2 = np.random.normal(0, 1, 100)\n",
        "\n",
        "plt.plot(X);\n",
        "plt.plot(X2);\n",
        "plt.xlabel('Time') # The data we generated is unitless, but don't forget units in general.\n",
        "plt.ylabel('Returns')\n",
        "plt.legend(['X', 'X2']);"
      ],
      "execution_count": null,
      "outputs": [
        {
          "output_type": "display_data",
          "data": {
            "image/png": "[encoded data removed]",
            "text/plain": [
              "<Figure size 432x288 with 1 Axes>"
            ]
          },
          "metadata": {
            "tags": [],
            "needs_background": "light"
          }
        }
      ]
    },
    {
      "cell_type": "code",
      "metadata": {
        "colab": {
          "base_uri": "https://localhost:8080/",
          "height": 280
        },
        "id": "7d6dod86oYv9",
        "outputId": "c7c9fec3-d2f2-4b78-f822-00ba408f394d"
      },
      "source": [
        "Y = np.random.rand(5)\n",
        "Y2 = np.random.rand(6)\n",
        "\n",
        "plt.plot(Y);\n",
        "plt.plot(Y2);\n",
        "plt.xlabel('Cantidad')\n",
        "plt.ylabel('Probabilidad')\n",
        "plt.legend(['Y' , 'Y2']);\n"
      ],
      "execution_count": null,
      "outputs": [
        {
          "output_type": "display_data",
          "data": {
            "image/png": "[encoded data removed]",
            "text/plain": [
              "<Figure size 432x288 with 1 Axes>"
            ]
          },
          "metadata": {
            "tags": [],
            "needs_background": "light"
          }
        }
      ]
    },
    {
      "cell_type": "markdown",
      "metadata": {
        "id": "bs1_9EcKFHJB"
      },
      "source": [
        "##Generating Statistics\n",
        "\n",
        "Let's use `numpy` to take some simple statistics."
      ]
    },
    {
      "cell_type": "code",
      "metadata": {
        "id": "pVnlfoGIFHJB",
        "colab": {
          "base_uri": "https://localhost:8080/"
        },
        "outputId": "37deabbd-c30c-4b2f-f09b-3eee09c07a16"
      },
      "source": [
        "np.mean(X)"
      ],
      "execution_count": null,
      "outputs": [
        {
          "output_type": "execute_result",
          "data": {
            "text/plain": [
              "0.12119112418294571"
            ]
          },
          "metadata": {
            "tags": []
          },
          "execution_count": 25
        }
      ]
    },
    {
      "cell_type": "code",
      "metadata": {
        "id": "XJ5PzJvNFHJB",
        "colab": {
          "base_uri": "https://localhost:8080/"
        },
        "outputId": "13fd76f9-4d4b-451e-e405-b9b69ad68996"
      },
      "source": [
        "np.std(X)"
      ],
      "execution_count": null,
      "outputs": [
        {
          "output_type": "execute_result",
          "data": {
            "text/plain": [
              "1.0442261539071775"
            ]
          },
          "metadata": {
            "tags": []
          },
          "execution_count": 26
        }
      ]
    },
    {
      "cell_type": "markdown",
      "metadata": {
        "id": "O5cZcHZkrRRP"
      },
      "source": [
        "Máximo y mínimo de Y:"
      ]
    },
    {
      "cell_type": "code",
      "metadata": {
        "colab": {
          "base_uri": "https://localhost:8080/"
        },
        "id": "BOoOElZWqY1e",
        "outputId": "3167230d-2bde-40f2-d2ab-afab8400377b"
      },
      "source": [
        "np.amax(Y)"
      ],
      "execution_count": null,
      "outputs": [
        {
          "output_type": "execute_result",
          "data": {
            "text/plain": [
              "0.9693416757613162"
            ]
          },
          "metadata": {
            "tags": []
          },
          "execution_count": 27
        }
      ]
    },
    {
      "cell_type": "code",
      "metadata": {
        "colab": {
          "base_uri": "https://localhost:8080/"
        },
        "id": "kmcW674dq0Cp",
        "outputId": "ed57d590-57b6-4d52-e749-6eb612120de5"
      },
      "source": [
        "np.amin(Y)"
      ],
      "execution_count": null,
      "outputs": [
        {
          "output_type": "execute_result",
          "data": {
            "text/plain": [
              "0.4498979954009479"
            ]
          },
          "metadata": {
            "tags": []
          },
          "execution_count": 28
        }
      ]
    },
    {
      "cell_type": "markdown",
      "metadata": {
        "id": "C3oc1NXQFHJC"
      },
      "source": [
        "##Getting Real Pricing Data\n",
        "\n",
        "Randomly sampled data can be great for testing ideas, but let's get some real data. We can use `get_pricing` to do that. You can use the `?` syntax as discussed above to get more information on `get_pricing`'s arguments."
      ]
    },
    {
      "cell_type": "code",
      "metadata": {
        "id": "j8dGuEesFHJC"
      },
      "source": [
        "#No funciona\n",
        "#data = get_pricing('MSFT', start_date='2012-1-1', end_date='2015-6-1')"
      ],
      "execution_count": null,
      "outputs": []
    },
    {
      "cell_type": "code",
      "metadata": {
        "id": "ZQKVKtJZwX67"
      },
      "source": [
        "import pandas_datareader as pdr\n",
        "import datetime"
      ],
      "execution_count": null,
      "outputs": []
    },
    {
      "cell_type": "markdown",
      "metadata": {
        "id": "SYjhyx9CFHJD"
      },
      "source": [
        "Our data is now a dataframe. You can see the datetime index and the colums with different pricing data."
      ]
    },
    {
      "cell_type": "code",
      "metadata": {
        "id": "TH913feLFHJD"
      },
      "source": [
        "data = pdr.get_data_yahoo('AMZN', start= datetime.datetime(2020,4,1), end= datetime.datetime(2021,4,1))"
      ],
      "execution_count": null,
      "outputs": []
    },
    {
      "cell_type": "code",
      "metadata": {
        "id": "JOCUUblf0V4k"
      },
      "source": [
        "data2 = pdr.get_data_yahoo('GOOG', start= datetime.datetime(2020,4,1), end= datetime.datetime(2021,4,1))"
      ],
      "execution_count": null,
      "outputs": []
    },
    {
      "cell_type": "markdown",
      "metadata": {
        "id": "0EgCi-uzFHJD"
      },
      "source": [
        "This is a pandas dataframe, so we can index in to just get price like this. For more info on pandas, please [click here](http://pandas.pydata.org/pandas-docs/stable/10min.html)."
      ]
    },
    {
      "cell_type": "code",
      "metadata": {
        "id": "NPDXTU5vFHJE",
        "colab": {
          "base_uri": "https://localhost:8080/",
          "height": 450
        },
        "outputId": "971e137b-61db-4eee-b054-cea3af390d72"
      },
      "source": [
        "data"
      ],
      "execution_count": null,
      "outputs": [
        {
          "output_type": "execute_result",
          "data": {
            "text/html": [
              "<div>\n",
              "<style scoped>\n",
              "    .dataframe tbody tr th:only-of-type {\n",
              "        vertical-align: middle;\n",
              "    }\n",
              "\n",
              "    .dataframe tbody tr th {\n",
              "        vertical-align: top;\n",
              "    }\n",
              "\n",
              "    .dataframe thead th {\n",
              "        text-align: right;\n",
              "    }\n",
              "</style>\n",
              "<table border=\"1\" class=\"dataframe\">\n",
              "  <thead>\n",
              "    <tr style=\"text-align: right;\">\n",
              "      <th></th>\n",
              "      <th>High</th>\n",
              "      <th>Low</th>\n",
              "      <th>Open</th>\n",
              "      <th>Close</th>\n",
              "      <th>Volume</th>\n",
              "      <th>Adj Close</th>\n",
              "    </tr>\n",
              "    <tr>\n",
              "      <th>Date</th>\n",
              "      <th></th>\n",
              "      <th></th>\n",
              "      <th></th>\n",
              "      <th></th>\n",
              "      <th></th>\n",
              "      <th></th>\n",
              "    </tr>\n",
              "  </thead>\n",
              "  <tbody>\n",
              "    <tr>\n",
              "      <th>2020-04-01</th>\n",
              "      <td>1944.959961</td>\n",
              "      <td>1893.000000</td>\n",
              "      <td>1932.969971</td>\n",
              "      <td>1907.699951</td>\n",
              "      <td>4121900</td>\n",
              "      <td>1907.699951</td>\n",
              "    </tr>\n",
              "    <tr>\n",
              "      <th>2020-04-02</th>\n",
              "      <td>1927.530029</td>\n",
              "      <td>1890.000000</td>\n",
              "      <td>1901.640015</td>\n",
              "      <td>1918.829956</td>\n",
              "      <td>4336000</td>\n",
              "      <td>1918.829956</td>\n",
              "    </tr>\n",
              "    <tr>\n",
              "      <th>2020-04-03</th>\n",
              "      <td>1926.329956</td>\n",
              "      <td>1889.150024</td>\n",
              "      <td>1911.150024</td>\n",
              "      <td>1906.589966</td>\n",
              "      <td>3609900</td>\n",
              "      <td>1906.589966</td>\n",
              "    </tr>\n",
              "    <tr>\n",
              "      <th>2020-04-06</th>\n",
              "      <td>1998.520020</td>\n",
              "      <td>1930.020020</td>\n",
              "      <td>1936.000000</td>\n",
              "      <td>1997.589966</td>\n",
              "      <td>5773200</td>\n",
              "      <td>1997.589966</td>\n",
              "    </tr>\n",
              "    <tr>\n",
              "      <th>2020-04-07</th>\n",
              "      <td>2035.719971</td>\n",
              "      <td>1997.619995</td>\n",
              "      <td>2017.109985</td>\n",
              "      <td>2011.599976</td>\n",
              "      <td>5114000</td>\n",
              "      <td>2011.599976</td>\n",
              "    </tr>\n",
              "    <tr>\n",
              "      <th>...</th>\n",
              "      <td>...</td>\n",
              "      <td>...</td>\n",
              "      <td>...</td>\n",
              "      <td>...</td>\n",
              "      <td>...</td>\n",
              "      <td>...</td>\n",
              "    </tr>\n",
              "    <tr>\n",
              "      <th>2021-03-26</th>\n",
              "      <td>3056.659912</td>\n",
              "      <td>2996.000000</td>\n",
              "      <td>3044.060059</td>\n",
              "      <td>3052.030029</td>\n",
              "      <td>3306700</td>\n",
              "      <td>3052.030029</td>\n",
              "    </tr>\n",
              "    <tr>\n",
              "      <th>2021-03-29</th>\n",
              "      <td>3091.250000</td>\n",
              "      <td>3028.449951</td>\n",
              "      <td>3055.439941</td>\n",
              "      <td>3075.729980</td>\n",
              "      <td>2746000</td>\n",
              "      <td>3075.729980</td>\n",
              "    </tr>\n",
              "    <tr>\n",
              "      <th>2021-03-30</th>\n",
              "      <td>3073.000000</td>\n",
              "      <td>3034.000000</td>\n",
              "      <td>3070.010010</td>\n",
              "      <td>3055.290039</td>\n",
              "      <td>2337600</td>\n",
              "      <td>3055.290039</td>\n",
              "    </tr>\n",
              "    <tr>\n",
              "      <th>2021-03-31</th>\n",
              "      <td>3119.330078</td>\n",
              "      <td>3062.500000</td>\n",
              "      <td>3064.060059</td>\n",
              "      <td>3094.080078</td>\n",
              "      <td>3093900</td>\n",
              "      <td>3094.080078</td>\n",
              "    </tr>\n",
              "    <tr>\n",
              "      <th>2021-04-01</th>\n",
              "      <td>3162.439941</td>\n",
              "      <td>3115.550049</td>\n",
              "      <td>3117.939941</td>\n",
              "      <td>3161.000000</td>\n",
              "      <td>2940300</td>\n",
              "      <td>3161.000000</td>\n",
              "    </tr>\n",
              "  </tbody>\n",
              "</table>\n",
              "<p>253 rows × 6 columns</p>\n",
              "</div>"
            ],
            "text/plain": [
              "                   High          Low  ...   Volume    Adj Close\n",
              "Date                                  ...                      \n",
              "2020-04-01  1944.959961  1893.000000  ...  4121900  1907.699951\n",
              "2020-04-02  1927.530029  1890.000000  ...  4336000  1918.829956\n",
              "2020-04-03  1926.329956  1889.150024  ...  3609900  1906.589966\n",
              "2020-04-06  1998.520020  1930.020020  ...  5773200  1997.589966\n",
              "2020-04-07  2035.719971  1997.619995  ...  5114000  2011.599976\n",
              "...                 ...          ...  ...      ...          ...\n",
              "2021-03-26  3056.659912  2996.000000  ...  3306700  3052.030029\n",
              "2021-03-29  3091.250000  3028.449951  ...  2746000  3075.729980\n",
              "2021-03-30  3073.000000  3034.000000  ...  2337600  3055.290039\n",
              "2021-03-31  3119.330078  3062.500000  ...  3093900  3094.080078\n",
              "2021-04-01  3162.439941  3115.550049  ...  2940300  3161.000000\n",
              "\n",
              "[253 rows x 6 columns]"
            ]
          },
          "metadata": {
            "tags": []
          },
          "execution_count": 33
        }
      ]
    },
    {
      "cell_type": "code",
      "metadata": {
        "colab": {
          "base_uri": "https://localhost:8080/",
          "height": 450
        },
        "id": "UIH7UqHU0cMa",
        "outputId": "12248ca4-0ebb-41bc-92e0-878566543248"
      },
      "source": [
        "data2"
      ],
      "execution_count": null,
      "outputs": [
        {
          "output_type": "execute_result",
          "data": {
            "text/html": [
              "<div>\n",
              "<style scoped>\n",
              "    .dataframe tbody tr th:only-of-type {\n",
              "        vertical-align: middle;\n",
              "    }\n",
              "\n",
              "    .dataframe tbody tr th {\n",
              "        vertical-align: top;\n",
              "    }\n",
              "\n",
              "    .dataframe thead th {\n",
              "        text-align: right;\n",
              "    }\n",
              "</style>\n",
              "<table border=\"1\" class=\"dataframe\">\n",
              "  <thead>\n",
              "    <tr style=\"text-align: right;\">\n",
              "      <th></th>\n",
              "      <th>High</th>\n",
              "      <th>Low</th>\n",
              "      <th>Open</th>\n",
              "      <th>Close</th>\n",
              "      <th>Volume</th>\n",
              "      <th>Adj Close</th>\n",
              "    </tr>\n",
              "    <tr>\n",
              "      <th>Date</th>\n",
              "      <th></th>\n",
              "      <th></th>\n",
              "      <th></th>\n",
              "      <th></th>\n",
              "      <th></th>\n",
              "      <th></th>\n",
              "    </tr>\n",
              "  </thead>\n",
              "  <tbody>\n",
              "    <tr>\n",
              "      <th>2020-04-01</th>\n",
              "      <td>1129.689941</td>\n",
              "      <td>1097.449951</td>\n",
              "      <td>1122.000000</td>\n",
              "      <td>1105.619995</td>\n",
              "      <td>2344200</td>\n",
              "      <td>1105.619995</td>\n",
              "    </tr>\n",
              "    <tr>\n",
              "      <th>2020-04-02</th>\n",
              "      <td>1126.859985</td>\n",
              "      <td>1096.400024</td>\n",
              "      <td>1098.260010</td>\n",
              "      <td>1120.839966</td>\n",
              "      <td>1964900</td>\n",
              "      <td>1120.839966</td>\n",
              "    </tr>\n",
              "    <tr>\n",
              "      <th>2020-04-03</th>\n",
              "      <td>1123.540039</td>\n",
              "      <td>1079.810059</td>\n",
              "      <td>1119.015015</td>\n",
              "      <td>1097.880005</td>\n",
              "      <td>2313400</td>\n",
              "      <td>1097.880005</td>\n",
              "    </tr>\n",
              "    <tr>\n",
              "      <th>2020-04-06</th>\n",
              "      <td>1194.660034</td>\n",
              "      <td>1130.939941</td>\n",
              "      <td>1138.000000</td>\n",
              "      <td>1186.920044</td>\n",
              "      <td>2664700</td>\n",
              "      <td>1186.920044</td>\n",
              "    </tr>\n",
              "    <tr>\n",
              "      <th>2020-04-07</th>\n",
              "      <td>1225.000000</td>\n",
              "      <td>1182.229980</td>\n",
              "      <td>1221.000000</td>\n",
              "      <td>1186.510010</td>\n",
              "      <td>2387300</td>\n",
              "      <td>1186.510010</td>\n",
              "    </tr>\n",
              "    <tr>\n",
              "      <th>...</th>\n",
              "      <td>...</td>\n",
              "      <td>...</td>\n",
              "      <td>...</td>\n",
              "      <td>...</td>\n",
              "      <td>...</td>\n",
              "      <td>...</td>\n",
              "    </tr>\n",
              "    <tr>\n",
              "      <th>2021-03-26</th>\n",
              "      <td>2050.989990</td>\n",
              "      <td>2014.020020</td>\n",
              "      <td>2038.859985</td>\n",
              "      <td>2035.550049</td>\n",
              "      <td>1493500</td>\n",
              "      <td>2035.550049</td>\n",
              "    </tr>\n",
              "    <tr>\n",
              "      <th>2021-03-29</th>\n",
              "      <td>2058.429932</td>\n",
              "      <td>2015.619995</td>\n",
              "      <td>2027.880005</td>\n",
              "      <td>2055.949951</td>\n",
              "      <td>1229800</td>\n",
              "      <td>2055.949951</td>\n",
              "    </tr>\n",
              "    <tr>\n",
              "      <th>2021-03-30</th>\n",
              "      <td>2070.780029</td>\n",
              "      <td>2044.030029</td>\n",
              "      <td>2057.629883</td>\n",
              "      <td>2055.540039</td>\n",
              "      <td>1036600</td>\n",
              "      <td>2055.540039</td>\n",
              "    </tr>\n",
              "    <tr>\n",
              "      <th>2021-03-31</th>\n",
              "      <td>2093.326904</td>\n",
              "      <td>2056.745117</td>\n",
              "      <td>2059.120117</td>\n",
              "      <td>2068.629883</td>\n",
              "      <td>1459900</td>\n",
              "      <td>2068.629883</td>\n",
              "    </tr>\n",
              "    <tr>\n",
              "      <th>2021-04-01</th>\n",
              "      <td>2142.939941</td>\n",
              "      <td>2096.889893</td>\n",
              "      <td>2097.949951</td>\n",
              "      <td>2137.750000</td>\n",
              "      <td>1699000</td>\n",
              "      <td>2137.750000</td>\n",
              "    </tr>\n",
              "  </tbody>\n",
              "</table>\n",
              "<p>253 rows × 6 columns</p>\n",
              "</div>"
            ],
            "text/plain": [
              "                   High          Low  ...   Volume    Adj Close\n",
              "Date                                  ...                      \n",
              "2020-04-01  1129.689941  1097.449951  ...  2344200  1105.619995\n",
              "2020-04-02  1126.859985  1096.400024  ...  1964900  1120.839966\n",
              "2020-04-03  1123.540039  1079.810059  ...  2313400  1097.880005\n",
              "2020-04-06  1194.660034  1130.939941  ...  2664700  1186.920044\n",
              "2020-04-07  1225.000000  1182.229980  ...  2387300  1186.510010\n",
              "...                 ...          ...  ...      ...          ...\n",
              "2021-03-26  2050.989990  2014.020020  ...  1493500  2035.550049\n",
              "2021-03-29  2058.429932  2015.619995  ...  1229800  2055.949951\n",
              "2021-03-30  2070.780029  2044.030029  ...  1036600  2055.540039\n",
              "2021-03-31  2093.326904  2056.745117  ...  1459900  2068.629883\n",
              "2021-04-01  2142.939941  2096.889893  ...  1699000  2137.750000\n",
              "\n",
              "[253 rows x 6 columns]"
            ]
          },
          "metadata": {
            "tags": []
          },
          "execution_count": 34
        }
      ]
    },
    {
      "cell_type": "markdown",
      "metadata": {
        "id": "2EVw3o11FHJE"
      },
      "source": [
        "Because there is now also date information in our data, we provide two series to `.plot`. `X.index` gives us the datetime index, and `X.values` gives us the pricing values. These are used as the X and Y coordinates to make a graph."
      ]
    },
    {
      "cell_type": "code",
      "metadata": {
        "id": "U6JLekvX1b6t"
      },
      "source": [
        "X = data['High']\n",
        "Y = data2['High']"
      ],
      "execution_count": null,
      "outputs": []
    },
    {
      "cell_type": "code",
      "metadata": {
        "id": "YBFf2G4yFHJF",
        "colab": {
          "base_uri": "https://localhost:8080/",
          "height": 265
        },
        "outputId": "369580ff-68b2-4cf2-969a-6c22afcf646c"
      },
      "source": [
        "plt.plot(X.index, X.values)\n",
        "plt.ylabel('Price')\n",
        "plt.legend(['AMZN']);"
      ],
      "execution_count": null,
      "outputs": [
        {
          "output_type": "display_data",
          "data": {
            "image/png": "[encoded data removed]",
            "text/plain": [
              "<Figure size 432x288 with 1 Axes>"
            ]
          },
          "metadata": {
            "tags": [],
            "needs_background": "light"
          }
        }
      ]
    },
    {
      "cell_type": "code",
      "metadata": {
        "colab": {
          "base_uri": "https://localhost:8080/",
          "height": 269
        },
        "id": "N9fkLJgn0f7r",
        "outputId": "34266b05-e86d-4107-c65b-11b78f58040f"
      },
      "source": [
        "plt.plot(Y.index, Y.values)\n",
        "plt.ylabel('Price')\n",
        "plt.legend(['GOOG']);"
      ],
      "execution_count": null,
      "outputs": [
        {
          "output_type": "display_data",
          "data": {
            "image/png": "[encoded data removed]",
            "text/plain": [
              "<Figure size 432x288 with 1 Axes>"
            ]
          },
          "metadata": {
            "tags": [],
            "needs_background": "light"
          }
        }
      ]
    },
    {
      "cell_type": "markdown",
      "metadata": {
        "id": "5wkIKy2lFHJF"
      },
      "source": [
        "We can get statistics again on real data."
      ]
    },
    {
      "cell_type": "code",
      "metadata": {
        "id": "MyyPjJVvFHJF",
        "colab": {
          "base_uri": "https://localhost:8080/"
        },
        "outputId": "a5dd142e-9526-4035-e8f5-33dba154bbf9"
      },
      "source": [
        "np.mean(X)"
      ],
      "execution_count": null,
      "outputs": [
        {
          "output_type": "execute_result",
          "data": {
            "text/plain": [
              "3022.4548904358635"
            ]
          },
          "metadata": {
            "tags": []
          },
          "execution_count": 38
        }
      ]
    },
    {
      "cell_type": "code",
      "metadata": {
        "colab": {
          "base_uri": "https://localhost:8080/"
        },
        "id": "u7qI2p5C0n6c",
        "outputId": "3b53febf-7f2e-47af-c803-d1eca51ca4f2"
      },
      "source": [
        "np.mean(Y)"
      ],
      "execution_count": null,
      "outputs": [
        {
          "output_type": "execute_result",
          "data": {
            "text/plain": [
              "1654.8391417250803"
            ]
          },
          "metadata": {
            "tags": []
          },
          "execution_count": 39
        }
      ]
    },
    {
      "cell_type": "code",
      "metadata": {
        "id": "Mp3mBOMgFHJG",
        "colab": {
          "base_uri": "https://localhost:8080/"
        },
        "outputId": "9b03aed1-a5c8-49fa-8a1d-aeeeb9f36254"
      },
      "source": [
        "np.std(X)"
      ],
      "execution_count": null,
      "outputs": [
        {
          "output_type": "execute_result",
          "data": {
            "text/plain": [
              "363.9170237040227"
            ]
          },
          "metadata": {
            "tags": []
          },
          "execution_count": 40
        }
      ]
    },
    {
      "cell_type": "code",
      "metadata": {
        "colab": {
          "base_uri": "https://localhost:8080/"
        },
        "id": "yilhBXcD0qm7",
        "outputId": "87bdecfe-ef77-4b2e-bcdc-be5545817c87"
      },
      "source": [
        "np.std(Y)"
      ],
      "execution_count": null,
      "outputs": [
        {
          "output_type": "execute_result",
          "data": {
            "text/plain": [
              "256.4483983940578"
            ]
          },
          "metadata": {
            "tags": []
          },
          "execution_count": 41
        }
      ]
    },
    {
      "cell_type": "markdown",
      "metadata": {
        "id": "kchuLqFRFHJG"
      },
      "source": [
        "##Getting Returns from Prices\n",
        "\n",
        "We can use the `pct_change` function to get returns. Notice how we drop the first element after doing this, as it will be `NaN` (nothing -> something results in a NaN percent change)."
      ]
    },
    {
      "cell_type": "code",
      "metadata": {
        "id": "Itfd7QwWFHJG"
      },
      "source": [
        "R = X.pct_change()[1:]"
      ],
      "execution_count": null,
      "outputs": []
    },
    {
      "cell_type": "code",
      "metadata": {
        "id": "j7D9sXR51_Ak"
      },
      "source": [
        "R2 = Y.pct_change()[1:]"
      ],
      "execution_count": null,
      "outputs": []
    },
    {
      "cell_type": "markdown",
      "metadata": {
        "id": "8aViacyeFHJH"
      },
      "source": [
        "We can plot the returns distribution as a histogram."
      ]
    },
    {
      "cell_type": "code",
      "metadata": {
        "id": "1iQMGB4vFHJH",
        "colab": {
          "base_uri": "https://localhost:8080/",
          "height": 280
        },
        "outputId": "3a997dcc-c244-4a5f-f422-ea1f2e708f8f"
      },
      "source": [
        "plt.hist(X, bins=20)\n",
        "plt.xlabel('Return')\n",
        "plt.ylabel('Frequency')\n",
        "plt.legend(['AMZN Returns']);"
      ],
      "execution_count": null,
      "outputs": [
        {
          "output_type": "display_data",
          "data": {
            "image/png": "[encoded data removed]",
            "text/plain": [
              "<Figure size 432x288 with 1 Axes>"
            ]
          },
          "metadata": {
            "tags": [],
            "needs_background": "light"
          }
        }
      ]
    },
    {
      "cell_type": "code",
      "metadata": {
        "colab": {
          "base_uri": "https://localhost:8080/",
          "height": 279
        },
        "id": "SylN3EqK2GJr",
        "outputId": "bc05b270-dc0b-4217-e9ed-48ea994e0e90"
      },
      "source": [
        "plt.hist(Y, bins=20)\n",
        "plt.xlabel('Return')\n",
        "plt.ylabel('Frequency')\n",
        "plt.legend(['GOOG Returns']);"
      ],
      "execution_count": null,
      "outputs": [
        {
          "output_type": "display_data",
          "data": {
            "image/png": "[encoded data removed]",
            "text/plain": [
              "<Figure size 432x288 with 1 Axes>"
            ]
          },
          "metadata": {
            "tags": [],
            "needs_background": "light"
          }
        }
      ]
    },
    {
      "cell_type": "markdown",
      "metadata": {
        "id": "IaMlJcaxFHJH"
      },
      "source": [
        "Get statistics again."
      ]
    },
    {
      "cell_type": "code",
      "metadata": {
        "id": "we9DfPpEFHJH",
        "colab": {
          "base_uri": "https://localhost:8080/"
        },
        "outputId": "3d9b5db9-1c29-4eea-d4c3-ca89ad9f3060"
      },
      "source": [
        "np.mean(R)"
      ],
      "execution_count": null,
      "outputs": [
        {
          "output_type": "execute_result",
          "data": {
            "text/plain": [
              "0.002121306122249796"
            ]
          },
          "metadata": {
            "tags": []
          },
          "execution_count": 46
        }
      ]
    },
    {
      "cell_type": "code",
      "metadata": {
        "colab": {
          "base_uri": "https://localhost:8080/"
        },
        "id": "ENClXpa-2T2M",
        "outputId": "0fb2c368-0fc7-4f05-d142-47d074e66321"
      },
      "source": [
        "np.mean(R2)"
      ],
      "execution_count": null,
      "outputs": [
        {
          "output_type": "execute_result",
          "data": {
            "text/plain": [
              "0.0026921319664119214"
            ]
          },
          "metadata": {
            "tags": []
          },
          "execution_count": 47
        }
      ]
    },
    {
      "cell_type": "code",
      "metadata": {
        "id": "u6HoXypVFHJI",
        "colab": {
          "base_uri": "https://localhost:8080/"
        },
        "outputId": "ff8abfbb-4c3d-41f5-fd01-09a4755d441e"
      },
      "source": [
        "np.std(R)"
      ],
      "execution_count": null,
      "outputs": [
        {
          "output_type": "execute_result",
          "data": {
            "text/plain": [
              "0.019576058861803795"
            ]
          },
          "metadata": {
            "tags": []
          },
          "execution_count": 48
        }
      ]
    },
    {
      "cell_type": "code",
      "metadata": {
        "colab": {
          "base_uri": "https://localhost:8080/"
        },
        "id": "IZRROzP92VhP",
        "outputId": "043494e1-1967-4991-9348-35d54bd91769"
      },
      "source": [
        "np.std(R2)"
      ],
      "execution_count": null,
      "outputs": [
        {
          "output_type": "execute_result",
          "data": {
            "text/plain": [
              "0.0173316640100455"
            ]
          },
          "metadata": {
            "tags": []
          },
          "execution_count": 49
        }
      ]
    },
    {
      "cell_type": "markdown",
      "metadata": {
        "id": "MuHq32xtFHJI"
      },
      "source": [
        "Now let's go backwards and generate data out of a normal distribution using the statistics we estimated from Microsoft's returns. We'll see that we have good reason to suspect Microsoft's returns may not be normal, as the resulting normal distribution looks far different."
      ]
    },
    {
      "cell_type": "code",
      "metadata": {
        "id": "wb7baZ4ZFHJI",
        "colab": {
          "base_uri": "https://localhost:8080/",
          "height": 279
        },
        "outputId": "929ecd52-6b31-4839-a9b2-2c8e013c060c"
      },
      "source": [
        "plt.hist(np.random.normal(np.mean(R), np.std(R), 10000), bins=20)\n",
        "plt.xlabel('Return')\n",
        "plt.ylabel('Frequency')\n",
        "plt.legend(['Normally Distributed Returns']);"
      ],
      "execution_count": null,
      "outputs": [
        {
          "output_type": "display_data",
          "data": {
            "image/png": "[encoded data removed]",
            "text/plain": [
              "<Figure size 432x288 with 1 Axes>"
            ]
          },
          "metadata": {
            "tags": [],
            "needs_background": "light"
          }
        }
      ]
    },
    {
      "cell_type": "code",
      "metadata": {
        "colab": {
          "base_uri": "https://localhost:8080/",
          "height": 279
        },
        "id": "5jmcORfR2mXr",
        "outputId": "446c5bb9-e030-482b-f73d-a508404775fa"
      },
      "source": [
        "plt.hist(np.random.normal(np.mean(R2), np.std(R2), 10000), bins=20)\n",
        "plt.xlabel('Return')\n",
        "plt.ylabel('Frequency')\n",
        "plt.legend(['Normally Distributed Returns']);"
      ],
      "execution_count": null,
      "outputs": [
        {
          "output_type": "display_data",
          "data": {
            "image/png": "[encoded data removed]",
            "text/plain": [
              "<Figure size 432x288 with 1 Axes>"
            ]
          },
          "metadata": {
            "tags": [],
            "needs_background": "light"
          }
        }
      ]
    },
    {
      "cell_type": "markdown",
      "metadata": {
        "id": "a5jteYUGFHJJ"
      },
      "source": [
        "##Generating a Moving Average\n",
        "\n",
        "`pandas` has some nice tools to allow us to generate rolling statistics. Here's an example. Notice how there's no moving average for the first 60 days, as we don't have 60 days of data on which to generate the statistic."
      ]
    },
    {
      "cell_type": "code",
      "metadata": {
        "id": "L716qY9QFHJJ",
        "colab": {
          "base_uri": "https://localhost:8080/",
          "height": 265
        },
        "outputId": "a5c6f546-7732-489e-c884-5fe3d6de4f85"
      },
      "source": [
        "# Take the average of the last 60 days at each timepoint.\n",
        "MAVG = X.rolling(60).mean()\n",
        "plt.plot(X.index, X.values)\n",
        "plt.plot(MAVG.index, MAVG.values)\n",
        "plt.ylabel('Price')\n",
        "plt.legend(['AMZN', '60-day MAVG']);"
      ],
      "execution_count": null,
      "outputs": [
        {
          "output_type": "display_data",
          "data": {
            "image/png": "[encoded data removed]",
            "text/plain": [
              "<Figure size 432x288 with 1 Axes>"
            ]
          },
          "metadata": {
            "tags": [],
            "needs_background": "light"
          }
        }
      ]
    },
    {
      "cell_type": "code",
      "metadata": {
        "colab": {
          "base_uri": "https://localhost:8080/",
          "height": 269
        },
        "id": "vbyFAgub3G0T",
        "outputId": "f9e8dd81-ee0b-4516-fe45-81afd1a00089"
      },
      "source": [
        "MAVG = Y.rolling(60).mean()\n",
        "plt.plot(Y.index, Y.values)\n",
        "plt.plot(MAVG.index, MAVG.values)\n",
        "plt.ylabel('Price')\n",
        "plt.legend(['GOOG', '60-day MAVG']);"
      ],
      "execution_count": null,
      "outputs": [
        {
          "output_type": "display_data",
          "data": {
            "image/png": "[encoded data removed]",
            "text/plain": [
              "<Figure size 432x288 with 1 Axes>"
            ]
          },
          "metadata": {
            "tags": [],
            "needs_background": "light"
          }
        }
      ]
    },
    {
      "cell_type": "markdown",
      "metadata": {
        "id": "IEtGKzNqFHJJ"
      },
      "source": [
        "This presentation is for informational purposes only and does not constitute an offer to sell, a solicitation to buy, or a recommendation for any security; nor does it constitute an offer to provide investment advisory or other services by Quantopian, Inc. (\"Quantopian\"). Nothing contained herein constitutes investment advice or offers any opinion with respect to the suitability of any security, and any views expressed herein should not be taken as advice to buy, sell, or hold any security or as an endorsement of any security or company. In preparing the information contained herein, Quantopian, Inc. has not taken into account the investment needs, objectives, and financial circumstances of any particular investor. Any views expressed and data illustrated herein were prepared based upon information, believed to be reliable, available to Quantopian, Inc. at the time of publication. Quantopian makes no guarantees as to their accuracy or completeness. All information is subject to change and may quickly become unreliable for various reasons, including changes in market conditions or economic circumstances."
      ]
    }
  ]
}
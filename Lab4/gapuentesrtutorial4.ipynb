{
  "nbformat": 4,
  "nbformat_minor": 0,
  "metadata": {
    "colab": {
      "name": "gapuentesrtutorial4.ipynb",
      "provenance": [],
      "collapsed_sections": []
    },
    "kernelspec": {
      "name": "python3",
      "display_name": "Python 3"
    },
    "language_info": {
      "name": "python"
    }
  },
  "cells": [
    {
      "cell_type": "markdown",
      "metadata": {
        "id": "cLUYfTYAHVrE"
      },
      "source": [
        "![qc_notebook_logo_rev0.png](data:image/png;base64,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)\n",
        "##Introduction to Financial Python [Tutorial 4]"
      ]
    },
    {
      "cell_type": "markdown",
      "metadata": {
        "id": "XjgG7hvUjlVm"
      },
      "source": [
        "##Métodos Numéricos\n",
        "###Gustavo Alberto Puentes Romero"
      ]
    },
    {
      "cell_type": "markdown",
      "metadata": {
        "id": "Ef5K6ieAhTdO"
      },
      "source": [
        "#NumPy and Basic Pandas"
      ]
    },
    {
      "cell_type": "markdown",
      "metadata": {
        "id": "xiEg0oy7hYbd"
      },
      "source": [
        "##Introducción\n",
        "Ahora que hemos introducido los fundamentos de Python, es hora de aprender sobre NumPy y Pandas."
      ]
    },
    {
      "cell_type": "markdown",
      "metadata": {
        "id": "3S9YWb3XkP5f"
      },
      "source": [
        "##Numpy\n",
        "NumPy es la biblioteca central para la computación científica en Python. Proporciona un objeto de matriz multidimensional de alto rendimiento y herramientas para trabajar con estas matrices. También tiene una fuerte integración con Pandas, que es otra herramienta poderosa para manipular datos financieros.\n",
        "\n",
        "Los paquetes de Python como NumPy y Pandas contienen clases y métodos que podemos usar al importar el paquete:"
      ]
    },
    {
      "cell_type": "code",
      "metadata": {
        "id": "rVp8rsvMyAf-"
      },
      "source": [
        "import numpy as np"
      ],
      "execution_count": 1,
      "outputs": []
    },
    {
      "cell_type": "markdown",
      "metadata": {
        "id": "KXtcBtvtyJvv"
      },
      "source": [
        "###Matrices NumPy básicas\n",
        "\n",
        "Una matriz NumPy es una cuadrícula de valores, todos del mismo tipo, y está indexada por una tupla de enteros no negativos. Aquí hacemos una matriz pasando una lista de precios de acciones de Apple:"
      ]
    },
    {
      "cell_type": "code",
      "metadata": {
        "colab": {
          "base_uri": "https://localhost:8080/"
        },
        "id": "Oa5ZLMscym2I",
        "outputId": "04f366dc-b4e6-4606-c011-621d82994554"
      },
      "source": [
        "price_list = [143.73, 145.83, 143.68, 144.02, 143.5, 142.62]\n",
        "price_array = np.array(price_list)\n",
        "print (price_array, type(price_array))"
      ],
      "execution_count": 2,
      "outputs": [
        {
          "output_type": "stream",
          "text": [
            "[143.73 145.83 143.68 144.02 143.5  142.62] <class 'numpy.ndarray'>\n"
          ],
          "name": "stdout"
        }
      ]
    },
    {
      "cell_type": "markdown",
      "metadata": {
        "id": "4gtqJWo8yvP6"
      },
      "source": [
        "Observe que el tipo de matriz es \"ndarray\", que es una matriz multidimensional. Si pasamos np.array () una lista de listas, creará una matriz bidimensional."
      ]
    },
    {
      "cell_type": "code",
      "metadata": {
        "colab": {
          "base_uri": "https://localhost:8080/"
        },
        "id": "dkZYJFcYy3a1",
        "outputId": "2080eaac-f659-4c46-9753-ffd20261469f"
      },
      "source": [
        "Ar = np.array([[1,3], [2,4]])\n",
        "print (Ar, type(Ar))"
      ],
      "execution_count": 3,
      "outputs": [
        {
          "output_type": "stream",
          "text": [
            "[[1 3]\n",
            " [2 4]] <class 'numpy.ndarray'>\n"
          ],
          "name": "stdout"
        }
      ]
    },
    {
      "cell_type": "markdown",
      "metadata": {
        "id": "Vxziu1GMy8zf"
      },
      "source": [
        "Obtenemos las dimensiones de un ndarray usando el atributo .shape:"
      ]
    },
    {
      "cell_type": "code",
      "metadata": {
        "colab": {
          "base_uri": "https://localhost:8080/"
        },
        "id": "Q6ol37dnzA8X",
        "outputId": "b8af8d25-9171-42df-cf6f-589a2c2270f2"
      },
      "source": [
        "print (Ar.shape)"
      ],
      "execution_count": 4,
      "outputs": [
        {
          "output_type": "stream",
          "text": [
            "(2, 2)\n"
          ],
          "name": "stdout"
        }
      ]
    },
    {
      "cell_type": "markdown",
      "metadata": {
        "id": "64QNDVEpzH-d"
      },
      "source": [
        "Si creamos una matriz bidimensional (es decir, una matriz), se puede acceder a cada fila por índice:"
      ]
    },
    {
      "cell_type": "code",
      "metadata": {
        "colab": {
          "base_uri": "https://localhost:8080/"
        },
        "id": "HIFHYWfszJWG",
        "outputId": "2f41019d-2362-4fde-f255-c51bd740aa70"
      },
      "source": [
        "print (Ar[0])\n",
        "print (Ar[1])"
      ],
      "execution_count": 5,
      "outputs": [
        {
          "output_type": "stream",
          "text": [
            "[1 3]\n",
            "[2 4]\n"
          ],
          "name": "stdout"
        }
      ]
    },
    {
      "cell_type": "markdown",
      "metadata": {
        "id": "tvPGzpLIzSrX"
      },
      "source": [
        "Si queremos acceder a la matriz por columna:"
      ]
    },
    {
      "cell_type": "code",
      "metadata": {
        "colab": {
          "base_uri": "https://localhost:8080/"
        },
        "id": "GcsV1kdYzVMO",
        "outputId": "dee602df-29f3-4283-f53d-fc4f1cdd5aa5"
      },
      "source": [
        "print ('First column:', Ar[:,0])\n",
        "print ('Second column:', Ar[:,1])"
      ],
      "execution_count": 6,
      "outputs": [
        {
          "output_type": "stream",
          "text": [
            "First column: [1 2]\n",
            "Second column: [3 4]\n"
          ],
          "name": "stdout"
        }
      ]
    },
    {
      "cell_type": "markdown",
      "metadata": {
        "id": "wk0YZzr6zjL2"
      },
      "source": [
        "### Funciones de matriz\n",
        "\n",
        "Algunas funciones integradas en NumPy que nos permiten realizar cálculos en matrices. Por ejemplo, podemos aplicar el logaritmo natural a cada elemento de una matriz:"
      ]
    },
    {
      "cell_type": "code",
      "metadata": {
        "colab": {
          "base_uri": "https://localhost:8080/"
        },
        "id": "QOLLL33FzsmX",
        "outputId": "330c5b93-1aa1-4941-be9a-bc083aab37a0"
      },
      "source": [
        "np.log(price_array)"
      ],
      "execution_count": 7,
      "outputs": [
        {
          "output_type": "execute_result",
          "data": {
            "text/plain": [
              "array([4.96793654, 4.98244156, 4.9675886 , 4.96995218, 4.96633504,\n",
              "       4.96018375])"
            ]
          },
          "metadata": {
            "tags": []
          },
          "execution_count": 7
        }
      ]
    },
    {
      "cell_type": "markdown",
      "metadata": {
        "id": "czctD5RHzv5W"
      },
      "source": [
        "Otras funciones devuelven un solo valor:"
      ]
    },
    {
      "cell_type": "code",
      "metadata": {
        "colab": {
          "base_uri": "https://localhost:8080/"
        },
        "id": "WaNtB6LZzy6d",
        "outputId": "57957b1a-ea5a-4a49-a979-296ace350d96"
      },
      "source": [
        "print (np.mean(price_array))\n",
        "print (np.std(price_array))\n",
        "print (np.sum(price_array))\n",
        "print (np.max(price_array))"
      ],
      "execution_count": 8,
      "outputs": [
        {
          "output_type": "stream",
          "text": [
            "143.89666666666668\n",
            "0.9673790478515796\n",
            "863.38\n",
            "145.83\n"
          ],
          "name": "stdout"
        }
      ]
    },
    {
      "cell_type": "markdown",
      "metadata": {
        "id": "a1WRqSgT0IP5"
      },
      "source": [
        "Las funciones anteriores devuelven la media, la desviación estándar, el valor total y máximo de una matriz."
      ]
    },
    {
      "cell_type": "markdown",
      "metadata": {
        "id": "RkXopju40YH3"
      },
      "source": [
        "##Pandas\n",
        "\n",
        "Pandas es una de las herramientas más poderosas para manejar datos financieros. Primero necesitamos importar Pandas:"
      ]
    },
    {
      "cell_type": "code",
      "metadata": {
        "id": "Jf5YSCQt0gcv"
      },
      "source": [
        "import pandas as pd"
      ],
      "execution_count": 9,
      "outputs": []
    },
    {
      "cell_type": "markdown",
      "metadata": {
        "id": "UOGFXOhhWiPC"
      },
      "source": [
        "###Serie\n",
        "\n",
        "La serie es una matriz etiquetada unidimensional capaz de contener cualquier tipo de datos (integers, strings, float, objects, etc.)\n",
        "\n",
        "Creamos una serie llamando a pd.Series (datos), donde los datos pueden ser un diccionario, una matriz o simplemente un valor escalar."
      ]
    },
    {
      "cell_type": "code",
      "metadata": {
        "colab": {
          "base_uri": "https://localhost:8080/"
        },
        "id": "FX9XKITnW0BR",
        "outputId": "b452c0ce-32bd-4ecb-ec01-4373bf35b02d"
      },
      "source": [
        "price = [143.73, 145.83, 143.68, 144.02, 143.5, 142.62]\n",
        "s = pd.Series(price)\n",
        "print (s)"
      ],
      "execution_count": 10,
      "outputs": [
        {
          "output_type": "stream",
          "text": [
            "0    143.73\n",
            "1    145.83\n",
            "2    143.68\n",
            "3    144.02\n",
            "4    143.50\n",
            "5    142.62\n",
            "dtype: float64\n"
          ],
          "name": "stdout"
        }
      ]
    },
    {
      "cell_type": "markdown",
      "metadata": {
        "id": "Q3GamCkiW72B"
      },
      "source": [
        "Podemos personalizar los índices de una nueva Serie:"
      ]
    },
    {
      "cell_type": "code",
      "metadata": {
        "colab": {
          "base_uri": "https://localhost:8080/"
        },
        "id": "4OTmbRTlW_fK",
        "outputId": "51494235-e139-4983-fc97-43a35be6ad43"
      },
      "source": [
        "s = pd.Series(price, index = ['a', 'b', 'c', 'd', 'e', 'f'])\n",
        "print (s)"
      ],
      "execution_count": 11,
      "outputs": [
        {
          "output_type": "stream",
          "text": [
            "a    143.73\n",
            "b    145.83\n",
            "c    143.68\n",
            "d    144.02\n",
            "e    143.50\n",
            "f    142.62\n",
            "dtype: float64\n"
          ],
          "name": "stdout"
        }
      ]
    },
    {
      "cell_type": "markdown",
      "metadata": {
        "id": "FxKbl6-zXFjB"
      },
      "source": [
        "O podemos cambiar los índices de una Serie existente:"
      ]
    },
    {
      "cell_type": "code",
      "metadata": {
        "colab": {
          "base_uri": "https://localhost:8080/"
        },
        "id": "NzURMZpyXISJ",
        "outputId": "5047a695-24b9-4f6d-c91c-8a7c5bc62bc3"
      },
      "source": [
        "s.index = [6,5,4,3,2,1]\n",
        "print (s)"
      ],
      "execution_count": 12,
      "outputs": [
        {
          "output_type": "stream",
          "text": [
            "6    143.73\n",
            "5    145.83\n",
            "4    143.68\n",
            "3    144.02\n",
            "2    143.50\n",
            "1    142.62\n",
            "dtype: float64\n"
          ],
          "name": "stdout"
        }
      ]
    },
    {
      "cell_type": "markdown",
      "metadata": {
        "id": "Ql8WeDU2XNcQ"
      },
      "source": [
        "La serie es como una lista, ya que se puede dividir por índice:"
      ]
    },
    {
      "cell_type": "code",
      "metadata": {
        "colab": {
          "base_uri": "https://localhost:8080/"
        },
        "id": "XtbMyYWeXOXz",
        "outputId": "41729bbb-5f2f-4990-eced-b31c16f061de"
      },
      "source": [
        "print (s[1:])\n",
        "print (s[:-2])"
      ],
      "execution_count": 13,
      "outputs": [
        {
          "output_type": "stream",
          "text": [
            "5    145.83\n",
            "4    143.68\n",
            "3    144.02\n",
            "2    143.50\n",
            "1    142.62\n",
            "dtype: float64\n",
            "6    143.73\n",
            "5    145.83\n",
            "4    143.68\n",
            "3    144.02\n",
            "dtype: float64\n"
          ],
          "name": "stdout"
        }
      ]
    },
    {
      "cell_type": "markdown",
      "metadata": {
        "id": "aivyTUyVXWjD"
      },
      "source": [
        "La serie también es como un diccionario cuyos valores se pueden establecer o recuperar por etiqueta de índice:"
      ]
    },
    {
      "cell_type": "code",
      "metadata": {
        "colab": {
          "base_uri": "https://localhost:8080/"
        },
        "id": "l0k5MEaYXZ_p",
        "outputId": "69624645-ec77-48ac-e509-a68321bb0c66"
      },
      "source": [
        "print (s[4])\n",
        "s[4] = 0\n",
        "print (s)"
      ],
      "execution_count": 14,
      "outputs": [
        {
          "output_type": "stream",
          "text": [
            "143.68\n",
            "6    143.73\n",
            "5    145.83\n",
            "4      0.00\n",
            "3    144.02\n",
            "2    143.50\n",
            "1    142.62\n",
            "dtype: float64\n"
          ],
          "name": "stdout"
        }
      ]
    },
    {
      "cell_type": "markdown",
      "metadata": {
        "id": "l7Byl5jjXmLY"
      },
      "source": [
        "La serie también puede tener un atributo de nombre, que se utilizará cuando creemos un Pandas DataFrame utilizando varias series."
      ]
    },
    {
      "cell_type": "code",
      "metadata": {
        "colab": {
          "base_uri": "https://localhost:8080/"
        },
        "id": "Hcfqz-oXXneJ",
        "outputId": "0b9f36c9-41d6-4475-94e4-948366a97b71"
      },
      "source": [
        "s = pd.Series(price, name = 'Apple Prices')\n",
        "print (s)\n",
        "print (s.name)"
      ],
      "execution_count": 15,
      "outputs": [
        {
          "output_type": "stream",
          "text": [
            "0    143.73\n",
            "1    145.83\n",
            "2    143.68\n",
            "3    144.02\n",
            "4    143.50\n",
            "5    142.62\n",
            "Name: Apple Prices, dtype: float64\n",
            "Apple Prices\n"
          ],
          "name": "stdout"
        }
      ]
    },
    {
      "cell_type": "markdown",
      "metadata": {
        "id": "q_RRNRncXw0G"
      },
      "source": [
        "Podemos obtener los resúmenes estadísticos de una Serie:"
      ]
    },
    {
      "cell_type": "code",
      "metadata": {
        "colab": {
          "base_uri": "https://localhost:8080/"
        },
        "id": "tHRDp4QkXy6c",
        "outputId": "582f18f2-cda9-4aad-a0cd-ec9bb342599d"
      },
      "source": [
        "print (s.describe())"
      ],
      "execution_count": 16,
      "outputs": [
        {
          "output_type": "stream",
          "text": [
            "count      6.000000\n",
            "mean     143.896667\n",
            "std        1.059711\n",
            "min      142.620000\n",
            "25%      143.545000\n",
            "50%      143.705000\n",
            "75%      143.947500\n",
            "max      145.830000\n",
            "Name: Apple Prices, dtype: float64\n"
          ],
          "name": "stdout"
        }
      ]
    },
    {
      "cell_type": "markdown",
      "metadata": {
        "id": "1XwPQRYdX5Vp"
      },
      "source": [
        "###Índice de tiempo\n",
        "\n",
        "Pandas tiene una función incorporada específicamente para crear índices de fecha: pd.date_range (). Lo usamos para crear un nuevo índice para nuestra Serie:"
      ]
    },
    {
      "cell_type": "code",
      "metadata": {
        "colab": {
          "base_uri": "https://localhost:8080/"
        },
        "id": "ySr-XHA2YE6a",
        "outputId": "cf452e1d-f1c3-47a3-8dd5-636201b643de"
      },
      "source": [
        "time_index = pd.date_range('2017-01-01', periods = len(s), freq = 'D')\n",
        "print (time_index)\n",
        "s.index = time_index\n",
        "print (s)"
      ],
      "execution_count": 17,
      "outputs": [
        {
          "output_type": "stream",
          "text": [
            "DatetimeIndex(['2017-01-01', '2017-01-02', '2017-01-03', '2017-01-04',\n",
            "               '2017-01-05', '2017-01-06'],\n",
            "              dtype='datetime64[ns]', freq='D')\n",
            "2017-01-01    143.73\n",
            "2017-01-02    145.83\n",
            "2017-01-03    143.68\n",
            "2017-01-04    144.02\n",
            "2017-01-05    143.50\n",
            "2017-01-06    142.62\n",
            "Freq: D, Name: Apple Prices, dtype: float64\n"
          ],
          "name": "stdout"
        }
      ]
    },
    {
      "cell_type": "markdown",
      "metadata": {
        "id": "MBI51kuJYPER"
      },
      "source": [
        "Por lo general, se accede a las series mediante los métodos iloc [] y loc []. iloc [] se usa para acceder a elementos por índice entero, y loc [] se usa para acceder al índice de la serie.\n",
        "\n",
        "iloc [] es necesario cuando el índice de una serie son números enteros, tome nuestra serie definida anterior como ejemplo:"
      ]
    },
    {
      "cell_type": "code",
      "metadata": {
        "colab": {
          "base_uri": "https://localhost:8080/"
        },
        "id": "VyarqzvJYbZb",
        "outputId": "567e5197-c119-44c8-fa7a-8054329380e2"
      },
      "source": [
        "s.index = [6,5,4,3,2,1]\n",
        "print (s)\n",
        "print (s[1])"
      ],
      "execution_count": 18,
      "outputs": [
        {
          "output_type": "stream",
          "text": [
            "6    143.73\n",
            "5    145.83\n",
            "4    143.68\n",
            "3    144.02\n",
            "2    143.50\n",
            "1    142.62\n",
            "Name: Apple Prices, dtype: float64\n",
            "142.62\n"
          ],
          "name": "stdout"
        }
      ]
    },
    {
      "cell_type": "markdown",
      "metadata": {
        "id": "-uGGzIJMYj_5"
      },
      "source": [
        "Si tuviéramos la intención de tomar el segundo elemento de la serie, cometeríamos un error aquí, porque los índices son números enteros. Para acceder al elemento que queremos, usamos iloc [] aquí:"
      ]
    },
    {
      "cell_type": "code",
      "metadata": {
        "colab": {
          "base_uri": "https://localhost:8080/"
        },
        "id": "buIlbZEHYseZ",
        "outputId": "7e9b2ee7-46bd-4267-94fa-0bfa9cf8e87a"
      },
      "source": [
        "print (s.iloc[1])"
      ],
      "execution_count": 19,
      "outputs": [
        {
          "output_type": "stream",
          "text": [
            "145.83\n"
          ],
          "name": "stdout"
        }
      ]
    },
    {
      "cell_type": "markdown",
      "metadata": {
        "id": "09HKL0IxY6pM"
      },
      "source": [
        "Al trabajar con datos de series de tiempo, a menudo usamos el tiempo como índice. Pandas nos proporciona varios métodos para acceder a los datos por índice de tiempo."
      ]
    },
    {
      "cell_type": "code",
      "metadata": {
        "colab": {
          "base_uri": "https://localhost:8080/"
        },
        "id": "OsqT_eDGY9TK",
        "outputId": "47e7034d-cc70-444f-d279-e0dc8ac29361"
      },
      "source": [
        "s.index = time_index\n",
        "print (s['2017-01-03'])"
      ],
      "execution_count": 20,
      "outputs": [
        {
          "output_type": "stream",
          "text": [
            "143.68\n"
          ],
          "name": "stdout"
        }
      ]
    },
    {
      "cell_type": "markdown",
      "metadata": {
        "id": "gWItjsVbZH2S"
      },
      "source": [
        "Incluso podemos acceder a un rango de fechas:"
      ]
    },
    {
      "cell_type": "code",
      "metadata": {
        "colab": {
          "base_uri": "https://localhost:8080/"
        },
        "id": "r72Cfh50ZIfS",
        "outputId": "998c1a78-fc92-4846-cdf8-871b2ed52e24"
      },
      "source": [
        "print (s['2017-01-02':'2017-01-05'])"
      ],
      "execution_count": 21,
      "outputs": [
        {
          "output_type": "stream",
          "text": [
            "2017-01-02    145.83\n",
            "2017-01-03    143.68\n",
            "2017-01-04    144.02\n",
            "2017-01-05    143.50\n",
            "Freq: D, Name: Apple Prices, dtype: float64\n"
          ],
          "name": "stdout"
        }
      ]
    },
    {
      "cell_type": "markdown",
      "metadata": {
        "id": "Tk998OmmZP7K"
      },
      "source": [
        "Series [] nos proporciona una forma muy flexible de indexar datos. Podemos agregar cualquier condición entre corchetes:"
      ]
    },
    {
      "cell_type": "code",
      "metadata": {
        "colab": {
          "base_uri": "https://localhost:8080/"
        },
        "id": "-mk7vUL1ZS0q",
        "outputId": "69e4d16c-602a-4850-b2b3-b14b9e1e9bba"
      },
      "source": [
        "print (s[s < np.mean(s)])\n",
        "print (s[(s > np.mean(s)) & (s < np.mean(s) + 1.64*np.std(s))])"
      ],
      "execution_count": 22,
      "outputs": [
        {
          "output_type": "stream",
          "text": [
            "2017-01-01    143.73\n",
            "2017-01-03    143.68\n",
            "2017-01-05    143.50\n",
            "2017-01-06    142.62\n",
            "Name: Apple Prices, dtype: float64\n",
            "2017-01-04    144.02\n",
            "Freq: D, Name: Apple Prices, dtype: float64\n"
          ],
          "name": "stdout"
        }
      ]
    },
    {
      "cell_type": "markdown",
      "metadata": {
        "id": "MooHFw1rZ3DU"
      },
      "source": [
        "Como se demostró, podemos usar operadores lógicos como & (y), | (o) y ~ (no) para agrupar varias condiciones."
      ]
    },
    {
      "cell_type": "markdown",
      "metadata": {
        "id": "fgHgBNTBZhJp"
      },
      "source": [
        "#Resumen\n",
        "Aquí presentamos NumPy y Pandas para la computación científica en Python."
      ]
    }
  ]
}
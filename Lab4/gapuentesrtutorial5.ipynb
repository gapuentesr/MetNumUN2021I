{
  "nbformat": 4,
  "nbformat_minor": 0,
  "metadata": {
    "colab": {
      "name": "gapuentesrtutorial5.ipynb",
      "provenance": [],
      "collapsed_sections": [
        "vUFbUkT9c2wU",
        "jkMBbyZ7mw95",
        "DABtouhEgBTQ"
      ]
    },
    "kernelspec": {
      "name": "python3",
      "display_name": "Python 3"
    },
    "language_info": {
      "name": "python"
    }
  },
  "cells": [
    {
      "cell_type": "markdown",
      "metadata": {
        "id": "cLUYfTYAHVrE"
      },
      "source": [
        "![qc_notebook_logo_rev0.png](data:image/png;base64,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)\n",
        "##Introduction to Financial Python [Tutorial 5]"
      ]
    },
    {
      "cell_type": "markdown",
      "metadata": {
        "id": "XjgG7hvUjlVm"
      },
      "source": [
        "##Métodos Numéricos\n",
        "###Gustavo Alberto Puentes Romero"
      ]
    },
    {
      "cell_type": "markdown",
      "metadata": {
        "id": "Ef5K6ieAhTdO"
      },
      "source": [
        "#Pandas-Resampling and DataFrame"
      ]
    },
    {
      "cell_type": "markdown",
      "metadata": {
        "id": "xiEg0oy7hYbd"
      },
      "source": [
        "##Introducción\n",
        "En este capítulo aprenderemos sobre los métodos de remuestreo y el objeto DataFrame, que es una poderosa herramienta para el análisis de datos financieros."
      ]
    },
    {
      "cell_type": "markdown",
      "metadata": {
        "id": "vUFbUkT9c2wU"
      },
      "source": [
        "##Recuperacion de datos\n",
        "Aquí usamos la API de Quandl para recuperar datos."
      ]
    },
    {
      "cell_type": "code",
      "metadata": {
        "colab": {
          "base_uri": "https://localhost:8080/"
        },
        "id": "53yab9eUc9pz",
        "outputId": "20e019a5-9c12-4284-b7ef-30d5c9e20813"
      },
      "source": [
        "!pip install quandl\n",
        "import pandas as pd\n",
        "import numpy as np\n",
        "import quandl\n",
        "quandl.ApiConfig.api_key = 'tnCnvFmEqC5qH9fr-2Ey'"
      ],
      "execution_count": 1,
      "outputs": [
        {
          "output_type": "stream",
          "text": [
            "Requirement already satisfied: quandl in /usr/local/lib/python3.7/dist-packages (3.6.1)\n",
            "Requirement already satisfied: requests>=2.7.0 in /usr/local/lib/python3.7/dist-packages (from quandl) (2.23.0)\n",
            "Requirement already satisfied: python-dateutil in /usr/local/lib/python3.7/dist-packages (from quandl) (2.8.1)\n",
            "Requirement already satisfied: pandas>=0.14 in /usr/local/lib/python3.7/dist-packages (from quandl) (1.1.5)\n",
            "Requirement already satisfied: inflection>=0.3.1 in /usr/local/lib/python3.7/dist-packages (from quandl) (0.5.1)\n",
            "Requirement already satisfied: numpy>=1.8 in /usr/local/lib/python3.7/dist-packages (from quandl) (1.19.5)\n",
            "Requirement already satisfied: more-itertools in /usr/local/lib/python3.7/dist-packages (from quandl) (8.7.0)\n",
            "Requirement already satisfied: six in /usr/local/lib/python3.7/dist-packages (from quandl) (1.15.0)\n",
            "Requirement already satisfied: urllib3!=1.25.0,!=1.25.1,<1.26,>=1.21.1 in /usr/local/lib/python3.7/dist-packages (from requests>=2.7.0->quandl) (1.24.3)\n",
            "Requirement already satisfied: certifi>=2017.4.17 in /usr/local/lib/python3.7/dist-packages (from requests>=2.7.0->quandl) (2020.12.5)\n",
            "Requirement already satisfied: chardet<4,>=3.0.2 in /usr/local/lib/python3.7/dist-packages (from requests>=2.7.0->quandl) (3.0.4)\n",
            "Requirement already satisfied: idna<3,>=2.5 in /usr/local/lib/python3.7/dist-packages (from requests>=2.7.0->quandl) (2.10)\n",
            "Requirement already satisfied: pytz>=2017.2 in /usr/local/lib/python3.7/dist-packages (from pandas>=0.14->quandl) (2018.9)\n"
          ],
          "name": "stdout"
        }
      ]
    },
    {
      "cell_type": "markdown",
      "metadata": {
        "id": "DC8TqLmpgrr7"
      },
      "source": [
        "Crearemos una Serie llamada \"aapl\" cuyos valores son los precios de cierre diarios de Apple, que por supuesto están indexados por fechas:"
      ]
    },
    {
      "cell_type": "code",
      "metadata": {
        "colab": {
          "base_uri": "https://localhost:8080/"
        },
        "id": "Wl2ZP-ICkgTm",
        "outputId": "5a6ad758-16a2-4868-c928-b2fd9608ae85"
      },
      "source": [
        "aapl_table = quandl.get('WIKI/AAPL')\n",
        "aapl = aapl_table['Adj. Close']['2017']\n",
        "print (aapl)"
      ],
      "execution_count": 2,
      "outputs": [
        {
          "output_type": "stream",
          "text": [
            "Date\n",
            "2017-01-03    114.715378\n",
            "2017-01-04    114.586983\n",
            "2017-01-05    115.169696\n",
            "2017-01-06    116.453639\n",
            "2017-01-09    117.520300\n",
            "                 ...    \n",
            "2017-12-22    175.010000\n",
            "2017-12-26    170.570000\n",
            "2017-12-27    170.600000\n",
            "2017-12-28    171.080000\n",
            "2017-12-29    169.230000\n",
            "Name: Adj. Close, Length: 249, dtype: float64\n"
          ],
          "name": "stdout"
        }
      ]
    },
    {
      "cell_type": "markdown",
      "metadata": {
        "id": "rguBqOuEltGa"
      },
      "source": [
        "Recuerde que podemos obtener un punto de datos específico usando la serie ['aaaa-mm-dd']. También podemos obtener los datos de un mes específico mediante la serie ['aaaa-mm']."
      ]
    },
    {
      "cell_type": "code",
      "metadata": {
        "colab": {
          "base_uri": "https://localhost:8080/"
        },
        "id": "FC3vEPrbluhY",
        "outputId": "13b4c4c7-9378-465d-ccb1-a35828957c44"
      },
      "source": [
        "print (aapl['2017-3'])"
      ],
      "execution_count": 3,
      "outputs": [
        {
          "output_type": "stream",
          "text": [
            "Date\n",
            "2017-03-01    138.657681\n",
            "2017-03-02    137.834404\n",
            "2017-03-03    138.647762\n",
            "2017-03-06    138.211326\n",
            "2017-03-07    138.389868\n",
            "2017-03-08    137.874080\n",
            "2017-03-09    137.556672\n",
            "2017-03-10    138.012946\n",
            "2017-03-13    138.072460\n",
            "2017-03-14    137.864161\n",
            "2017-03-15    139.322254\n",
            "2017-03-16    139.550391\n",
            "2017-03-17    138.856061\n",
            "2017-03-20    140.314154\n",
            "2017-03-21    138.707276\n",
            "2017-03-22    140.274478\n",
            "2017-03-23    139.778528\n",
            "2017-03-24    139.500796\n",
            "2017-03-27    139.738852\n",
            "2017-03-28    142.635200\n",
            "2017-03-29    142.952608\n",
            "2017-03-30    142.764147\n",
            "2017-03-31    142.496334\n",
            "Name: Adj. Close, dtype: float64\n"
          ],
          "name": "stdout"
        }
      ]
    },
    {
      "cell_type": "markdown",
      "metadata": {
        "id": "03KWnaqGl-4D"
      },
      "source": [
        "O en varios meses consecutivos:"
      ]
    },
    {
      "cell_type": "code",
      "metadata": {
        "colab": {
          "base_uri": "https://localhost:8080/"
        },
        "id": "M4l69wdfmA4q",
        "outputId": "cdbb31e0-d5ac-47dc-cbcf-d1b6c970f101"
      },
      "source": [
        "aapl [ '2017-2' : '2017-4' ]"
      ],
      "execution_count": 4,
      "outputs": [
        {
          "output_type": "execute_result",
          "data": {
            "text/plain": [
              "Date\n",
              "2017-02-01    127.159749\n",
              "2017-02-02    126.942467\n",
              "2017-02-03    127.485673\n",
              "2017-02-06    128.680728\n",
              "2017-02-07    129.905412\n",
              "                 ...    \n",
              "2017-04-24    142.476496\n",
              "2017-04-25    143.369205\n",
              "2017-04-26    142.487208\n",
              "2017-04-27    142.625281\n",
              "2017-04-28    142.486415\n",
              "Name: Adj. Close, Length: 61, dtype: float64"
            ]
          },
          "metadata": {
            "tags": []
          },
          "execution_count": 4
        }
      ]
    },
    {
      "cell_type": "markdown",
      "metadata": {
        "id": "aEr7po1FmQgh"
      },
      "source": [
        ".head(N) y .tail(N) son métodos para acceder rápidamente al primer o último N elementos."
      ]
    },
    {
      "cell_type": "code",
      "metadata": {
        "colab": {
          "base_uri": "https://localhost:8080/"
        },
        "id": "DWg7vvpMmVvw",
        "outputId": "1cf7f0ce-9a1f-45e6-a84e-63f37e941c04"
      },
      "source": [
        "print (aapl.head())\n",
        "print (aapl.tail(10))"
      ],
      "execution_count": 5,
      "outputs": [
        {
          "output_type": "stream",
          "text": [
            "Date\n",
            "2017-01-03    114.715378\n",
            "2017-01-04    114.586983\n",
            "2017-01-05    115.169696\n",
            "2017-01-06    116.453639\n",
            "2017-01-09    117.520300\n",
            "Name: Adj. Close, dtype: float64\n",
            "Date\n",
            "2017-12-15    173.87\n",
            "2017-12-18    176.42\n",
            "2017-12-19    174.54\n",
            "2017-12-20    174.35\n",
            "2017-12-21    175.01\n",
            "2017-12-22    175.01\n",
            "2017-12-26    170.57\n",
            "2017-12-27    170.60\n",
            "2017-12-28    171.08\n",
            "2017-12-29    169.23\n",
            "Name: Adj. Close, dtype: float64\n"
          ],
          "name": "stdout"
        }
      ]
    },
    {
      "cell_type": "markdown",
      "metadata": {
        "id": "jkMBbyZ7mw95"
      },
      "source": [
        "##Remuestreo\n",
        "\n",
        "series.resample(freq) es una clase llamada \"DatetimeIndexResampler\" que agrupa datos en un objeto Series en intervalos de tiempo regulares. El argumento \"freq\" determina la longitud de cada intervalo.\n",
        "\n",
        "series.resample.mean()es una declaración completa que agrupa los datos en intervalos y luego calcula la media de cada intervalo. Por ejemplo, si queremos agregar los datos diarios en datos mensuales por media:"
      ]
    },
    {
      "cell_type": "code",
      "metadata": {
        "colab": {
          "base_uri": "https://localhost:8080/"
        },
        "id": "V0H88qUYnJp6",
        "outputId": "0ca65033-3848-4453-cf7f-f8faa2652d46"
      },
      "source": [
        "by_month = aapl.resample('M').mean()\n",
        "print (by_month)"
      ],
      "execution_count": 6,
      "outputs": [
        {
          "output_type": "stream",
          "text": [
            "Date\n",
            "2017-01-31    118.093136\n",
            "2017-02-28    132.456268\n",
            "2017-03-31    139.478802\n",
            "2017-04-30    141.728436\n",
            "2017-05-31    151.386305\n",
            "2017-06-30    147.233064\n",
            "2017-07-31    147.706190\n",
            "2017-08-31    158.856375\n",
            "2017-09-30    157.606500\n",
            "2017-10-31    157.811627\n",
            "2017-11-30    172.214500\n",
            "2017-12-31    171.893100\n",
            "Freq: M, Name: Adj. Close, dtype: float64\n"
          ],
          "name": "stdout"
        }
      ]
    },
    {
      "cell_type": "markdown",
      "metadata": {
        "id": "RbTErtevnhs6"
      },
      "source": [
        "También podemos agregar los datos por semana:"
      ]
    },
    {
      "cell_type": "code",
      "metadata": {
        "colab": {
          "base_uri": "https://localhost:8080/"
        },
        "id": "0m55Wh3MniiA",
        "outputId": "d3dadc88-7a93-4287-e22c-89013d8ccf58"
      },
      "source": [
        "by_week = aapl.resample('W').mean()\n",
        "print (by_week.head())"
      ],
      "execution_count": 7,
      "outputs": [
        {
          "output_type": "stream",
          "text": [
            "Date\n",
            "2017-01-08    115.231424\n",
            "2017-01-15    117.755360\n",
            "2017-01-22    118.461035\n",
            "2017-01-29    119.667448\n",
            "2017-02-05    124.313346\n",
            "Freq: W-SUN, Name: Adj. Close, dtype: float64\n"
          ],
          "name": "stdout"
        }
      ]
    },
    {
      "cell_type": "markdown",
      "metadata": {
        "id": "dqlNfrY6nwTT"
      },
      "source": [
        "Podemos elegir casi cualquier frecuencia usando el formato 'nf', donde 'n' es un número entero y 'f' es M para el mes, W para la semana y D para el día."
      ]
    },
    {
      "cell_type": "code",
      "metadata": {
        "id": "IlIskqvgn38h"
      },
      "source": [
        "three_day = aapl.resample('3D').mean()\n",
        "two_week  = aapl.resample('2W').mean()\n",
        "two_month = aapl.resample('2M').mean()"
      ],
      "execution_count": 8,
      "outputs": []
    },
    {
      "cell_type": "markdown",
      "metadata": {
        "id": "zQFoNqdUoBgR"
      },
      "source": [
        "Además del método mean(), también se pueden usar otros métodos con el remuestreador:"
      ]
    },
    {
      "cell_type": "code",
      "metadata": {
        "id": "Ujh0kL6-oGa1"
      },
      "source": [
        "std = aapl.resample('W').std()    # standard deviation\n",
        "max = aapl.resample('W').max()    # maximum value\n",
        "min = aapl.resample('W').min()    # minimum value"
      ],
      "execution_count": 9,
      "outputs": []
    },
    {
      "cell_type": "markdown",
      "metadata": {
        "id": "guacW1T3oNjT"
      },
      "source": [
        "A menudo queremos calcular los rendimientos mensuales de una acción, en función de los precios del último día de cada mes. Para obtener esos precios, usamos el método series.resample.agg ():"
      ]
    },
    {
      "cell_type": "code",
      "metadata": {
        "colab": {
          "base_uri": "https://localhost:8080/"
        },
        "id": "cf_j_jYwoSRq",
        "outputId": "4813b958-7d2f-43d4-ba0c-1fc55205626c"
      },
      "source": [
        "last_day = aapl.resample('M').agg(lambda x: x[-1])\n",
        "print (last_day)"
      ],
      "execution_count": 10,
      "outputs": [
        {
          "output_type": "stream",
          "text": [
            "Date\n",
            "2017-01-31    119.851150\n",
            "2017-02-28    135.880362\n",
            "2017-03-31    142.496334\n",
            "2017-04-30    142.486415\n",
            "2017-05-31    152.142689\n",
            "2017-06-30    143.438008\n",
            "2017-07-31    148.248489\n",
            "2017-08-31    164.000000\n",
            "2017-09-30    154.120000\n",
            "2017-10-31    169.040000\n",
            "2017-11-30    171.850000\n",
            "2017-12-31    169.230000\n",
            "Freq: M, Name: Adj. Close, dtype: float64\n"
          ],
          "name": "stdout"
        }
      ]
    },
    {
      "cell_type": "markdown",
      "metadata": {
        "id": "unrZK3Q7ocrZ"
      },
      "source": [
        "O calcule directamente las tasas de rendimiento mensuales utilizando los datos del primer día y del último día:"
      ]
    },
    {
      "cell_type": "code",
      "metadata": {
        "colab": {
          "base_uri": "https://localhost:8080/"
        },
        "id": "iZEUGB1roeH8",
        "outputId": "3174223e-9cc3-4c61-a672-2eff2bfea8d6"
      },
      "source": [
        "monthly_return = aapl.resample('M').agg(lambda x: x[-1]/x[1] - 1)\n",
        "print (monthly_return)"
      ],
      "execution_count": 11,
      "outputs": [
        {
          "output_type": "stream",
          "text": [
            "Date\n",
            "2017-01-31    0.045940\n",
            "2017-02-28    0.070409\n",
            "2017-03-31    0.033823\n",
            "2017-04-30   -0.007736\n",
            "2017-05-31    0.039829\n",
            "2017-06-30   -0.073528\n",
            "2017-07-31    0.033035\n",
            "2017-08-31    0.047890\n",
            "2017-09-30   -0.049112\n",
            "2017-10-31    0.094252\n",
            "2017-11-30    0.022247\n",
            "2017-12-31   -0.003357\n",
            "Freq: M, Name: Adj. Close, dtype: float64\n"
          ],
          "name": "stdout"
        }
      ]
    },
    {
      "cell_type": "markdown",
      "metadata": {
        "id": "YNpWKf-rouHh"
      },
      "source": [
        "El objeto Serie también nos proporciona algunos métodos convenientes para realizar cálculos rápidos."
      ]
    },
    {
      "cell_type": "code",
      "metadata": {
        "colab": {
          "base_uri": "https://localhost:8080/"
        },
        "id": "UZbGRPKWoxDa",
        "outputId": "790ad4a8-93ef-4909-f8e3-c8d34f50edcf"
      },
      "source": [
        "print (monthly_return.mean())\n",
        "print (monthly_return.std())\n",
        "print (monthly_return.max())"
      ],
      "execution_count": 12,
      "outputs": [
        {
          "output_type": "stream",
          "text": [
            "0.02114094011940022\n",
            "0.04775652864223314\n",
            "0.09425168306576914\n"
          ],
          "name": "stdout"
        }
      ]
    },
    {
      "cell_type": "markdown",
      "metadata": {
        "id": "tfMFhWY3o-Tj"
      },
      "source": [
        "Otros dos métodos que se utilizan con frecuencia en Series son .diff() y .pct_change(). El primero calcula la diferencia entre elementos consecutivos y el segundo calcula el cambio porcentual."
      ]
    },
    {
      "cell_type": "code",
      "metadata": {
        "colab": {
          "base_uri": "https://localhost:8080/"
        },
        "id": "L1CGw0otpER8",
        "outputId": "ed8383bc-b4ae-4959-d447-8065095a3f4b"
      },
      "source": [
        "print (last_day.diff())\n",
        "print (last_day.pct_change())"
      ],
      "execution_count": 13,
      "outputs": [
        {
          "output_type": "stream",
          "text": [
            "Date\n",
            "2017-01-31          NaN\n",
            "2017-02-28    16.029211\n",
            "2017-03-31     6.615972\n",
            "2017-04-30    -0.009919\n",
            "2017-05-31     9.656274\n",
            "2017-06-30    -8.704681\n",
            "2017-07-31     4.810482\n",
            "2017-08-31    15.751511\n",
            "2017-09-30    -9.880000\n",
            "2017-10-31    14.920000\n",
            "2017-11-30     2.810000\n",
            "2017-12-31    -2.620000\n",
            "Freq: M, Name: Adj. Close, dtype: float64\n",
            "Date\n",
            "2017-01-31         NaN\n",
            "2017-02-28    0.133743\n",
            "2017-03-31    0.048690\n",
            "2017-04-30   -0.000070\n",
            "2017-05-31    0.067770\n",
            "2017-06-30   -0.057214\n",
            "2017-07-31    0.033537\n",
            "2017-08-31    0.106251\n",
            "2017-09-30   -0.060244\n",
            "2017-10-31    0.096808\n",
            "2017-11-30    0.016623\n",
            "2017-12-31   -0.015246\n",
            "Freq: M, Name: Adj. Close, dtype: float64\n"
          ],
          "name": "stdout"
        }
      ]
    },
    {
      "cell_type": "markdown",
      "metadata": {
        "id": "hsKkYM9HpSHj"
      },
      "source": [
        "Observe que indujimos un valor de NaN al calcular los cambios porcentuales, es decir, los retornos.\n",
        "\n",
        "Cuando se trata de valores de NaN, normalmente eliminamos el punto de datos o lo rellenamos con un valor específico. Aquí lo llenamos con 0:"
      ]
    },
    {
      "cell_type": "code",
      "metadata": {
        "colab": {
          "base_uri": "https://localhost:8080/"
        },
        "id": "cgDixBASpXPm",
        "outputId": "5b4f9318-fea4-4239-ddce-d6d46151221b"
      },
      "source": [
        "daily_return = (last_day.pct_change())\n",
        "print (daily_return.fillna(0))"
      ],
      "execution_count": 14,
      "outputs": [
        {
          "output_type": "stream",
          "text": [
            "Date\n",
            "2017-01-31    0.000000\n",
            "2017-02-28    0.133743\n",
            "2017-03-31    0.048690\n",
            "2017-04-30   -0.000070\n",
            "2017-05-31    0.067770\n",
            "2017-06-30   -0.057214\n",
            "2017-07-31    0.033537\n",
            "2017-08-31    0.106251\n",
            "2017-09-30   -0.060244\n",
            "2017-10-31    0.096808\n",
            "2017-11-30    0.016623\n",
            "2017-12-31   -0.015246\n",
            "Freq: M, Name: Adj. Close, dtype: float64\n"
          ],
          "name": "stdout"
        }
      ]
    },
    {
      "cell_type": "markdown",
      "metadata": {
        "id": "aFYE3MJ-p7-7"
      },
      "source": [
        "Alternativamente, podemos llenar un NaN con el siguiente valor ajustado. Esto se llama 'relleno hacia atrás', o 'bfill' en resumen:"
      ]
    },
    {
      "cell_type": "code",
      "metadata": {
        "colab": {
          "base_uri": "https://localhost:8080/"
        },
        "id": "Cf5tfgqIp9pC",
        "outputId": "f239d685-02f4-4565-835d-eff6a71e9c6a"
      },
      "source": [
        "daily_return = last_day.pct_change()\n",
        "print (daily_return.fillna(method = 'bfill'))"
      ],
      "execution_count": 15,
      "outputs": [
        {
          "output_type": "stream",
          "text": [
            "Date\n",
            "2017-01-31    0.133743\n",
            "2017-02-28    0.133743\n",
            "2017-03-31    0.048690\n",
            "2017-04-30   -0.000070\n",
            "2017-05-31    0.067770\n",
            "2017-06-30   -0.057214\n",
            "2017-07-31    0.033537\n",
            "2017-08-31    0.106251\n",
            "2017-09-30   -0.060244\n",
            "2017-10-31    0.096808\n",
            "2017-11-30    0.016623\n",
            "2017-12-31   -0.015246\n",
            "Freq: M, Name: Adj. Close, dtype: float64\n"
          ],
          "name": "stdout"
        }
      ]
    },
    {
      "cell_type": "markdown",
      "metadata": {
        "id": "4MZpDHBgqjR6"
      },
      "source": [
        "Como era de esperar, dado que existe un método de 'relleno hacia atrás', debe haber un método de 'relleno hacia adelante', o 'ffill' para abreviar. Sin embargo, no podemos usarlo aquí porque el NaN es el primer valor.\n",
        "\n",
        "También podemos simplemente eliminar los valores de NaN mediante **.dropna()**"
      ]
    },
    {
      "cell_type": "code",
      "metadata": {
        "colab": {
          "base_uri": "https://localhost:8080/"
        },
        "id": "VM7du8ORqwKE",
        "outputId": "d0a14457-38fe-45a5-9aa6-943819a9a80b"
      },
      "source": [
        "daily_return = last_day.pct_change().dropna()\n",
        "print (daily_return)"
      ],
      "execution_count": 16,
      "outputs": [
        {
          "output_type": "stream",
          "text": [
            "Date\n",
            "2017-02-28    0.133743\n",
            "2017-03-31    0.048690\n",
            "2017-04-30   -0.000070\n",
            "2017-05-31    0.067770\n",
            "2017-06-30   -0.057214\n",
            "2017-07-31    0.033537\n",
            "2017-08-31    0.106251\n",
            "2017-09-30   -0.060244\n",
            "2017-10-31    0.096808\n",
            "2017-11-30    0.016623\n",
            "2017-12-31   -0.015246\n",
            "Freq: M, Name: Adj. Close, dtype: float64\n"
          ],
          "name": "stdout"
        }
      ]
    },
    {
      "cell_type": "markdown",
      "metadata": {
        "id": "oGuqZzaVq12p"
      },
      "source": [
        "##DataFrame\n",
        "\n",
        "El **DataFrame** es la estructura de datos más utilizada en Pandas. Es esencialmente una tabla, como una hoja de cálculo de Excel.\n",
        "\n",
        "Más precisamente, un DataFrame es una colección de objetos Series, cada uno de los cuales puede contener diferentes tipos de datos. Se puede crear un DataFrame a partir de varios tipos de datos: diccionario, numpy.ndarray 2-D, una serie u otro DataFrame.\n"
      ]
    },
    {
      "cell_type": "markdown",
      "metadata": {
        "id": "fRz6rbTWrPWT"
      },
      "source": [
        "###Crear Dataframes\n",
        "\n",
        "El método más común para crear un DataFrame es pasar un diccionario:"
      ]
    },
    {
      "cell_type": "code",
      "metadata": {
        "colab": {
          "base_uri": "https://localhost:8080/"
        },
        "id": "gGhGpzAIrhw1",
        "outputId": "50cbbcfb-2be0-4ac5-b2f7-fef91df0fff0"
      },
      "source": [
        "dict = {'AAPL': [143.5,  144.09, 142.73, 144.18, 143.77],\n",
        "        'GOOG': [898.7,  911.71, 906.69, 918.59, 926.99],\n",
        "        'IBM':  [155.58, 153.67, 152.36, 152.94, 153.49]}\n",
        "dates = pd.date_range('2017-07-03', periods = 5, freq = 'D')\n",
        "df = pd.DataFrame(dict, index = dates)\n",
        "print (df)"
      ],
      "execution_count": 17,
      "outputs": [
        {
          "output_type": "stream",
          "text": [
            "              AAPL    GOOG     IBM\n",
            "2017-07-03  143.50  898.70  155.58\n",
            "2017-07-04  144.09  911.71  153.67\n",
            "2017-07-05  142.73  906.69  152.36\n",
            "2017-07-06  144.18  918.59  152.94\n",
            "2017-07-07  143.77  926.99  153.49\n"
          ],
          "name": "stdout"
        }
      ]
    },
    {
      "cell_type": "markdown",
      "metadata": {
        "id": "0lYUzst2r9I-"
      },
      "source": [
        "###Manipulación de DataFrames\n",
        "Podemos buscar valores en un DataFrame por columnas e índice. Cada columna de un DataFrame es esencialmente una serie Pandas. Podemos buscar una columna entre corchetes: **df['column_name']**\n",
        "\n",
        "Si el nombre de una columna no contiene espacios, también podemos usar df.column_name para buscar una columna"
      ]
    },
    {
      "cell_type": "code",
      "metadata": {
        "colab": {
          "base_uri": "https://localhost:8080/"
        },
        "id": "N04rDhlKs_RF",
        "outputId": "0c0aed84-b93f-4f8f-ac36-dcefafc715a1"
      },
      "source": [
        "df = aapl_table\n",
        "print (df.Close.tail(5))\n",
        "print (df['Adj. Volume'].tail(5))"
      ],
      "execution_count": 18,
      "outputs": [
        {
          "output_type": "stream",
          "text": [
            "Date\n",
            "2018-03-21    171.270\n",
            "2018-03-22    168.845\n",
            "2018-03-23    164.940\n",
            "2018-03-26    172.770\n",
            "2018-03-27    168.340\n",
            "Name: Close, dtype: float64\n",
            "Date\n",
            "2018-03-21    35247358.0\n",
            "2018-03-22    41051076.0\n",
            "2018-03-23    40248954.0\n",
            "2018-03-26    36272617.0\n",
            "2018-03-27    38962839.0\n",
            "Name: Adj. Volume, dtype: float64\n"
          ],
          "name": "stdout"
        }
      ]
    },
    {
      "cell_type": "markdown",
      "metadata": {
        "id": "5fCTeciRtTVX"
      },
      "source": [
        "Todos los métodos que aplicamos a un índice de serie, como iloc [], loc [] y métodos de remuestreo, también se pueden aplicar a un DataFrame:"
      ]
    },
    {
      "cell_type": "code",
      "metadata": {
        "colab": {
          "base_uri": "https://localhost:8080/"
        },
        "id": "WBYUQ7-htWYF",
        "outputId": "ce083d33-c766-456f-8306-1660cdec1490"
      },
      "source": [
        "aapl_2016 = df['2016']\n",
        "aapl_month = aapl_2016.resample('M').agg(lambda x: x[-1])\n",
        "print (aapl_month)"
      ],
      "execution_count": 19,
      "outputs": [
        {
          "output_type": "stream",
          "text": [
            "              Open      High     Low  ...    Adj. Low  Adj. Close  Adj. Volume\n",
            "Date                                  ...                                     \n",
            "2016-01-31   94.79   97.3400   94.35  ...   91.156128   94.044912   64416504.0\n",
            "2016-02-29   96.86   98.2300   96.65  ...   93.880927   93.919781   35216277.0\n",
            "2016-03-31  109.72  109.9000  108.88  ...  105.760531  105.867380   25888449.0\n",
            "2016-04-30   93.99   94.7200   92.51  ...   89.859540   91.054300   68531478.0\n",
            "2016-05-31   99.60  100.4000   98.82  ...   96.575559   97.591939   42307212.0\n",
            "2016-06-30   94.44   95.7700   94.30  ...   92.158220   93.428693   35836356.0\n",
            "2016-07-31  104.19  104.5500  103.68  ...  101.325177  101.843140   27733688.0\n",
            "2016-08-31  105.66  106.5699  105.64  ...  103.796505  104.248477   29662406.0\n",
            "2016-09-30  112.46  113.3700  111.80  ...  109.849008  111.077195   36379106.0\n",
            "2016-10-31  113.65  114.2300  113.20  ...  111.224577  111.558644   26419398.0\n",
            "2016-11-30  111.56  112.2000  110.27  ...  108.908004  109.154917   36162258.0\n",
            "2016-12-31  116.65  117.2000  115.43  ...  114.004271  114.389454   30586265.0\n",
            "\n",
            "[12 rows x 12 columns]\n"
          ],
          "name": "stdout"
        }
      ]
    },
    {
      "cell_type": "markdown",
      "metadata": {
        "id": "TH870WY8tmu8"
      },
      "source": [
        "Podemos seleccionar ciertas columnas de un DataFrame usando sus nombres:"
      ]
    },
    {
      "cell_type": "code",
      "metadata": {
        "colab": {
          "base_uri": "https://localhost:8080/"
        },
        "id": "GlAIOv7GtpaL",
        "outputId": "636c5afb-1133-4600-a743-98313ea3b429"
      },
      "source": [
        "aapl_bar = aapl_month[['Open', 'High', 'Low', 'Close']]\n",
        "print (aapl_bar)"
      ],
      "execution_count": 20,
      "outputs": [
        {
          "output_type": "stream",
          "text": [
            "              Open      High     Low   Close\n",
            "Date                                        \n",
            "2016-01-31   94.79   97.3400   94.35   97.34\n",
            "2016-02-29   96.86   98.2300   96.65   96.69\n",
            "2016-03-31  109.72  109.9000  108.88  108.99\n",
            "2016-04-30   93.99   94.7200   92.51   93.74\n",
            "2016-05-31   99.60  100.4000   98.82   99.86\n",
            "2016-06-30   94.44   95.7700   94.30   95.60\n",
            "2016-07-31  104.19  104.5500  103.68  104.21\n",
            "2016-08-31  105.66  106.5699  105.64  106.10\n",
            "2016-09-30  112.46  113.3700  111.80  113.05\n",
            "2016-10-31  113.65  114.2300  113.20  113.54\n",
            "2016-11-30  111.56  112.2000  110.27  110.52\n",
            "2016-12-31  116.65  117.2000  115.43  115.82\n"
          ],
          "name": "stdout"
        }
      ]
    },
    {
      "cell_type": "markdown",
      "metadata": {
        "id": "mQEy_PI2GZ0F"
      },
      "source": [
        "Incluso podemos especificar tanto filas como columnas usando loc []. Los índices de fila y los nombres de columna están separados por una coma:"
      ]
    },
    {
      "cell_type": "code",
      "metadata": {
        "colab": {
          "base_uri": "https://localhost:8080/"
        },
        "id": "QFC9iBXzGdoW",
        "outputId": "3dddde47-6380-4c55-c649-85c4812f7490"
      },
      "source": [
        "print (aapl_month.loc['2016-03':'2016-06', ['Open', 'High', 'Low', 'Close']])"
      ],
      "execution_count": 21,
      "outputs": [
        {
          "output_type": "stream",
          "text": [
            "              Open    High     Low   Close\n",
            "Date                                      \n",
            "2016-03-31  109.72  109.90  108.88  108.99\n",
            "2016-04-30   93.99   94.72   92.51   93.74\n",
            "2016-05-31   99.60  100.40   98.82   99.86\n",
            "2016-06-30   94.44   95.77   94.30   95.60\n"
          ],
          "name": "stdout"
        }
      ]
    },
    {
      "cell_type": "markdown",
      "metadata": {
        "id": "LfF50YQ6HEl7"
      },
      "source": [
        "Los métodos de subconjunto en DataFrame son bastante útiles. Al escribir declaraciones lógicas entre corchetes, podemos crear subconjuntos personalizados:"
      ]
    },
    {
      "cell_type": "code",
      "metadata": {
        "colab": {
          "base_uri": "https://localhost:8080/"
        },
        "id": "eT_FiifAHHYz",
        "outputId": "e22acfad-fe30-49a3-9392-767795549b81"
      },
      "source": [
        "above = aapl_bar[aapl_bar.Close > np.mean(aapl_bar.Close)]\n",
        "print (above)"
      ],
      "execution_count": 22,
      "outputs": [
        {
          "output_type": "stream",
          "text": [
            "              Open      High     Low   Close\n",
            "Date                                        \n",
            "2016-03-31  109.72  109.9000  108.88  108.99\n",
            "2016-08-31  105.66  106.5699  105.64  106.10\n",
            "2016-09-30  112.46  113.3700  111.80  113.05\n",
            "2016-10-31  113.65  114.2300  113.20  113.54\n",
            "2016-11-30  111.56  112.2000  110.27  110.52\n",
            "2016-12-31  116.65  117.2000  115.43  115.82\n"
          ],
          "name": "stdout"
        }
      ]
    },
    {
      "cell_type": "markdown",
      "metadata": {
        "id": "cN_qo3qNHyxE"
      },
      "source": [
        "###Validación de datos\n",
        "\n",
        "Como se mencionó, todos los métodos que se aplican a una serie también se pueden aplicar a un DataFrame. Aquí agregamos una nueva columna a un DataFrame existente:"
      ]
    },
    {
      "cell_type": "code",
      "metadata": {
        "colab": {
          "base_uri": "https://localhost:8080/"
        },
        "id": "wDgBk5vIH_1E",
        "outputId": "cd7077d4-7cf5-42f5-fa8c-b0250035a51d"
      },
      "source": [
        "aapl_bar['rate_return'] = aapl_bar.Close.pct_change()\n",
        "print (aapl_bar)"
      ],
      "execution_count": 23,
      "outputs": [
        {
          "output_type": "stream",
          "text": [
            "              Open      High     Low   Close  rate_return\n",
            "Date                                                     \n",
            "2016-01-31   94.79   97.3400   94.35   97.34          NaN\n",
            "2016-02-29   96.86   98.2300   96.65   96.69    -0.006678\n",
            "2016-03-31  109.72  109.9000  108.88  108.99     0.127211\n",
            "2016-04-30   93.99   94.7200   92.51   93.74    -0.139921\n",
            "2016-05-31   99.60  100.4000   98.82   99.86     0.065287\n",
            "2016-06-30   94.44   95.7700   94.30   95.60    -0.042660\n",
            "2016-07-31  104.19  104.5500  103.68  104.21     0.090063\n",
            "2016-08-31  105.66  106.5699  105.64  106.10     0.018136\n",
            "2016-09-30  112.46  113.3700  111.80  113.05     0.065504\n",
            "2016-10-31  113.65  114.2300  113.20  113.54     0.004334\n",
            "2016-11-30  111.56  112.2000  110.27  110.52    -0.026599\n",
            "2016-12-31  116.65  117.2000  115.43  115.82     0.047955\n"
          ],
          "name": "stdout"
        },
        {
          "output_type": "stream",
          "text": [
            "/usr/local/lib/python3.7/dist-packages/ipykernel_launcher.py:1: SettingWithCopyWarning: \n",
            "A value is trying to be set on a copy of a slice from a DataFrame.\n",
            "Try using .loc[row_indexer,col_indexer] = value instead\n",
            "\n",
            "See the caveats in the documentation: https://pandas.pydata.org/pandas-docs/stable/user_guide/indexing.html#returning-a-view-versus-a-copy\n",
            "  \"\"\"Entry point for launching an IPython kernel.\n"
          ],
          "name": "stderr"
        }
      ]
    },
    {
      "cell_type": "markdown",
      "metadata": {
        "id": "p8fMBxl9IU63"
      },
      "source": [
        "Aquí el cálculo introdujo un valor de NaN. Si el DataFrame es grande, no podríamos observarlo. isnull () proporciona una forma conveniente de verificar valores anormales."
      ]
    },
    {
      "cell_type": "code",
      "metadata": {
        "colab": {
          "base_uri": "https://localhost:8080/"
        },
        "id": "e_ykvgIIIj6m",
        "outputId": "096115ab-901f-48be-8b0b-6bea63576647"
      },
      "source": [
        "missing = aapl_bar.isnull()\n",
        "print (missing)\n",
        "print ('---------------------------------------------')\n",
        "print (missing.describe())"
      ],
      "execution_count": 24,
      "outputs": [
        {
          "output_type": "stream",
          "text": [
            "             Open   High    Low  Close  rate_return\n",
            "Date                                               \n",
            "2016-01-31  False  False  False  False         True\n",
            "2016-02-29  False  False  False  False        False\n",
            "2016-03-31  False  False  False  False        False\n",
            "2016-04-30  False  False  False  False        False\n",
            "2016-05-31  False  False  False  False        False\n",
            "2016-06-30  False  False  False  False        False\n",
            "2016-07-31  False  False  False  False        False\n",
            "2016-08-31  False  False  False  False        False\n",
            "2016-09-30  False  False  False  False        False\n",
            "2016-10-31  False  False  False  False        False\n",
            "2016-11-30  False  False  False  False        False\n",
            "2016-12-31  False  False  False  False        False\n",
            "---------------------------------------------\n",
            "         Open   High    Low  Close rate_return\n",
            "count      12     12     12     12          12\n",
            "unique      1      1      1      1           2\n",
            "top     False  False  False  False       False\n",
            "freq       12     12     12     12          11\n"
          ],
          "name": "stdout"
        }
      ]
    },
    {
      "cell_type": "markdown",
      "metadata": {
        "id": "bpNfYRwJJXZW"
      },
      "source": [
        "La fila etiquetada como \"único\" indica el número de valores únicos en cada columna. Dado que la columna \"rate_return\" tiene 2 valores únicos, tiene al menos un valor faltante.\n",
        "\n",
        "Podemos deducir el número de valores perdidos comparando \"count\" con \"freq\". Hay 12 recuentos y 11 valores falsos, por lo que hay un valor verdadero que corresponde al valor perdido.\n",
        "\n",
        "También podemos encontrar fácilmente las filas con valores perdidos:"
      ]
    },
    {
      "cell_type": "code",
      "metadata": {
        "colab": {
          "base_uri": "https://localhost:8080/"
        },
        "id": "Vr2WPZXGJaAe",
        "outputId": "75d5bda6-5f8c-4d93-a369-84b27df73999"
      },
      "source": [
        "print (missing[missing.rate_return == True])"
      ],
      "execution_count": 25,
      "outputs": [
        {
          "output_type": "stream",
          "text": [
            "             Open   High    Low  Close  rate_return\n",
            "Date                                               \n",
            "2016-01-31  False  False  False  False         True\n"
          ],
          "name": "stdout"
        }
      ]
    },
    {
      "cell_type": "markdown",
      "metadata": {
        "id": "GpZwsO_jKKH_"
      },
      "source": [
        "Por lo general, cuando se trata de datos faltantes, eliminamos toda la fila o la llenamos con algún valor. Como presentamos en el capítulo Series, el mismo método dropna () y fillna () se puede aplicar a un DataFrame."
      ]
    },
    {
      "cell_type": "code",
      "metadata": {
        "colab": {
          "base_uri": "https://localhost:8080/"
        },
        "id": "h54l-KB1KM8t",
        "outputId": "b8d30b54-6eb8-4430-baa4-b0cb8030814f"
      },
      "source": [
        "drop = aapl_bar.dropna()\n",
        "print (drop)\n",
        "print ('\\n--------------------------------------------------\\n')\n",
        "fill = aapl_bar.fillna(0)\n",
        "print (fill)"
      ],
      "execution_count": 26,
      "outputs": [
        {
          "output_type": "stream",
          "text": [
            "              Open      High     Low   Close  rate_return\n",
            "Date                                                     \n",
            "2016-02-29   96.86   98.2300   96.65   96.69    -0.006678\n",
            "2016-03-31  109.72  109.9000  108.88  108.99     0.127211\n",
            "2016-04-30   93.99   94.7200   92.51   93.74    -0.139921\n",
            "2016-05-31   99.60  100.4000   98.82   99.86     0.065287\n",
            "2016-06-30   94.44   95.7700   94.30   95.60    -0.042660\n",
            "2016-07-31  104.19  104.5500  103.68  104.21     0.090063\n",
            "2016-08-31  105.66  106.5699  105.64  106.10     0.018136\n",
            "2016-09-30  112.46  113.3700  111.80  113.05     0.065504\n",
            "2016-10-31  113.65  114.2300  113.20  113.54     0.004334\n",
            "2016-11-30  111.56  112.2000  110.27  110.52    -0.026599\n",
            "2016-12-31  116.65  117.2000  115.43  115.82     0.047955\n",
            "\n",
            "--------------------------------------------------\n",
            "\n",
            "              Open      High     Low   Close  rate_return\n",
            "Date                                                     \n",
            "2016-01-31   94.79   97.3400   94.35   97.34     0.000000\n",
            "2016-02-29   96.86   98.2300   96.65   96.69    -0.006678\n",
            "2016-03-31  109.72  109.9000  108.88  108.99     0.127211\n",
            "2016-04-30   93.99   94.7200   92.51   93.74    -0.139921\n",
            "2016-05-31   99.60  100.4000   98.82   99.86     0.065287\n",
            "2016-06-30   94.44   95.7700   94.30   95.60    -0.042660\n",
            "2016-07-31  104.19  104.5500  103.68  104.21     0.090063\n",
            "2016-08-31  105.66  106.5699  105.64  106.10     0.018136\n",
            "2016-09-30  112.46  113.3700  111.80  113.05     0.065504\n",
            "2016-10-31  113.65  114.2300  113.20  113.54     0.004334\n",
            "2016-11-30  111.56  112.2000  110.27  110.52    -0.026599\n",
            "2016-12-31  116.65  117.2000  115.43  115.82     0.047955\n"
          ],
          "name": "stdout"
        }
      ]
    },
    {
      "cell_type": "markdown",
      "metadata": {
        "id": "DABtouhEgBTQ"
      },
      "source": [
        "### DataFrame Concat\n",
        "\n",
        "Hemos visto cómo extraer una serie de un marco de datos. Ahora debemos considerar cómo fusionar una serie o un DataFrame en otro.\n",
        "\n",
        "En Pandas, la función concat() nos permite fusionar varias Series en un DataFrame:"
      ]
    },
    {
      "cell_type": "code",
      "metadata": {
        "colab": {
          "base_uri": "https://localhost:8080/"
        },
        "id": "JUATHamNgVzu",
        "outputId": "1d30399d-ddac-4a41-8ac8-a8ee9523fa1f"
      },
      "source": [
        "s1 = pd.Series([143.5, 144.09, 142.73, 144.18, 143.77], name = 'AAPL')\n",
        "s2 = pd.Series([898.7, 911.71, 906.69, 918.59, 926.99], name = 'GOOG')\n",
        "data_frame = pd.concat([s1, s2], axis = 1)\n",
        "print (data_frame)"
      ],
      "execution_count": 27,
      "outputs": [
        {
          "output_type": "stream",
          "text": [
            "     AAPL    GOOG\n",
            "0  143.50  898.70\n",
            "1  144.09  911.71\n",
            "2  142.73  906.69\n",
            "3  144.18  918.59\n",
            "4  143.77  926.99\n"
          ],
          "name": "stdout"
        }
      ]
    },
    {
      "cell_type": "markdown",
      "metadata": {
        "id": "unY4xnWDhOYY"
      },
      "source": [
        "El parámetro \"axis = 1\" unirá dos DataFrames por columnas:"
      ]
    },
    {
      "cell_type": "code",
      "metadata": {
        "colab": {
          "base_uri": "https://localhost:8080/"
        },
        "id": "RKz-7vLBhMzp",
        "outputId": "fb2af0a6-f05d-4445-c927-b7990efcead7"
      },
      "source": [
        "log_price = np.log(aapl_bar.Close)\n",
        "log_price.name = 'log_price'\n",
        "print (log_price)\n",
        "print ('\\n--------------------------------------------\\n')\n",
        "concat = pd.concat([aapl_bar, log_price], axis = 1)\n",
        "print (concat)"
      ],
      "execution_count": 28,
      "outputs": [
        {
          "output_type": "stream",
          "text": [
            "Date\n",
            "2016-01-31    4.578210\n",
            "2016-02-29    4.571510\n",
            "2016-03-31    4.691256\n",
            "2016-04-30    4.540525\n",
            "2016-05-31    4.603769\n",
            "2016-06-30    4.560173\n",
            "2016-07-31    4.646408\n",
            "2016-08-31    4.664382\n",
            "2016-09-30    4.727830\n",
            "2016-10-31    4.732155\n",
            "2016-11-30    4.705197\n",
            "2016-12-31    4.752037\n",
            "Freq: M, Name: log_price, dtype: float64\n",
            "\n",
            "--------------------------------------------\n",
            "\n",
            "              Open      High     Low   Close  rate_return  log_price\n",
            "Date                                                                \n",
            "2016-01-31   94.79   97.3400   94.35   97.34          NaN   4.578210\n",
            "2016-02-29   96.86   98.2300   96.65   96.69    -0.006678   4.571510\n",
            "2016-03-31  109.72  109.9000  108.88  108.99     0.127211   4.691256\n",
            "2016-04-30   93.99   94.7200   92.51   93.74    -0.139921   4.540525\n",
            "2016-05-31   99.60  100.4000   98.82   99.86     0.065287   4.603769\n",
            "2016-06-30   94.44   95.7700   94.30   95.60    -0.042660   4.560173\n",
            "2016-07-31  104.19  104.5500  103.68  104.21     0.090063   4.646408\n",
            "2016-08-31  105.66  106.5699  105.64  106.10     0.018136   4.664382\n",
            "2016-09-30  112.46  113.3700  111.80  113.05     0.065504   4.727830\n",
            "2016-10-31  113.65  114.2300  113.20  113.54     0.004334   4.732155\n",
            "2016-11-30  111.56  112.2000  110.27  110.52    -0.026599   4.705197\n",
            "2016-12-31  116.65  117.2000  115.43  115.82     0.047955   4.752037\n"
          ],
          "name": "stdout"
        }
      ]
    },
    {
      "cell_type": "markdown",
      "metadata": {
        "id": "r0XNBMV8hrYK"
      },
      "source": [
        "También podemos unir dos DataFrames por filas. Considere estos dos DataFrames:"
      ]
    },
    {
      "cell_type": "code",
      "metadata": {
        "colab": {
          "base_uri": "https://localhost:8080/"
        },
        "id": "2-PVOZ97hspZ",
        "outputId": "1efaa232-8e17-4d53-e221-3fa4aa717de0"
      },
      "source": [
        "df_volume = aapl_table.loc['2016-10':'2017-04', ['Volume', 'Split Ratio']].resample('M').agg(lambda x: x[-1])\n",
        "print (df_volume)\n",
        "print ('\\n-------------------------------------------\\n')\n",
        "df_2017 = aapl_table.loc['2016-10':'2017-04', ['Open', 'High', 'Low', 'Close']].resample('M').agg(lambda x: x[-1])\n",
        "print (df_2017)"
      ],
      "execution_count": 29,
      "outputs": [
        {
          "output_type": "stream",
          "text": [
            "                Volume  Split Ratio\n",
            "Date                               \n",
            "2016-10-31  26419398.0          1.0\n",
            "2016-11-30  36162258.0          1.0\n",
            "2016-12-31  30586265.0          1.0\n",
            "2017-01-31  49200993.0          1.0\n",
            "2017-02-28  23482860.0          1.0\n",
            "2017-03-31  19661651.0          1.0\n",
            "2017-04-30  20247187.0          1.0\n",
            "\n",
            "-------------------------------------------\n",
            "\n",
            "              Open     High     Low   Close\n",
            "Date                                       \n",
            "2016-10-31  113.65  114.230  113.20  113.54\n",
            "2016-11-30  111.56  112.200  110.27  110.52\n",
            "2016-12-31  116.65  117.200  115.43  115.82\n",
            "2017-01-31  121.15  121.390  120.62  121.35\n",
            "2017-02-28  137.08  137.435  136.70  136.99\n",
            "2017-03-31  143.72  144.270  143.01  143.66\n",
            "2017-04-30  144.09  144.300  143.27  143.65\n"
          ],
          "name": "stdout"
        }
      ]
    },
    {
      "cell_type": "markdown",
      "metadata": {
        "id": "hylw-x6Mij1B"
      },
      "source": [
        "Ahora fusionamos los DataFrames con nuestro DataFrame 'aapl_bar'"
      ]
    },
    {
      "cell_type": "code",
      "metadata": {
        "colab": {
          "base_uri": "https://localhost:8080/"
        },
        "id": "UDQyDT3fikdh",
        "outputId": "7be3f146-7775-4454-bdda-559c5d4b50d1"
      },
      "source": [
        "concat = pd.concat([aapl_bar, df_volume], axis = 1)\n",
        "print (concat)"
      ],
      "execution_count": 30,
      "outputs": [
        {
          "output_type": "stream",
          "text": [
            "              Open      High     Low  ...  rate_return      Volume  Split Ratio\n",
            "Date                                  ...                                      \n",
            "2016-01-31   94.79   97.3400   94.35  ...          NaN         NaN          NaN\n",
            "2016-02-29   96.86   98.2300   96.65  ...    -0.006678         NaN          NaN\n",
            "2016-03-31  109.72  109.9000  108.88  ...     0.127211         NaN          NaN\n",
            "2016-04-30   93.99   94.7200   92.51  ...    -0.139921         NaN          NaN\n",
            "2016-05-31   99.60  100.4000   98.82  ...     0.065287         NaN          NaN\n",
            "2016-06-30   94.44   95.7700   94.30  ...    -0.042660         NaN          NaN\n",
            "2016-07-31  104.19  104.5500  103.68  ...     0.090063         NaN          NaN\n",
            "2016-08-31  105.66  106.5699  105.64  ...     0.018136         NaN          NaN\n",
            "2016-09-30  112.46  113.3700  111.80  ...     0.065504         NaN          NaN\n",
            "2016-10-31  113.65  114.2300  113.20  ...     0.004334  26419398.0          1.0\n",
            "2016-11-30  111.56  112.2000  110.27  ...    -0.026599  36162258.0          1.0\n",
            "2016-12-31  116.65  117.2000  115.43  ...     0.047955  30586265.0          1.0\n",
            "2017-01-31     NaN       NaN     NaN  ...          NaN  49200993.0          1.0\n",
            "2017-02-28     NaN       NaN     NaN  ...          NaN  23482860.0          1.0\n",
            "2017-03-31     NaN       NaN     NaN  ...          NaN  19661651.0          1.0\n",
            "2017-04-30     NaN       NaN     NaN  ...          NaN  20247187.0          1.0\n",
            "\n",
            "[16 rows x 7 columns]\n"
          ],
          "name": "stdout"
        }
      ]
    },
    {
      "cell_type": "markdown",
      "metadata": {
        "id": "UyFROjTPivsN"
      },
      "source": [
        "De forma predeterminada, los DataFrame se unen con todos los datos. Esta opción predeterminada da como resultado una pérdida de información cero. También podemos fusionarlos por intersección, esto se llama 'unión interna':"
      ]
    },
    {
      "cell_type": "code",
      "metadata": {
        "colab": {
          "base_uri": "https://localhost:8080/"
        },
        "id": "_OJz2xvBi_-H",
        "outputId": "3bd0c5d6-72df-4583-e2df-70dcc72c038e"
      },
      "source": [
        "concat = pd.concat([aapl_bar, df_volume], axis = 1, join = 'inner')\n",
        "print (concat)"
      ],
      "execution_count": 31,
      "outputs": [
        {
          "output_type": "stream",
          "text": [
            "              Open    High     Low  ...  rate_return      Volume  Split Ratio\n",
            "Date                                ...                                      \n",
            "2016-10-31  113.65  114.23  113.20  ...     0.004334  26419398.0          1.0\n",
            "2016-11-30  111.56  112.20  110.27  ...    -0.026599  36162258.0          1.0\n",
            "2016-12-31  116.65  117.20  115.43  ...     0.047955  30586265.0          1.0\n",
            "\n",
            "[3 rows x 7 columns]\n"
          ],
          "name": "stdout"
        }
      ]
    },
    {
      "cell_type": "markdown",
      "metadata": {
        "id": "dd6qFEnojHKA"
      },
      "source": [
        "Solo se dejó la parte de la intersección si se usa el método de 'unión interna'. Ahora intentemos agregar un DataFrame a otro:"
      ]
    },
    {
      "cell_type": "code",
      "metadata": {
        "colab": {
          "base_uri": "https://localhost:8080/"
        },
        "id": "1q0lRJ35jMOA",
        "outputId": "396eeac2-69e2-423c-b71a-a9ef9067cd8d"
      },
      "source": [
        "append = aapl_bar.append(df_2017)\n",
        "print (append)"
      ],
      "execution_count": 32,
      "outputs": [
        {
          "output_type": "stream",
          "text": [
            "              Open      High     Low   Close  rate_return\n",
            "Date                                                     \n",
            "2016-01-31   94.79   97.3400   94.35   97.34          NaN\n",
            "2016-02-29   96.86   98.2300   96.65   96.69    -0.006678\n",
            "2016-03-31  109.72  109.9000  108.88  108.99     0.127211\n",
            "2016-04-30   93.99   94.7200   92.51   93.74    -0.139921\n",
            "2016-05-31   99.60  100.4000   98.82   99.86     0.065287\n",
            "2016-06-30   94.44   95.7700   94.30   95.60    -0.042660\n",
            "2016-07-31  104.19  104.5500  103.68  104.21     0.090063\n",
            "2016-08-31  105.66  106.5699  105.64  106.10     0.018136\n",
            "2016-09-30  112.46  113.3700  111.80  113.05     0.065504\n",
            "2016-10-31  113.65  114.2300  113.20  113.54     0.004334\n",
            "2016-11-30  111.56  112.2000  110.27  110.52    -0.026599\n",
            "2016-12-31  116.65  117.2000  115.43  115.82     0.047955\n",
            "2016-10-31  113.65  114.2300  113.20  113.54          NaN\n",
            "2016-11-30  111.56  112.2000  110.27  110.52          NaN\n",
            "2016-12-31  116.65  117.2000  115.43  115.82          NaN\n",
            "2017-01-31  121.15  121.3900  120.62  121.35          NaN\n",
            "2017-02-28  137.08  137.4350  136.70  136.99          NaN\n",
            "2017-03-31  143.72  144.2700  143.01  143.66          NaN\n",
            "2017-04-30  144.09  144.3000  143.27  143.65          NaN\n"
          ],
          "name": "stdout"
        }
      ]
    },
    {
      "cell_type": "markdown",
      "metadata": {
        "id": "B2YR8Yr3jVTV"
      },
      "source": [
        "'Append' es esencialmente para concatizar dos DataFrames por eje = 0, por lo tanto, aquí hay una forma alternativa de agregar:"
      ]
    },
    {
      "cell_type": "code",
      "metadata": {
        "colab": {
          "base_uri": "https://localhost:8080/"
        },
        "id": "mbW4L5tcjctj",
        "outputId": "79c9cf9a-d766-455b-af66-f179ca394b5e"
      },
      "source": [
        "concat = pd.concat([aapl_bar, df_2017], axis = 0)\n",
        "print (concat)"
      ],
      "execution_count": 33,
      "outputs": [
        {
          "output_type": "stream",
          "text": [
            "              Open      High     Low   Close  rate_return\n",
            "Date                                                     \n",
            "2016-01-31   94.79   97.3400   94.35   97.34          NaN\n",
            "2016-02-29   96.86   98.2300   96.65   96.69    -0.006678\n",
            "2016-03-31  109.72  109.9000  108.88  108.99     0.127211\n",
            "2016-04-30   93.99   94.7200   92.51   93.74    -0.139921\n",
            "2016-05-31   99.60  100.4000   98.82   99.86     0.065287\n",
            "2016-06-30   94.44   95.7700   94.30   95.60    -0.042660\n",
            "2016-07-31  104.19  104.5500  103.68  104.21     0.090063\n",
            "2016-08-31  105.66  106.5699  105.64  106.10     0.018136\n",
            "2016-09-30  112.46  113.3700  111.80  113.05     0.065504\n",
            "2016-10-31  113.65  114.2300  113.20  113.54     0.004334\n",
            "2016-11-30  111.56  112.2000  110.27  110.52    -0.026599\n",
            "2016-12-31  116.65  117.2000  115.43  115.82     0.047955\n",
            "2016-10-31  113.65  114.2300  113.20  113.54          NaN\n",
            "2016-11-30  111.56  112.2000  110.27  110.52          NaN\n",
            "2016-12-31  116.65  117.2000  115.43  115.82          NaN\n",
            "2017-01-31  121.15  121.3900  120.62  121.35          NaN\n",
            "2017-02-28  137.08  137.4350  136.70  136.99          NaN\n",
            "2017-03-31  143.72  144.2700  143.01  143.66          NaN\n",
            "2017-04-30  144.09  144.3000  143.27  143.65          NaN\n"
          ],
          "name": "stdout"
        }
      ]
    },
    {
      "cell_type": "markdown",
      "metadata": {
        "id": "fkajHfrrjhqR"
      },
      "source": [
        "Tenga en cuenta que si los dos DataFrame tienen algunas columnas con los mismos nombres de columna, estas columnas se consideran iguales y se fusionarán. Es muy importante tener los nombres de columna correctos. Si cambiamos el nombre de una columna aquí:"
      ]
    },
    {
      "cell_type": "code",
      "metadata": {
        "colab": {
          "base_uri": "https://localhost:8080/"
        },
        "id": "1DNuE_m9jpDi",
        "outputId": "6f3da6fb-4d6f-4e89-aca7-0e13dd038a41"
      },
      "source": [
        "df_2017.columns = ['Change', 'High', 'Low', 'Close']\n",
        "concat = pd.concat([aapl_bar, df_2017], axis = 0)\n",
        "print (concat)"
      ],
      "execution_count": 34,
      "outputs": [
        {
          "output_type": "stream",
          "text": [
            "              Open      High     Low   Close  rate_return  Change\n",
            "Date                                                             \n",
            "2016-01-31   94.79   97.3400   94.35   97.34          NaN     NaN\n",
            "2016-02-29   96.86   98.2300   96.65   96.69    -0.006678     NaN\n",
            "2016-03-31  109.72  109.9000  108.88  108.99     0.127211     NaN\n",
            "2016-04-30   93.99   94.7200   92.51   93.74    -0.139921     NaN\n",
            "2016-05-31   99.60  100.4000   98.82   99.86     0.065287     NaN\n",
            "2016-06-30   94.44   95.7700   94.30   95.60    -0.042660     NaN\n",
            "2016-07-31  104.19  104.5500  103.68  104.21     0.090063     NaN\n",
            "2016-08-31  105.66  106.5699  105.64  106.10     0.018136     NaN\n",
            "2016-09-30  112.46  113.3700  111.80  113.05     0.065504     NaN\n",
            "2016-10-31  113.65  114.2300  113.20  113.54     0.004334     NaN\n",
            "2016-11-30  111.56  112.2000  110.27  110.52    -0.026599     NaN\n",
            "2016-12-31  116.65  117.2000  115.43  115.82     0.047955     NaN\n",
            "2016-10-31     NaN  114.2300  113.20  113.54          NaN  113.65\n",
            "2016-11-30     NaN  112.2000  110.27  110.52          NaN  111.56\n",
            "2016-12-31     NaN  117.2000  115.43  115.82          NaN  116.65\n",
            "2017-01-31     NaN  121.3900  120.62  121.35          NaN  121.15\n",
            "2017-02-28     NaN  137.4350  136.70  136.99          NaN  137.08\n",
            "2017-03-31     NaN  144.2700  143.01  143.66          NaN  143.72\n",
            "2017-04-30     NaN  144.3000  143.27  143.65          NaN  144.09\n"
          ],
          "name": "stdout"
        }
      ]
    },
    {
      "cell_type": "markdown",
      "metadata": {
        "id": "hAFwsEnEj5ak"
      },
      "source": [
        "Dado que se ha cambiado el nombre de la columna 'Open', el nuevo DataFrame tiene una nueva columna llamada 'Cambiar'."
      ]
    },
    {
      "cell_type": "markdown",
      "metadata": {
        "id": "-rs5Dc1WkCeY"
      },
      "source": [
        "#Resumen\n",
        "Presentamos la parte más importante de Python: remuestreo y manipulación de DataFrame. Solo presentamos el método más utilizado en el análisis de datos financieros. Sin embargo, también hay muchos métodos utilizados en la minería de datos, que también son beneficiosos."
      ]
    }
  ]
}
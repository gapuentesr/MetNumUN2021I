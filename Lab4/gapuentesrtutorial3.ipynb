{
  "nbformat": 4,
  "nbformat_minor": 0,
  "metadata": {
    "colab": {
      "name": "gapuentesrtutorial3.ipynb",
      "provenance": [],
      "collapsed_sections": [
        "3S9YWb3XkP5f",
        "amGdWc5kmeLh",
        "jfSr2snTsIEy",
        "1_-MTRR_sWbz"
      ]
    },
    "kernelspec": {
      "name": "python3",
      "display_name": "Python 3"
    },
    "language_info": {
      "name": "python"
    }
  },
  "cells": [
    {
      "cell_type": "markdown",
      "metadata": {
        "id": "cLUYfTYAHVrE"
      },
      "source": [
        "![qc_notebook_logo_rev0.png](data:image/png;base64,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)\n",
        "##Introduction to Financial Python [Tutorial 3]"
      ]
    },
    {
      "cell_type": "markdown",
      "metadata": {
        "id": "XjgG7hvUjlVm"
      },
      "source": [
        "##Métodos Numéricos\n",
        "###Gustavo Alberto Puentes Romero"
      ]
    },
    {
      "cell_type": "markdown",
      "metadata": {
        "id": "Ef5K6ieAhTdO"
      },
      "source": [
        "#Functions and Objective-Oriented Programming"
      ]
    },
    {
      "cell_type": "markdown",
      "metadata": {
        "id": "xiEg0oy7hYbd"
      },
      "source": [
        "##Introducción\n",
        "En este capítulo presentaremos funciones y programación orientada a objetos, lo que nos permitirá construir algoritmos complejos de formas más flexibles."
      ]
    },
    {
      "cell_type": "markdown",
      "metadata": {
        "id": "3S9YWb3XkP5f"
      },
      "source": [
        "##Funciones\n",
        "Una función es un bloque de código reutilizable. Podemos usar una función para generar un valor o hacer cualquier otra cosa que queramos. Podemos definir fácilmente nuestra propia función usando la palabra clave \"def\"."
      ]
    },
    {
      "cell_type": "code",
      "metadata": {
        "colab": {
          "base_uri": "https://localhost:8080/"
        },
        "id": "qfkk8ZmuljzH",
        "outputId": "c22f88ec-1657-465d-d3b8-d676083ac8ae"
      },
      "source": [
        "def product(x,y):\n",
        "    return x*y\n",
        "print (product(2, 3))\n",
        "print (product(5, 10))"
      ],
      "execution_count": 1,
      "outputs": [
        {
          "output_type": "stream",
          "text": [
            "6\n",
            "50\n"
          ],
          "name": "stdout"
        }
      ]
    },
    {
      "cell_type": "markdown",
      "metadata": {
        "id": "zB3I_TXQlpyx"
      },
      "source": [
        "La palabra clave \"def\" va seguida del nombre de la función y la lista entre paréntesis de parámetros formales. Las declaraciones que forman el cuerpo de la función comienzan en la siguiente línea y se les debe aplicar una sangría. La función product () anterior tiene \"x\" e \"y\" como parámetros. Una función no tiene necesariamente parámetros:"
      ]
    },
    {
      "cell_type": "code",
      "metadata": {
        "colab": {
          "base_uri": "https://localhost:8080/"
        },
        "id": "eVflI5GimTNm",
        "outputId": "1d9e57a9-2252-49e6-fdd8-4daea0bbad23"
      },
      "source": [
        "def say_hi():\n",
        "    print (\"Welcome to QuantConnect\")\n",
        "say_hi()"
      ],
      "execution_count": 2,
      "outputs": [
        {
          "output_type": "stream",
          "text": [
            "Welcome to QuantConnect\n"
          ],
          "name": "stdout"
        }
      ]
    },
    {
      "cell_type": "markdown",
      "metadata": {
        "id": "amGdWc5kmeLh"
      },
      "source": [
        "##Funciones incorporadas\n",
        "**range ()** es una función que crea una lista, la cual contiene una secuencia aritmética. A menudo se usa en bucles for. Los argumentos deben ser números enteros. Si se omite el argumento \"step\", el valor predeterminado es 1."
      ]
    },
    {
      "cell_type": "code",
      "metadata": {
        "colab": {
          "base_uri": "https://localhost:8080/"
        },
        "id": "EoKkvyq-muxQ",
        "outputId": "10d12fd1-4f0f-41e6-86aa-b492c49ee2fc"
      },
      "source": [
        "print (list(range (10)))\n",
        "print (list(range (1, 11)))\n",
        "print (list(range (1, 11, 2)))"
      ],
      "execution_count": 3,
      "outputs": [
        {
          "output_type": "stream",
          "text": [
            "[0, 1, 2, 3, 4, 5, 6, 7, 8, 9]\n",
            "[1, 2, 3, 4, 5, 6, 7, 8, 9, 10]\n",
            "[1, 3, 5, 7, 9]\n"
          ],
          "name": "stdout"
        }
      ]
    },
    {
      "cell_type": "markdown",
      "metadata": {
        "id": "6syvBU7SnPyY"
      },
      "source": [
        "**len ()** es otra función que se usa junto con range () para crear un bucle for. Esta función devuelve la longitud de un objeto. El argumento debe ser una secuencia o una colección."
      ]
    },
    {
      "cell_type": "code",
      "metadata": {
        "colab": {
          "base_uri": "https://localhost:8080/"
        },
        "id": "oAT0F9KSn0KI",
        "outputId": "a714b352-34d0-4915-91cd-15acc73bad2d"
      },
      "source": [
        "tickers = ['AAPL', 'GOOGL', 'IBM', 'FB', 'F', 'V', 'G', 'GE']\n",
        "print (\"The number of tickers is {}\".format(len(tickers)))\n",
        "for k in range(len(tickers)):\n",
        "    print (k + 1, tickers[k])"
      ],
      "execution_count": 4,
      "outputs": [
        {
          "output_type": "stream",
          "text": [
            "The number of tickers is 8\n",
            "1 AAPL\n",
            "2 GOOGL\n",
            "3 IBM\n",
            "4 FB\n",
            "5 F\n",
            "6 V\n",
            "7 G\n",
            "8 GE\n"
          ],
          "name": "stdout"
        }
      ]
    },
    {
      "cell_type": "markdown",
      "metadata": {
        "id": "cKCnI0jZn937"
      },
      "source": [
        "*Nota: Si desea imprimir solo los tickers sin esos números, simplemente escriba: \"for ticker in tickers: print ticker\"*"
      ]
    },
    {
      "cell_type": "markdown",
      "metadata": {
        "id": "egkOx39vonLR"
      },
      "source": [
        "**map ()** es una función que aplica una función específica a cada elemento de una secuencia o colección y devuelve una lista de los resultados."
      ]
    },
    {
      "cell_type": "code",
      "metadata": {
        "colab": {
          "base_uri": "https://localhost:8080/"
        },
        "id": "7Ta99y4goyna",
        "outputId": "df5d5223-e772-4d0d-be20-fd8f4e09f163"
      },
      "source": [
        "tickers = ['AAPL','GOOG','IBM','FB','F','V', 'G', 'GE']\n",
        "print(list(map(len,tickers)))"
      ],
      "execution_count": 5,
      "outputs": [
        {
          "output_type": "stream",
          "text": [
            "[4, 4, 3, 2, 1, 1, 1, 2]\n"
          ],
          "name": "stdout"
        }
      ]
    },
    {
      "cell_type": "markdown",
      "metadata": {
        "id": "Okk229WopKGi"
      },
      "source": [
        "El **operador lambda** es una forma de crear pequeñas funciones anónimas. Estas funciones solo son necesarias donde se han creado. Por ejemplo:"
      ]
    },
    {
      "cell_type": "code",
      "metadata": {
        "colab": {
          "base_uri": "https://localhost:8080/"
        },
        "id": "9qK8p6y1pp-i",
        "outputId": "debb845e-78e8-44a0-a6b8-a05462095afb"
      },
      "source": [
        "list(map(lambda x: x**2, range(10)))"
      ],
      "execution_count": 6,
      "outputs": [
        {
          "output_type": "execute_result",
          "data": {
            "text/plain": [
              "[0, 1, 4, 9, 16, 25, 36, 49, 64, 81]"
            ]
          },
          "metadata": {
            "tags": []
          },
          "execution_count": 6
        }
      ]
    },
    {
      "cell_type": "markdown",
      "metadata": {
        "id": "qU0EDsuLqYQp"
      },
      "source": [
        "**map ()** se puede aplicar a más de una lista. Las listas deben tener la misma longitud"
      ]
    },
    {
      "cell_type": "code",
      "metadata": {
        "colab": {
          "base_uri": "https://localhost:8080/"
        },
        "id": "jaONy-GBqdoa",
        "outputId": "ee24cd7d-bab8-484e-e238-a466b35756e6"
      },
      "source": [
        "list(map(lambda x, y: x+y, [1,2,3,4,5], [5,4,3,2,1]))"
      ],
      "execution_count": 7,
      "outputs": [
        {
          "output_type": "execute_result",
          "data": {
            "text/plain": [
              "[6, 6, 6, 6, 6]"
            ]
          },
          "metadata": {
            "tags": []
          },
          "execution_count": 7
        }
      ]
    },
    {
      "cell_type": "markdown",
      "metadata": {
        "id": "zmkqtH3xqqCt"
      },
      "source": [
        "**sorted ()** toma una lista o conjunto y devuelve una nueva lista ordenada:"
      ]
    },
    {
      "cell_type": "code",
      "metadata": {
        "colab": {
          "base_uri": "https://localhost:8080/"
        },
        "id": "ECeT-Rq9qxFp",
        "outputId": "8cfe26d3-d29b-4e56-9ace-7d49e9170089"
      },
      "source": [
        "sorted([5,2,3,4,1])"
      ],
      "execution_count": 8,
      "outputs": [
        {
          "output_type": "execute_result",
          "data": {
            "text/plain": [
              "[1, 2, 3, 4, 5]"
            ]
          },
          "metadata": {
            "tags": []
          },
          "execution_count": 8
        }
      ]
    },
    {
      "cell_type": "markdown",
      "metadata": {
        "id": "4FP_OS2cq5TS"
      },
      "source": [
        "Podemos agregar un parámetro \"clave\" para especificar una función que se llamará en cada elemento de la lista antes de hacer comparaciones. Por ejemplo:"
      ]
    },
    {
      "cell_type": "code",
      "metadata": {
        "colab": {
          "base_uri": "https://localhost:8080/"
        },
        "id": "YDk7ckbxq98U",
        "outputId": "393b07d1-33d3-4e6f-87df-f0fed88221a4"
      },
      "source": [
        "price_list = [('AAPL', 144.09), ('GOOGL', 911.71), ('MSFT', 69), ('FB', 150), ('WMT', 75.32)]\n",
        "sorted(price_list, key = lambda x: x[1])"
      ],
      "execution_count": 9,
      "outputs": [
        {
          "output_type": "execute_result",
          "data": {
            "text/plain": [
              "[('MSFT', 69),\n",
              " ('WMT', 75.32),\n",
              " ('AAPL', 144.09),\n",
              " ('FB', 150),\n",
              " ('GOOGL', 911.71)]"
            ]
          },
          "metadata": {
            "tags": []
          },
          "execution_count": 9
        }
      ]
    },
    {
      "cell_type": "markdown",
      "metadata": {
        "id": "vPEO8HdirQ3U"
      },
      "source": [
        "De forma predeterminada, los valores se ordenan de forma ascendente. Podemos cambiarlo a descendente agregando un parámetro opcional \"reverse\"."
      ]
    },
    {
      "cell_type": "code",
      "metadata": {
        "colab": {
          "base_uri": "https://localhost:8080/"
        },
        "id": "qNrt-ujgrUFS",
        "outputId": "edfba31b-6dbb-4b19-b22f-e2e6abd62633"
      },
      "source": [
        "price_list = [('AAPL', 144.09), ('GOOGL', 911.71), ('MSFT', 69), ('FB', 150), ('WMT', 75.32)]\n",
        "sorted(price_list, key = lambda x: x[1], reverse = True)"
      ],
      "execution_count": 10,
      "outputs": [
        {
          "output_type": "execute_result",
          "data": {
            "text/plain": [
              "[('GOOGL', 911.71),\n",
              " ('FB', 150),\n",
              " ('AAPL', 144.09),\n",
              " ('WMT', 75.32),\n",
              " ('MSFT', 69)]"
            ]
          },
          "metadata": {
            "tags": []
          },
          "execution_count": 10
        }
      ]
    },
    {
      "cell_type": "markdown",
      "metadata": {
        "id": "WpmXYpL6r2rD"
      },
      "source": [
        "Las listas también tienen una función list.sort (). Esta función toma los mismos argumentos \"clave\" e \"inverso\" que sorted (), pero no devuelve una nueva lista."
      ]
    },
    {
      "cell_type": "code",
      "metadata": {
        "colab": {
          "base_uri": "https://localhost:8080/"
        },
        "id": "yx1TWMRkr-vC",
        "outputId": "dbb9a36e-1150-4e92-fe32-543bf9dcb748"
      },
      "source": [
        "price_list = [('AAPL', 144.09), ('GOOGL', 911.71), ('MSFT', 69), ('FB', 150), ('WMT', 75.32)]\n",
        "price_list.sort(key = lambda x: x[1])\n",
        "print (price_list)"
      ],
      "execution_count": 11,
      "outputs": [
        {
          "output_type": "stream",
          "text": [
            "[('MSFT', 69), ('WMT', 75.32), ('AAPL', 144.09), ('FB', 150), ('GOOGL', 911.71)]\n"
          ],
          "name": "stdout"
        }
      ]
    },
    {
      "cell_type": "markdown",
      "metadata": {
        "id": "jfSr2snTsIEy"
      },
      "source": [
        "##Programación orientada a objetos\n",
        "\n",
        "Python es un lenguaje de programación orientado a objetos. Es importante comprender el concepto de \"objetos\" porque casi todos los tipos de datos de la API QuantConnect son objetos."
      ]
    },
    {
      "cell_type": "markdown",
      "metadata": {
        "id": "1_-MTRR_sWbz"
      },
      "source": [
        "###**Clase**\n",
        "\n",
        "Una clase es un tipo de dato, igual que string, float, o list. Cuando creamos un objeto de ese tipo de dato, lo llamamos **instancia** de una clase.\n",
        "\n",
        "En Python, todo es un objeto, todo es una instancia de alguna clase. Los datos almacenados dentro de un objeto se denominan **atributos** y las funciones asociadas con el objeto se denominan **métodos**.\n",
        "\n",
        "Por ejemplo, como se mencionó anteriormente, una lista es un objeto de la clase \"list\" y tiene un método list.sort ().\n",
        "\n",
        "Podemos crear nuestros propios objetos definiendo una clase. Haríamos esto cuando sea útil agrupar ciertas funciones. Por ejemplo, aquí definimos una clase llamada \"Stock\":\n"
      ]
    },
    {
      "cell_type": "code",
      "metadata": {
        "id": "Y2ej8KvFtUbl"
      },
      "source": [
        "class Stock:\n",
        "    def __init__(self, ticker, open, close, volume):\n",
        "        self.ticker = ticker\n",
        "        self.open = open\n",
        "        self.close = close\n",
        "        self.volume = volume\n",
        "        self.rate_return = float(close)/open - 1\n",
        "\n",
        "    def update(self, open, close):\n",
        "        self.open = open\n",
        "        self.close = close\n",
        "        self.rate_return = float(self.close)/self.open - 1\n",
        "\n",
        "    def print_return(self):\n",
        "        print (self.rate_return)"
      ],
      "execution_count": 12,
      "outputs": []
    },
    {
      "cell_type": "markdown",
      "metadata": {
        "id": "0U-R0sZhtktz"
      },
      "source": [
        "La clase \"Stock\" tiene los atributos \"ticker\", \"open\", \"close\", \"volume\" y \"rate_return\". Dentro del cuerpo de la clase, el primer método se llama __init__, que es un método especial. Cuando creamos una nueva instancia de la clase, el método __init__ se ejecuta inmediatamente con todos los parámetros que pasamos al objeto \"Stock\". El propósito de este método es configurar un nuevo objeto \"Stock\" utilizando los datos que hemos proporcionado.\n",
        "\n",
        "Aquí creamos dos objetos Stock llamados \"apple\" y \"google\"."
      ]
    },
    {
      "cell_type": "code",
      "metadata": {
        "id": "10WUgiHjuPId"
      },
      "source": [
        "apple  = Stock('AAPL', 143.69, 144.09, 20109375)\n",
        "google = Stock('GOOGL', 898.7, 911.7, 1561616)"
      ],
      "execution_count": 13,
      "outputs": []
    },
    {
      "cell_type": "markdown",
      "metadata": {
        "id": "GU7EP9bXuTNL"
      },
      "source": [
        "Los objetos de stock también tienen otros dos métodos: update () y print_return (). Podemos acceder a los atributos de un objeto Stock y llamar a sus métodos:"
      ]
    },
    {
      "cell_type": "code",
      "metadata": {
        "colab": {
          "base_uri": "https://localhost:8080/"
        },
        "id": "avvgfg9DuX-M",
        "outputId": "db6b63bd-d32a-4088-9233-3514b08cf77d"
      },
      "source": [
        "apple.ticker\n",
        "google.print_return()\n",
        "google.update(912.8,913.4)\n",
        "google.print_return()"
      ],
      "execution_count": 14,
      "outputs": [
        {
          "output_type": "stream",
          "text": [
            "0.014465338822744034\n",
            "0.0006573181419806673\n"
          ],
          "name": "stdout"
        }
      ]
    },
    {
      "cell_type": "markdown",
      "metadata": {
        "id": "-Afp2bzAup88"
      },
      "source": [
        "Al llamar a la función update (), actualizamos los precios de apertura y cierre de una acción. Tenga en cuenta que cuando usamos los atributos o llamamos a los métodos **dentro de una clase**, debemos especificarlos como self.attribute o self.method (), de lo contrario, Python los considerará como variables globales y, por lo tanto, generará un error.\n",
        "\n",
        "Podemos agregar un atributo a un objeto en cualquier lugar:"
      ]
    },
    {
      "cell_type": "code",
      "metadata": {
        "colab": {
          "base_uri": "https://localhost:8080/",
          "height": 35
        },
        "id": "xncAA-4MuxwV",
        "outputId": "2164eb0f-51d2-48ce-f86d-c391f58f608a"
      },
      "source": [
        "apple.ceo = 'Tim Cook'\n",
        "apple.ceo"
      ],
      "execution_count": 15,
      "outputs": [
        {
          "output_type": "execute_result",
          "data": {
            "application/vnd.google.colaboratory.intrinsic+json": {
              "type": "string"
            },
            "text/plain": [
              "'Tim Cook'"
            ]
          },
          "metadata": {
            "tags": []
          },
          "execution_count": 15
        }
      ]
    },
    {
      "cell_type": "markdown",
      "metadata": {
        "id": "wXUoejA5u5AN"
      },
      "source": [
        "Podemos verificar qué nombres (es decir, atributos y métodos) están definidos en un objeto usando la función dir ():"
      ]
    },
    {
      "cell_type": "code",
      "metadata": {
        "colab": {
          "base_uri": "https://localhost:8080/"
        },
        "id": "YVbMqeNGu8Qt",
        "outputId": "12e8c0cd-58dc-4423-c8eb-1470ce94ad49"
      },
      "source": [
        "dir ( apple )"
      ],
      "execution_count": 16,
      "outputs": [
        {
          "output_type": "execute_result",
          "data": {
            "text/plain": [
              "['__class__',\n",
              " '__delattr__',\n",
              " '__dict__',\n",
              " '__dir__',\n",
              " '__doc__',\n",
              " '__eq__',\n",
              " '__format__',\n",
              " '__ge__',\n",
              " '__getattribute__',\n",
              " '__gt__',\n",
              " '__hash__',\n",
              " '__init__',\n",
              " '__init_subclass__',\n",
              " '__le__',\n",
              " '__lt__',\n",
              " '__module__',\n",
              " '__ne__',\n",
              " '__new__',\n",
              " '__reduce__',\n",
              " '__reduce_ex__',\n",
              " '__repr__',\n",
              " '__setattr__',\n",
              " '__sizeof__',\n",
              " '__str__',\n",
              " '__subclasshook__',\n",
              " '__weakref__',\n",
              " 'ceo',\n",
              " 'close',\n",
              " 'open',\n",
              " 'print_return',\n",
              " 'rate_return',\n",
              " 'ticker',\n",
              " 'update',\n",
              " 'volume']"
            ]
          },
          "metadata": {
            "tags": []
          },
          "execution_count": 16
        }
      ]
    },
    {
      "cell_type": "markdown",
      "metadata": {
        "id": "DXlrYQAvvDAm"
      },
      "source": [
        "### Herencia\n",
        "\n",
        "La herencia es una forma de organizar las clases en una jerarquía desde la más general hasta la más específica. Una clase \"secundaria\" es un tipo más específico de una clase \"principal\" porque una clase secundaria heredará todos los atributos y métodos de su clase principal. Por ejemplo, definimos una clase llamada \"Niño\" que hereda \"Stock\":"
      ]
    },
    {
      "cell_type": "code",
      "metadata": {
        "id": "wmatCY6tvTHl"
      },
      "source": [
        "class Child(Stock):\n",
        "    def __init__(self, name):\n",
        "        self.name = name"
      ],
      "execution_count": 17,
      "outputs": []
    },
    {
      "cell_type": "markdown",
      "metadata": {
        "id": "31Jr-Yd_vWz0"
      },
      "source": [
        "Luego creamos un objeto:"
      ]
    },
    {
      "cell_type": "code",
      "metadata": {
        "colab": {
          "base_uri": "https://localhost:8080/"
        },
        "id": "cMnEuv3kvhb8",
        "outputId": "b3e634fe-f41a-4872-b358-3bd808a037bd"
      },
      "source": [
        "aa = Child('AA') \n",
        "print (aa.name)\n",
        "aa.update(100, 102)\n",
        "print (aa.open)\n",
        "print (aa.close)\n",
        "print (aa.print_return())"
      ],
      "execution_count": 18,
      "outputs": [
        {
          "output_type": "stream",
          "text": [
            "AA\n",
            "100\n",
            "102\n",
            "0.020000000000000018\n",
            "None\n"
          ],
          "name": "stdout"
        }
      ]
    },
    {
      "cell_type": "markdown",
      "metadata": {
        "id": "j4NTaHAYv9Yt"
      },
      "source": [
        "Como se vio anteriormente, la nueva clase Child ha heredado los métodos de Stock."
      ]
    },
    {
      "cell_type": "markdown",
      "metadata": {
        "id": "IMquH67nwCs1"
      },
      "source": [
        "##Resumen\n",
        "\n",
        "En este capítulo hemos introducido funciones y clases. Cuando escribimos un algoritmo QuantConnect, definiríamos nuestro algoritmo como una clase (QCAlgorithm). Esto significa que nuestro algoritmo heredó los métodos API de QC de la clase QCAlgorithm.\n",
        "\n",
        "En el próximo capítulo, presentaremos NumPy y Pandas, que nos permiten realizar cálculos científicos en Python.\n"
      ]
    }
  ]
}
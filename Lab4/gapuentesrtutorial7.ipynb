{
  "nbformat": 4,
  "nbformat_minor": 0,
  "metadata": {
    "colab": {
      "name": "gapuentesrtutorial7.ipynb",
      "provenance": [],
      "collapsed_sections": []
    },
    "kernelspec": {
      "name": "python3",
      "display_name": "Python 3"
    },
    "language_info": {
      "name": "python"
    }
  },
  "cells": [
    {
      "cell_type": "markdown",
      "metadata": {
        "id": "cLUYfTYAHVrE"
      },
      "source": [
        "![qc_notebook_logo_rev0.png](data:image/png;base64,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)\n",
        "##Introduction to Financial Python [Tutorial 7]"
      ]
    },
    {
      "cell_type": "markdown",
      "metadata": {
        "id": "XjgG7hvUjlVm"
      },
      "source": [
        "##Métodos Numéricos\n",
        "###Gustavo Alberto Puentes Romero"
      ]
    },
    {
      "cell_type": "markdown",
      "metadata": {
        "id": "Ef5K6ieAhTdO"
      },
      "source": [
        "#Random Variables and Distributions"
      ]
    },
    {
      "cell_type": "markdown",
      "metadata": {
        "id": "xiEg0oy7hYbd"
      },
      "source": [
        "##Introducción\n",
        "En el último capítulo aprendimos la definición de media y varianza, que son una especie de estimación puntual . La estimación puntual significa usar datos de muestra para calcular un valor único que debe servir como una \"mejor estimación\" de una población desconocida. Sin embargo, esto no es suficiente porque las estimaciones puntuales pueden ser engañosas. Necesitamos utilizar métodos más rigurosos para probar nuestras ideas. Es por eso que consideramos la distribución y la prueba de hipótesis. La distribución de variables aleatorias es la base para casi todos los temas financieros cuantitativos: regresión lineal, CAPM, Black-Scholes, árboles binomiales, pricing, etc."
      ]
    },
    {
      "cell_type": "markdown",
      "metadata": {
        "id": "fnCKJiXunJj8"
      },
      "source": [
        "##Variables aleatorias"
      ]
    },
    {
      "cell_type": "markdown",
      "metadata": {
        "id": "KF6Tq-emDRAO"
      },
      "source": [
        "Primero comencemos con el concepto de **variable aleatoria**. Una variable aleatoria se puede considerar como un dibujo de una distribución cuyo resultado antes del sorteo es incierto. Imagina tirar un dado, sabes que tu probabilidad de obtener cada uno es 1/6, pero no sabes cuál es el número de tu próxima tirada. Si tiramos los dados N veces y registramos el número de cada lanzamiento, una colección de esos números se llama **variable aleatoria discreta** . Una variable discreta puede tomar un número finito de valores. Para nuestro ejemplo, solo podemos tomar números de { 1,2,3,4,5,6 }. El otro tipo de variable es **variable aleatoria continua**. Una variable continua puede tomar cualquier valor en un rango determinado. Puede pensar en la tasa de rendimiento como una variable continua, teóricamente puede tomar cualquier valor de $(- ∞ , + ∞)$."
      ]
    },
    {
      "cell_type": "markdown",
      "metadata": {
        "id": "uLZhnjaZD_CV"
      },
      "source": [
        "##Distribuciones"
      ]
    },
    {
      "cell_type": "markdown",
      "metadata": {
        "id": "aKnGms4PEC78"
      },
      "source": [
        "Cada variable aleatoria sigue una **distribución de probabilidad**, que es una función que puede pensarse que proporciona las probabilidades de ocurrencia de diferentes resultados posibles en un experimento. En nuestro ejemplo de los dados, la distribución de probabilidad de cada número es 1/6. Usualmente usamos $P(X)$ para representar una función de distribución de probabilidad, donde X es el valor de resultado. En nuestro ejemplo, $ P(1) = P(2) = P(3) = 1/6$. Sin embargo, no podemos usar esto para una distribución continua, porque la probabilidad de extraer un número específico de una variable continua es 0, debido a los infinitos resultados posibles que tenemos. En su lugar, usamos la **función de densidad de probabilidad** (PDF) para describir la probabilidad de que un valor esté en un rango específico. Cubrimos esto más tarde. Para cada función de distribución de probabilidad, tenemos una **función de distribución acumulativa** (CDF). Se define como $P( X≤x )$, que modela la probabilidad de que la variable aleatoria X tome un valor menor o igual que x. Para las variables aleatorias discretas, simplemente sumamos los valores menores o iguales a x y luego lo dividimos por el número de observaciones."
      ]
    },
    {
      "cell_type": "markdown",
      "metadata": {
        "id": "y2rmJUGoFP72"
      },
      "source": [
        "###Distribución uniforme"
      ]
    },
    {
      "cell_type": "markdown",
      "metadata": {
        "id": "qEdqgAE-FUEm"
      },
      "source": [
        "La distribución uniforme es el tipo más simple de distribución de probabilidad. Una distribución uniforme discreta tiene el mismo peso asignado a todos los resultados. Tanto tirar un dado como una moneda son distribuciones uniformes clásicas. Aquí usamos Python para simular lanzar un dado 10000 veces."
      ]
    },
    {
      "cell_type": "code",
      "metadata": {
        "colab": {
          "base_uri": "https://localhost:8080/"
        },
        "id": "bQDnRI-rFZQ6",
        "outputId": "09fea928-77a8-490d-ab3c-30b10c7ef0d2"
      },
      "source": [
        "import random\n",
        "import matplotlib.pyplot as plt\n",
        "import numpy as np\n",
        "import pandas as pd\n",
        "#define a function to simulate rolling a dice\n",
        "def dice():\n",
        "    number=  [1,2,3,4,5,6]\n",
        "    return random.choice(number)\n",
        "\n",
        "series = np.array([dice() for x in range(10000)])\n",
        "print (series)"
      ],
      "execution_count": 1,
      "outputs": [
        {
          "output_type": "stream",
          "text": [
            "[5 5 6 ... 4 3 2]\n"
          ],
          "name": "stdout"
        }
      ]
    },
    {
      "cell_type": "markdown",
      "metadata": {
        "id": "uHunteloFw4W"
      },
      "source": [
        "Creamos una serie de variables aleatorias aquí. Podemos trazar los valores en el eje x y poner su número de ocurrencias en el eje y para tener una vista directa de la distribución:"
      ]
    },
    {
      "cell_type": "code",
      "metadata": {
        "colab": {
          "base_uri": "https://localhost:8080/",
          "height": 606
        },
        "id": "he4TfWKeFzjY",
        "outputId": "3d7ea467-30ae-4ba3-ec2f-5ac2b816b776"
      },
      "source": [
        "plt.figure(figsize = (20,10))\n",
        "plt.hist(series,bins = 11,align = 'mid')\n",
        "plt.xlabel('Dice Number')\n",
        "plt.ylabel('Occurences')\n",
        "plt.grid()\n",
        "plt.show()"
      ],
      "execution_count": 2,
      "outputs": [
        {
          "output_type": "display_data",
          "data": {
            "image/png": "[encoded data removed]",
            "text/plain": [
              "<Figure size 1440x720 with 1 Axes>"
            ]
          },
          "metadata": {
            "tags": [],
            "needs_background": "light"
          }
        }
      ]
    },
    {
      "cell_type": "markdown",
      "metadata": {
        "id": "jFyejUKvF9fn"
      },
      "source": [
        "Digamos que queremos saber la frecuencia con la que las observaciones son menores o iguales a 3. En otras palabras, queremos buscar el valor de $P(X≤ 3)$."
      ]
    },
    {
      "cell_type": "code",
      "metadata": {
        "colab": {
          "base_uri": "https://localhost:8080/"
        },
        "id": "3Sozq4fYGJm-",
        "outputId": "def8feab-f332-449d-fe0f-e6fd9d03df9d"
      },
      "source": [
        "print (len([x for x in series if x <= 3])/float(len(series)))\n",
        "print (np.mean(series))"
      ],
      "execution_count": 3,
      "outputs": [
        {
          "output_type": "stream",
          "text": [
            "0.5019\n",
            "3.488\n"
          ],
          "name": "stdout"
        }
      ]
    },
    {
      "cell_type": "markdown",
      "metadata": {
        "id": "B_ZH6pl6GTqG"
      },
      "source": [
        "$P(X≤ 3)$ está muy cerca de 0,5. Esto no es sorprendente porque tiramos los dados 1000 veces y la frecuencia con la que las observaciones son menores o iguales a 3 debe estar cerca de la probabilidad real, que es 0.5. Para una distribución uniforme dada, es sencillo calcular su media: es el centro de la distribución porque cada resultado tiene el mismo peso. Para nuestro ejemplo de dados, podemos pensar en ello como\n",
        "\n",
        "$$ \\mu = (1 + 2 + 3 + 4 + 5 + 6)/6 = 3,5 $$\n",
        "$$ó$$\n",
        "$$ mi(x) = 1 * \\frac{1}{6} + 2* \\frac{1}{6} + . . . + 6 * \\frac{1}{6} = 3,5$$"
      ]
    },
    {
      "cell_type": "markdown",
      "metadata": {
        "id": "naGC1Hv6HL98"
      },
      "source": [
        "De manera más general, si a asumimos que el valor mínimo en una distribución uniforme es a y el valor máximo es b, la media puede estar dada por:\n",
        "\n",
        "$$\\bar{u} = \\frac{a+b}{2}$$\n",
        "\n",
        "Usualmente usamos $\\bar{u}$, representa la **media de la población**, o la \"media real\". Aquí creamos una muestra con 1000 observaciones, la media que calculamos anteriormente es la **media de la muestra**. La media de la muestra por lo general no es igual a la media teórica de la población a menos que el número de observaciones se acerque al infinito. La varianza viene dada por:\n",
        "\n",
        "$$ \\sigma^2 = \\frac{(b - a)^2}{12}$$\n",
        "\n",
        "Deducir la fórmula está fuera del alcance de nuestra conferencia. Es útil darse cuenta de que para una distribución estándar dada, podemos formular su media y varianza."
      ]
    },
    {
      "cell_type": "markdown",
      "metadata": {
        "id": "wt9cpNFpIYDp"
      },
      "source": [
        "###Distribución binomial"
      ]
    },
    {
      "cell_type": "markdown",
      "metadata": {
        "id": "eqaGM83AIfYx"
      },
      "source": [
        "Una distribución binomial es una distribución de probabilidad discreta del número de éxitos en una secuencia de n experimentos independientes. Supongamos que el mercado tiene un 50% de probabilidad de que suba y el 50% de probabilidad baje, y lo observamos en los próximos 10 días, ¿cuál es la distribución del número de días que sube? Este es un ejemplo de distribución binomial. En general, si realizamos el experimento n veces, y cada resultado es independiente, con la misma probabilidad de éxito p, la probabilidad de obtener exactamente k éxitos viene dada por la función:\n",
        "\n",
        "$$P(X = K) = C_n^k p^k (1 - p)^{n - k}$$\n",
        "\n",
        "Donde\n",
        "\n",
        "$$C_n^k = \\frac{n!}{(n-k)! k!}$$\n",
        "\n",
        "Bajo tal circunstancia decimos que X sigue la distribución binomial $X∼ B$ $(n , p)$. Simulemos un experimento binomial con una tasa de éxito p = 0,7 y un experimento multiplicado por n = 10\n",
        "\n"
      ]
    },
    {
      "cell_type": "code",
      "metadata": {
        "id": "osScMycwJ7Ll"
      },
      "source": [
        "def trial():\n",
        "    number = [1,2,3,4,5,6,7,8,9,10]\n",
        "    a = random.choice(number)\n",
        "    if a<= 7:\n",
        "        return 1\n",
        "    else:\n",
        "        return 0"
      ],
      "execution_count": 4,
      "outputs": []
    },
    {
      "cell_type": "markdown",
      "metadata": {
        "id": "Wk56aRZsKIgO"
      },
      "source": [
        "Cada vez que ejecutamos trial(), hicimos un experimento. Si tiene éxito, devolverá 1, de lo contrario, devolverá 0. Ahora vamos a hacer el experimento 10 veces:"
      ]
    },
    {
      "cell_type": "code",
      "metadata": {
        "colab": {
          "base_uri": "https://localhost:8080/"
        },
        "id": "gyXzKBgbKNOR",
        "outputId": "12e291e1-1bf2-412b-bc54-827404238fdc"
      },
      "source": [
        "res = [trial() for x in range(10)]\n",
        "print (sum(res))"
      ],
      "execution_count": 5,
      "outputs": [
        {
          "output_type": "stream",
          "text": [
            "6\n"
          ],
          "name": "stdout"
        }
      ]
    },
    {
      "cell_type": "markdown",
      "metadata": {
        "id": "xSto6OaiKtXD"
      },
      "source": [
        "Ahora hicimos el experimento 10 veces y el número de éxitos es suma (res). Sin embargo, solo significa que durante estos 10 experimentos logramos sumar (res) veces. Si queremos ver la distribución binomial, necesitamos experimentar N veces. Cuando n es lo suficientemente grande, nuestra frecuencia se acercará a la probabilidad teórica. Aquí simulamos cada resultado 10000 veces:"
      ]
    },
    {
      "cell_type": "code",
      "metadata": {
        "colab": {
          "base_uri": "https://localhost:8080/"
        },
        "id": "RPM2Cg6BK0kn",
        "outputId": "f2ccc178-aaa6-4a89-e562-5e76c5e2584b"
      },
      "source": [
        "def binomial(number):\n",
        "    l = []\n",
        "    for i in range(10000):\n",
        "        res = [trial() for x in range(10)]\n",
        "        l.append(sum(res))\n",
        "    return len([x for x in l if x == number])/float(len(l))\n",
        "print (binomial(8))"
      ],
      "execution_count": 6,
      "outputs": [
        {
          "output_type": "stream",
          "text": [
            "0.2409\n"
          ],
          "name": "stdout"
        }
      ]
    },
    {
      "cell_type": "markdown",
      "metadata": {
        "id": "j3o1RmR7LO75"
      },
      "source": [
        "El número impreso arriba es la probabilidad simulada de que tengamos éxito 8 veces si experimentamos 10 veces. Para cada resultado posible, simulamos la probabilidad:"
      ]
    },
    {
      "cell_type": "code",
      "metadata": {
        "colab": {
          "base_uri": "https://localhost:8080/"
        },
        "id": "ipa9aYiSL8zx",
        "outputId": "8f667a0c-6db0-4d07-f553-de2816e92464"
      },
      "source": [
        "prob = []\n",
        "for i in range(1,11):\n",
        "    prob.append(binomial(i))\n",
        "prob_s = pd.Series(prob,index = range(1,11))\n",
        "print (prob_s)"
      ],
      "execution_count": 7,
      "outputs": [
        {
          "output_type": "stream",
          "text": [
            "1     0.0000\n",
            "2     0.0019\n",
            "3     0.0091\n",
            "4     0.0346\n",
            "5     0.1070\n",
            "6     0.1902\n",
            "7     0.2623\n",
            "8     0.2293\n",
            "9     0.1219\n",
            "10    0.0288\n",
            "dtype: float64\n"
          ],
          "name": "stdout"
        }
      ]
    },
    {
      "cell_type": "markdown",
      "metadata": {
        "id": "2_kS5n7nL25T"
      },
      "source": [
        "Aquí tenemos el resultado simulado de la distribución binomial. Ahora vamos a comprobar si las frecuencias simuladas se acercan lo suficiente a las probabilidades teóricas. Tomemos X = 7 y X = 8 como ejemplo:"
      ]
    },
    {
      "cell_type": "code",
      "metadata": {
        "colab": {
          "base_uri": "https://localhost:8080/",
          "height": 197
        },
        "id": "wWS5pdj7MiqR",
        "outputId": "ddc1b424-6dca-448b-c123-47bd8c1998f9"
      },
      "source": [
        "print ((float(factorial(10))/(factorial(7)*factorial(10-7)))*(0.7**7)*(0.3**3))\n",
        "\n",
        "print ((float(factorial(10))/(factorial(8)*factorial(10-8)))*(0.7**8)*(0.3**2))"
      ],
      "execution_count": 10,
      "outputs": [
        {
          "output_type": "error",
          "ename": "NameError",
          "evalue": "ignored",
          "traceback": [
            "\u001b[0;31m---------------------------------------------------------------------------\u001b[0m",
            "\u001b[0;31mNameError\u001b[0m                                 Traceback (most recent call last)",
            "\u001b[0;32m<ipython-input-10-d39eec3b6f60>\u001b[0m in \u001b[0;36m<module>\u001b[0;34m()\u001b[0m\n\u001b[0;32m----> 1\u001b[0;31m \u001b[0mprint\u001b[0m \u001b[0;34m(\u001b[0m\u001b[0;34m(\u001b[0m\u001b[0mfloat\u001b[0m\u001b[0;34m(\u001b[0m\u001b[0mfactorial\u001b[0m\u001b[0;34m(\u001b[0m\u001b[0;36m10\u001b[0m\u001b[0;34m)\u001b[0m\u001b[0;34m)\u001b[0m\u001b[0;34m/\u001b[0m\u001b[0;34m(\u001b[0m\u001b[0mfactorial\u001b[0m\u001b[0;34m(\u001b[0m\u001b[0;36m7\u001b[0m\u001b[0;34m)\u001b[0m\u001b[0;34m*\u001b[0m\u001b[0mfactorial\u001b[0m\u001b[0;34m(\u001b[0m\u001b[0;36m10\u001b[0m\u001b[0;34m-\u001b[0m\u001b[0;36m7\u001b[0m\u001b[0;34m)\u001b[0m\u001b[0;34m)\u001b[0m\u001b[0;34m)\u001b[0m\u001b[0;34m*\u001b[0m\u001b[0;34m(\u001b[0m\u001b[0;36m0.7\u001b[0m\u001b[0;34m**\u001b[0m\u001b[0;36m7\u001b[0m\u001b[0;34m)\u001b[0m\u001b[0;34m*\u001b[0m\u001b[0;34m(\u001b[0m\u001b[0;36m0.3\u001b[0m\u001b[0;34m**\u001b[0m\u001b[0;36m3\u001b[0m\u001b[0;34m)\u001b[0m\u001b[0;34m)\u001b[0m\u001b[0;34m\u001b[0m\u001b[0;34m\u001b[0m\u001b[0m\n\u001b[0m\u001b[1;32m      2\u001b[0m \u001b[0;34m\u001b[0m\u001b[0m\n\u001b[1;32m      3\u001b[0m \u001b[0mprint\u001b[0m \u001b[0;34m(\u001b[0m\u001b[0;34m(\u001b[0m\u001b[0mfloat\u001b[0m\u001b[0;34m(\u001b[0m\u001b[0mfactorial\u001b[0m\u001b[0;34m(\u001b[0m\u001b[0;36m10\u001b[0m\u001b[0;34m)\u001b[0m\u001b[0;34m)\u001b[0m\u001b[0;34m/\u001b[0m\u001b[0;34m(\u001b[0m\u001b[0mfactorial\u001b[0m\u001b[0;34m(\u001b[0m\u001b[0;36m8\u001b[0m\u001b[0;34m)\u001b[0m\u001b[0;34m*\u001b[0m\u001b[0mfactorial\u001b[0m\u001b[0;34m(\u001b[0m\u001b[0;36m10\u001b[0m\u001b[0;34m-\u001b[0m\u001b[0;36m8\u001b[0m\u001b[0;34m)\u001b[0m\u001b[0;34m)\u001b[0m\u001b[0;34m)\u001b[0m\u001b[0;34m*\u001b[0m\u001b[0;34m(\u001b[0m\u001b[0;36m0.7\u001b[0m\u001b[0;34m**\u001b[0m\u001b[0;36m8\u001b[0m\u001b[0;34m)\u001b[0m\u001b[0;34m*\u001b[0m\u001b[0;34m(\u001b[0m\u001b[0;36m0.3\u001b[0m\u001b[0;34m**\u001b[0m\u001b[0;36m2\u001b[0m\u001b[0;34m)\u001b[0m\u001b[0;34m)\u001b[0m\u001b[0;34m\u001b[0m\u001b[0;34m\u001b[0m\u001b[0m\n",
            "\u001b[0;31mNameError\u001b[0m: name 'factorial' is not defined"
          ]
        }
      ]
    },
    {
      "cell_type": "markdown",
      "metadata": {
        "id": "GOXr6x14NK3X"
      },
      "source": [
        "Como podemos ver, los resultados simulados se acercan bastante a la probabilidad real. podemos trazar los resultados de la siguiente manera:"
      ]
    },
    {
      "cell_type": "code",
      "metadata": {
        "id": "23M4Yp8BNQeZ"
      },
      "source": [
        "plt.figure(figsize = (20,10))\n",
        "plt.bar(range(1,11),prob)\n",
        "plt.grid()\n",
        "plt.show()"
      ],
      "execution_count": null,
      "outputs": []
    }
  ]
}
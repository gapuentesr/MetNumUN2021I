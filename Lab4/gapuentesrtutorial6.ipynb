{
  "nbformat": 4,
  "nbformat_minor": 0,
  "metadata": {
    "colab": {
      "name": "gapuentesrtutorial6.ipynb",
      "provenance": [],
      "collapsed_sections": []
    },
    "kernelspec": {
      "name": "python3",
      "display_name": "Python 3"
    },
    "language_info": {
      "name": "python"
    }
  },
  "cells": [
    {
      "cell_type": "markdown",
      "metadata": {
        "id": "cLUYfTYAHVrE"
      },
      "source": [
        "![qc_notebook_logo_rev0.png](data:image/png;base64,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)\n",
        "##Introduction to Financial Python [Tutorial 6]"
      ]
    },
    {
      "cell_type": "markdown",
      "metadata": {
        "id": "XjgG7hvUjlVm"
      },
      "source": [
        "##Métodos Numéricos\n",
        "###Gustavo Alberto Puentes Romero"
      ]
    },
    {
      "cell_type": "markdown",
      "metadata": {
        "id": "Ef5K6ieAhTdO"
      },
      "source": [
        "#Rate of Return, Mean and Variance"
      ]
    },
    {
      "cell_type": "markdown",
      "metadata": {
        "id": "xiEg0oy7hYbd"
      },
      "source": [
        "##Introducción\n",
        "En este capítulo vamos a introducir algunos conceptos básicos en finanzas cuantitativas. Comenzamos con la tasa de rendimiento, la media y la varianza. Puede pensar que es sencillo calcular estos valores, sin embargo, existen varios métodos diferentes para calcularlos. Es importante elegir los métodos de cálculo adecuados para cada caso."
      ]
    },
    {
      "cell_type": "markdown",
      "metadata": {
        "id": "fnCKJiXunJj8"
      },
      "source": [
        "##Tasa de retorno"
      ]
    },
    {
      "cell_type": "markdown",
      "metadata": {
        "id": "F0jrnervMikF"
      },
      "source": [
        "### Retorno de un solo período"
      ]
    },
    {
      "cell_type": "markdown",
      "metadata": {
        "id": "1uNXBFcBKTRF"
      },
      "source": [
        "La tasa de rendimiento de un solo período se puede calcular de la siguiente manera:\n",
        "\n",
        "$$ r = \\frac{P{_t}}{P{_0}} - 1 = \\frac{P{_t}-P{_0}}{P{_0}} $$\n",
        "\n",
        "Dónde $r$ es la tasa de rendimiento, $P{_t}$ es el precio del activo en el momento $t$, y $P{_0}$ es el precio del activo en el momento 0."
      ]
    },
    {
      "cell_type": "code",
      "metadata": {
        "colab": {
          "base_uri": "https://localhost:8080/"
        },
        "id": "qaU8ClxkqvSm",
        "outputId": "2fe1ef4b-6e03-49f8-89b3-91faeb61ee43"
      },
      "source": [
        "import numpy as np\n",
        "rate_return = 102.0/100 - 1\n",
        "print (rate_return)"
      ],
      "execution_count": 1,
      "outputs": [
        {
          "output_type": "stream",
          "text": [
            "0.020000000000000018\n"
          ],
          "name": "stdout"
        }
      ]
    },
    {
      "cell_type": "markdown",
      "metadata": {
        "id": "YiFOHyxQq6v_"
      },
      "source": [
        "Digamos que compramos una acción a 100 y medio año después crecerá a 102. Un año después, el precio llegará a 104 dólares. ¿Cómo calcular nuestra rentabilidad total? Bueno, podemos considerarlo como un período único:\n",
        "\n",
        "$$r = 104/100 - 1 = 0,04$$\n",
        "\n",
        "o como un período de dos etapas:\n",
        "\n",
        "$$r = (1 + r_1) * (1 + r_2) - 1 = \\frac{102}{100} * \\frac{104}{102} - 1 = 0.04$$\n",
        "\n",
        "Aquí hacemos cálculos dos veces al año. Se llama capitalización semestral. ¿Qué tal la capitalización trimestral? Supongamos que los precios de las acciones al final de cada trimestre son $p_1, p_2, p_3, p_4 $ respectivamente.\n",
        "\n",
        "$$ r = (1 + r_1) * (1 + r_2) * (1+r_3) * (1+r_4) - 1$$\n",
        "\n",
        "La tasa de rendimiento que calculamos aquí se llama **rendimiento acumulado** o **rendimiento total** . Mide el rendimiento total de este activo durante un período de tiempo.\n",
        "\n",
        "Ahora considere la siguiente situación: tenemos dos estrategias: la estrategia A y la estrategia B. Probamos la estrategia A durante 1 año y el rendimiento acumulado es del 20%, mientras que probamos la estrategia B durante 3 meses (un trimestre) y el rendimiento acumulado es 6%. ¿Qué estrategia tiene una alta tasa de rendimiento? Nuestro método comúnmente utilizado es convertir todos los rendimientos en rendimiento anual compuesto , independientemente del horizonte de inversión de cada estrategia. Ahora podemos comparar los rendimientos de las estrategias con diferentes horizontes temporales. Dado que hay cuatro trimestres en un año, el rendimiento anual de la estrategia B es:\n",
        "\n",
        "$$(1 + 0.06)^{4} = 1 + r $$\n",
        "\n",
        "$$r = 0.262$$\n",
        "\n",
        "La estrategia B tiene un rendimiento anual compuesto más alto cuando comparamos el 26% con el 20%.\n"
      ]
    },
    {
      "cell_type": "markdown",
      "metadata": {
        "id": "srml1X2Auwyf"
      },
      "source": [
        "###Retorno de logaritmo"
      ]
    },
    {
      "cell_type": "markdown",
      "metadata": {
        "id": "WpmUmmebKH_s"
      },
      "source": [
        "\n",
        "En el ejemplo anterior, la estrategia A tiene un rendimiento del 6% durante tres meses. Nominalmente, el rendimiento anual sería 4 * 6% = 24%. Esta tasa de interés anual nominal se denomina tasa de interés anual establecida. Se calcula como la tasa de interés periódica multiplicada por el número de períodos por año. Funciona de acuerdo con el interés simple y no toma en cuenta los períodos de capitalización, mientras que la tasa de interés anual efectiva es del 26% como calculamos anteriormente y sí considera la capitalización intra-anual. La tasa de interés anual efectiva es una herramienta fundamental que permite evaluar el retorno real de la inversión. Si asumimos que el número de períodos de capitalización en un año es n, la fórmula para convertir la tasa de interés anual establecida en la tasa de interés anual efectiva es:\n",
        "\n",
        "$$r_{effective} = (1 + \\frac{r_{nominal}}{n})^n - 1$$\n",
        "\n",
        "Ahora imagine que el precio del activo cambia cada segundo o incluso cada milisegundo, el período de capitalización n se acerca al infinito. A esto se le llama **capitalización continua**. La fórmula de cálculo se da a continuación:\n",
        "\n",
        "$$\\lim_{n \\rightarrow \\alpha} (1 + \\frac{r}{n})^n = e^r$$\n",
        "\n",
        "De la ecuación del límite anterior, sabemos que si asumimos una capitalización continua:\n",
        "\n",
        "$$e^{r_{nominal}} = 1 + r_{effective} = \\frac{P_t}{P_0}$$\n",
        "\n",
        "Entonces tomamos $ln$ en ambos lados de la ecuación:\n",
        "\n",
        "$$ r_{nominal} = ln\\frac{P_t}{P_0} = lnp_t - lnp_0$$\n",
        "\n",
        "Aquí tenemos el retorno logarítmico,  o retorno compuesto continuamente . Este rendimiento es el rendimiento nominal con el interés compuesto cada milisegundo. Para ver cómo se acerca a la tasa de interés efectiva, recuerde la ecuación anterior:\n",
        "\n",
        "$$e^{r_{nominal}} = 1 + r_{effective}$$\n",
        "\n",
        "entonces nosotros tenemos\n",
        "\n",
        "$$r_{effective} = e^{r_{nominal}} - 1 \\approx r_{nominal}$$\n",
        "\n",
        "donde la segunda igualdad se mantiene debido a la expansión de Taylor y la tasa de interés es pequeña. Esto se usa con frecuencia al calcular los rendimientos, porque una vez que tomamos el logaritmo de los precios de los activos, podemos calcular el rendimiento del logaritmo simplemente haciendo una resta. Aquí usamos los precios de las acciones de Apple como ejemplo:"
      ]
    },
    {
      "cell_type": "code",
      "metadata": {
        "colab": {
          "base_uri": "https://localhost:8080/"
        },
        "id": "jw3ud8618EU9",
        "outputId": "be645eb1-6103-4fab-f00d-4b8873c60443"
      },
      "source": [
        "!pip install quandl\n",
        "import quandl\n",
        "quandl.ApiConfig.api_key = 'tnCnvFmEqC5qH9fr-2Ey'"
      ],
      "execution_count": 2,
      "outputs": [
        {
          "output_type": "stream",
          "text": [
            "Requirement already satisfied: quandl in /usr/local/lib/python3.7/dist-packages (3.6.1)\n",
            "Requirement already satisfied: six in /usr/local/lib/python3.7/dist-packages (from quandl) (1.15.0)\n",
            "Requirement already satisfied: more-itertools in /usr/local/lib/python3.7/dist-packages (from quandl) (8.7.0)\n",
            "Requirement already satisfied: numpy>=1.8 in /usr/local/lib/python3.7/dist-packages (from quandl) (1.19.5)\n",
            "Requirement already satisfied: requests>=2.7.0 in /usr/local/lib/python3.7/dist-packages (from quandl) (2.23.0)\n",
            "Requirement already satisfied: inflection>=0.3.1 in /usr/local/lib/python3.7/dist-packages (from quandl) (0.5.1)\n",
            "Requirement already satisfied: python-dateutil in /usr/local/lib/python3.7/dist-packages (from quandl) (2.8.1)\n",
            "Requirement already satisfied: pandas>=0.14 in /usr/local/lib/python3.7/dist-packages (from quandl) (1.1.5)\n",
            "Requirement already satisfied: certifi>=2017.4.17 in /usr/local/lib/python3.7/dist-packages (from requests>=2.7.0->quandl) (2020.12.5)\n",
            "Requirement already satisfied: chardet<4,>=3.0.2 in /usr/local/lib/python3.7/dist-packages (from requests>=2.7.0->quandl) (3.0.4)\n",
            "Requirement already satisfied: idna<3,>=2.5 in /usr/local/lib/python3.7/dist-packages (from requests>=2.7.0->quandl) (2.10)\n",
            "Requirement already satisfied: urllib3!=1.25.0,!=1.25.1,<1.26,>=1.21.1 in /usr/local/lib/python3.7/dist-packages (from requests>=2.7.0->quandl) (1.24.3)\n",
            "Requirement already satisfied: pytz>=2017.2 in /usr/local/lib/python3.7/dist-packages (from pandas>=0.14->quandl) (2018.9)\n"
          ],
          "name": "stdout"
        }
      ]
    },
    {
      "cell_type": "code",
      "metadata": {
        "colab": {
          "base_uri": "https://localhost:8080/"
        },
        "id": "QY_HRDYV7waF",
        "outputId": "9f5aa6e4-499e-4148-b82e-e508df6d7c76"
      },
      "source": [
        "import numpy as np\n",
        "#get quandl data\n",
        "aapl_table = quandl.get('WIKI/AAPL')\n",
        "aapl = aapl_table.loc['2017-3',['Open','Close']]\n",
        "#take log return\n",
        "aapl['log_price'] = np.log(aapl.Close)\n",
        "aapl['log_return'] = aapl['log_price'].diff()\n",
        "print (aapl)"
      ],
      "execution_count": 3,
      "outputs": [
        {
          "output_type": "stream",
          "text": [
            "               Open   Close  log_price  log_return\n",
            "Date                                              \n",
            "2017-03-01  137.890  139.79   4.940141         NaN\n",
            "2017-03-02  140.000  138.96   4.934186   -0.005955\n",
            "2017-03-03  138.780  139.78   4.940070    0.005884\n",
            "2017-03-06  139.365  139.34   4.936917   -0.003153\n",
            "2017-03-07  139.060  139.52   4.938208    0.001291\n",
            "2017-03-08  138.950  139.00   4.934474   -0.003734\n",
            "2017-03-09  138.740  138.68   4.932169   -0.002305\n",
            "2017-03-10  139.250  139.14   4.935481    0.003311\n",
            "2017-03-13  138.850  139.20   4.935912    0.000431\n",
            "2017-03-14  139.300  138.99   4.934402   -0.001510\n",
            "2017-03-15  139.410  140.46   4.944923    0.010521\n",
            "2017-03-16  140.720  140.69   4.946559    0.001636\n",
            "2017-03-17  141.000  139.99   4.941571   -0.004988\n",
            "2017-03-20  140.400  141.46   4.952017    0.010446\n",
            "2017-03-21  142.110  139.84   4.940499   -0.011518\n",
            "2017-03-22  139.845  141.42   4.951734    0.011235\n",
            "2017-03-23  141.260  140.92   4.948192   -0.003542\n",
            "2017-03-24  141.500  140.64   4.946203   -0.001989\n",
            "2017-03-27  139.390  140.88   4.947908    0.001705\n",
            "2017-03-28  140.910  143.80   4.968423    0.020515\n",
            "2017-03-29  143.680  144.12   4.970646    0.002223\n",
            "2017-03-30  144.190  143.93   4.969327   -0.001319\n",
            "2017-03-31  143.720  143.66   4.967449   -0.001878\n"
          ],
          "name": "stdout"
        }
      ]
    },
    {
      "cell_type": "markdown",
      "metadata": {
        "id": "kKJGwtW18RbM"
      },
      "source": [
        "Aquí calculamos el rendimiento logarítmico diario de las acciones de Apple. Dado que conocemos el rendimiento del logaritmo diario de en este mes, podemos calcular el rendimiento mensual simplemente sumando todos los rendimientos diarios."
      ]
    },
    {
      "cell_type": "code",
      "metadata": {
        "colab": {
          "base_uri": "https://localhost:8080/"
        },
        "id": "HNOrulfZ8WRl",
        "outputId": "8255329b-2e6e-45b5-8f75-5a19a6381805"
      },
      "source": [
        "month_return = aapl.log_return.sum()\n",
        "print (month_return)"
      ],
      "execution_count": 4,
      "outputs": [
        {
          "output_type": "stream",
          "text": [
            "0.0273081001636184\n"
          ],
          "name": "stdout"
        }
      ]
    },
    {
      "cell_type": "markdown",
      "metadata": {
        "id": "e36-4cZ28dFF"
      },
      "source": [
        "Puede parecer incorrecto resumir los rendimientos diarios, pero podemos demostrar que es matemáticamente correcto. Supongamos que los precios de las acciones en un período de tiempo están representados por $[p_0, p_1, p_2, p_3 ..... p_n]$. Entonces, la tasa de rendimiento acumulada viene dada por:\n",
        "\n",
        "$$1 + r_{effective} \\approx 1 + r_{nominal} = ln \\frac{P_t}{P_0} = ln \\frac{P_{t}}{P_{t-1}} + ln\\frac{P_{t-1}}{P_{t-2}} + ......+ ln \\frac{P_1}{P_0}$$\n",
        "\n",
        "De acuerdo con la ecuación anterior, podemos sumar simplemente cada retorno logarítmico en un período para obtener el retorno acumulativo. La conveniencia de este método es también una de las razones por las que utilizamos el rendimiento logarítmico en las finanzas cuantitativas."
      ]
    },
    {
      "cell_type": "markdown",
      "metadata": {
        "id": "K8vANgIf-jWG"
      },
      "source": [
        "##Media"
      ]
    },
    {
      "cell_type": "markdown",
      "metadata": {
        "id": "3GT4T2gi-qtI"
      },
      "source": [
        "### Media aritmética"
      ]
    },
    {
      "cell_type": "markdown",
      "metadata": {
        "id": "MWZYny3jKAS-"
      },
      "source": [
        "La media es una medida de tendencia central de una serie de datos. Captura el carácter clave de la distribución de la serie de datos. Cuando hablamos de media, por defecto se refiere a **media aritmética**. Se define como la suma de los valores dividida por el número de observaciones:\n",
        "\n",
        "$$\\mu = \\frac{\\sum_{i=1}^{n}x_i}{n}$$\n",
        "\n",
        "Dónde $(x_1, x_2, x_3.....x_n)$ es nuestra serie de datos.\n",
        "\n",
        "En Python podemos usar NumPy.mean() para hacer el cálculo:"
      ]
    },
    {
      "cell_type": "code",
      "metadata": {
        "colab": {
          "base_uri": "https://localhost:8080/"
        },
        "id": "EzD0FV_7BP6J",
        "outputId": "cef67c95-fe7c-4c08-d8a5-d69ee0643e13"
      },
      "source": [
        "print (np.mean(aapl.log_price))"
      ],
      "execution_count": 5,
      "outputs": [
        {
          "output_type": "stream",
          "text": [
            "4.94597446550658\n"
          ],
          "name": "stdout"
        }
      ]
    },
    {
      "cell_type": "markdown",
      "metadata": {
        "id": "efwDC3NXBmUv"
      },
      "source": [
        "###Media geométrica\n"
      ]
    },
    {
      "cell_type": "markdown",
      "metadata": {
        "id": "6_SXXJwhJ7Ib"
      },
      "source": [
        "La media geométrica es un promedio que es útil para series de datos de números positivos que se interpretan mejor según su producto, como la tasa de crecimiento. Se calcula por:\n",
        "\n",
        "$$\\bar{x} = \\sqrt[n]{x_1 x_2 x_3.....x_n}$$\n",
        "\n",
        "Calculemos la media geométrica de una serie de rendimiento de un solo período:\n",
        "\n",
        "$$1 + \\bar{r} = \\sqrt[t] { \\frac{P_t}{P_{t-1}}*\\frac{P_{t-1}}{P_{t-2}} * ... * \\frac{P_{2}}{P_{1}} * \\frac{P_{1}}{P_{0}}}$$\n",
        "\n",
        "$$(1 + \\bar{r}) = \\sqrt[t]{\\frac{P_t}{P_0}}$$\n",
        "\n",
        "Ahora la ecuación se convierte en la forma con la que estamos familiarizados:\n",
        "\n",
        "$$(1 + \\bar{r})^t = \\frac{P_t}{P_0}$$\n",
        "\n",
        "Por eso dijimos que tiene sentido cuando se aplica a las tasas de crecimiento."
      ]
    },
    {
      "cell_type": "markdown",
      "metadata": {
        "id": "ZaPWdf4qICkT"
      },
      "source": [
        "##Varianza y desviación estándar"
      ]
    },
    {
      "cell_type": "markdown",
      "metadata": {
        "id": "jpmrRSEBIJiL"
      },
      "source": [
        "###Varianza"
      ]
    },
    {
      "cell_type": "markdown",
      "metadata": {
        "id": "owSJ7JreNkXM"
      },
      "source": [
        "\n",
        "La **varianza** es una medida de dispersión. En finanzas, la mayoría de las veces, la variación es sinónimo de riesgo. Cuanto mayor sea la variación del precio de un activo, mayor riesgo asume el activo. La varianza suele estar representada por $\\sigma^2$, y se calcula por\n",
        "\n",
        "$$\\sigma^2 = \\frac{\\sum_{i=1}^{n}(x_i - \\mu)^2}{n}$$\n",
        "\n",
        "En python podemos usar NumPy.var para calcularlo:"
      ]
    },
    {
      "cell_type": "code",
      "metadata": {
        "colab": {
          "base_uri": "https://localhost:8080/"
        },
        "id": "MtlXVuYBJnAL",
        "outputId": "f94456b0-2326-40fe-84d0-8d9674661f00"
      },
      "source": [
        "print (np.var(aapl.log_price))"
      ],
      "execution_count": 6,
      "outputs": [
        {
          "output_type": "stream",
          "text": [
            "0.00014203280448152512\n"
          ],
          "name": "stdout"
        }
      ]
    },
    {
      "cell_type": "markdown",
      "metadata": {
        "id": "7VWsjFOpNuP1"
      },
      "source": [
        "###Desviación Estándar"
      ]
    },
    {
      "cell_type": "markdown",
      "metadata": {
        "id": "lb-lbjBENz2t"
      },
      "source": [
        "La medida de dispersión más utilizada en las finanzas es **la desviación estándar** . Suele estar representado por $\\sigma$. Es obvio ver la relación entre la desviación estándar y la varianza:\n",
        "\n",
        "$$\\sigma = \\sqrt{\\sigma^2} = \\sqrt{\\frac{\\sum_{i=1}^{n}(x_i - \\mu)^2}{n}}$$\n",
        "\n",
        "NumPy también nos proporciona un método para calcular la desviación estándar."
      ]
    },
    {
      "cell_type": "code",
      "metadata": {
        "colab": {
          "base_uri": "https://localhost:8080/"
        },
        "id": "d-a9ZWCePswQ",
        "outputId": "0417045d-ebe7-412c-aed3-f5d56de5db24"
      },
      "source": [
        "print (np.std(aapl.log_price))"
      ],
      "execution_count": 7,
      "outputs": [
        {
          "output_type": "stream",
          "text": [
            "0.011917751653794651\n"
          ],
          "name": "stdout"
        }
      ]
    },
    {
      "cell_type": "markdown",
      "metadata": {
        "id": "8Hf0gjVnQTzX"
      },
      "source": [
        "#Resumen\n",
        "En este capítulo presentamos diferentes tipos de tasa de retorno, que podrían ser un poco complicadas cuando los calculamos. La media y la desviación estándar también son conceptos muy importantes cuando realizamos pruebas de hipótesis o medimos el riesgo asociado con un activo."
      ]
    }
  ]
}
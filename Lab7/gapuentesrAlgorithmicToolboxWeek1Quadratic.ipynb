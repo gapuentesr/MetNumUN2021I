{
  "nbformat": 4,
  "nbformat_minor": 0,
  "metadata": {
    "colab": {
      "name": "gapuentesrAlgorithmicToolboxWeek1Quadratic.ipynb",
      "provenance": [],
      "collapsed_sections": []
    },
    "kernelspec": {
      "name": "python3",
      "display_name": "Python 3"
    },
    "language_info": {
      "name": "python"
    }
  },
  "cells": [
    {
      "cell_type": "markdown",
      "metadata": {
        "id": "riJPHFgV-G4h"
      },
      "source": [
        "Solve a quadratic equation, $x^2 + b x + c = 0$.¶\n",
        "Write a function which receives $b$ and $c$, the coefficients of a monic quadratic polynomial, $x^2 + b x + c$, and returns the pair of its roots. Your function should always return two values, even if quadratic has a double root.\n",
        "\n",
        "For example, given a quadratic $x^2 - 2x + 1$, your function should return a pair of $(1, 1)$. Of course, in floating point, your answers may differ from an exact unity.\n",
        "\n",
        "Your function also must correctly handle complex roots (to this end, you might need the cmath module from the standard library)."
      ]
    },
    {
      "cell_type": "code",
      "metadata": {
        "id": "Ltw8lNKf9_u7"
      },
      "source": [
        "\n",
        "import cmath\n",
        "import numpy as np\n",
        "\n",
        "def solve_quad(b, c):\n",
        "    \"\"\"Solve a quadratic equation, x**2 + bx + c = 0.\n",
        "  \n",
        "    Parameters\n",
        "    ----------\n",
        "    b, c : float\n",
        "       Coefficients\n",
        "       \n",
        "    Returns\n",
        "    -------\n",
        "    x1, x2 : float or complex\n",
        "       Roots.\n",
        "    \"\"\"\n",
        "    # ... enter your code here ..\n",
        "    if (b > 1e+9 or b < -1e+9):\n",
        "        x1 = -b\n",
        "        x2 = c/x1\n",
        "    else:\n",
        "      a = b*-1\n",
        "      b1 = b**2\n",
        "      b2 = 4*c\n",
        "      b = cmath.sqrt(b1 - b2)\n",
        "      x1 = (a + b)/2\n",
        "      x2 = (a - b)/2\n",
        "    return x2 , x1"
      ],
      "execution_count": 4,
      "outputs": []
    },
    {
      "cell_type": "markdown",
      "metadata": {
        "id": "z4nXJ3IK-R01"
      },
      "source": [
        "\n",
        "Test the your function on several examples against a calculation by hand. Once you're sure that your function works, try these five test cases below.\n",
        "\n",
        "Note that the last two test cases are special: they test whether your function handles extreme cases where a too simple approach is prone to a catastrophic cancellation. Make sure your function passes all five tests.\n",
        "\n",
        "This exercise is graded, each test case contributes a 20% of the grade."
      ]
    },
    {
      "cell_type": "code",
      "metadata": {
        "id": "nksN6UkL-XTw"
      },
      "source": [
        "from numpy import allclose"
      ],
      "execution_count": 5,
      "outputs": []
    },
    {
      "cell_type": "code",
      "metadata": {
        "id": "ADbV0fS5-YUv"
      },
      "source": [
        "variants = [{'b': 4.0, 'c': 3.0},\n",
        "            {'b': 2.0, 'c': 1.0},\n",
        "            {'b': 0.5, 'c': 4.0},\n",
        "            {'b': 1e10, 'c': 3.0},\n",
        "            {'b': -1e10, 'c': 4.0},]"
      ],
      "execution_count": 6,
      "outputs": []
    },
    {
      "cell_type": "code",
      "metadata": {
        "colab": {
          "base_uri": "https://localhost:8080/"
        },
        "id": "qZs_NB40-a-G",
        "outputId": "d45da535-89da-4de1-8d89-415c93db28d1"
      },
      "source": [
        "for var in variants:\n",
        "    x1, x2 = solve_quad(**var)\n",
        "    print(allclose(x1*x2, var['c']))"
      ],
      "execution_count": 7,
      "outputs": [
        {
          "output_type": "stream",
          "text": [
            "True\n",
            "True\n",
            "True\n",
            "True\n",
            "True\n"
          ],
          "name": "stdout"
        }
      ]
    },
    {
      "cell_type": "markdown",
      "metadata": {
        "id": "4hxN5PfK-Us9"
      },
      "source": [
        ""
      ]
    }
  ]
}